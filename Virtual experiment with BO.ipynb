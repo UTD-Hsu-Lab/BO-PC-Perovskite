{
 "cells": [
  {
   "cell_type": "markdown",
   "id": "bb0a7424",
   "metadata": {},
   "source": [
    "###### Process Optimization of Photonic Curing for Perovskites on Willow Glass\n",
    "\n",
    "### Batch 2 Data Analysis \n",
    "### Teacher model reproduce from the Group 2 analysis ensemble model\n",
    "\n",
    "Weijie Xu (UT Dallas), \n",
    "\n",
    "In collaboration with Zhe Liu (NPU), \n",
    "\n",
    "\n",
    "V1.0 - 2022.09.13\n",
    "\n",
    "Install Anaconda and open this notebook in Jupyter\n",
    "\n",
    "Requires Emukit package and its dependent packages (pyDOE, GPy, etc.)\n",
    "\n",
    "    e.g. pip intall emukit (maybe, pip install pyDOE)\n",
    "\n",
    "Experimental information:\n",
    "Batch 0: LHS batch is 16 experimental conditions \n",
    "Batch 1: acquisition batch is 8 experimental conditions from BO and 8 from LHS in the unknown region\n",
    "    - Upper bound for PC length was extended to 100 ms. \n",
    "Batch 2: acquisition batch is 16 experimental conditions from BO\n",
    "    - Resolution (or step) of MAPbI3 concentration to 0.05 M\n",
    "    - Resolution (or step) of CH2I2 concentration to 5 uL\n",
    "    - Lower bound for MAPbI3 concentration was extended to 1.2\n",
    "\n",
    "Samples: 6 pixel cells per substrate, and 2 duplicates per condition\n",
    "\n",
    "Parameter resolution (Finest grid we are able to/are willing to tune). \n",
    "- Molar Concentration MAPbI3 - 0.05 M\n",
    "- Addition of CH2I2 - 5 uL\n",
    "- PC voltage - no limit (willing to tune 1 V)\n",
    "- PC pulse-length - no limit (willing to tune 0.1 ms)"
   ]
  },
  {
   "cell_type": "code",
   "execution_count": 1,
   "id": "ef12acf4",
   "metadata": {},
   "outputs": [],
   "source": [
    "import numpy as np\n",
    "import pandas as pd\n",
    "import matplotlib.pyplot as plt \n",
    "import seaborn as sns"
   ]
  },
  {
   "cell_type": "markdown",
   "id": "9b12ede7",
   "metadata": {},
   "source": [
    "## Import the dataset for the teacher model"
   ]
  },
  {
   "cell_type": "code",
   "execution_count": 2,
   "id": "fc34e357",
   "metadata": {},
   "outputs": [
    {
     "name": "stdout",
     "output_type": "stream",
     "text": [
      "Group 0: 16\n",
      "Group 1: 16\n",
      "Group 2: 16\n"
     ]
    },
    {
     "data": {
      "text/html": [
       "<div>\n",
       "<style scoped>\n",
       "    .dataframe tbody tr th:only-of-type {\n",
       "        vertical-align: middle;\n",
       "    }\n",
       "\n",
       "    .dataframe tbody tr th {\n",
       "        vertical-align: top;\n",
       "    }\n",
       "\n",
       "    .dataframe thead th {\n",
       "        text-align: right;\n",
       "    }\n",
       "</style>\n",
       "<table border=\"1\" class=\"dataframe\">\n",
       "  <thead>\n",
       "    <tr style=\"text-align: right;\">\n",
       "      <th></th>\n",
       "      <th>Condition</th>\n",
       "      <th>MAPbI Conc [M]</th>\n",
       "      <th>CH2I2 Conc [uL]</th>\n",
       "      <th>Final Conc [M]</th>\n",
       "      <th>PC voltage [V]</th>\n",
       "      <th>PC length [ms]</th>\n",
       "      <th>Sample</th>\n",
       "      <th>Diode</th>\n",
       "      <th>Voc [V]</th>\n",
       "      <th>Jsc [mA/cm2]</th>\n",
       "      <th>FF</th>\n",
       "      <th>PCE [%]</th>\n",
       "      <th>Scan Direction</th>\n",
       "      <th>Run</th>\n",
       "    </tr>\n",
       "  </thead>\n",
       "  <tbody>\n",
       "    <tr>\n",
       "      <th>0</th>\n",
       "      <td>0</td>\n",
       "      <td>1.60</td>\n",
       "      <td>150</td>\n",
       "      <td>1.319626</td>\n",
       "      <td>433</td>\n",
       "      <td>18.3</td>\n",
       "      <td>0</td>\n",
       "      <td>1.0</td>\n",
       "      <td>0.000</td>\n",
       "      <td>0.00</td>\n",
       "      <td>0.000</td>\n",
       "      <td>0.00</td>\n",
       "      <td>F</td>\n",
       "      <td>1.0</td>\n",
       "    </tr>\n",
       "    <tr>\n",
       "      <th>1</th>\n",
       "      <td>1</td>\n",
       "      <td>1.50</td>\n",
       "      <td>50</td>\n",
       "      <td>1.400794</td>\n",
       "      <td>222</td>\n",
       "      <td>17.1</td>\n",
       "      <td>1</td>\n",
       "      <td>2.0</td>\n",
       "      <td>0.907</td>\n",
       "      <td>2.15</td>\n",
       "      <td>0.520</td>\n",
       "      <td>1.02</td>\n",
       "      <td>R</td>\n",
       "      <td>1.0</td>\n",
       "    </tr>\n",
       "    <tr>\n",
       "      <th>2</th>\n",
       "      <td>2</td>\n",
       "      <td>1.50</td>\n",
       "      <td>100</td>\n",
       "      <td>1.313896</td>\n",
       "      <td>373</td>\n",
       "      <td>6.3</td>\n",
       "      <td>2</td>\n",
       "      <td>2.0</td>\n",
       "      <td>0.768</td>\n",
       "      <td>16.03</td>\n",
       "      <td>0.622</td>\n",
       "      <td>7.66</td>\n",
       "      <td>F</td>\n",
       "      <td>1.0</td>\n",
       "    </tr>\n",
       "    <tr>\n",
       "      <th>3</th>\n",
       "      <td>3</td>\n",
       "      <td>1.30</td>\n",
       "      <td>100</td>\n",
       "      <td>1.138710</td>\n",
       "      <td>252</td>\n",
       "      <td>11.1</td>\n",
       "      <td>3</td>\n",
       "      <td>4.0</td>\n",
       "      <td>0.712</td>\n",
       "      <td>2.69</td>\n",
       "      <td>0.456</td>\n",
       "      <td>0.87</td>\n",
       "      <td>F</td>\n",
       "      <td>1.0</td>\n",
       "    </tr>\n",
       "    <tr>\n",
       "      <th>4</th>\n",
       "      <td>4</td>\n",
       "      <td>1.60</td>\n",
       "      <td>100</td>\n",
       "      <td>1.401489</td>\n",
       "      <td>237</td>\n",
       "      <td>9.9</td>\n",
       "      <td>4</td>\n",
       "      <td>4.0</td>\n",
       "      <td>0.859</td>\n",
       "      <td>1.59</td>\n",
       "      <td>0.507</td>\n",
       "      <td>0.69</td>\n",
       "      <td>F</td>\n",
       "      <td>1.0</td>\n",
       "    </tr>\n",
       "    <tr>\n",
       "      <th>5</th>\n",
       "      <td>5</td>\n",
       "      <td>1.50</td>\n",
       "      <td>50</td>\n",
       "      <td>1.400794</td>\n",
       "      <td>358</td>\n",
       "      <td>12.3</td>\n",
       "      <td>5</td>\n",
       "      <td>3.0</td>\n",
       "      <td>0.476</td>\n",
       "      <td>17.20</td>\n",
       "      <td>0.413</td>\n",
       "      <td>3.38</td>\n",
       "      <td>F</td>\n",
       "      <td>2.0</td>\n",
       "    </tr>\n",
       "    <tr>\n",
       "      <th>6</th>\n",
       "      <td>6</td>\n",
       "      <td>1.40</td>\n",
       "      <td>0</td>\n",
       "      <td>1.400000</td>\n",
       "      <td>312</td>\n",
       "      <td>15.9</td>\n",
       "      <td>6</td>\n",
       "      <td>2.0</td>\n",
       "      <td>0.845</td>\n",
       "      <td>13.63</td>\n",
       "      <td>0.536</td>\n",
       "      <td>6.17</td>\n",
       "      <td>R</td>\n",
       "      <td>1.0</td>\n",
       "    </tr>\n",
       "    <tr>\n",
       "      <th>7</th>\n",
       "      <td>7</td>\n",
       "      <td>1.50</td>\n",
       "      <td>250</td>\n",
       "      <td>1.107741</td>\n",
       "      <td>328</td>\n",
       "      <td>19.5</td>\n",
       "      <td>7</td>\n",
       "      <td>1.0</td>\n",
       "      <td>0.991</td>\n",
       "      <td>16.59</td>\n",
       "      <td>0.656</td>\n",
       "      <td>10.78</td>\n",
       "      <td>F</td>\n",
       "      <td>2.0</td>\n",
       "    </tr>\n",
       "    <tr>\n",
       "      <th>8</th>\n",
       "      <td>8</td>\n",
       "      <td>1.60</td>\n",
       "      <td>200</td>\n",
       "      <td>1.246799</td>\n",
       "      <td>297</td>\n",
       "      <td>2.7</td>\n",
       "      <td>8</td>\n",
       "      <td>3.0</td>\n",
       "      <td>0.928</td>\n",
       "      <td>6.82</td>\n",
       "      <td>0.595</td>\n",
       "      <td>3.77</td>\n",
       "      <td>F</td>\n",
       "      <td>2.0</td>\n",
       "    </tr>\n",
       "    <tr>\n",
       "      <th>9</th>\n",
       "      <td>9</td>\n",
       "      <td>1.40</td>\n",
       "      <td>200</td>\n",
       "      <td>1.090949</td>\n",
       "      <td>267</td>\n",
       "      <td>7.5</td>\n",
       "      <td>9</td>\n",
       "      <td>6.0</td>\n",
       "      <td>0.935</td>\n",
       "      <td>4.08</td>\n",
       "      <td>0.498</td>\n",
       "      <td>1.90</td>\n",
       "      <td>F</td>\n",
       "      <td>1.0</td>\n",
       "    </tr>\n",
       "    <tr>\n",
       "      <th>10</th>\n",
       "      <td>10</td>\n",
       "      <td>1.60</td>\n",
       "      <td>250</td>\n",
       "      <td>1.181590</td>\n",
       "      <td>403</td>\n",
       "      <td>1.5</td>\n",
       "      <td>10</td>\n",
       "      <td>4.0</td>\n",
       "      <td>0.845</td>\n",
       "      <td>17.03</td>\n",
       "      <td>0.618</td>\n",
       "      <td>8.89</td>\n",
       "      <td>F</td>\n",
       "      <td>2.0</td>\n",
       "    </tr>\n",
       "    <tr>\n",
       "      <th>11</th>\n",
       "      <td>11</td>\n",
       "      <td>1.30</td>\n",
       "      <td>0</td>\n",
       "      <td>1.300000</td>\n",
       "      <td>343</td>\n",
       "      <td>13.5</td>\n",
       "      <td>11</td>\n",
       "      <td>6.0</td>\n",
       "      <td>0.907</td>\n",
       "      <td>14.21</td>\n",
       "      <td>0.617</td>\n",
       "      <td>7.96</td>\n",
       "      <td>R</td>\n",
       "      <td>2.0</td>\n",
       "    </tr>\n",
       "    <tr>\n",
       "      <th>12</th>\n",
       "      <td>12</td>\n",
       "      <td>1.40</td>\n",
       "      <td>150</td>\n",
       "      <td>1.154673</td>\n",
       "      <td>282</td>\n",
       "      <td>8.7</td>\n",
       "      <td>12</td>\n",
       "      <td>3.0</td>\n",
       "      <td>1.019</td>\n",
       "      <td>13.03</td>\n",
       "      <td>0.693</td>\n",
       "      <td>9.20</td>\n",
       "      <td>R</td>\n",
       "      <td>1.0</td>\n",
       "    </tr>\n",
       "    <tr>\n",
       "      <th>13</th>\n",
       "      <td>13</td>\n",
       "      <td>1.30</td>\n",
       "      <td>0</td>\n",
       "      <td>1.300000</td>\n",
       "      <td>418</td>\n",
       "      <td>3.9</td>\n",
       "      <td>13</td>\n",
       "      <td>1.0</td>\n",
       "      <td>0.000</td>\n",
       "      <td>0.00</td>\n",
       "      <td>0.000</td>\n",
       "      <td>0.00</td>\n",
       "      <td>F</td>\n",
       "      <td>1.0</td>\n",
       "    </tr>\n",
       "    <tr>\n",
       "      <th>14</th>\n",
       "      <td>14</td>\n",
       "      <td>1.30</td>\n",
       "      <td>250</td>\n",
       "      <td>0.960042</td>\n",
       "      <td>207</td>\n",
       "      <td>14.7</td>\n",
       "      <td>14</td>\n",
       "      <td>1.0</td>\n",
       "      <td>0.608</td>\n",
       "      <td>3.11</td>\n",
       "      <td>0.469</td>\n",
       "      <td>0.89</td>\n",
       "      <td>F</td>\n",
       "      <td>1.0</td>\n",
       "    </tr>\n",
       "    <tr>\n",
       "      <th>15</th>\n",
       "      <td>15</td>\n",
       "      <td>1.40</td>\n",
       "      <td>150</td>\n",
       "      <td>1.154673</td>\n",
       "      <td>290</td>\n",
       "      <td>20.0</td>\n",
       "      <td>15</td>\n",
       "      <td>1.0</td>\n",
       "      <td>0.984</td>\n",
       "      <td>15.86</td>\n",
       "      <td>0.732</td>\n",
       "      <td>11.42</td>\n",
       "      <td>R</td>\n",
       "      <td>1.0</td>\n",
       "    </tr>\n",
       "    <tr>\n",
       "      <th>16</th>\n",
       "      <td>32</td>\n",
       "      <td>1.30</td>\n",
       "      <td>150</td>\n",
       "      <td>1.072196</td>\n",
       "      <td>317</td>\n",
       "      <td>2.8</td>\n",
       "      <td>0</td>\n",
       "      <td>2.0</td>\n",
       "      <td>0.874</td>\n",
       "      <td>7.06</td>\n",
       "      <td>0.568</td>\n",
       "      <td>3.51</td>\n",
       "      <td>R</td>\n",
       "      <td>2.0</td>\n",
       "    </tr>\n",
       "    <tr>\n",
       "      <th>17</th>\n",
       "      <td>33</td>\n",
       "      <td>1.30</td>\n",
       "      <td>150</td>\n",
       "      <td>1.072196</td>\n",
       "      <td>318</td>\n",
       "      <td>12.9</td>\n",
       "      <td>1</td>\n",
       "      <td>5.0</td>\n",
       "      <td>0.973</td>\n",
       "      <td>16.06</td>\n",
       "      <td>0.671</td>\n",
       "      <td>10.49</td>\n",
       "      <td>R</td>\n",
       "      <td>2.0</td>\n",
       "    </tr>\n",
       "    <tr>\n",
       "      <th>18</th>\n",
       "      <td>34</td>\n",
       "      <td>1.30</td>\n",
       "      <td>150</td>\n",
       "      <td>1.072196</td>\n",
       "      <td>318</td>\n",
       "      <td>23.1</td>\n",
       "      <td>2</td>\n",
       "      <td>2.0</td>\n",
       "      <td>0.968</td>\n",
       "      <td>16.87</td>\n",
       "      <td>0.688</td>\n",
       "      <td>11.23</td>\n",
       "      <td>R</td>\n",
       "      <td>2.0</td>\n",
       "    </tr>\n",
       "    <tr>\n",
       "      <th>19</th>\n",
       "      <td>35</td>\n",
       "      <td>1.40</td>\n",
       "      <td>150</td>\n",
       "      <td>1.154673</td>\n",
       "      <td>317</td>\n",
       "      <td>18.3</td>\n",
       "      <td>3</td>\n",
       "      <td>5.0</td>\n",
       "      <td>0.965</td>\n",
       "      <td>16.73</td>\n",
       "      <td>0.608</td>\n",
       "      <td>9.82</td>\n",
       "      <td>F</td>\n",
       "      <td>2.0</td>\n",
       "    </tr>\n",
       "    <tr>\n",
       "      <th>20</th>\n",
       "      <td>36</td>\n",
       "      <td>1.40</td>\n",
       "      <td>150</td>\n",
       "      <td>1.154673</td>\n",
       "      <td>319</td>\n",
       "      <td>32.3</td>\n",
       "      <td>4</td>\n",
       "      <td>3.0</td>\n",
       "      <td>0.843</td>\n",
       "      <td>16.21</td>\n",
       "      <td>0.702</td>\n",
       "      <td>9.59</td>\n",
       "      <td>F</td>\n",
       "      <td>3.0</td>\n",
       "    </tr>\n",
       "    <tr>\n",
       "      <th>21</th>\n",
       "      <td>37</td>\n",
       "      <td>1.40</td>\n",
       "      <td>200</td>\n",
       "      <td>1.090949</td>\n",
       "      <td>318</td>\n",
       "      <td>1.0</td>\n",
       "      <td>5</td>\n",
       "      <td>NaN</td>\n",
       "      <td>0.000</td>\n",
       "      <td>0.00</td>\n",
       "      <td>0.000</td>\n",
       "      <td>0.00</td>\n",
       "      <td>0</td>\n",
       "      <td>NaN</td>\n",
       "    </tr>\n",
       "    <tr>\n",
       "      <th>22</th>\n",
       "      <td>38</td>\n",
       "      <td>1.40</td>\n",
       "      <td>200</td>\n",
       "      <td>1.090949</td>\n",
       "      <td>319</td>\n",
       "      <td>10.4</td>\n",
       "      <td>6</td>\n",
       "      <td>2.0</td>\n",
       "      <td>0.973</td>\n",
       "      <td>17.33</td>\n",
       "      <td>0.582</td>\n",
       "      <td>9.81</td>\n",
       "      <td>F</td>\n",
       "      <td>2.0</td>\n",
       "    </tr>\n",
       "    <tr>\n",
       "      <th>23</th>\n",
       "      <td>39</td>\n",
       "      <td>1.40</td>\n",
       "      <td>200</td>\n",
       "      <td>1.090949</td>\n",
       "      <td>320</td>\n",
       "      <td>17.7</td>\n",
       "      <td>7</td>\n",
       "      <td>1.0</td>\n",
       "      <td>0.979</td>\n",
       "      <td>14.75</td>\n",
       "      <td>0.642</td>\n",
       "      <td>9.27</td>\n",
       "      <td>F</td>\n",
       "      <td>2.0</td>\n",
       "    </tr>\n",
       "    <tr>\n",
       "      <th>24</th>\n",
       "      <td>40</td>\n",
       "      <td>1.60</td>\n",
       "      <td>200</td>\n",
       "      <td>1.246799</td>\n",
       "      <td>395</td>\n",
       "      <td>35.0</td>\n",
       "      <td>8</td>\n",
       "      <td>3.0</td>\n",
       "      <td>0.710</td>\n",
       "      <td>10.69</td>\n",
       "      <td>0.436</td>\n",
       "      <td>3.31</td>\n",
       "      <td>R</td>\n",
       "      <td>2.0</td>\n",
       "    </tr>\n",
       "    <tr>\n",
       "      <th>25</th>\n",
       "      <td>41</td>\n",
       "      <td>1.50</td>\n",
       "      <td>150</td>\n",
       "      <td>1.237150</td>\n",
       "      <td>305</td>\n",
       "      <td>55.0</td>\n",
       "      <td>9</td>\n",
       "      <td>2.0</td>\n",
       "      <td>1.004</td>\n",
       "      <td>16.43</td>\n",
       "      <td>0.626</td>\n",
       "      <td>10.33</td>\n",
       "      <td>F</td>\n",
       "      <td>2.0</td>\n",
       "    </tr>\n",
       "    <tr>\n",
       "      <th>26</th>\n",
       "      <td>42</td>\n",
       "      <td>1.60</td>\n",
       "      <td>250</td>\n",
       "      <td>1.181590</td>\n",
       "      <td>245</td>\n",
       "      <td>65.0</td>\n",
       "      <td>10</td>\n",
       "      <td>NaN</td>\n",
       "      <td>0.000</td>\n",
       "      <td>0.00</td>\n",
       "      <td>0.000</td>\n",
       "      <td>0.00</td>\n",
       "      <td>0</td>\n",
       "      <td>NaN</td>\n",
       "    </tr>\n",
       "    <tr>\n",
       "      <th>27</th>\n",
       "      <td>43</td>\n",
       "      <td>1.40</td>\n",
       "      <td>50</td>\n",
       "      <td>1.307407</td>\n",
       "      <td>425</td>\n",
       "      <td>75.0</td>\n",
       "      <td>11</td>\n",
       "      <td>NaN</td>\n",
       "      <td>0.000</td>\n",
       "      <td>0.00</td>\n",
       "      <td>0.000</td>\n",
       "      <td>0.00</td>\n",
       "      <td>0</td>\n",
       "      <td>NaN</td>\n",
       "    </tr>\n",
       "    <tr>\n",
       "      <th>28</th>\n",
       "      <td>44</td>\n",
       "      <td>1.30</td>\n",
       "      <td>50</td>\n",
       "      <td>1.214021</td>\n",
       "      <td>365</td>\n",
       "      <td>45.0</td>\n",
       "      <td>12</td>\n",
       "      <td>2.0</td>\n",
       "      <td>0.811</td>\n",
       "      <td>15.65</td>\n",
       "      <td>0.401</td>\n",
       "      <td>5.08</td>\n",
       "      <td>R</td>\n",
       "      <td>1.0</td>\n",
       "    </tr>\n",
       "    <tr>\n",
       "      <th>29</th>\n",
       "      <td>45</td>\n",
       "      <td>1.30</td>\n",
       "      <td>100</td>\n",
       "      <td>1.138710</td>\n",
       "      <td>215</td>\n",
       "      <td>85.0</td>\n",
       "      <td>13</td>\n",
       "      <td>NaN</td>\n",
       "      <td>0.000</td>\n",
       "      <td>0.00</td>\n",
       "      <td>0.000</td>\n",
       "      <td>0.00</td>\n",
       "      <td>0</td>\n",
       "      <td>NaN</td>\n",
       "    </tr>\n",
       "    <tr>\n",
       "      <th>30</th>\n",
       "      <td>46</td>\n",
       "      <td>1.40</td>\n",
       "      <td>0</td>\n",
       "      <td>1.400000</td>\n",
       "      <td>275</td>\n",
       "      <td>25.0</td>\n",
       "      <td>14</td>\n",
       "      <td>3.0</td>\n",
       "      <td>0.855</td>\n",
       "      <td>4.77</td>\n",
       "      <td>0.629</td>\n",
       "      <td>2.56</td>\n",
       "      <td>R</td>\n",
       "      <td>2.0</td>\n",
       "    </tr>\n",
       "    <tr>\n",
       "      <th>31</th>\n",
       "      <td>47</td>\n",
       "      <td>1.50</td>\n",
       "      <td>200</td>\n",
       "      <td>1.168874</td>\n",
       "      <td>335</td>\n",
       "      <td>95.0</td>\n",
       "      <td>15</td>\n",
       "      <td>5.0</td>\n",
       "      <td>0.951</td>\n",
       "      <td>16.39</td>\n",
       "      <td>0.597</td>\n",
       "      <td>9.30</td>\n",
       "      <td>F</td>\n",
       "      <td>2.0</td>\n",
       "    </tr>\n",
       "    <tr>\n",
       "      <th>32</th>\n",
       "      <td>32</td>\n",
       "      <td>1.25</td>\n",
       "      <td>90</td>\n",
       "      <td>1.108668</td>\n",
       "      <td>310</td>\n",
       "      <td>21.5</td>\n",
       "      <td>0</td>\n",
       "      <td>1.0</td>\n",
       "      <td>0.996</td>\n",
       "      <td>13.10</td>\n",
       "      <td>0.649</td>\n",
       "      <td>8.47</td>\n",
       "      <td>R</td>\n",
       "      <td>2.0</td>\n",
       "    </tr>\n",
       "    <tr>\n",
       "      <th>33</th>\n",
       "      <td>33</td>\n",
       "      <td>1.25</td>\n",
       "      <td>100</td>\n",
       "      <td>1.094913</td>\n",
       "      <td>305</td>\n",
       "      <td>20.4</td>\n",
       "      <td>1</td>\n",
       "      <td>3.0</td>\n",
       "      <td>0.986</td>\n",
       "      <td>14.01</td>\n",
       "      <td>0.632</td>\n",
       "      <td>8.73</td>\n",
       "      <td>R</td>\n",
       "      <td>2.0</td>\n",
       "    </tr>\n",
       "    <tr>\n",
       "      <th>34</th>\n",
       "      <td>34</td>\n",
       "      <td>1.25</td>\n",
       "      <td>110</td>\n",
       "      <td>1.081495</td>\n",
       "      <td>306</td>\n",
       "      <td>21.2</td>\n",
       "      <td>2</td>\n",
       "      <td>4.0</td>\n",
       "      <td>0.963</td>\n",
       "      <td>14.55</td>\n",
       "      <td>0.602</td>\n",
       "      <td>8.44</td>\n",
       "      <td>F</td>\n",
       "      <td>2.0</td>\n",
       "    </tr>\n",
       "    <tr>\n",
       "      <th>35</th>\n",
       "      <td>35</td>\n",
       "      <td>1.25</td>\n",
       "      <td>120</td>\n",
       "      <td>1.068402</td>\n",
       "      <td>303</td>\n",
       "      <td>20.3</td>\n",
       "      <td>3</td>\n",
       "      <td>4.0</td>\n",
       "      <td>0.961</td>\n",
       "      <td>16.67</td>\n",
       "      <td>0.573</td>\n",
       "      <td>9.18</td>\n",
       "      <td>F</td>\n",
       "      <td>3.0</td>\n",
       "    </tr>\n",
       "    <tr>\n",
       "      <th>36</th>\n",
       "      <td>36</td>\n",
       "      <td>1.25</td>\n",
       "      <td>140</td>\n",
       "      <td>1.043144</td>\n",
       "      <td>301</td>\n",
       "      <td>19.7</td>\n",
       "      <td>4</td>\n",
       "      <td>3.0</td>\n",
       "      <td>0.990</td>\n",
       "      <td>14.56</td>\n",
       "      <td>0.706</td>\n",
       "      <td>10.18</td>\n",
       "      <td>F</td>\n",
       "      <td>2.0</td>\n",
       "    </tr>\n",
       "    <tr>\n",
       "      <th>37</th>\n",
       "      <td>37</td>\n",
       "      <td>1.25</td>\n",
       "      <td>140</td>\n",
       "      <td>1.043144</td>\n",
       "      <td>302</td>\n",
       "      <td>20.6</td>\n",
       "      <td>5</td>\n",
       "      <td>3.0</td>\n",
       "      <td>0.980</td>\n",
       "      <td>14.80</td>\n",
       "      <td>0.675</td>\n",
       "      <td>9.80</td>\n",
       "      <td>R</td>\n",
       "      <td>2.0</td>\n",
       "    </tr>\n",
       "    <tr>\n",
       "      <th>38</th>\n",
       "      <td>38</td>\n",
       "      <td>1.25</td>\n",
       "      <td>160</td>\n",
       "      <td>1.019053</td>\n",
       "      <td>300</td>\n",
       "      <td>19.7</td>\n",
       "      <td>6</td>\n",
       "      <td>4.0</td>\n",
       "      <td>0.993</td>\n",
       "      <td>14.23</td>\n",
       "      <td>0.671</td>\n",
       "      <td>9.48</td>\n",
       "      <td>R</td>\n",
       "      <td>2.0</td>\n",
       "    </tr>\n",
       "    <tr>\n",
       "      <th>39</th>\n",
       "      <td>39</td>\n",
       "      <td>1.30</td>\n",
       "      <td>110</td>\n",
       "      <td>1.124755</td>\n",
       "      <td>302</td>\n",
       "      <td>19.5</td>\n",
       "      <td>7</td>\n",
       "      <td>2.0</td>\n",
       "      <td>0.987</td>\n",
       "      <td>14.78</td>\n",
       "      <td>0.692</td>\n",
       "      <td>10.09</td>\n",
       "      <td>F</td>\n",
       "      <td>1.0</td>\n",
       "    </tr>\n",
       "    <tr>\n",
       "      <th>40</th>\n",
       "      <td>40</td>\n",
       "      <td>1.30</td>\n",
       "      <td>120</td>\n",
       "      <td>1.111138</td>\n",
       "      <td>300</td>\n",
       "      <td>18.6</td>\n",
       "      <td>8</td>\n",
       "      <td>4.0</td>\n",
       "      <td>0.983</td>\n",
       "      <td>16.41</td>\n",
       "      <td>0.640</td>\n",
       "      <td>10.32</td>\n",
       "      <td>R</td>\n",
       "      <td>2.0</td>\n",
       "    </tr>\n",
       "    <tr>\n",
       "      <th>41</th>\n",
       "      <td>41</td>\n",
       "      <td>1.30</td>\n",
       "      <td>130</td>\n",
       "      <td>1.097847</td>\n",
       "      <td>299</td>\n",
       "      <td>17.8</td>\n",
       "      <td>9</td>\n",
       "      <td>5.0</td>\n",
       "      <td>0.968</td>\n",
       "      <td>16.82</td>\n",
       "      <td>0.634</td>\n",
       "      <td>10.33</td>\n",
       "      <td>F</td>\n",
       "      <td>3.0</td>\n",
       "    </tr>\n",
       "    <tr>\n",
       "      <th>42</th>\n",
       "      <td>42</td>\n",
       "      <td>1.30</td>\n",
       "      <td>150</td>\n",
       "      <td>1.072196</td>\n",
       "      <td>300</td>\n",
       "      <td>18.9</td>\n",
       "      <td>10</td>\n",
       "      <td>3.0</td>\n",
       "      <td>0.974</td>\n",
       "      <td>16.20</td>\n",
       "      <td>0.686</td>\n",
       "      <td>10.82</td>\n",
       "      <td>R</td>\n",
       "      <td>3.0</td>\n",
       "    </tr>\n",
       "    <tr>\n",
       "      <th>43</th>\n",
       "      <td>43</td>\n",
       "      <td>1.30</td>\n",
       "      <td>160</td>\n",
       "      <td>1.059815</td>\n",
       "      <td>299</td>\n",
       "      <td>18.1</td>\n",
       "      <td>11</td>\n",
       "      <td>5.0</td>\n",
       "      <td>0.998</td>\n",
       "      <td>15.93</td>\n",
       "      <td>0.659</td>\n",
       "      <td>10.48</td>\n",
       "      <td>R</td>\n",
       "      <td>2.0</td>\n",
       "    </tr>\n",
       "    <tr>\n",
       "      <th>44</th>\n",
       "      <td>44</td>\n",
       "      <td>1.30</td>\n",
       "      <td>165</td>\n",
       "      <td>1.053731</td>\n",
       "      <td>299</td>\n",
       "      <td>18.8</td>\n",
       "      <td>12</td>\n",
       "      <td>5.0</td>\n",
       "      <td>0.979</td>\n",
       "      <td>16.05</td>\n",
       "      <td>0.700</td>\n",
       "      <td>11.00</td>\n",
       "      <td>F</td>\n",
       "      <td>2.0</td>\n",
       "    </tr>\n",
       "    <tr>\n",
       "      <th>45</th>\n",
       "      <td>45</td>\n",
       "      <td>1.35</td>\n",
       "      <td>130</td>\n",
       "      <td>1.140072</td>\n",
       "      <td>298</td>\n",
       "      <td>17.0</td>\n",
       "      <td>13</td>\n",
       "      <td>4.0</td>\n",
       "      <td>0.983</td>\n",
       "      <td>15.50</td>\n",
       "      <td>0.674</td>\n",
       "      <td>10.26</td>\n",
       "      <td>F</td>\n",
       "      <td>2.0</td>\n",
       "    </tr>\n",
       "    <tr>\n",
       "      <th>46</th>\n",
       "      <td>46</td>\n",
       "      <td>1.35</td>\n",
       "      <td>140</td>\n",
       "      <td>1.126596</td>\n",
       "      <td>298</td>\n",
       "      <td>17.1</td>\n",
       "      <td>14</td>\n",
       "      <td>3.0</td>\n",
       "      <td>0.986</td>\n",
       "      <td>15.00</td>\n",
       "      <td>0.740</td>\n",
       "      <td>10.95</td>\n",
       "      <td>F</td>\n",
       "      <td>1.0</td>\n",
       "    </tr>\n",
       "    <tr>\n",
       "      <th>47</th>\n",
       "      <td>47</td>\n",
       "      <td>1.55</td>\n",
       "      <td>250</td>\n",
       "      <td>1.144665</td>\n",
       "      <td>361</td>\n",
       "      <td>10.2</td>\n",
       "      <td>15</td>\n",
       "      <td>3.0</td>\n",
       "      <td>0.675</td>\n",
       "      <td>12.30</td>\n",
       "      <td>0.411</td>\n",
       "      <td>3.41</td>\n",
       "      <td>F</td>\n",
       "      <td>3.0</td>\n",
       "    </tr>\n",
       "  </tbody>\n",
       "</table>\n",
       "</div>"
      ],
      "text/plain": [
       "    Condition  MAPbI Conc [M]  CH2I2 Conc [uL]  Final Conc [M]  \\\n",
       "0           0            1.60              150        1.319626   \n",
       "1           1            1.50               50        1.400794   \n",
       "2           2            1.50              100        1.313896   \n",
       "3           3            1.30              100        1.138710   \n",
       "4           4            1.60              100        1.401489   \n",
       "5           5            1.50               50        1.400794   \n",
       "6           6            1.40                0        1.400000   \n",
       "7           7            1.50              250        1.107741   \n",
       "8           8            1.60              200        1.246799   \n",
       "9           9            1.40              200        1.090949   \n",
       "10         10            1.60              250        1.181590   \n",
       "11         11            1.30                0        1.300000   \n",
       "12         12            1.40              150        1.154673   \n",
       "13         13            1.30                0        1.300000   \n",
       "14         14            1.30              250        0.960042   \n",
       "15         15            1.40              150        1.154673   \n",
       "16         32            1.30              150        1.072196   \n",
       "17         33            1.30              150        1.072196   \n",
       "18         34            1.30              150        1.072196   \n",
       "19         35            1.40              150        1.154673   \n",
       "20         36            1.40              150        1.154673   \n",
       "21         37            1.40              200        1.090949   \n",
       "22         38            1.40              200        1.090949   \n",
       "23         39            1.40              200        1.090949   \n",
       "24         40            1.60              200        1.246799   \n",
       "25         41            1.50              150        1.237150   \n",
       "26         42            1.60              250        1.181590   \n",
       "27         43            1.40               50        1.307407   \n",
       "28         44            1.30               50        1.214021   \n",
       "29         45            1.30              100        1.138710   \n",
       "30         46            1.40                0        1.400000   \n",
       "31         47            1.50              200        1.168874   \n",
       "32         32            1.25               90        1.108668   \n",
       "33         33            1.25              100        1.094913   \n",
       "34         34            1.25              110        1.081495   \n",
       "35         35            1.25              120        1.068402   \n",
       "36         36            1.25              140        1.043144   \n",
       "37         37            1.25              140        1.043144   \n",
       "38         38            1.25              160        1.019053   \n",
       "39         39            1.30              110        1.124755   \n",
       "40         40            1.30              120        1.111138   \n",
       "41         41            1.30              130        1.097847   \n",
       "42         42            1.30              150        1.072196   \n",
       "43         43            1.30              160        1.059815   \n",
       "44         44            1.30              165        1.053731   \n",
       "45         45            1.35              130        1.140072   \n",
       "46         46            1.35              140        1.126596   \n",
       "47         47            1.55              250        1.144665   \n",
       "\n",
       "    PC voltage [V]  PC length [ms]  Sample  Diode  Voc [V]  Jsc [mA/cm2]  \\\n",
       "0              433            18.3       0    1.0    0.000          0.00   \n",
       "1              222            17.1       1    2.0    0.907          2.15   \n",
       "2              373             6.3       2    2.0    0.768         16.03   \n",
       "3              252            11.1       3    4.0    0.712          2.69   \n",
       "4              237             9.9       4    4.0    0.859          1.59   \n",
       "5              358            12.3       5    3.0    0.476         17.20   \n",
       "6              312            15.9       6    2.0    0.845         13.63   \n",
       "7              328            19.5       7    1.0    0.991         16.59   \n",
       "8              297             2.7       8    3.0    0.928          6.82   \n",
       "9              267             7.5       9    6.0    0.935          4.08   \n",
       "10             403             1.5      10    4.0    0.845         17.03   \n",
       "11             343            13.5      11    6.0    0.907         14.21   \n",
       "12             282             8.7      12    3.0    1.019         13.03   \n",
       "13             418             3.9      13    1.0    0.000          0.00   \n",
       "14             207            14.7      14    1.0    0.608          3.11   \n",
       "15             290            20.0      15    1.0    0.984         15.86   \n",
       "16             317             2.8       0    2.0    0.874          7.06   \n",
       "17             318            12.9       1    5.0    0.973         16.06   \n",
       "18             318            23.1       2    2.0    0.968         16.87   \n",
       "19             317            18.3       3    5.0    0.965         16.73   \n",
       "20             319            32.3       4    3.0    0.843         16.21   \n",
       "21             318             1.0       5    NaN    0.000          0.00   \n",
       "22             319            10.4       6    2.0    0.973         17.33   \n",
       "23             320            17.7       7    1.0    0.979         14.75   \n",
       "24             395            35.0       8    3.0    0.710         10.69   \n",
       "25             305            55.0       9    2.0    1.004         16.43   \n",
       "26             245            65.0      10    NaN    0.000          0.00   \n",
       "27             425            75.0      11    NaN    0.000          0.00   \n",
       "28             365            45.0      12    2.0    0.811         15.65   \n",
       "29             215            85.0      13    NaN    0.000          0.00   \n",
       "30             275            25.0      14    3.0    0.855          4.77   \n",
       "31             335            95.0      15    5.0    0.951         16.39   \n",
       "32             310            21.5       0    1.0    0.996         13.10   \n",
       "33             305            20.4       1    3.0    0.986         14.01   \n",
       "34             306            21.2       2    4.0    0.963         14.55   \n",
       "35             303            20.3       3    4.0    0.961         16.67   \n",
       "36             301            19.7       4    3.0    0.990         14.56   \n",
       "37             302            20.6       5    3.0    0.980         14.80   \n",
       "38             300            19.7       6    4.0    0.993         14.23   \n",
       "39             302            19.5       7    2.0    0.987         14.78   \n",
       "40             300            18.6       8    4.0    0.983         16.41   \n",
       "41             299            17.8       9    5.0    0.968         16.82   \n",
       "42             300            18.9      10    3.0    0.974         16.20   \n",
       "43             299            18.1      11    5.0    0.998         15.93   \n",
       "44             299            18.8      12    5.0    0.979         16.05   \n",
       "45             298            17.0      13    4.0    0.983         15.50   \n",
       "46             298            17.1      14    3.0    0.986         15.00   \n",
       "47             361            10.2      15    3.0    0.675         12.30   \n",
       "\n",
       "       FF  PCE [%] Scan Direction  Run  \n",
       "0   0.000     0.00              F  1.0  \n",
       "1   0.520     1.02              R  1.0  \n",
       "2   0.622     7.66              F  1.0  \n",
       "3   0.456     0.87              F  1.0  \n",
       "4   0.507     0.69              F  1.0  \n",
       "5   0.413     3.38              F  2.0  \n",
       "6   0.536     6.17              R  1.0  \n",
       "7   0.656    10.78              F  2.0  \n",
       "8   0.595     3.77              F  2.0  \n",
       "9   0.498     1.90              F  1.0  \n",
       "10  0.618     8.89              F  2.0  \n",
       "11  0.617     7.96              R  2.0  \n",
       "12  0.693     9.20              R  1.0  \n",
       "13  0.000     0.00              F  1.0  \n",
       "14  0.469     0.89              F  1.0  \n",
       "15  0.732    11.42              R  1.0  \n",
       "16  0.568     3.51              R  2.0  \n",
       "17  0.671    10.49              R  2.0  \n",
       "18  0.688    11.23              R  2.0  \n",
       "19  0.608     9.82              F  2.0  \n",
       "20  0.702     9.59              F  3.0  \n",
       "21  0.000     0.00              0  NaN  \n",
       "22  0.582     9.81              F  2.0  \n",
       "23  0.642     9.27              F  2.0  \n",
       "24  0.436     3.31              R  2.0  \n",
       "25  0.626    10.33              F  2.0  \n",
       "26  0.000     0.00              0  NaN  \n",
       "27  0.000     0.00              0  NaN  \n",
       "28  0.401     5.08              R  1.0  \n",
       "29  0.000     0.00              0  NaN  \n",
       "30  0.629     2.56              R  2.0  \n",
       "31  0.597     9.30              F  2.0  \n",
       "32  0.649     8.47              R  2.0  \n",
       "33  0.632     8.73              R  2.0  \n",
       "34  0.602     8.44              F  2.0  \n",
       "35  0.573     9.18              F  3.0  \n",
       "36  0.706    10.18              F  2.0  \n",
       "37  0.675     9.80              R  2.0  \n",
       "38  0.671     9.48              R  2.0  \n",
       "39  0.692    10.09              F  1.0  \n",
       "40  0.640    10.32              R  2.0  \n",
       "41  0.634    10.33              F  3.0  \n",
       "42  0.686    10.82              R  3.0  \n",
       "43  0.659    10.48              R  2.0  \n",
       "44  0.700    11.00              F  2.0  \n",
       "45  0.674    10.26              F  2.0  \n",
       "46  0.740    10.95              F  1.0  \n",
       "47  0.411     3.41              F  3.0  "
      ]
     },
     "execution_count": 2,
     "metadata": {},
     "output_type": "execute_result"
    }
   ],
   "source": [
    "df_data = pd.read_excel('./Group0_run1&2_J-V_Data_BM.xlsx')\n",
    "#df_data = df_data[np.logical_or(df_data['Scan Direction'] == 0, df_data['Scan Direction'] == 'F\n",
    "df_data = df_data.iloc[:158,:14]\n",
    "#df_data = df_data.drop(columns = ['PCE Standard Deviation (per run, %)'])\n",
    "df_data = df_data.sort_values(by=list(df_data.iloc[:,[0,11]].columns)).drop_duplicates('Condition', \n",
    "                                                                                        keep = 'last', \n",
    "                                                                                        ignore_index = True)\n",
    "df_group0 = df_data\n",
    "print('Group 0:', len(df_group0))\n",
    "\n",
    "df_data = pd.read_excel('./Group1_run1&2_J-V_Data.xlsx')\n",
    "df_data = df_data.iloc[:108,:14]\n",
    "df_data['Condition'] = df_data['Condition']+16\n",
    "#df_data = df_data.drop(columns = ['PCE Standard Deviation (per run, %)'])\n",
    "#df_data = df_data[np.logical_or(df_data['Scan Direction'] == 0, df_data['Scan Direction'] == 'F')]\n",
    "df_data = df_data.sort_values(by=list(df_data.iloc[:,[0,11]].columns)).drop_duplicates('Condition', \n",
    "                                                                                        keep = 'last', \n",
    "                                                                                        ignore_index = True)\n",
    "df_group1 = df_data\n",
    "print('Group 1:', len(df_group1))\n",
    "\n",
    "df_data = pd.read_excel('./Group2_run1&2&3_J-V_Data.xlsx')\n",
    "df_data = df_data.iloc[:216,:14]\n",
    "#df_data = df_data.drop(columns = ['PCE Standard Deviation (per run, %)'])\n",
    "#df_data = df_data[np.logical_or(df_data['Scan Direction'] == 0, df_data['Scan Direction'] == 'F')]\n",
    "df_data = df_data.sort_values(by=list(df_data.iloc[:,[0,11]].columns)).drop_duplicates('Condition', \n",
    "                                                                                        keep = 'last', \n",
    "                                                                                        ignore_index = True)\n",
    "df_group2 = df_data\n",
    "print('Group 2:', len(df_group2))\n",
    "\n",
    "\n",
    "df_data = pd.concat([df_group0, df_group1,df_group2], ignore_index = True)\n",
    "df_data"
   ]
  },
  {
   "cell_type": "code",
   "execution_count": 3,
   "id": "20ee4ddc",
   "metadata": {},
   "outputs": [
    {
     "data": {
      "text/html": [
       "<div>\n",
       "<style scoped>\n",
       "    .dataframe tbody tr th:only-of-type {\n",
       "        vertical-align: middle;\n",
       "    }\n",
       "\n",
       "    .dataframe tbody tr th {\n",
       "        vertical-align: top;\n",
       "    }\n",
       "\n",
       "    .dataframe thead th {\n",
       "        text-align: right;\n",
       "    }\n",
       "</style>\n",
       "<table border=\"1\" class=\"dataframe\">\n",
       "  <thead>\n",
       "    <tr style=\"text-align: right;\">\n",
       "      <th></th>\n",
       "      <th>MAPbI Conc [M]</th>\n",
       "      <th>CH₂I₂ Conc [μL]</th>\n",
       "      <th>PC voltage [V]</th>\n",
       "      <th>PC length [ms]</th>\n",
       "      <th>Voc [V]</th>\n",
       "      <th>Jsc [mA/cm²]</th>\n",
       "      <th>FF [%]</th>\n",
       "      <th>PCE [%]</th>\n",
       "    </tr>\n",
       "  </thead>\n",
       "  <tbody>\n",
       "    <tr>\n",
       "      <th>0</th>\n",
       "      <td>1.60</td>\n",
       "      <td>150</td>\n",
       "      <td>433</td>\n",
       "      <td>18.3</td>\n",
       "      <td>0.000</td>\n",
       "      <td>0.00</td>\n",
       "      <td>0.000</td>\n",
       "      <td>0.50</td>\n",
       "    </tr>\n",
       "    <tr>\n",
       "      <th>1</th>\n",
       "      <td>1.50</td>\n",
       "      <td>50</td>\n",
       "      <td>222</td>\n",
       "      <td>17.1</td>\n",
       "      <td>0.907</td>\n",
       "      <td>2.15</td>\n",
       "      <td>0.520</td>\n",
       "      <td>1.02</td>\n",
       "    </tr>\n",
       "    <tr>\n",
       "      <th>2</th>\n",
       "      <td>1.50</td>\n",
       "      <td>100</td>\n",
       "      <td>373</td>\n",
       "      <td>6.3</td>\n",
       "      <td>0.768</td>\n",
       "      <td>16.03</td>\n",
       "      <td>0.622</td>\n",
       "      <td>7.66</td>\n",
       "    </tr>\n",
       "    <tr>\n",
       "      <th>3</th>\n",
       "      <td>1.30</td>\n",
       "      <td>100</td>\n",
       "      <td>252</td>\n",
       "      <td>11.1</td>\n",
       "      <td>0.712</td>\n",
       "      <td>2.69</td>\n",
       "      <td>0.456</td>\n",
       "      <td>0.87</td>\n",
       "    </tr>\n",
       "    <tr>\n",
       "      <th>4</th>\n",
       "      <td>1.60</td>\n",
       "      <td>100</td>\n",
       "      <td>237</td>\n",
       "      <td>9.9</td>\n",
       "      <td>0.859</td>\n",
       "      <td>1.59</td>\n",
       "      <td>0.507</td>\n",
       "      <td>0.69</td>\n",
       "    </tr>\n",
       "    <tr>\n",
       "      <th>5</th>\n",
       "      <td>1.50</td>\n",
       "      <td>50</td>\n",
       "      <td>358</td>\n",
       "      <td>12.3</td>\n",
       "      <td>0.476</td>\n",
       "      <td>17.20</td>\n",
       "      <td>0.413</td>\n",
       "      <td>3.38</td>\n",
       "    </tr>\n",
       "    <tr>\n",
       "      <th>6</th>\n",
       "      <td>1.40</td>\n",
       "      <td>0</td>\n",
       "      <td>312</td>\n",
       "      <td>15.9</td>\n",
       "      <td>0.845</td>\n",
       "      <td>13.63</td>\n",
       "      <td>0.536</td>\n",
       "      <td>6.17</td>\n",
       "    </tr>\n",
       "    <tr>\n",
       "      <th>7</th>\n",
       "      <td>1.50</td>\n",
       "      <td>250</td>\n",
       "      <td>328</td>\n",
       "      <td>19.5</td>\n",
       "      <td>0.991</td>\n",
       "      <td>16.59</td>\n",
       "      <td>0.656</td>\n",
       "      <td>10.78</td>\n",
       "    </tr>\n",
       "    <tr>\n",
       "      <th>8</th>\n",
       "      <td>1.60</td>\n",
       "      <td>200</td>\n",
       "      <td>297</td>\n",
       "      <td>2.7</td>\n",
       "      <td>0.928</td>\n",
       "      <td>6.82</td>\n",
       "      <td>0.595</td>\n",
       "      <td>3.77</td>\n",
       "    </tr>\n",
       "    <tr>\n",
       "      <th>9</th>\n",
       "      <td>1.40</td>\n",
       "      <td>200</td>\n",
       "      <td>267</td>\n",
       "      <td>7.5</td>\n",
       "      <td>0.935</td>\n",
       "      <td>4.08</td>\n",
       "      <td>0.498</td>\n",
       "      <td>1.90</td>\n",
       "    </tr>\n",
       "    <tr>\n",
       "      <th>10</th>\n",
       "      <td>1.60</td>\n",
       "      <td>250</td>\n",
       "      <td>403</td>\n",
       "      <td>1.5</td>\n",
       "      <td>0.845</td>\n",
       "      <td>17.03</td>\n",
       "      <td>0.618</td>\n",
       "      <td>8.89</td>\n",
       "    </tr>\n",
       "    <tr>\n",
       "      <th>11</th>\n",
       "      <td>1.30</td>\n",
       "      <td>0</td>\n",
       "      <td>343</td>\n",
       "      <td>13.5</td>\n",
       "      <td>0.907</td>\n",
       "      <td>14.21</td>\n",
       "      <td>0.617</td>\n",
       "      <td>7.96</td>\n",
       "    </tr>\n",
       "    <tr>\n",
       "      <th>12</th>\n",
       "      <td>1.40</td>\n",
       "      <td>150</td>\n",
       "      <td>282</td>\n",
       "      <td>8.7</td>\n",
       "      <td>1.019</td>\n",
       "      <td>13.03</td>\n",
       "      <td>0.693</td>\n",
       "      <td>9.20</td>\n",
       "    </tr>\n",
       "    <tr>\n",
       "      <th>13</th>\n",
       "      <td>1.30</td>\n",
       "      <td>0</td>\n",
       "      <td>418</td>\n",
       "      <td>3.9</td>\n",
       "      <td>0.000</td>\n",
       "      <td>0.00</td>\n",
       "      <td>0.000</td>\n",
       "      <td>0.50</td>\n",
       "    </tr>\n",
       "    <tr>\n",
       "      <th>14</th>\n",
       "      <td>1.30</td>\n",
       "      <td>250</td>\n",
       "      <td>207</td>\n",
       "      <td>14.7</td>\n",
       "      <td>0.608</td>\n",
       "      <td>3.11</td>\n",
       "      <td>0.469</td>\n",
       "      <td>0.89</td>\n",
       "    </tr>\n",
       "    <tr>\n",
       "      <th>15</th>\n",
       "      <td>1.40</td>\n",
       "      <td>150</td>\n",
       "      <td>290</td>\n",
       "      <td>20.0</td>\n",
       "      <td>0.984</td>\n",
       "      <td>15.86</td>\n",
       "      <td>0.732</td>\n",
       "      <td>11.42</td>\n",
       "    </tr>\n",
       "    <tr>\n",
       "      <th>16</th>\n",
       "      <td>1.30</td>\n",
       "      <td>150</td>\n",
       "      <td>317</td>\n",
       "      <td>2.8</td>\n",
       "      <td>0.874</td>\n",
       "      <td>7.06</td>\n",
       "      <td>0.568</td>\n",
       "      <td>3.51</td>\n",
       "    </tr>\n",
       "    <tr>\n",
       "      <th>17</th>\n",
       "      <td>1.30</td>\n",
       "      <td>150</td>\n",
       "      <td>318</td>\n",
       "      <td>12.9</td>\n",
       "      <td>0.973</td>\n",
       "      <td>16.06</td>\n",
       "      <td>0.671</td>\n",
       "      <td>10.49</td>\n",
       "    </tr>\n",
       "    <tr>\n",
       "      <th>18</th>\n",
       "      <td>1.30</td>\n",
       "      <td>150</td>\n",
       "      <td>318</td>\n",
       "      <td>23.1</td>\n",
       "      <td>0.968</td>\n",
       "      <td>16.87</td>\n",
       "      <td>0.688</td>\n",
       "      <td>11.23</td>\n",
       "    </tr>\n",
       "    <tr>\n",
       "      <th>19</th>\n",
       "      <td>1.40</td>\n",
       "      <td>150</td>\n",
       "      <td>317</td>\n",
       "      <td>18.3</td>\n",
       "      <td>0.965</td>\n",
       "      <td>16.73</td>\n",
       "      <td>0.608</td>\n",
       "      <td>9.82</td>\n",
       "    </tr>\n",
       "    <tr>\n",
       "      <th>20</th>\n",
       "      <td>1.40</td>\n",
       "      <td>150</td>\n",
       "      <td>319</td>\n",
       "      <td>32.3</td>\n",
       "      <td>0.843</td>\n",
       "      <td>16.21</td>\n",
       "      <td>0.702</td>\n",
       "      <td>9.59</td>\n",
       "    </tr>\n",
       "    <tr>\n",
       "      <th>21</th>\n",
       "      <td>1.40</td>\n",
       "      <td>200</td>\n",
       "      <td>318</td>\n",
       "      <td>1.0</td>\n",
       "      <td>0.000</td>\n",
       "      <td>0.00</td>\n",
       "      <td>0.000</td>\n",
       "      <td>0.50</td>\n",
       "    </tr>\n",
       "    <tr>\n",
       "      <th>22</th>\n",
       "      <td>1.40</td>\n",
       "      <td>200</td>\n",
       "      <td>319</td>\n",
       "      <td>10.4</td>\n",
       "      <td>0.973</td>\n",
       "      <td>17.33</td>\n",
       "      <td>0.582</td>\n",
       "      <td>9.81</td>\n",
       "    </tr>\n",
       "    <tr>\n",
       "      <th>23</th>\n",
       "      <td>1.40</td>\n",
       "      <td>200</td>\n",
       "      <td>320</td>\n",
       "      <td>17.7</td>\n",
       "      <td>0.979</td>\n",
       "      <td>14.75</td>\n",
       "      <td>0.642</td>\n",
       "      <td>9.27</td>\n",
       "    </tr>\n",
       "    <tr>\n",
       "      <th>24</th>\n",
       "      <td>1.60</td>\n",
       "      <td>200</td>\n",
       "      <td>395</td>\n",
       "      <td>35.0</td>\n",
       "      <td>0.710</td>\n",
       "      <td>10.69</td>\n",
       "      <td>0.436</td>\n",
       "      <td>3.31</td>\n",
       "    </tr>\n",
       "    <tr>\n",
       "      <th>25</th>\n",
       "      <td>1.50</td>\n",
       "      <td>150</td>\n",
       "      <td>305</td>\n",
       "      <td>55.0</td>\n",
       "      <td>1.004</td>\n",
       "      <td>16.43</td>\n",
       "      <td>0.626</td>\n",
       "      <td>10.33</td>\n",
       "    </tr>\n",
       "    <tr>\n",
       "      <th>26</th>\n",
       "      <td>1.60</td>\n",
       "      <td>250</td>\n",
       "      <td>245</td>\n",
       "      <td>65.0</td>\n",
       "      <td>0.000</td>\n",
       "      <td>0.00</td>\n",
       "      <td>0.000</td>\n",
       "      <td>0.50</td>\n",
       "    </tr>\n",
       "    <tr>\n",
       "      <th>27</th>\n",
       "      <td>1.40</td>\n",
       "      <td>50</td>\n",
       "      <td>425</td>\n",
       "      <td>75.0</td>\n",
       "      <td>0.000</td>\n",
       "      <td>0.00</td>\n",
       "      <td>0.000</td>\n",
       "      <td>0.50</td>\n",
       "    </tr>\n",
       "    <tr>\n",
       "      <th>28</th>\n",
       "      <td>1.30</td>\n",
       "      <td>50</td>\n",
       "      <td>365</td>\n",
       "      <td>45.0</td>\n",
       "      <td>0.811</td>\n",
       "      <td>15.65</td>\n",
       "      <td>0.401</td>\n",
       "      <td>5.08</td>\n",
       "    </tr>\n",
       "    <tr>\n",
       "      <th>29</th>\n",
       "      <td>1.30</td>\n",
       "      <td>100</td>\n",
       "      <td>215</td>\n",
       "      <td>85.0</td>\n",
       "      <td>0.000</td>\n",
       "      <td>0.00</td>\n",
       "      <td>0.000</td>\n",
       "      <td>0.50</td>\n",
       "    </tr>\n",
       "    <tr>\n",
       "      <th>30</th>\n",
       "      <td>1.40</td>\n",
       "      <td>0</td>\n",
       "      <td>275</td>\n",
       "      <td>25.0</td>\n",
       "      <td>0.855</td>\n",
       "      <td>4.77</td>\n",
       "      <td>0.629</td>\n",
       "      <td>2.56</td>\n",
       "    </tr>\n",
       "    <tr>\n",
       "      <th>31</th>\n",
       "      <td>1.50</td>\n",
       "      <td>200</td>\n",
       "      <td>335</td>\n",
       "      <td>95.0</td>\n",
       "      <td>0.951</td>\n",
       "      <td>16.39</td>\n",
       "      <td>0.597</td>\n",
       "      <td>9.30</td>\n",
       "    </tr>\n",
       "    <tr>\n",
       "      <th>32</th>\n",
       "      <td>1.25</td>\n",
       "      <td>90</td>\n",
       "      <td>310</td>\n",
       "      <td>21.5</td>\n",
       "      <td>0.996</td>\n",
       "      <td>13.10</td>\n",
       "      <td>0.649</td>\n",
       "      <td>8.47</td>\n",
       "    </tr>\n",
       "    <tr>\n",
       "      <th>33</th>\n",
       "      <td>1.25</td>\n",
       "      <td>100</td>\n",
       "      <td>305</td>\n",
       "      <td>20.4</td>\n",
       "      <td>0.986</td>\n",
       "      <td>14.01</td>\n",
       "      <td>0.632</td>\n",
       "      <td>8.73</td>\n",
       "    </tr>\n",
       "    <tr>\n",
       "      <th>34</th>\n",
       "      <td>1.25</td>\n",
       "      <td>110</td>\n",
       "      <td>306</td>\n",
       "      <td>21.2</td>\n",
       "      <td>0.963</td>\n",
       "      <td>14.55</td>\n",
       "      <td>0.602</td>\n",
       "      <td>8.44</td>\n",
       "    </tr>\n",
       "    <tr>\n",
       "      <th>35</th>\n",
       "      <td>1.25</td>\n",
       "      <td>120</td>\n",
       "      <td>303</td>\n",
       "      <td>20.3</td>\n",
       "      <td>0.961</td>\n",
       "      <td>16.67</td>\n",
       "      <td>0.573</td>\n",
       "      <td>9.18</td>\n",
       "    </tr>\n",
       "    <tr>\n",
       "      <th>36</th>\n",
       "      <td>1.25</td>\n",
       "      <td>140</td>\n",
       "      <td>301</td>\n",
       "      <td>19.7</td>\n",
       "      <td>0.990</td>\n",
       "      <td>14.56</td>\n",
       "      <td>0.706</td>\n",
       "      <td>10.18</td>\n",
       "    </tr>\n",
       "    <tr>\n",
       "      <th>37</th>\n",
       "      <td>1.25</td>\n",
       "      <td>140</td>\n",
       "      <td>302</td>\n",
       "      <td>20.6</td>\n",
       "      <td>0.980</td>\n",
       "      <td>14.80</td>\n",
       "      <td>0.675</td>\n",
       "      <td>9.80</td>\n",
       "    </tr>\n",
       "    <tr>\n",
       "      <th>38</th>\n",
       "      <td>1.25</td>\n",
       "      <td>160</td>\n",
       "      <td>300</td>\n",
       "      <td>19.7</td>\n",
       "      <td>0.993</td>\n",
       "      <td>14.23</td>\n",
       "      <td>0.671</td>\n",
       "      <td>9.48</td>\n",
       "    </tr>\n",
       "    <tr>\n",
       "      <th>39</th>\n",
       "      <td>1.30</td>\n",
       "      <td>110</td>\n",
       "      <td>302</td>\n",
       "      <td>19.5</td>\n",
       "      <td>0.987</td>\n",
       "      <td>14.78</td>\n",
       "      <td>0.692</td>\n",
       "      <td>10.09</td>\n",
       "    </tr>\n",
       "    <tr>\n",
       "      <th>40</th>\n",
       "      <td>1.30</td>\n",
       "      <td>120</td>\n",
       "      <td>300</td>\n",
       "      <td>18.6</td>\n",
       "      <td>0.983</td>\n",
       "      <td>16.41</td>\n",
       "      <td>0.640</td>\n",
       "      <td>10.32</td>\n",
       "    </tr>\n",
       "    <tr>\n",
       "      <th>41</th>\n",
       "      <td>1.30</td>\n",
       "      <td>130</td>\n",
       "      <td>299</td>\n",
       "      <td>17.8</td>\n",
       "      <td>0.968</td>\n",
       "      <td>16.82</td>\n",
       "      <td>0.634</td>\n",
       "      <td>10.33</td>\n",
       "    </tr>\n",
       "    <tr>\n",
       "      <th>42</th>\n",
       "      <td>1.30</td>\n",
       "      <td>150</td>\n",
       "      <td>300</td>\n",
       "      <td>18.9</td>\n",
       "      <td>0.974</td>\n",
       "      <td>16.20</td>\n",
       "      <td>0.686</td>\n",
       "      <td>10.82</td>\n",
       "    </tr>\n",
       "    <tr>\n",
       "      <th>43</th>\n",
       "      <td>1.30</td>\n",
       "      <td>160</td>\n",
       "      <td>299</td>\n",
       "      <td>18.1</td>\n",
       "      <td>0.998</td>\n",
       "      <td>15.93</td>\n",
       "      <td>0.659</td>\n",
       "      <td>10.48</td>\n",
       "    </tr>\n",
       "    <tr>\n",
       "      <th>44</th>\n",
       "      <td>1.30</td>\n",
       "      <td>165</td>\n",
       "      <td>299</td>\n",
       "      <td>18.8</td>\n",
       "      <td>0.979</td>\n",
       "      <td>16.05</td>\n",
       "      <td>0.700</td>\n",
       "      <td>11.00</td>\n",
       "    </tr>\n",
       "    <tr>\n",
       "      <th>45</th>\n",
       "      <td>1.35</td>\n",
       "      <td>130</td>\n",
       "      <td>298</td>\n",
       "      <td>17.0</td>\n",
       "      <td>0.983</td>\n",
       "      <td>15.50</td>\n",
       "      <td>0.674</td>\n",
       "      <td>10.26</td>\n",
       "    </tr>\n",
       "    <tr>\n",
       "      <th>46</th>\n",
       "      <td>1.35</td>\n",
       "      <td>140</td>\n",
       "      <td>298</td>\n",
       "      <td>17.1</td>\n",
       "      <td>0.986</td>\n",
       "      <td>15.00</td>\n",
       "      <td>0.740</td>\n",
       "      <td>10.95</td>\n",
       "    </tr>\n",
       "    <tr>\n",
       "      <th>47</th>\n",
       "      <td>1.55</td>\n",
       "      <td>250</td>\n",
       "      <td>361</td>\n",
       "      <td>10.2</td>\n",
       "      <td>0.675</td>\n",
       "      <td>12.30</td>\n",
       "      <td>0.411</td>\n",
       "      <td>3.41</td>\n",
       "    </tr>\n",
       "  </tbody>\n",
       "</table>\n",
       "</div>"
      ],
      "text/plain": [
       "    MAPbI Conc [M]  CH₂I₂ Conc [μL]  PC voltage [V]  PC length [ms]  Voc [V]  \\\n",
       "0             1.60              150             433            18.3    0.000   \n",
       "1             1.50               50             222            17.1    0.907   \n",
       "2             1.50              100             373             6.3    0.768   \n",
       "3             1.30              100             252            11.1    0.712   \n",
       "4             1.60              100             237             9.9    0.859   \n",
       "5             1.50               50             358            12.3    0.476   \n",
       "6             1.40                0             312            15.9    0.845   \n",
       "7             1.50              250             328            19.5    0.991   \n",
       "8             1.60              200             297             2.7    0.928   \n",
       "9             1.40              200             267             7.5    0.935   \n",
       "10            1.60              250             403             1.5    0.845   \n",
       "11            1.30                0             343            13.5    0.907   \n",
       "12            1.40              150             282             8.7    1.019   \n",
       "13            1.30                0             418             3.9    0.000   \n",
       "14            1.30              250             207            14.7    0.608   \n",
       "15            1.40              150             290            20.0    0.984   \n",
       "16            1.30              150             317             2.8    0.874   \n",
       "17            1.30              150             318            12.9    0.973   \n",
       "18            1.30              150             318            23.1    0.968   \n",
       "19            1.40              150             317            18.3    0.965   \n",
       "20            1.40              150             319            32.3    0.843   \n",
       "21            1.40              200             318             1.0    0.000   \n",
       "22            1.40              200             319            10.4    0.973   \n",
       "23            1.40              200             320            17.7    0.979   \n",
       "24            1.60              200             395            35.0    0.710   \n",
       "25            1.50              150             305            55.0    1.004   \n",
       "26            1.60              250             245            65.0    0.000   \n",
       "27            1.40               50             425            75.0    0.000   \n",
       "28            1.30               50             365            45.0    0.811   \n",
       "29            1.30              100             215            85.0    0.000   \n",
       "30            1.40                0             275            25.0    0.855   \n",
       "31            1.50              200             335            95.0    0.951   \n",
       "32            1.25               90             310            21.5    0.996   \n",
       "33            1.25              100             305            20.4    0.986   \n",
       "34            1.25              110             306            21.2    0.963   \n",
       "35            1.25              120             303            20.3    0.961   \n",
       "36            1.25              140             301            19.7    0.990   \n",
       "37            1.25              140             302            20.6    0.980   \n",
       "38            1.25              160             300            19.7    0.993   \n",
       "39            1.30              110             302            19.5    0.987   \n",
       "40            1.30              120             300            18.6    0.983   \n",
       "41            1.30              130             299            17.8    0.968   \n",
       "42            1.30              150             300            18.9    0.974   \n",
       "43            1.30              160             299            18.1    0.998   \n",
       "44            1.30              165             299            18.8    0.979   \n",
       "45            1.35              130             298            17.0    0.983   \n",
       "46            1.35              140             298            17.1    0.986   \n",
       "47            1.55              250             361            10.2    0.675   \n",
       "\n",
       "    Jsc [mA/cm²]  FF [%]  PCE [%]  \n",
       "0           0.00   0.000     0.50  \n",
       "1           2.15   0.520     1.02  \n",
       "2          16.03   0.622     7.66  \n",
       "3           2.69   0.456     0.87  \n",
       "4           1.59   0.507     0.69  \n",
       "5          17.20   0.413     3.38  \n",
       "6          13.63   0.536     6.17  \n",
       "7          16.59   0.656    10.78  \n",
       "8           6.82   0.595     3.77  \n",
       "9           4.08   0.498     1.90  \n",
       "10         17.03   0.618     8.89  \n",
       "11         14.21   0.617     7.96  \n",
       "12         13.03   0.693     9.20  \n",
       "13          0.00   0.000     0.50  \n",
       "14          3.11   0.469     0.89  \n",
       "15         15.86   0.732    11.42  \n",
       "16          7.06   0.568     3.51  \n",
       "17         16.06   0.671    10.49  \n",
       "18         16.87   0.688    11.23  \n",
       "19         16.73   0.608     9.82  \n",
       "20         16.21   0.702     9.59  \n",
       "21          0.00   0.000     0.50  \n",
       "22         17.33   0.582     9.81  \n",
       "23         14.75   0.642     9.27  \n",
       "24         10.69   0.436     3.31  \n",
       "25         16.43   0.626    10.33  \n",
       "26          0.00   0.000     0.50  \n",
       "27          0.00   0.000     0.50  \n",
       "28         15.65   0.401     5.08  \n",
       "29          0.00   0.000     0.50  \n",
       "30          4.77   0.629     2.56  \n",
       "31         16.39   0.597     9.30  \n",
       "32         13.10   0.649     8.47  \n",
       "33         14.01   0.632     8.73  \n",
       "34         14.55   0.602     8.44  \n",
       "35         16.67   0.573     9.18  \n",
       "36         14.56   0.706    10.18  \n",
       "37         14.80   0.675     9.80  \n",
       "38         14.23   0.671     9.48  \n",
       "39         14.78   0.692    10.09  \n",
       "40         16.41   0.640    10.32  \n",
       "41         16.82   0.634    10.33  \n",
       "42         16.20   0.686    10.82  \n",
       "43         15.93   0.659    10.48  \n",
       "44         16.05   0.700    11.00  \n",
       "45         15.50   0.674    10.26  \n",
       "46         15.00   0.740    10.95  \n",
       "47         12.30   0.411     3.41  "
      ]
     },
     "execution_count": 3,
     "metadata": {},
     "output_type": "execute_result"
    }
   ],
   "source": [
    "df = df_data.iloc[:48,[1,2,4,5,8,9,10,11]]\n",
    "df.columns = ['MAPbI Conc [M]', \"CH₂I₂ Conc [μL]\", \"PC voltage [V]\", \n",
    "              'PC length [ms]', 'Voc [V]', 'Jsc [mA/cm²]','FF [%]','PCE [%]']\n",
    "for i in np.arange(len(df)):\n",
    "    if df['PCE [%]'].values[i] == 0:\n",
    "        df.iloc[i,7]=0.5\n",
    "    if df['PCE [%]'].values[i] == 'bad':\n",
    "        df.iloc[i,7]=0.5\n",
    "\n",
    "df"
   ]
  },
  {
   "cell_type": "markdown",
   "id": "d20fadef",
   "metadata": {},
   "source": [
    "## Define the parameter space"
   ]
  },
  {
   "cell_type": "code",
   "execution_count": 4,
   "id": "41fa51ec",
   "metadata": {},
   "outputs": [],
   "source": [
    "import emukit\n",
    "import GPy\n",
    "from emukit.core import ParameterSpace, ContinuousParameter, DiscreteParameter\n",
    "from emukit.core.initial_designs.random_design import RandomDesign\n",
    "from emukit.core.initial_designs.latin_design import LatinDesign"
   ]
  },
  {
   "cell_type": "code",
   "execution_count": 5,
   "id": "eef981b4",
   "metadata": {},
   "outputs": [],
   "source": [
    "MAPbI_conc_min, MAPbI_conc_max, MAPbI_conc_step = [1.2, 1.6, 0.05]  # Unit: V \n",
    "### Give step a scaling factor of 0.1 to avoid numercial errors such as 1.7000002\n",
    "MAPbI_conc_var = np.arange(MAPbI_conc_min, MAPbI_conc_max+MAPbI_conc_step*0.1, MAPbI_conc_step)\n",
    "MAPbI_conc_num = len(MAPbI_conc_var)\n",
    "\n",
    "CH2I2_conc_min, CH2I2_conc_max, CH2I2_conc_step = [0, 250, 5] ## Unit: μL\n",
    "CH2I2_conc_var = np.arange(CH2I2_conc_min, CH2I2_conc_max+CH2I2_conc_step*0.1, CH2I2_conc_step)\n",
    "CH2I2_conc_num = len(CH2I2_conc_var)\n",
    "\n",
    "PC_volt_min, PC_volt_max, PC_volt_step = [200, 440, 1] ## Unit: V\n",
    "PC_volt_var = np.arange(PC_volt_min, PC_volt_max+PC_volt_step*0.1, PC_volt_step) \n",
    "PC_volt_num = len(PC_volt_var)\n",
    "\n",
    "PC_len_min, PC_len_max, PC_len_step = [1, 100, 0.1]  ## Unit: ms\n",
    "PC_len_var = np.arange(PC_len_min, PC_len_max+PC_len_step*0.1, PC_len_step)\n",
    "PC_len_num = len(PC_len_var)\n",
    "\n",
    "var_array = [MAPbI_conc_var,\n",
    "             CH2I2_conc_var, \n",
    "             PC_volt_var, \n",
    "             PC_len_var]\n",
    "\n",
    "x_labels =  [\"MAPbI Conc [M]\",\n",
    "             \"CH₂I₂ Conc [μL]\",\n",
    "             \"PC voltage [V]\", \n",
    "             \"PC length [ms]\"]\n",
    "\n",
    "def x_normalizer(X, var_array = var_array):\n",
    "    \n",
    "    def max_min_scaler(x, x_max, x_min):\n",
    "        return (x-x_min)/(x_max-x_min)\n",
    "    x_norm = []\n",
    "    for x in (X):\n",
    "        x_norm.append([max_min_scaler(x[i], \n",
    "                         max(var_array[i]), \n",
    "                         min(var_array[i])) for i in range(len(x))])\n",
    "            \n",
    "    return np.array(x_norm)\n",
    "\n",
    "def x_denormalizer(x_norm, var_array = var_array):\n",
    "    \n",
    "    def max_min_rescaler(x, x_max, x_min):\n",
    "        return x*(x_max-x_min)+x_min\n",
    "    x_original = []\n",
    "    for x in (x_norm):\n",
    "           x_original.append([max_min_rescaler(x[i], \n",
    "                              max(var_array[i]), \n",
    "                              min(var_array[i])) for i in range(len(x))])\n",
    "\n",
    "    return np.array(x_original)\n",
    "\n",
    "\n",
    "def get_closest_value(given_value, array_list):\n",
    "    absolute_difference_function = lambda list_value : abs(list_value - given_value)\n",
    "    closest_value = min(array_list, key=absolute_difference_function)\n",
    "    return closest_value\n",
    "    \n",
    "def get_closest_array(suggested_x, var_list):\n",
    "    modified_array = []\n",
    "    for x in suggested_x:\n",
    "        modified_array.append([get_closest_value(x[i], var_list[i]) for i in range(len(x))])\n",
    "    return np.array(modified_array)"
   ]
  },
  {
   "cell_type": "code",
   "execution_count": 6,
   "id": "d333eecc",
   "metadata": {},
   "outputs": [],
   "source": [
    "parameter_space = ParameterSpace([ContinuousParameter('MAPbI_conc', 0-1/(MAPbI_conc_num-1)/2, 1+1/(MAPbI_conc_num-1)/2),\n",
    "                                  ContinuousParameter('CH2I2_conc', 0-1/(CH2I2_conc_num-1)/2, 1+1/(CH2I2_conc_num-1)/2),\n",
    "                                  ContinuousParameter('PC_volt', 0-1/(PC_volt_num-1)/2, 1+1/(PC_volt_num-1)/2),\n",
    "                                  ContinuousParameter('PC_len', 0-1/(PC_len_num-1)/2, 1+1/(PC_len_num-1)/2),\n",
    "                                  ])\n",
    "\n"
   ]
  },
  {
   "cell_type": "code",
   "execution_count": 7,
   "id": "36c9963d",
   "metadata": {},
   "outputs": [],
   "source": [
    "x_exp = x_normalizer(df.iloc[:,0:4].values)\n",
    "y_exp = np.transpose([df.iloc[:,-1].values])\n",
    "X, Y = [x_exp, y_exp]"
   ]
  },
  {
   "cell_type": "code",
   "execution_count": 8,
   "id": "54079d77",
   "metadata": {},
   "outputs": [
    {
     "data": {
      "image/png": "[encoded data removed]",
      "text/plain": [
       "<Figure size 1584x324 with 4 Axes>"
      ]
     },
     "metadata": {
      "needs_background": "light"
     },
     "output_type": "display_data"
    },
    {
     "data": {
      "image/png": "[encoded data removed]",
      "text/plain": [
       "<Figure size 1584x324 with 4 Axes>"
      ]
     },
     "metadata": {
      "needs_background": "light"
     },
     "output_type": "display_data"
    }
   ],
   "source": [
    "fig, axes = plt.subplots(1, 4, figsize=(5.5*4, 4.5))\n",
    "fs = 22\n",
    "\n",
    "for i in np.arange(4):\n",
    "    max_min = (np.max(df.iloc[:, i].values)-np.min(df.iloc[:, i].values))\n",
    "    axes[i].hist(np.array(df.iloc[:, i].values), bins =10, width = 0.05*max_min, alpha = 0.7)\n",
    "    axes[i].tick_params(direction='in', length=5, width=1, labelsize = fs*.8, grid_alpha = 0.5)\n",
    "    axes[i].grid(True, linestyle='-.')\n",
    "    axes[i].set_xlabel('Values', fontsize = fs)\n",
    "    axes[i].set_ylabel('Counts', fontsize = fs)\n",
    "    axes[i].set_title('Raw X'+str(i+1), fontsize = fs)\n",
    "plt.show()\n",
    "\n",
    "\n",
    "fig, axes = plt.subplots(1, 4, figsize=(5.5*4, 4.5))\n",
    "fs = 22\n",
    "\n",
    "for i in np.arange(4):\n",
    "    axes[i].hist(np.array(X[:, i]), bins =10, width = 0.05, alpha = 0.7, color = 'orange')\n",
    "    axes[i].tick_params(direction='in', length=5, width=1, labelsize = fs*.8, grid_alpha = 0.5)\n",
    "    axes[i].grid(True, linestyle='-.')\n",
    "    axes[i].set_xlabel('Values', fontsize = fs)\n",
    "    axes[i].set_ylabel('Counts', fontsize = fs)\n",
    "    axes[i].set_title('Norm. X'+str(i+1), fontsize = fs)\n",
    "plt.show()"
   ]
  },
  {
   "cell_type": "markdown",
   "id": "29d41df8",
   "metadata": {},
   "source": [
    "## Data normalization"
   ]
  },
  {
   "cell_type": "code",
   "execution_count": 9,
   "id": "9f96d03b",
   "metadata": {},
   "outputs": [],
   "source": [
    "from sklearn.preprocessing import StandardScaler\n",
    "from sklearn.preprocessing import MinMaxScaler\n",
    "from sklearn.preprocessing import QuantileTransformer\n",
    "#scalerY= StandardScaler() \n",
    "scalerY = QuantileTransformer(n_quantiles = 48)\n",
    "y_norm =  scalerY.fit_transform(Y)"
   ]
  },
  {
   "cell_type": "code",
   "execution_count": 10,
   "id": "05728026",
   "metadata": {},
   "outputs": [
    {
     "data": {
      "image/png": "[encoded data removed]",
      "text/plain": [
       "<Figure size 792x324 with 2 Axes>"
      ]
     },
     "metadata": {
      "needs_background": "light"
     },
     "output_type": "display_data"
    }
   ],
   "source": [
    "fig, axes = plt.subplots(1, 2, figsize=(5.5*2, 4.5))\n",
    "fs = 20\n",
    "\n",
    "ax = axes[0]\n",
    "ax.hist(np.array(Y), bins =15, width = 0.5, alpha = 0.5, color = 'green')\n",
    "ax.tick_params(direction='in', length=5, width=1, labelsize = fs*.8, grid_alpha = 0.5)\n",
    "ax.grid(True, linestyle='-.')\n",
    "ax.set_title('Raw y', fontsize = fs)\n",
    "ax.set_xlabel('Values', fontsize = fs)\n",
    "ax.set_ylabel('Counts', fontsize = fs)\n",
    "\n",
    "\n",
    "ax = axes[1]\n",
    "ax.hist(np.array(y_norm), bins =15, width = 0.05, alpha = 0.5, color = 'olive')\n",
    "ax.tick_params(direction='in', length=5, width=1, labelsize = fs*.8, grid_alpha = 0.5)\n",
    "ax.grid(True, linestyle='-.')\n",
    "ax.set_title('Normalized y', fontsize = fs)\n",
    "ax.set_xlabel('Values', fontsize = fs)\n",
    "ax.set_ylabel('Counts', fontsize = fs)\n",
    "\n",
    "plt.show()"
   ]
  },
  {
   "cell_type": "code",
   "execution_count": 11,
   "id": "6c574063",
   "metadata": {},
   "outputs": [],
   "source": [
    "from sklearn.metrics import mean_squared_error as mse\n",
    "from sklearn.metrics import mean_absolute_error as mae\n",
    "from sklearn.metrics import mean_absolute_percentage_error as mape\n",
    "from sklearn.metrics import r2_score\n",
    "from scipy.stats import spearmanr as spr\n",
    "\n",
    "def plt_true_vs_pred (y_true_list, y_pred_list, title_str_list, color_list):\n",
    "    fig, axes = plt.subplots(1, 2, figsize=(5.5*2, 4.5))\n",
    "    fs = 18\n",
    "    for i in np.arange(len(axes)):\n",
    "        ## inverse transform \n",
    "        y_true = y_true_list[i]\n",
    "        y_pred = y_pred_list[i]\n",
    "        \n",
    "\n",
    "        lims1 = (0*0.9, 5000*1.1)\n",
    "        axes[i].scatter(y_true, y_pred, alpha = 0.6, c = color_list[i])\n",
    "        axes[i].plot(lims1, lims1, 'k--', alpha=0.75, zorder=0)\n",
    "        rmse_value = np.sqrt(mse(y_true, y_pred))\n",
    "        mae_value = mae(y_true, y_pred)\n",
    "        mape_value = mape(y_true, y_pred)\n",
    "        spearman_value = spr(y_true, y_pred)[0]\n",
    "        \n",
    "        print(title_str_list[i],'RMSE:', np.around(rmse_value,3))\n",
    "        print(title_str_list[i],'MAE:',  np.around(mae_value,3))\n",
    "        print(title_str_list[i],'MAPE:',  np.around(mape_value,3))\n",
    "        print(title_str_list[i],'spearman coeff.:',  np.around(spearman_value,3))\n",
    "\n",
    "\n",
    "        title = title_str_list[i] + \" (SPRMan=%.2f\" % spearman_value+')'\n",
    "        axes[i].set_xlabel('Ground Truth', fontsize = fs)\n",
    "        axes[i].set_ylabel('Prediction', fontsize = fs)\n",
    "        axes[i].set_title(title, fontsize = fs)\n",
    "        axes[i].set_xlim(0,15)\n",
    "        axes[i].set_ylim(0,15)\n",
    "        #axes[i].set_yscale('log')\n",
    "        #axes[i].set_xscale('log')\n",
    "\n",
    "        axes[i].tick_params(direction='in', length=5, width=1, labelsize = fs*.8, grid_alpha = 0.5)\n",
    "        axes[i].grid(True, linestyle='-.')\n",
    "\n",
    "        \n",
    "    plt.subplots_adjust(wspace = 0.4)\n",
    "    plt.show()"
   ]
  },
  {
   "cell_type": "markdown",
   "id": "935a672c",
   "metadata": {},
   "source": [
    "### Random Forest Regression"
   ]
  },
  {
   "cell_type": "code",
   "execution_count": 12,
   "id": "ab0f88c9",
   "metadata": {},
   "outputs": [],
   "source": [
    "from sklearn.ensemble import RandomForestRegressor\n",
    "from sklearn.model_selection import train_test_split\n",
    "X_train, X_test, y_train, y_test = train_test_split(X, y_norm, test_size = 0.33, random_state=21)\n",
    "\n",
    "rf_regr = RandomForestRegressor(n_estimators=100, max_depth = 5)# criterion=\"squared_error\",'absolute_error'\n",
    "rf_regr.fit(X_train,y_train.ravel())\n",
    "y_pred_train = rf_regr.predict(X_train)\n",
    "y_pred_test = rf_regr.predict(X_test)\n",
    "\n",
    "\n",
    "y_train_org = scalerY.inverse_transform(y_train.reshape(-1,1))\n",
    "y_test_org = scalerY.inverse_transform(y_test.reshape(-1,1))\n",
    "y_pred_train_org = scalerY.inverse_transform(y_pred_train.reshape(-1,1))\n",
    "y_pred_test_org = scalerY.inverse_transform(y_pred_test.reshape(-1,1))"
   ]
  },
  {
   "cell_type": "code",
   "execution_count": 13,
   "id": "aed1ce17",
   "metadata": {},
   "outputs": [
    {
     "name": "stdout",
     "output_type": "stream",
     "text": [
      "RFR - Train RMSE: 1.28\n",
      "RFR - Train MAE: 0.773\n",
      "RFR - Train MAPE: 0.388\n",
      "RFR - Train spearman coeff.: 0.98\n",
      "RFR -  Test RMSE: 3.731\n",
      "RFR -  Test MAE: 2.591\n",
      "RFR -  Test MAPE: 2.342\n",
      "RFR -  Test spearman coeff.: 0.701\n"
     ]
    },
    {
     "data": {
      "image/png": "[encoded data removed]",
      "text/plain": [
       "<Figure size 792x324 with 2 Axes>"
      ]
     },
     "metadata": {
      "needs_background": "light"
     },
     "output_type": "display_data"
    }
   ],
   "source": [
    "plt_true_vs_pred([y_train_org, y_test_org], \n",
    "                 [y_pred_train_org, y_pred_test_org], \n",
    "                 ['RFR - Train','RFR -  Test'],\n",
    "                 ['blue', 'darkorange'])"
   ]
  },
  {
   "cell_type": "markdown",
   "id": "d8dfd13c",
   "metadata": {},
   "source": [
    "### Gradient Boosting Regression"
   ]
  },
  {
   "cell_type": "code",
   "execution_count": 14,
   "id": "af628ffd",
   "metadata": {},
   "outputs": [],
   "source": [
    "from sklearn.ensemble import GradientBoostingRegressor\n",
    "from sklearn.model_selection import train_test_split\n",
    "X_train, X_test, y_train, y_test = train_test_split(X, y_norm, test_size = 0.33, random_state=1)\n",
    "\n",
    "gb_regr = GradientBoostingRegressor(n_estimators=30, max_depth = 3)#{‘squared_error’, ‘absolute_error’, ‘huber’, ‘quantile’}\n",
    "gb_regr.fit(X_train,y_train.ravel())\n",
    "y_pred_train = gb_regr.predict(X_train)\n",
    "y_pred_test = gb_regr.predict(X_test)\n",
    "\n",
    "y_train_org = scalerY.inverse_transform(y_train.reshape(-1,1))\n",
    "y_test_org = scalerY.inverse_transform(y_test.reshape(-1,1))\n",
    "y_pred_train_org = scalerY.inverse_transform(y_pred_train.reshape(-1,1))\n",
    "y_pred_test_org = scalerY.inverse_transform(y_pred_test.reshape(-1,1))\n"
   ]
  },
  {
   "cell_type": "code",
   "execution_count": 15,
   "id": "cfe5d346",
   "metadata": {},
   "outputs": [
    {
     "name": "stdout",
     "output_type": "stream",
     "text": [
      "GBDT - Train RMSE: 1.046\n",
      "GBDT - Train MAE: 0.569\n",
      "GBDT - Train MAPE: 0.201\n",
      "GBDT - Train spearman coeff.: 0.977\n",
      "GBDT -  Test RMSE: 3.255\n",
      "GBDT -  Test MAE: 2.076\n",
      "GBDT -  Test MAPE: 1.718\n",
      "GBDT -  Test spearman coeff.: 0.824\n"
     ]
    },
    {
     "data": {
      "image/png": "[encoded data removed]",
      "text/plain": [
       "<Figure size 792x324 with 2 Axes>"
      ]
     },
     "metadata": {
      "needs_background": "light"
     },
     "output_type": "display_data"
    }
   ],
   "source": [
    "plt_true_vs_pred([y_train_org, y_test_org], \n",
    "                 [y_pred_train_org, y_pred_test_org], \n",
    "                 ['GBDT - Train','GBDT -  Test'],\n",
    "                 ['blue', 'darkorange'])"
   ]
  },
  {
   "cell_type": "markdown",
   "id": "908b7427",
   "metadata": {},
   "source": [
    "### Neural Network Regression"
   ]
  },
  {
   "cell_type": "code",
   "execution_count": 16,
   "id": "f95ff02a",
   "metadata": {},
   "outputs": [
    {
     "name": "stderr",
     "output_type": "stream",
     "text": [
      " /Users/JeremyXu/opt/anaconda3/lib/python3.8/site-packages/sklearn/neural_network/_multilayer_perceptron.py:614: ConvergenceWarning:Stochastic Optimizer: Maximum iterations (2000) reached and the optimization hasn't converged yet.\n"
     ]
    }
   ],
   "source": [
    "from sklearn.model_selection import train_test_split\n",
    "from sklearn.neural_network import MLPRegressor\n",
    "X_train, X_test, y_train, y_test = train_test_split(X, y_norm, test_size = 0.33, random_state=1)\n",
    "\n",
    "NN_regr = MLPRegressor(hidden_layer_sizes = [56, 56, 56], alpha = 0.01, activation = 'relu',\n",
    "                         max_iter = 2000, solver='adam',verbose=False,\n",
    "                         tol=1e-8)\n",
    "NN_regr.fit(X_train,y_train.ravel())\n",
    "y_pred_train = NN_regr.predict(X_train)\n",
    "y_pred_test = NN_regr.predict(X_test)\n",
    "\n",
    "y_train_org = scalerY.inverse_transform(y_train.reshape(-1,1))\n",
    "y_test_org = scalerY.inverse_transform(y_test.reshape(-1,1))\n",
    "y_pred_train_org = scalerY.inverse_transform(y_pred_train.reshape(-1,1))\n",
    "y_pred_test_org = scalerY.inverse_transform(y_pred_test.reshape(-1,1))"
   ]
  },
  {
   "cell_type": "code",
   "execution_count": 17,
   "id": "3de6471e",
   "metadata": {},
   "outputs": [
    {
     "name": "stdout",
     "output_type": "stream",
     "text": [
      "NN - Train RMSE: 0.27\n",
      "NN - Train MAE: 0.172\n",
      "NN - Train MAPE: 0.033\n",
      "NN - Train spearman coeff.: 0.995\n",
      "NN -  Test RMSE: 3.586\n",
      "NN -  Test MAE: 1.969\n",
      "NN -  Test MAPE: 1.938\n",
      "NN -  Test spearman coeff.: 0.481\n"
     ]
    },
    {
     "data": {
      "image/png": "[encoded data removed]",
      "text/plain": [
       "<Figure size 792x324 with 2 Axes>"
      ]
     },
     "metadata": {
      "needs_background": "light"
     },
     "output_type": "display_data"
    }
   ],
   "source": [
    "plt_true_vs_pred([y_train_org, y_test_org], \n",
    "                 [y_pred_train_org, y_pred_test_org], \n",
    "                 ['NN - Train','NN -  Test'],\n",
    "                 ['blue', 'darkorange'])"
   ]
  },
  {
   "cell_type": "markdown",
   "id": "bb1cf164",
   "metadata": {},
   "source": [
    "### Gaussian Process Pregression"
   ]
  },
  {
   "cell_type": "code",
   "execution_count": 18,
   "id": "cba0d216",
   "metadata": {},
   "outputs": [
    {
     "name": "stderr",
     "output_type": "stream",
     "text": [
      "reconstraining parameters Mat52.lengthscale\n",
      "reconstraining parameters Mat52.variance\n"
     ]
    },
    {
     "name": "stdout",
     "output_type": "stream",
     "text": [
      "  \u001b[1mindex\u001b[0;0m  |  GP_regression.Mat52.lengthscale  |  constraints  |  priors\n",
      "  \u001b[1m[0]  \u001b[0;0m  |                       0.66796286  |   0.01,1.0    |        \n",
      "  \u001b[1m[1]  \u001b[0;0m  |                       0.66009947  |   0.01,1.0    |        \n",
      "  \u001b[1m[2]  \u001b[0;0m  |                       0.43818609  |   0.01,1.0    |        \n",
      "  \u001b[1m[3]  \u001b[0;0m  |                       0.17110992  |   0.01,1.0    |        \n",
      "  \u001b[1mindex\u001b[0;0m  |  GP_regression.Mat52.variance  |  constraints  |  priors\n",
      "  \u001b[1m[0]  \u001b[0;0m  |                    0.14547050  |  0.01,100.0   |        \n",
      "  \u001b[1mGaussian_noise.\u001b[0;0m  |                  value  |  constraints  |  priors\n",
      "  \u001b[1mvariance       \u001b[0;0m  |  0.0038792339653598183  |      +ve      |        \n"
     ]
    }
   ],
   "source": [
    "import GPy\n",
    "from GPy.models import GPRegression\n",
    "from emukit.model_wrappers import GPyModelWrapper\n",
    "from sklearn.model_selection import train_test_split\n",
    "X_train, X_test, y_train, y_test = train_test_split(X, y_norm, test_size = 0.33, random_state=1)\n",
    "\n",
    "ker = GPy.kern.Matern52(input_dim = 4, ARD =True)#\n",
    "ker.lengthscale.constrain_bounded(1e-2, 1)\n",
    "ker.variance.constrain_bounded(1e-2, 100.0)\n",
    "gpy_regr = GPRegression(X_train,y_train, ker)#Emukit is a minimization tool; need to make Y negative\n",
    "# gpy_regr.Gaussian_noise.variance = (0.5)**2\n",
    "# gpy_regr.Gaussian_noise.variance.fix()\n",
    "gpy_regr.randomize()\n",
    "gpy_regr.optimize_restarts(num_restarts=20,verbose =False, messages=False)\n",
    "print(ker.lengthscale)\n",
    "print(ker.variance)\n",
    "print(gpy_regr.Gaussian_noise)\n",
    "\n",
    "\n",
    "y_pred_train, y_uncer_train= gpy_regr.predict(X_train)\n",
    "y_pred_test, y_uncer_test = gpy_regr.predict(X_test)\n",
    "\n",
    "y_train_org = scalerY.inverse_transform(y_train.reshape(-1,1))\n",
    "y_test_org = scalerY.inverse_transform(y_test.reshape(-1,1))\n",
    "y_pred_train_org = scalerY.inverse_transform(y_pred_train.reshape(-1,1))\n",
    "y_pred_test_org = scalerY.inverse_transform(y_pred_test.reshape(-1,1))"
   ]
  },
  {
   "cell_type": "code",
   "execution_count": 19,
   "id": "34554a97",
   "metadata": {},
   "outputs": [
    {
     "name": "stdout",
     "output_type": "stream",
     "text": [
      "GP - Train RMSE: 0.303\n",
      "GP - Train MAE: 0.168\n",
      "GP - Train MAPE: 0.042\n",
      "GP - Train spearman coeff.: 0.993\n",
      "GP -  Test RMSE: 3.466\n",
      "GP -  Test MAE: 2.409\n",
      "GP -  Test MAPE: 1.571\n",
      "GP -  Test spearman coeff.: 0.677\n"
     ]
    },
    {
     "data": {
      "image/png": "[encoded data removed]",
      "text/plain": [
       "<Figure size 792x324 with 2 Axes>"
      ]
     },
     "metadata": {
      "needs_background": "light"
     },
     "output_type": "display_data"
    }
   ],
   "source": [
    "plt_true_vs_pred([y_train_org, y_test_org], \n",
    "                 [y_pred_train_org, y_pred_test_org], \n",
    "                 ['GP - Train','GP -  Test'],\n",
    "                 ['blue', 'darkorange'])"
   ]
  },
  {
   "cell_type": "markdown",
   "id": "fc31d37d",
   "metadata": {},
   "source": [
    "## Random Forest of many regression models"
   ]
  },
  {
   "cell_type": "markdown",
   "id": "ba18a42b",
   "metadata": {},
   "source": [
    "### Train the model with all data"
   ]
  },
  {
   "cell_type": "code",
   "execution_count": 20,
   "id": "ae20b3a4",
   "metadata": {},
   "outputs": [],
   "source": [
    "from sklearn.model_selection import train_test_split\n",
    "## Train with all the data available before optimization \n",
    "X_train, X_test, y_train, y_test = train_test_split(X, y_norm, test_size = 0.01)\n",
    "\n",
    "def regr_pred(regr_list, X):\n",
    "    y_regr_pred = []\n",
    "    i = 0\n",
    "    for regr in regr_list:\n",
    "        y_regr_pred.append(scalerY.inverse_transform(regr(X).reshape(-1,1)).ravel())\n",
    "    return np.array(y_regr_pred)\n",
    "\n",
    "def gpy_regr_predict(X, gpy_regr = gpy_regr):\n",
    "    yc_pred, yc_uncer= gpy_regr.predict(X)\n",
    "    return yc_pred.ravel()\n",
    "\n",
    "regr_list = [NN_regr.predict, gb_regr.predict, rf_regr.predict, gpy_regr_predict]\n",
    "rfr_reg_all = RandomForestRegressor(n_estimators=100, max_depth = 5)\n",
    "rfr_reg_all.fit(np.transpose(regr_pred(regr_list, X_train)), y_train.ravel())\n",
    "y_pred_train = rfr_reg_all.predict(np.transpose(regr_pred(regr_list, X_train)))\n",
    "y_pred_test = rfr_reg_all.predict(np.transpose(regr_pred(regr_list, X_test)))\n",
    "\n",
    "y_train_org = scalerY.inverse_transform(y_train.reshape(-1,1))\n",
    "y_test_org = scalerY.inverse_transform(y_test.reshape(-1,1))\n",
    "y_pred_train_org = scalerY.inverse_transform(y_pred_train.reshape(-1,1))\n",
    "y_pred_test_org = scalerY.inverse_transform(y_pred_test.reshape(-1,1))"
   ]
  },
  {
   "cell_type": "code",
   "execution_count": 21,
   "id": "eb536df3",
   "metadata": {},
   "outputs": [
    {
     "name": "stdout",
     "output_type": "stream",
     "text": [
      "RF Ensem - Train RMSE: 0.837\n",
      "RF Ensem - Train MAE: 0.396\n",
      "RF Ensem - Train MAPE: 0.101\n",
      "RF Ensem - Train spearman coeff.: 0.988\n",
      "RF Ensem -  Test RMSE: 0.19\n",
      "RF Ensem -  Test MAE: 0.19\n",
      "RF Ensem -  Test MAPE: 0.275\n",
      "RF Ensem -  Test spearman coeff.: nan\n"
     ]
    },
    {
     "data": {
      "image/png": "[encoded data removed]",
      "text/plain": [
       "<Figure size 792x324 with 2 Axes>"
      ]
     },
     "metadata": {
      "needs_background": "light"
     },
     "output_type": "display_data"
    }
   ],
   "source": [
    "plt_true_vs_pred([y_train_org, y_test_org], \n",
    "                 [y_pred_train_org, y_pred_test_org], \n",
    "                 ['RF Ensem - Train','RF Ensem -  Test'],\n",
    "                 ['blue', 'darkorange'])"
   ]
  },
  {
   "cell_type": "markdown",
   "id": "399f6f01",
   "metadata": {},
   "source": [
    "### Use PSO to find the maximum"
   ]
  },
  {
   "cell_type": "code",
   "execution_count": 26,
   "id": "74749353",
   "metadata": {},
   "outputs": [
    {
     "name": "stdout",
     "output_type": "stream",
     "text": [
      "running iteration No. 1\n",
      "Stopping search: maximum iterations reached --> 100\n",
      "optimized y:  11.128800000000004\n",
      "running iteration No. 2\n",
      "Stopping search: maximum iterations reached --> 100\n",
      "optimized y:  11.288266666666667\n",
      "running iteration No. 3\n",
      "Stopping search: maximum iterations reached --> 100\n",
      "optimized y:  11.117300000000004\n",
      "y_opt =  11.29\n",
      "X_opt =  [  1.36 181.15 287.04  23.93]\n"
     ]
    }
   ],
   "source": [
    "from pyswarm import pso\n",
    "# Define bounds\n",
    "# X_upper_bounds = [np.max(X[:,0]), np.max(X[:,1]), np.max(X[:,2]), np.max(X[:,3])]\n",
    "# X_lower_bounds = [np.min(X[:,0]), np.min(X[:,1]), np.min(X[:,2]), np.min(X[:,3])]\n",
    "X_upper_bounds = [1,1,1,1]\n",
    "X_lower_bounds = [0,0,0,0]\n",
    "def objective(X):\n",
    "    \"\"\"We want to maximize y (which means minimize -y)\"\"\"\n",
    "    y_pred = rfr_reg_all.predict(np.transpose(regr_pred(regr_list, np.array([X]))))\n",
    "    y_pred_org =  scalerY.inverse_transform(y_pred.reshape(-1,1))\n",
    "    return -y_pred_org\n",
    "\n",
    "# Run PSO 5 times with some generic hyper-parameters\n",
    "X_opts = []\n",
    "y_opts = []\n",
    "n_runs = 3\n",
    "for n in range(n_runs):\n",
    "    print('running iteration No.', n+1)\n",
    "    X_opt, _ = pso(\n",
    "        objective, X_lower_bounds, X_upper_bounds,\n",
    "        swarmsize=100, maxiter=100)\n",
    "    X_opts.append(X_opt)\n",
    "    y_opt = -objective(X_opt)\n",
    "    y_opts.append(y_opt)\n",
    "    print('optimized y: ', y_opt[0][0])\n",
    "X_opts = np.asarray(X_opts)\n",
    "y_opts = np.asarray(y_opts)\n",
    "y_opt = np.max(y_opts)\n",
    "X_opt = x_denormalizer([X_opts[np.argmax(y_opts)]])[0]\n",
    "\n",
    "print('y_opt = ', np.around(y_opt,2))\n",
    "print('X_opt = ', np.around(X_opt,2))"
   ]
  },
  {
   "cell_type": "markdown",
   "id": "d7b5671d",
   "metadata": {},
   "source": [
    "### Create the Bayesian Optimization Loop"
   ]
  },
  {
   "cell_type": "code",
   "execution_count": 27,
   "id": "9fad5b9f",
   "metadata": {},
   "outputs": [],
   "source": [
    "from typing import Union\n",
    "from emukit.core.acquisition import Acquisition\n",
    "from emukit.core.interfaces import IModel, IDifferentiable\n",
    "from emukit.core.loop import FixedIntervalUpdater, OuterLoop, SequentialPointCalculator\n",
    "from emukit.core.loop.loop_state import create_loop_state\n",
    "from emukit.core.optimization import AcquisitionOptimizerBase\n",
    "from emukit.core.optimization import GradientAcquisitionOptimizer\n",
    "from emukit.bayesian_optimization.acquisitions.log_acquisition import LogAcquisition\n",
    "from emukit.bayesian_optimization.local_penalization_calculator import LocalPenalizationPointCalculator\n",
    "from emukit.bayesian_optimization.acquisitions import ExpectedImprovement, \\\n",
    "                                                      NegativeLowerConfidenceBound, \\\n",
    "                                                      MaxValueEntropySearch, \\\n",
    "                                                      MultipointExpectedImprovement,\\\n",
    "                                                      ProbabilityOfFeasibility\n",
    "from emukit.core.acquisition import IntegratedHyperParameterAcquisition\n",
    "\n",
    "class ProbabilisticConstraintBayesianOptimizationLoop2(OuterLoop):\n",
    "    def __init__(self, space: ParameterSpace, model_objective: Union[IModel, IDifferentiable],\n",
    "                 model_constraint1: Union[IModel, IDifferentiable], \n",
    "                 model_constraint2: Union[IModel, IDifferentiable],\n",
    "                 acquisition: Acquisition = None,\n",
    "                 update_interval: int = 1, batch_size: int = 1):\n",
    "\n",
    "        \"\"\"\n",
    "        Emukit class that implements a loop for building Bayesian optimization with an unknown constraint.\n",
    "        For more information see:\n",
    "        Michael A. Gelbart, Jasper Snoek, and Ryan P. Adams,\n",
    "        Bayesian Optimization with Unknown Constraints,\n",
    "        https://arxiv.org/pdf/1403.5607.pdf\n",
    "        :param space: Input space where the optimization is carried out.\n",
    "        :param model_objective: The model that approximates the underlying objective function\n",
    "        :param model_constraint: The model that approximates the unknown constraints\n",
    "        :param acquisition: The acquisition function for the objective function (default, EI).\n",
    "        :param update_interval:  Number of iterations between optimization of model hyper-parameters. Defaults to 1.\n",
    "        :param batch_size: How many points to evaluate in one iteration of the optimization loop. Defaults to 1.\n",
    "        \"\"\"\n",
    "\n",
    "#         if not np.all(np.isclose(model_objective.X, model_constraint.X)):\n",
    "#             raise ValueError('Emukit currently only supports identical '\n",
    "#                              'training inputs for the constrained and objective model')\n",
    "        self.model_objective = model_objective\n",
    "        self.model_constraint1 = model_constraint1\n",
    "        self.model_constraint2 = model_constraint2\n",
    "        \n",
    "        if acquisition is None:\n",
    "            acquisition = ExpectedImprovement(model_objective)\n",
    "        \n",
    "        acquisition_constraint1 = ScaledProbabilityOfFeasibility(model_constraint1, max_value = 1, min_value = 0.5)\n",
    "        acquisition_constraint2 = ScaledProbabilityOfFeasibility(model_constraint2, max_value = 1, min_value = 0.8)\n",
    "        acquisition_constraint = acquisition_constraint1*acquisition_constraint2\n",
    "        acquisition_constrained = acquisition * acquisition_constraint\n",
    "\n",
    "        model_updater_objective = FixedIntervalUpdater(model_objective, update_interval)\n",
    "        model_updater_constraint1 = FixedIntervalUpdater(model_constraint1, update_interval,\n",
    "                                                        lambda state: state.Y_constraint1)\n",
    "        model_updater_constraint2 = FixedIntervalUpdater(model_constraint2, update_interval,\n",
    "                                                        lambda state: state.Y_constraint2)\n",
    "\n",
    "        acquisition_optimizer = GradientAcquisitionOptimizer(space)\n",
    "        if batch_size == 1:\n",
    "            candidate_point_calculator = SequentialPointCalculator(acquisition_constrained, acquisition_optimizer)\n",
    "        else:\n",
    "            \n",
    "            log_acquisition = LogAcquisition(acquisition_constrained)\n",
    "            candidate_point_calculator = LocalPenalizationPointCalculator(log_acquisition, acquisition_optimizer,\n",
    "                                                                          model_objective, space, batch_size)\n",
    "        loop_state = create_loop_state(model_objective.X, model_objective.Y)\n",
    "        \n",
    "        #loop_state = create_loop_state(model_objective.X, model_objective.Y, Y_constraint=model_constraint.Y)\n",
    "\n",
    "        super(ProbabilisticConstraintBayesianOptimizationLoop2, self).__init__(candidate_point_calculator,\n",
    "                                                                              [model_updater_objective, model_updater_constraint1,model_updater_constraint2],\n",
    "                                                                              loop_state)\n",
    "#     def suggest_next_locations(self):\n",
    "#         return self.candidate_point_calculator.compute_next_points(self.loop_state)\n",
    "    \n",
    "#     def acquisition_evaluate(self, X: loop_sate.X):\n",
    "#         return acquisition.evaluate(X), acquisition_constraint.evaluate(X), acquisition_constrained.evaluate(X)"
   ]
  },
  {
   "cell_type": "code",
   "execution_count": 28,
   "id": "5cd598c0",
   "metadata": {},
   "outputs": [],
   "source": [
    "from typing import Tuple, Union\n",
    "import scipy.stats\n",
    "import numpy as np\n",
    "from emukit.core.acquisition import Acquisition\n",
    "from emukit.core.interfaces import IModel, IDifferentiable\n",
    "\n",
    "class ScaledProbabilityOfFeasibility(Acquisition):\n",
    "\n",
    "    def __init__(self, model: Union[IModel, IDifferentiable], jitter: float = float(0),\n",
    "                 max_value: float = float(1), min_value: float = float(0)) -> None:\n",
    "        \"\"\"\n",
    "        This acquisition computes for a given input point the probability of satisfying the constraint\n",
    "        C<0. For more information see:\n",
    "        Michael A. Gelbart, Jasper Snoek, and Ryan P. Adams,\n",
    "        Bayesian Optimization with Unknown Constraints,\n",
    "        https://arxiv.org/pdf/1403.5607.pdf\n",
    "        :param model: The underlying model that provides the predictive mean and variance for the given test points\n",
    "        :param jitter: Jitter to balance exploration / exploitation\n",
    "        \"\"\"\n",
    "        self.model = model\n",
    "        self.jitter = jitter\n",
    "        self.max_value = max_value\n",
    "        self.min_value = min_value\n",
    "\n",
    "    def evaluate(self, x: np.ndarray) -> np.ndarray:\n",
    "        \"\"\"\n",
    "        Computes the probability of of satisfying the constraint C<0.\n",
    "        :param x: points where the acquisition is evaluated, shape (number of points, number of dimensions).\n",
    "        :return: numpy array with the probability of satisfying the constraint at the points x.\n",
    "        \"\"\"\n",
    "        mean, variance = self.model.predict(x)\n",
    "        mean += self.jitter\n",
    "\n",
    "        standard_deviation = np.sqrt(variance)\n",
    "        cdf = scipy.stats.norm.cdf(0, mean, standard_deviation)\n",
    "        return cdf*(self.max_value-self.min_value)+self.min_value\n",
    "\n",
    "    def evaluate_with_gradients(self, x: np.ndarray) -> Tuple:\n",
    "        \"\"\"\n",
    "        Computes the  probability of of satisfying the constraint C<0.\n",
    "        :param x: points where the acquisition is evaluated, shape (number of points, number of dimensions).\n",
    "        :return: tuple of numpy arrays with the probability of satisfying the constraint at the points x \n",
    "        and its gradient.\n",
    "        \"\"\"\n",
    "        mean, variance = self.model.predict(x)\n",
    "        standard_deviation = np.sqrt(variance)\n",
    "\n",
    "        dmean_dx, dvariance_dx = self.model.get_prediction_gradients(x)\n",
    "        dstandard_devidation_dx = dvariance_dx / (2 * standard_deviation)\n",
    "\n",
    "        mean += self.jitter\n",
    "        u = - mean / standard_deviation\n",
    "        pdf = scipy.stats.norm.pdf(0, mean, standard_deviation)\n",
    "        cdf = scipy.stats.norm.cdf(0, mean, standard_deviation)\n",
    "        dcdf_dx = - pdf * (dmean_dx + dstandard_devidation_dx * u)\n",
    "\n",
    "        return cdf*(self.max_value-self.min_value)+self.min_value, dcdf_dx\n",
    "\n",
    "    @property\n",
    "    def has_gradients(self):\n",
    "        return isinstance(self.model, IDifferentiable)"
   ]
  },
  {
   "cell_type": "markdown",
   "id": "50c1b0d9",
   "metadata": {},
   "source": [
    "### Start the First Run of the Batch-mode Bayesian Optimization"
   ]
  },
  {
   "cell_type": "code",
   "execution_count": 35,
   "id": "6a55d7bb",
   "metadata": {},
   "outputs": [
    {
     "name": "stderr",
     "output_type": "stream",
     "text": [
      "reconstraining parameters Mat52.lengthscale\n",
      "reconstraining parameters Mat52.variance\n",
      "reconstraining parameters Mat52.lengthscale\n",
      "reconstraining parameters Mat52.variance\n"
     ]
    },
    {
     "name": "stdout",
     "output_type": "stream",
     "text": [
      "total condition no.: 16\n",
      "total device no.: 16\n",
      "maximum Y (PCE [%]):  10.49\n",
      "total condition no.: 32\n",
      "total device no.: 32\n",
      "maximum Y (PCE [%]):  10.84\n"
     ]
    },
    {
     "name": "stderr",
     "output_type": "stream",
     "text": [
      "reconstraining parameters Mat52.lengthscale\n",
      "reconstraining parameters Mat52.variance\n"
     ]
    },
    {
     "name": "stdout",
     "output_type": "stream",
     "text": [
      "total condition no.: 48\n",
      "total device no.: 48\n",
      "maximum Y (PCE [%]):  10.98\n"
     ]
    },
    {
     "name": "stderr",
     "output_type": "stream",
     "text": [
      "reconstraining parameters Mat52.lengthscale\n",
      "reconstraining parameters Mat52.variance\n"
     ]
    },
    {
     "name": "stdout",
     "output_type": "stream",
     "text": [
      "total condition no.: 64\n",
      "total device no.: 64\n",
      "maximum Y (PCE [%]):  10.99\n"
     ]
    },
    {
     "name": "stderr",
     "output_type": "stream",
     "text": [
      "reconstraining parameters Mat52.lengthscale\n",
      "reconstraining parameters Mat52.variance\n"
     ]
    },
    {
     "name": "stdout",
     "output_type": "stream",
     "text": [
      "total condition no.: 80\n",
      "total device no.: 80\n",
      "maximum Y (PCE [%]):  10.99\n"
     ]
    },
    {
     "name": "stderr",
     "output_type": "stream",
     "text": [
      "reconstraining parameters Mat52.lengthscale\n",
      "reconstraining parameters Mat52.variance\n"
     ]
    },
    {
     "name": "stdout",
     "output_type": "stream",
     "text": [
      "total condition no.: 96\n",
      "total device no.: 96\n",
      "maximum Y (PCE [%]):  11.0\n"
     ]
    },
    {
     "name": "stderr",
     "output_type": "stream",
     "text": [
      "reconstraining parameters Mat52.lengthscale\n",
      "reconstraining parameters Mat52.variance\n"
     ]
    },
    {
     "name": "stdout",
     "output_type": "stream",
     "text": [
      "total condition no.: 112\n",
      "total device no.: 112\n",
      "maximum Y (PCE [%]):  11.0\n"
     ]
    },
    {
     "name": "stderr",
     "output_type": "stream",
     "text": [
      "reconstraining parameters Mat52.lengthscale\n",
      "reconstraining parameters Mat52.variance\n"
     ]
    },
    {
     "name": "stdout",
     "output_type": "stream",
     "text": [
      "    MAPbI Conc [M]  CH₂I₂ Conc [μL]  PC voltage [V]  PC length [ms]  \\\n",
      "83        1.447103            252.5      307.136563       22.875014   \n",
      "\n",
      "    Efficiency [%]  \n",
      "83       10.995933  \n"
     ]
    },
    {
     "name": "stderr",
     "output_type": "stream",
     "text": [
      "reconstraining parameters Mat52.lengthscale\n",
      "reconstraining parameters Mat52.variance\n"
     ]
    },
    {
     "name": "stdout",
     "output_type": "stream",
     "text": [
      "total condition no.: 16\n",
      "total device no.: 16\n",
      "maximum Y (PCE [%]):  9.81\n",
      "total condition no.: 32\n",
      "total device no.: 32\n",
      "maximum Y (PCE [%]):  10.96\n"
     ]
    },
    {
     "name": "stderr",
     "output_type": "stream",
     "text": [
      " /Users/JeremyXu/opt/anaconda3/lib/python3.8/site-packages/emukit/bayesian_optimization/acquisitions/log_acquisition.py:25: RuntimeWarning:invalid value encountered in log\n",
      "reconstraining parameters Mat52.lengthscale\n",
      "reconstraining parameters Mat52.variance\n"
     ]
    },
    {
     "name": "stdout",
     "output_type": "stream",
     "text": [
      "total condition no.: 48\n",
      "total device no.: 48\n",
      "maximum Y (PCE [%]):  10.97\n"
     ]
    },
    {
     "name": "stderr",
     "output_type": "stream",
     "text": [
      " /Users/JeremyXu/opt/anaconda3/lib/python3.8/site-packages/emukit/bayesian_optimization/acquisitions/log_acquisition.py:25: RuntimeWarning:invalid value encountered in log\n",
      "reconstraining parameters Mat52.lengthscale\n",
      "reconstraining parameters Mat52.variance\n"
     ]
    },
    {
     "name": "stdout",
     "output_type": "stream",
     "text": [
      "total condition no.: 64\n",
      "total device no.: 64\n",
      "maximum Y (PCE [%]):  11.06\n"
     ]
    },
    {
     "name": "stderr",
     "output_type": "stream",
     "text": [
      " /Users/JeremyXu/opt/anaconda3/lib/python3.8/site-packages/emukit/bayesian_optimization/acquisitions/log_acquisition.py:25: RuntimeWarning:invalid value encountered in log\n",
      "reconstraining parameters Mat52.lengthscale\n",
      "reconstraining parameters Mat52.variance\n"
     ]
    },
    {
     "name": "stdout",
     "output_type": "stream",
     "text": [
      "total condition no.: 80\n",
      "total device no.: 80\n",
      "maximum Y (PCE [%]):  11.13\n"
     ]
    },
    {
     "name": "stderr",
     "output_type": "stream",
     "text": [
      "reconstraining parameters Mat52.lengthscale\n",
      "reconstraining parameters Mat52.variance\n"
     ]
    },
    {
     "name": "stdout",
     "output_type": "stream",
     "text": [
      "total condition no.: 96\n",
      "total device no.: 96\n",
      "maximum Y (PCE [%]):  11.25\n"
     ]
    },
    {
     "name": "stderr",
     "output_type": "stream",
     "text": [
      "reconstraining parameters Mat52.lengthscale\n",
      "reconstraining parameters Mat52.variance\n"
     ]
    },
    {
     "name": "stdout",
     "output_type": "stream",
     "text": [
      "total condition no.: 112\n",
      "total device no.: 112\n",
      "maximum Y (PCE [%]):  11.25\n"
     ]
    },
    {
     "name": "stderr",
     "output_type": "stream",
     "text": [
      "reconstraining parameters Mat52.lengthscale\n",
      "reconstraining parameters Mat52.variance\n"
     ]
    },
    {
     "name": "stdout",
     "output_type": "stream",
     "text": [
      "    MAPbI Conc [M]  CH₂I₂ Conc [μL]  PC voltage [V]  PC length [ms]  \\\n",
      "93        1.340419       212.732755      292.346437       24.981789   \n",
      "\n",
      "    Efficiency [%]  \n",
      "93       11.252167  \n"
     ]
    },
    {
     "name": "stderr",
     "output_type": "stream",
     "text": [
      "reconstraining parameters Mat52.lengthscale\n",
      "reconstraining parameters Mat52.variance\n"
     ]
    },
    {
     "name": "stdout",
     "output_type": "stream",
     "text": [
      "total condition no.: 16\n",
      "total device no.: 16\n",
      "maximum Y (PCE [%]):  10.24\n",
      "total condition no.: 32\n",
      "total device no.: 32\n",
      "maximum Y (PCE [%]):  10.28\n"
     ]
    },
    {
     "name": "stderr",
     "output_type": "stream",
     "text": [
      "reconstraining parameters Mat52.lengthscale\n",
      "reconstraining parameters Mat52.variance\n"
     ]
    },
    {
     "name": "stdout",
     "output_type": "stream",
     "text": [
      "total condition no.: 48\n",
      "total device no.: 48\n",
      "maximum Y (PCE [%]):  10.29\n"
     ]
    },
    {
     "name": "stderr",
     "output_type": "stream",
     "text": [
      "reconstraining parameters Mat52.lengthscale\n",
      "reconstraining parameters Mat52.variance\n"
     ]
    },
    {
     "name": "stdout",
     "output_type": "stream",
     "text": [
      "total condition no.: 64\n",
      "total device no.: 64\n",
      "maximum Y (PCE [%]):  10.33\n"
     ]
    },
    {
     "name": "stderr",
     "output_type": "stream",
     "text": [
      "reconstraining parameters Mat52.lengthscale\n",
      "reconstraining parameters Mat52.variance\n"
     ]
    },
    {
     "name": "stdout",
     "output_type": "stream",
     "text": [
      "total condition no.: 80\n",
      "total device no.: 80\n",
      "maximum Y (PCE [%]):  10.33\n"
     ]
    },
    {
     "name": "stderr",
     "output_type": "stream",
     "text": [
      "reconstraining parameters Mat52.lengthscale\n",
      "reconstraining parameters Mat52.variance\n"
     ]
    },
    {
     "name": "stdout",
     "output_type": "stream",
     "text": [
      "total condition no.: 96\n",
      "total device no.: 96\n",
      "maximum Y (PCE [%]):  10.33\n"
     ]
    },
    {
     "name": "stderr",
     "output_type": "stream",
     "text": [
      "reconstraining parameters Mat52.lengthscale\n",
      "reconstraining parameters Mat52.variance\n"
     ]
    },
    {
     "name": "stdout",
     "output_type": "stream",
     "text": [
      "total condition no.: 112\n",
      "total device no.: 112\n",
      "maximum Y (PCE [%]):  10.33\n"
     ]
    },
    {
     "name": "stderr",
     "output_type": "stream",
     "text": [
      "reconstraining parameters Mat52.lengthscale\n",
      "reconstraining parameters Mat52.variance\n"
     ]
    },
    {
     "name": "stdout",
     "output_type": "stream",
     "text": [
      "    MAPbI Conc [M]  CH₂I₂ Conc [μL]  PC voltage [V]  PC length [ms]  \\\n",
      "57        1.345113       225.811297      335.101611       26.846987   \n",
      "\n",
      "    Efficiency [%]  \n",
      "57           10.33  \n"
     ]
    },
    {
     "name": "stderr",
     "output_type": "stream",
     "text": [
      "reconstraining parameters Mat52.lengthscale\n",
      "reconstraining parameters Mat52.variance\n"
     ]
    },
    {
     "name": "stdout",
     "output_type": "stream",
     "text": [
      "total condition no.: 16\n",
      "total device no.: 16\n",
      "maximum Y (PCE [%]):  9.81\n",
      "total condition no.: 32\n",
      "total device no.: 32\n",
      "maximum Y (PCE [%]):  10.3\n"
     ]
    },
    {
     "name": "stderr",
     "output_type": "stream",
     "text": [
      "reconstraining parameters Mat52.lengthscale\n",
      "reconstraining parameters Mat52.variance\n"
     ]
    },
    {
     "name": "stdout",
     "output_type": "stream",
     "text": [
      "total condition no.: 48\n",
      "total device no.: 48\n",
      "maximum Y (PCE [%]):  10.58\n"
     ]
    },
    {
     "name": "stderr",
     "output_type": "stream",
     "text": [
      "reconstraining parameters Mat52.lengthscale\n",
      "reconstraining parameters Mat52.variance\n"
     ]
    },
    {
     "name": "stdout",
     "output_type": "stream",
     "text": [
      "total condition no.: 64\n",
      "total device no.: 64\n",
      "maximum Y (PCE [%]):  10.58\n"
     ]
    },
    {
     "name": "stderr",
     "output_type": "stream",
     "text": [
      "reconstraining parameters Mat52.lengthscale\n",
      "reconstraining parameters Mat52.variance\n"
     ]
    },
    {
     "name": "stdout",
     "output_type": "stream",
     "text": [
      "total condition no.: 80\n",
      "total device no.: 80\n",
      "maximum Y (PCE [%]):  10.94\n"
     ]
    },
    {
     "name": "stderr",
     "output_type": "stream",
     "text": [
      "reconstraining parameters Mat52.lengthscale\n",
      "reconstraining parameters Mat52.variance\n"
     ]
    },
    {
     "name": "stdout",
     "output_type": "stream",
     "text": [
      "total condition no.: 96\n",
      "total device no.: 96\n",
      "maximum Y (PCE [%]):  10.94\n"
     ]
    },
    {
     "name": "stderr",
     "output_type": "stream",
     "text": [
      "reconstraining parameters Mat52.lengthscale\n",
      "reconstraining parameters Mat52.variance\n"
     ]
    },
    {
     "name": "stdout",
     "output_type": "stream",
     "text": [
      "total condition no.: 112\n",
      "total device no.: 112\n",
      "maximum Y (PCE [%]):  10.94\n"
     ]
    },
    {
     "name": "stderr",
     "output_type": "stream",
     "text": [
      "reconstraining parameters Mat52.lengthscale\n",
      "reconstraining parameters Mat52.variance\n"
     ]
    },
    {
     "name": "stdout",
     "output_type": "stream",
     "text": [
      "    MAPbI Conc [M]  CH₂I₂ Conc [μL]  PC voltage [V]  PC length [ms]  \\\n",
      "75        1.467086       233.017125      316.386805       18.225151   \n",
      "\n",
      "    Efficiency [%]  \n",
      "75       10.938137  \n"
     ]
    },
    {
     "name": "stderr",
     "output_type": "stream",
     "text": [
      "reconstraining parameters Mat52.lengthscale\n",
      "reconstraining parameters Mat52.variance\n"
     ]
    },
    {
     "name": "stdout",
     "output_type": "stream",
     "text": [
      "total condition no.: 16\n",
      "total device no.: 16\n",
      "maximum Y (PCE [%]):  9.82\n",
      "total condition no.: 32\n",
      "total device no.: 32\n",
      "maximum Y (PCE [%]):  10.83\n"
     ]
    },
    {
     "name": "stderr",
     "output_type": "stream",
     "text": [
      "reconstraining parameters Mat52.lengthscale\n",
      "reconstraining parameters Mat52.variance\n"
     ]
    },
    {
     "name": "stdout",
     "output_type": "stream",
     "text": [
      "total condition no.: 48\n",
      "total device no.: 48\n",
      "maximum Y (PCE [%]):  10.95\n"
     ]
    },
    {
     "name": "stderr",
     "output_type": "stream",
     "text": [
      "reconstraining parameters Mat52.lengthscale\n",
      "reconstraining parameters Mat52.variance\n"
     ]
    },
    {
     "name": "stdout",
     "output_type": "stream",
     "text": [
      "total condition no.: 64\n",
      "total device no.: 64\n",
      "maximum Y (PCE [%]):  10.95\n"
     ]
    },
    {
     "name": "stderr",
     "output_type": "stream",
     "text": [
      "reconstraining parameters Mat52.lengthscale\n",
      "reconstraining parameters Mat52.variance\n"
     ]
    },
    {
     "name": "stdout",
     "output_type": "stream",
     "text": [
      "total condition no.: 80\n",
      "total device no.: 80\n",
      "maximum Y (PCE [%]):  10.95\n"
     ]
    },
    {
     "name": "stderr",
     "output_type": "stream",
     "text": [
      "reconstraining parameters Mat52.lengthscale\n",
      "reconstraining parameters Mat52.variance\n"
     ]
    },
    {
     "name": "stdout",
     "output_type": "stream",
     "text": [
      "total condition no.: 96\n",
      "total device no.: 96\n",
      "maximum Y (PCE [%]):  10.95\n"
     ]
    },
    {
     "name": "stderr",
     "output_type": "stream",
     "text": [
      "reconstraining parameters Mat52.lengthscale\n",
      "reconstraining parameters Mat52.variance\n"
     ]
    },
    {
     "name": "stdout",
     "output_type": "stream",
     "text": [
      "total condition no.: 112\n",
      "total device no.: 112\n",
      "maximum Y (PCE [%]):  10.95\n"
     ]
    },
    {
     "name": "stderr",
     "output_type": "stream",
     "text": [
      "reconstraining parameters Mat52.lengthscale\n",
      "reconstraining parameters Mat52.variance\n"
     ]
    },
    {
     "name": "stdout",
     "output_type": "stream",
     "text": [
      "    MAPbI Conc [M]  CH₂I₂ Conc [μL]  PC voltage [V]  PC length [ms]  \\\n",
      "42        1.405621            252.5      317.716056         26.8886   \n",
      "\n",
      "    Efficiency [%]  \n",
      "42       10.954458  \n"
     ]
    },
    {
     "name": "stderr",
     "output_type": "stream",
     "text": [
      "reconstraining parameters Mat52.lengthscale\n",
      "reconstraining parameters Mat52.variance\n"
     ]
    },
    {
     "name": "stdout",
     "output_type": "stream",
     "text": [
      "total condition no.: 16\n",
      "total device no.: 16\n",
      "maximum Y (PCE [%]):  9.84\n",
      "total condition no.: 32\n",
      "total device no.: 32\n",
      "maximum Y (PCE [%]):  10.33\n"
     ]
    },
    {
     "name": "stderr",
     "output_type": "stream",
     "text": [
      "reconstraining parameters Mat52.lengthscale\n",
      "reconstraining parameters Mat52.variance\n"
     ]
    },
    {
     "name": "stdout",
     "output_type": "stream",
     "text": [
      "total condition no.: 48\n",
      "total device no.: 48\n",
      "maximum Y (PCE [%]):  10.33\n"
     ]
    },
    {
     "name": "stderr",
     "output_type": "stream",
     "text": [
      "reconstraining parameters Mat52.lengthscale\n",
      "reconstraining parameters Mat52.variance\n"
     ]
    },
    {
     "name": "stdout",
     "output_type": "stream",
     "text": [
      "total condition no.: 64\n",
      "total device no.: 64\n",
      "maximum Y (PCE [%]):  10.5\n"
     ]
    },
    {
     "name": "stderr",
     "output_type": "stream",
     "text": [
      "reconstraining parameters Mat52.lengthscale\n",
      "reconstraining parameters Mat52.variance\n"
     ]
    },
    {
     "name": "stdout",
     "output_type": "stream",
     "text": [
      "total condition no.: 80\n",
      "total device no.: 80\n",
      "maximum Y (PCE [%]):  10.5\n"
     ]
    },
    {
     "name": "stderr",
     "output_type": "stream",
     "text": [
      "reconstraining parameters Mat52.lengthscale\n",
      "reconstraining parameters Mat52.variance\n"
     ]
    },
    {
     "name": "stdout",
     "output_type": "stream",
     "text": [
      "total condition no.: 96\n",
      "total device no.: 96\n",
      "maximum Y (PCE [%]):  10.5\n"
     ]
    },
    {
     "name": "stderr",
     "output_type": "stream",
     "text": [
      "reconstraining parameters Mat52.lengthscale\n",
      "reconstraining parameters Mat52.variance\n"
     ]
    },
    {
     "name": "stdout",
     "output_type": "stream",
     "text": [
      "total condition no.: 112\n",
      "total device no.: 112\n",
      "maximum Y (PCE [%]):  10.5\n"
     ]
    },
    {
     "name": "stderr",
     "output_type": "stream",
     "text": [
      " /Users/JeremyXu/opt/anaconda3/lib/python3.8/site-packages/emukit/bayesian_optimization/acquisitions/log_acquisition.py:25: RuntimeWarning:invalid value encountered in log\n",
      "reconstraining parameters Mat52.lengthscale\n",
      "reconstraining parameters Mat52.variance\n"
     ]
    },
    {
     "name": "stdout",
     "output_type": "stream",
     "text": [
      "    MAPbI Conc [M]  CH₂I₂ Conc [μL]  PC voltage [V]  PC length [ms]  \\\n",
      "55        1.444249       229.786136      288.717419        52.37191   \n",
      "\n",
      "    Efficiency [%]  \n",
      "55       10.496235  \n"
     ]
    },
    {
     "name": "stderr",
     "output_type": "stream",
     "text": [
      " /Users/JeremyXu/opt/anaconda3/lib/python3.8/site-packages/emukit/bayesian_optimization/acquisitions/log_acquisition.py:25: RuntimeWarning:invalid value encountered in log\n",
      "reconstraining parameters Mat52.lengthscale\n",
      "reconstraining parameters Mat52.variance\n"
     ]
    },
    {
     "name": "stdout",
     "output_type": "stream",
     "text": [
      "total condition no.: 16\n",
      "total device no.: 16\n",
      "maximum Y (PCE [%]):  9.1\n",
      "total condition no.: 32\n",
      "total device no.: 32\n",
      "maximum Y (PCE [%]):  10.23\n"
     ]
    },
    {
     "name": "stderr",
     "output_type": "stream",
     "text": [
      "reconstraining parameters Mat52.lengthscale\n",
      "reconstraining parameters Mat52.variance\n"
     ]
    },
    {
     "name": "stdout",
     "output_type": "stream",
     "text": [
      "total condition no.: 48\n",
      "total device no.: 48\n",
      "maximum Y (PCE [%]):  10.92\n"
     ]
    },
    {
     "name": "stderr",
     "output_type": "stream",
     "text": [
      "reconstraining parameters Mat52.lengthscale\n",
      "reconstraining parameters Mat52.variance\n"
     ]
    },
    {
     "name": "stdout",
     "output_type": "stream",
     "text": [
      "total condition no.: 64\n",
      "total device no.: 64\n",
      "maximum Y (PCE [%]):  11.09\n"
     ]
    },
    {
     "name": "stderr",
     "output_type": "stream",
     "text": [
      "reconstraining parameters Mat52.lengthscale\n",
      "reconstraining parameters Mat52.variance\n"
     ]
    },
    {
     "name": "stdout",
     "output_type": "stream",
     "text": [
      "total condition no.: 80\n",
      "total device no.: 80\n",
      "maximum Y (PCE [%]):  11.09\n"
     ]
    },
    {
     "name": "stderr",
     "output_type": "stream",
     "text": [
      "reconstraining parameters Mat52.lengthscale\n",
      "reconstraining parameters Mat52.variance\n"
     ]
    },
    {
     "name": "stdout",
     "output_type": "stream",
     "text": [
      "total condition no.: 96\n",
      "total device no.: 96\n",
      "maximum Y (PCE [%]):  11.25\n"
     ]
    },
    {
     "name": "stderr",
     "output_type": "stream",
     "text": [
      "reconstraining parameters Mat52.lengthscale\n",
      "reconstraining parameters Mat52.variance\n"
     ]
    },
    {
     "name": "stdout",
     "output_type": "stream",
     "text": [
      "total condition no.: 112\n",
      "total device no.: 112\n",
      "maximum Y (PCE [%]):  11.25\n"
     ]
    },
    {
     "name": "stderr",
     "output_type": "stream",
     "text": [
      "reconstraining parameters Mat52.lengthscale\n",
      "reconstraining parameters Mat52.variance\n"
     ]
    },
    {
     "name": "stdout",
     "output_type": "stream",
     "text": [
      "    MAPbI Conc [M]  CH₂I₂ Conc [μL]  PC voltage [V]  PC length [ms]  \\\n",
      "92        1.338996       197.823641      293.292438       25.521664   \n",
      "\n",
      "    Efficiency [%]  \n",
      "92       11.252167  \n"
     ]
    },
    {
     "name": "stderr",
     "output_type": "stream",
     "text": [
      "reconstraining parameters Mat52.lengthscale\n",
      "reconstraining parameters Mat52.variance\n"
     ]
    },
    {
     "name": "stdout",
     "output_type": "stream",
     "text": [
      "total condition no.: 16\n",
      "total device no.: 16\n",
      "maximum Y (PCE [%]):  10.97\n",
      "total condition no.: 32\n",
      "total device no.: 32\n",
      "maximum Y (PCE [%]):  10.97\n"
     ]
    },
    {
     "name": "stderr",
     "output_type": "stream",
     "text": [
      "reconstraining parameters Mat52.lengthscale\n",
      "reconstraining parameters Mat52.variance\n"
     ]
    },
    {
     "name": "stdout",
     "output_type": "stream",
     "text": [
      "total condition no.: 48\n",
      "total device no.: 48\n",
      "maximum Y (PCE [%]):  10.97\n"
     ]
    },
    {
     "name": "stderr",
     "output_type": "stream",
     "text": [
      "reconstraining parameters Mat52.lengthscale\n",
      "reconstraining parameters Mat52.variance\n"
     ]
    },
    {
     "name": "stdout",
     "output_type": "stream",
     "text": [
      "total condition no.: 64\n",
      "total device no.: 64\n",
      "maximum Y (PCE [%]):  10.97\n"
     ]
    },
    {
     "name": "stderr",
     "output_type": "stream",
     "text": [
      "reconstraining parameters Mat52.lengthscale\n",
      "reconstraining parameters Mat52.variance\n"
     ]
    },
    {
     "name": "stdout",
     "output_type": "stream",
     "text": [
      "total condition no.: 80\n",
      "total device no.: 80\n",
      "maximum Y (PCE [%]):  10.97\n"
     ]
    },
    {
     "name": "stderr",
     "output_type": "stream",
     "text": [
      "reconstraining parameters Mat52.lengthscale\n",
      "reconstraining parameters Mat52.variance\n"
     ]
    },
    {
     "name": "stdout",
     "output_type": "stream",
     "text": [
      "total condition no.: 96\n",
      "total device no.: 96\n",
      "maximum Y (PCE [%]):  10.99\n"
     ]
    },
    {
     "name": "stderr",
     "output_type": "stream",
     "text": [
      "reconstraining parameters Mat52.lengthscale\n",
      "reconstraining parameters Mat52.variance\n"
     ]
    },
    {
     "name": "stdout",
     "output_type": "stream",
     "text": [
      "total condition no.: 112\n",
      "total device no.: 112\n",
      "maximum Y (PCE [%]):  11.0\n"
     ]
    },
    {
     "name": "stderr",
     "output_type": "stream",
     "text": [
      "reconstraining parameters Mat52.lengthscale\n",
      "reconstraining parameters Mat52.variance\n"
     ]
    },
    {
     "name": "stdout",
     "output_type": "stream",
     "text": [
      "     MAPbI Conc [M]  CH₂I₂ Conc [μL]  PC voltage [V]  PC length [ms]  \\\n",
      "106        1.433415            252.5      302.042482       23.333447   \n",
      "\n",
      "     Efficiency [%]  \n",
      "106       11.002683  \n"
     ]
    },
    {
     "name": "stderr",
     "output_type": "stream",
     "text": [
      "reconstraining parameters Mat52.lengthscale\n",
      "reconstraining parameters Mat52.variance\n"
     ]
    },
    {
     "name": "stdout",
     "output_type": "stream",
     "text": [
      "total condition no.: 16\n",
      "total device no.: 16\n",
      "maximum Y (PCE [%]):  9.3\n",
      "total condition no.: 32\n",
      "total device no.: 32\n",
      "maximum Y (PCE [%]):  10.76\n"
     ]
    },
    {
     "name": "stderr",
     "output_type": "stream",
     "text": [
      " /Users/JeremyXu/opt/anaconda3/lib/python3.8/site-packages/emukit/bayesian_optimization/acquisitions/log_acquisition.py:25: RuntimeWarning:invalid value encountered in log\n",
      "reconstraining parameters Mat52.lengthscale\n",
      "reconstraining parameters Mat52.variance\n"
     ]
    },
    {
     "name": "stdout",
     "output_type": "stream",
     "text": [
      "total condition no.: 48\n",
      "total device no.: 48\n",
      "maximum Y (PCE [%]):  10.94\n"
     ]
    },
    {
     "name": "stderr",
     "output_type": "stream",
     "text": [
      "reconstraining parameters Mat52.lengthscale\n",
      "reconstraining parameters Mat52.variance\n"
     ]
    },
    {
     "name": "stdout",
     "output_type": "stream",
     "text": [
      "total condition no.: 64\n",
      "total device no.: 64\n",
      "maximum Y (PCE [%]):  10.97\n"
     ]
    },
    {
     "name": "stderr",
     "output_type": "stream",
     "text": [
      "reconstraining parameters Mat52.lengthscale\n",
      "reconstraining parameters Mat52.variance\n"
     ]
    },
    {
     "name": "stdout",
     "output_type": "stream",
     "text": [
      "total condition no.: 80\n",
      "total device no.: 80\n",
      "maximum Y (PCE [%]):  10.97\n"
     ]
    },
    {
     "name": "stderr",
     "output_type": "stream",
     "text": [
      "reconstraining parameters Mat52.lengthscale\n",
      "reconstraining parameters Mat52.variance\n"
     ]
    },
    {
     "name": "stdout",
     "output_type": "stream",
     "text": [
      "total condition no.: 96\n",
      "total device no.: 96\n",
      "maximum Y (PCE [%]):  10.97\n"
     ]
    },
    {
     "name": "stderr",
     "output_type": "stream",
     "text": [
      "reconstraining parameters Mat52.lengthscale\n",
      "reconstraining parameters Mat52.variance\n"
     ]
    },
    {
     "name": "stdout",
     "output_type": "stream",
     "text": [
      "total condition no.: 112\n",
      "total device no.: 112\n",
      "maximum Y (PCE [%]):  10.97\n"
     ]
    },
    {
     "name": "stderr",
     "output_type": "stream",
     "text": [
      "reconstraining parameters Mat52.lengthscale\n",
      "reconstraining parameters Mat52.variance\n"
     ]
    },
    {
     "name": "stdout",
     "output_type": "stream",
     "text": [
      "     MAPbI Conc [M]  CH₂I₂ Conc [μL]  PC voltage [V]  PC length [ms]  \\\n",
      "126        1.328096       220.928616      294.813571       23.515939   \n",
      "\n",
      "     Efficiency [%]  \n",
      "126       10.997879  \n"
     ]
    },
    {
     "name": "stderr",
     "output_type": "stream",
     "text": [
      "reconstraining parameters Mat52.lengthscale\n",
      "reconstraining parameters Mat52.variance\n"
     ]
    },
    {
     "name": "stdout",
     "output_type": "stream",
     "text": [
      "total condition no.: 16\n",
      "total device no.: 16\n",
      "maximum Y (PCE [%]):  9.29\n",
      "total condition no.: 32\n",
      "total device no.: 32\n",
      "maximum Y (PCE [%]):  10.33\n"
     ]
    },
    {
     "name": "stderr",
     "output_type": "stream",
     "text": [
      "reconstraining parameters Mat52.lengthscale\n",
      "reconstraining parameters Mat52.variance\n"
     ]
    },
    {
     "name": "stdout",
     "output_type": "stream",
     "text": [
      "total condition no.: 48\n",
      "total device no.: 48\n",
      "maximum Y (PCE [%]):  10.49\n"
     ]
    },
    {
     "name": "stderr",
     "output_type": "stream",
     "text": [
      "reconstraining parameters Mat52.lengthscale\n",
      "reconstraining parameters Mat52.variance\n"
     ]
    },
    {
     "name": "stdout",
     "output_type": "stream",
     "text": [
      "total condition no.: 64\n",
      "total device no.: 64\n",
      "maximum Y (PCE [%]):  10.6\n"
     ]
    },
    {
     "name": "stderr",
     "output_type": "stream",
     "text": [
      "reconstraining parameters Mat52.lengthscale\n",
      "reconstraining parameters Mat52.variance\n"
     ]
    },
    {
     "name": "stdout",
     "output_type": "stream",
     "text": [
      "total condition no.: 80\n",
      "total device no.: 80\n",
      "maximum Y (PCE [%]):  10.6\n"
     ]
    },
    {
     "name": "stderr",
     "output_type": "stream",
     "text": [
      "reconstraining parameters Mat52.lengthscale\n",
      "reconstraining parameters Mat52.variance\n"
     ]
    },
    {
     "name": "stdout",
     "output_type": "stream",
     "text": [
      "total condition no.: 96\n",
      "total device no.: 96\n",
      "maximum Y (PCE [%]):  10.73\n"
     ]
    },
    {
     "name": "stderr",
     "output_type": "stream",
     "text": [
      "reconstraining parameters Mat52.lengthscale\n",
      "reconstraining parameters Mat52.variance\n"
     ]
    },
    {
     "name": "stdout",
     "output_type": "stream",
     "text": [
      "total condition no.: 112\n",
      "total device no.: 112\n",
      "maximum Y (PCE [%]):  10.8\n"
     ]
    },
    {
     "name": "stderr",
     "output_type": "stream",
     "text": [
      "reconstraining parameters Mat52.lengthscale\n",
      "reconstraining parameters Mat52.variance\n"
     ]
    },
    {
     "name": "stdout",
     "output_type": "stream",
     "text": [
      "     MAPbI Conc [M]  CH₂I₂ Conc [μL]  PC voltage [V]  PC length [ms]  \\\n",
      "116        1.352733       156.750993      292.776196       28.887707   \n",
      "\n",
      "     Efficiency [%]  \n",
      "116       10.798127  \n"
     ]
    },
    {
     "name": "stderr",
     "output_type": "stream",
     "text": [
      "reconstraining parameters Mat52.lengthscale\n",
      "reconstraining parameters Mat52.variance\n"
     ]
    },
    {
     "name": "stdout",
     "output_type": "stream",
     "text": [
      "total condition no.: 16\n",
      "total device no.: 16\n",
      "maximum Y (PCE [%]):  9.44\n",
      "total condition no.: 32\n",
      "total device no.: 32\n",
      "maximum Y (PCE [%]):  10.44\n"
     ]
    },
    {
     "name": "stderr",
     "output_type": "stream",
     "text": [
      "reconstraining parameters Mat52.lengthscale\n",
      "reconstraining parameters Mat52.variance\n"
     ]
    },
    {
     "name": "stdout",
     "output_type": "stream",
     "text": [
      "total condition no.: 48\n",
      "total device no.: 48\n",
      "maximum Y (PCE [%]):  10.44\n"
     ]
    },
    {
     "name": "stderr",
     "output_type": "stream",
     "text": [
      "reconstraining parameters Mat52.lengthscale\n",
      "reconstraining parameters Mat52.variance\n"
     ]
    },
    {
     "name": "stdout",
     "output_type": "stream",
     "text": [
      "total condition no.: 64\n",
      "total device no.: 64\n",
      "maximum Y (PCE [%]):  10.44\n"
     ]
    },
    {
     "name": "stderr",
     "output_type": "stream",
     "text": [
      "reconstraining parameters Mat52.lengthscale\n",
      "reconstraining parameters Mat52.variance\n"
     ]
    },
    {
     "name": "stdout",
     "output_type": "stream",
     "text": [
      "total condition no.: 80\n",
      "total device no.: 80\n",
      "maximum Y (PCE [%]):  10.44\n"
     ]
    },
    {
     "name": "stderr",
     "output_type": "stream",
     "text": [
      "reconstraining parameters Mat52.lengthscale\n",
      "reconstraining parameters Mat52.variance\n"
     ]
    },
    {
     "name": "stdout",
     "output_type": "stream",
     "text": [
      "total condition no.: 96\n",
      "total device no.: 96\n",
      "maximum Y (PCE [%]):  10.89\n"
     ]
    },
    {
     "name": "stderr",
     "output_type": "stream",
     "text": [
      "reconstraining parameters Mat52.lengthscale\n",
      "reconstraining parameters Mat52.variance\n"
     ]
    },
    {
     "name": "stdout",
     "output_type": "stream",
     "text": [
      "total condition no.: 112\n",
      "total device no.: 112\n",
      "maximum Y (PCE [%]):  10.89\n"
     ]
    },
    {
     "name": "stderr",
     "output_type": "stream",
     "text": [
      "reconstraining parameters Mat52.lengthscale\n",
      "reconstraining parameters Mat52.variance\n"
     ]
    },
    {
     "name": "stdout",
     "output_type": "stream",
     "text": [
      "     MAPbI Conc [M]  CH₂I₂ Conc [μL]  PC voltage [V]  PC length [ms]  \\\n",
      "118           1.286       179.584634      315.591884       22.999808   \n",
      "\n",
      "     Efficiency [%]  \n",
      "118        10.99125  \n"
     ]
    },
    {
     "name": "stderr",
     "output_type": "stream",
     "text": [
      "reconstraining parameters Mat52.lengthscale\n",
      "reconstraining parameters Mat52.variance\n"
     ]
    },
    {
     "name": "stdout",
     "output_type": "stream",
     "text": [
      "total condition no.: 16\n",
      "total device no.: 16\n",
      "maximum Y (PCE [%]):  10.33\n",
      "total condition no.: 32\n",
      "total device no.: 32\n",
      "maximum Y (PCE [%]):  10.33\n"
     ]
    },
    {
     "name": "stderr",
     "output_type": "stream",
     "text": [
      "reconstraining parameters Mat52.lengthscale\n",
      "reconstraining parameters Mat52.variance\n"
     ]
    },
    {
     "name": "stdout",
     "output_type": "stream",
     "text": [
      "total condition no.: 48\n",
      "total device no.: 48\n",
      "maximum Y (PCE [%]):  10.33\n"
     ]
    },
    {
     "name": "stderr",
     "output_type": "stream",
     "text": [
      "reconstraining parameters Mat52.lengthscale\n",
      "reconstraining parameters Mat52.variance\n"
     ]
    },
    {
     "name": "stdout",
     "output_type": "stream",
     "text": [
      "total condition no.: 64\n",
      "total device no.: 64\n",
      "maximum Y (PCE [%]):  10.49\n"
     ]
    },
    {
     "name": "stderr",
     "output_type": "stream",
     "text": [
      "reconstraining parameters Mat52.lengthscale\n",
      "reconstraining parameters Mat52.variance\n"
     ]
    },
    {
     "name": "stdout",
     "output_type": "stream",
     "text": [
      "total condition no.: 80\n",
      "total device no.: 80\n",
      "maximum Y (PCE [%]):  10.62\n"
     ]
    },
    {
     "name": "stderr",
     "output_type": "stream",
     "text": [
      "reconstraining parameters Mat52.lengthscale\n",
      "reconstraining parameters Mat52.variance\n"
     ]
    },
    {
     "name": "stdout",
     "output_type": "stream",
     "text": [
      "total condition no.: 96\n",
      "total device no.: 96\n",
      "maximum Y (PCE [%]):  10.62\n"
     ]
    },
    {
     "name": "stderr",
     "output_type": "stream",
     "text": [
      "reconstraining parameters Mat52.lengthscale\n",
      "reconstraining parameters Mat52.variance\n"
     ]
    },
    {
     "name": "stdout",
     "output_type": "stream",
     "text": [
      "total condition no.: 112\n",
      "total device no.: 112\n",
      "maximum Y (PCE [%]):  10.74\n"
     ]
    },
    {
     "name": "stderr",
     "output_type": "stream",
     "text": [
      "reconstraining parameters Mat52.lengthscale\n",
      "reconstraining parameters Mat52.variance\n"
     ]
    },
    {
     "name": "stdout",
     "output_type": "stream",
     "text": [
      "     MAPbI Conc [M]  CH₂I₂ Conc [μL]  PC voltage [V]  PC length [ms]  \\\n",
      "110        1.469398       189.345836      291.996171       53.761639   \n",
      "\n",
      "     Efficiency [%]  \n",
      "110       10.735775  \n"
     ]
    },
    {
     "name": "stderr",
     "output_type": "stream",
     "text": [
      "reconstraining parameters Mat52.lengthscale\n",
      "reconstraining parameters Mat52.variance\n"
     ]
    },
    {
     "name": "stdout",
     "output_type": "stream",
     "text": [
      "total condition no.: 16\n",
      "total device no.: 16\n",
      "maximum Y (PCE [%]):  9.41\n",
      "total condition no.: 32\n",
      "total device no.: 32\n",
      "maximum Y (PCE [%]):  10.91\n"
     ]
    },
    {
     "name": "stderr",
     "output_type": "stream",
     "text": [
      "reconstraining parameters Mat52.lengthscale\n",
      "reconstraining parameters Mat52.variance\n"
     ]
    },
    {
     "name": "stdout",
     "output_type": "stream",
     "text": [
      "total condition no.: 48\n",
      "total device no.: 48\n",
      "maximum Y (PCE [%]):  10.91\n"
     ]
    },
    {
     "name": "stderr",
     "output_type": "stream",
     "text": [
      "reconstraining parameters Mat52.lengthscale\n",
      "reconstraining parameters Mat52.variance\n"
     ]
    },
    {
     "name": "stdout",
     "output_type": "stream",
     "text": [
      "total condition no.: 64\n",
      "total device no.: 64\n",
      "maximum Y (PCE [%]):  10.91\n"
     ]
    },
    {
     "name": "stderr",
     "output_type": "stream",
     "text": [
      "reconstraining parameters Mat52.lengthscale\n",
      "reconstraining parameters Mat52.variance\n"
     ]
    },
    {
     "name": "stdout",
     "output_type": "stream",
     "text": [
      "total condition no.: 80\n",
      "total device no.: 80\n",
      "maximum Y (PCE [%]):  10.91\n"
     ]
    },
    {
     "name": "stderr",
     "output_type": "stream",
     "text": [
      "reconstraining parameters Mat52.lengthscale\n",
      "reconstraining parameters Mat52.variance\n"
     ]
    },
    {
     "name": "stdout",
     "output_type": "stream",
     "text": [
      "total condition no.: 96\n",
      "total device no.: 96\n",
      "maximum Y (PCE [%]):  10.97\n"
     ]
    },
    {
     "name": "stderr",
     "output_type": "stream",
     "text": [
      "reconstraining parameters Mat52.lengthscale\n",
      "reconstraining parameters Mat52.variance\n"
     ]
    },
    {
     "name": "stdout",
     "output_type": "stream",
     "text": [
      "total condition no.: 112\n",
      "total device no.: 112\n",
      "maximum Y (PCE [%]):  10.97\n"
     ]
    },
    {
     "name": "stderr",
     "output_type": "stream",
     "text": [
      "reconstraining parameters Mat52.lengthscale\n",
      "reconstraining parameters Mat52.variance\n"
     ]
    },
    {
     "name": "stdout",
     "output_type": "stream",
     "text": [
      "     MAPbI Conc [M]  CH₂I₂ Conc [μL]  PC voltage [V]  PC length [ms]  \\\n",
      "121        1.442103            252.5      325.252635       22.613081   \n",
      "\n",
      "     Efficiency [%]  \n",
      "121       10.972183  \n"
     ]
    },
    {
     "name": "stderr",
     "output_type": "stream",
     "text": [
      " /Users/JeremyXu/opt/anaconda3/lib/python3.8/site-packages/emukit/bayesian_optimization/acquisitions/log_acquisition.py:25: RuntimeWarning:invalid value encountered in log\n",
      "reconstraining parameters Mat52.lengthscale\n",
      "reconstraining parameters Mat52.variance\n"
     ]
    },
    {
     "name": "stdout",
     "output_type": "stream",
     "text": [
      "total condition no.: 16\n",
      "total device no.: 16\n",
      "maximum Y (PCE [%]):  10.33\n",
      "total condition no.: 32\n",
      "total device no.: 32\n",
      "maximum Y (PCE [%]):  10.51\n"
     ]
    },
    {
     "name": "stderr",
     "output_type": "stream",
     "text": [
      "reconstraining parameters Mat52.lengthscale\n",
      "reconstraining parameters Mat52.variance\n"
     ]
    },
    {
     "name": "stdout",
     "output_type": "stream",
     "text": [
      "total condition no.: 48\n",
      "total device no.: 48\n",
      "maximum Y (PCE [%]):  10.89\n"
     ]
    },
    {
     "name": "stderr",
     "output_type": "stream",
     "text": [
      "reconstraining parameters Mat52.lengthscale\n",
      "reconstraining parameters Mat52.variance\n"
     ]
    },
    {
     "name": "stdout",
     "output_type": "stream",
     "text": [
      "total condition no.: 64\n",
      "total device no.: 64\n",
      "maximum Y (PCE [%]):  10.99\n"
     ]
    },
    {
     "name": "stderr",
     "output_type": "stream",
     "text": [
      "reconstraining parameters Mat52.lengthscale\n",
      "reconstraining parameters Mat52.variance\n"
     ]
    },
    {
     "name": "stdout",
     "output_type": "stream",
     "text": [
      "total condition no.: 80\n",
      "total device no.: 80\n",
      "maximum Y (PCE [%]):  10.99\n"
     ]
    },
    {
     "name": "stderr",
     "output_type": "stream",
     "text": [
      "reconstraining parameters Mat52.lengthscale\n",
      "reconstraining parameters Mat52.variance\n"
     ]
    },
    {
     "name": "stdout",
     "output_type": "stream",
     "text": [
      "total condition no.: 96\n",
      "total device no.: 96\n",
      "maximum Y (PCE [%]):  11.0\n"
     ]
    },
    {
     "name": "stderr",
     "output_type": "stream",
     "text": [
      "reconstraining parameters Mat52.lengthscale\n",
      "reconstraining parameters Mat52.variance\n"
     ]
    },
    {
     "name": "stdout",
     "output_type": "stream",
     "text": [
      "total condition no.: 112\n",
      "total device no.: 112\n",
      "maximum Y (PCE [%]):  11.06\n"
     ]
    },
    {
     "name": "stderr",
     "output_type": "stream",
     "text": [
      "reconstraining parameters Mat52.lengthscale\n",
      "reconstraining parameters Mat52.variance\n"
     ]
    },
    {
     "name": "stdout",
     "output_type": "stream",
     "text": [
      "    MAPbI Conc [M]  CH₂I₂ Conc [μL]  PC voltage [V]  PC length [ms]  \\\n",
      "96        1.395505       164.045874       295.78252       25.838859   \n",
      "\n",
      "    Efficiency [%]  \n",
      "96         11.0621  \n"
     ]
    },
    {
     "name": "stderr",
     "output_type": "stream",
     "text": [
      "reconstraining parameters Mat52.lengthscale\n",
      "reconstraining parameters Mat52.variance\n"
     ]
    },
    {
     "name": "stdout",
     "output_type": "stream",
     "text": [
      "total condition no.: 16\n",
      "total device no.: 16\n",
      "maximum Y (PCE [%]):  9.26\n",
      "total condition no.: 32\n",
      "total device no.: 32\n",
      "maximum Y (PCE [%]):  10.32\n"
     ]
    },
    {
     "name": "stderr",
     "output_type": "stream",
     "text": [
      "reconstraining parameters Mat52.lengthscale\n",
      "reconstraining parameters Mat52.variance\n"
     ]
    },
    {
     "name": "stdout",
     "output_type": "stream",
     "text": [
      "total condition no.: 48\n",
      "total device no.: 48\n",
      "maximum Y (PCE [%]):  10.76\n"
     ]
    },
    {
     "name": "stderr",
     "output_type": "stream",
     "text": [
      "reconstraining parameters Mat52.lengthscale\n",
      "reconstraining parameters Mat52.variance\n"
     ]
    },
    {
     "name": "stdout",
     "output_type": "stream",
     "text": [
      "total condition no.: 64\n",
      "total device no.: 64\n",
      "maximum Y (PCE [%]):  10.76\n"
     ]
    },
    {
     "name": "stderr",
     "output_type": "stream",
     "text": [
      "reconstraining parameters Mat52.lengthscale\n",
      "reconstraining parameters Mat52.variance\n"
     ]
    },
    {
     "name": "stdout",
     "output_type": "stream",
     "text": [
      "total condition no.: 80\n",
      "total device no.: 80\n",
      "maximum Y (PCE [%]):  10.76\n"
     ]
    },
    {
     "name": "stderr",
     "output_type": "stream",
     "text": [
      "reconstraining parameters Mat52.lengthscale\n",
      "reconstraining parameters Mat52.variance\n"
     ]
    },
    {
     "name": "stdout",
     "output_type": "stream",
     "text": [
      "total condition no.: 96\n",
      "total device no.: 96\n",
      "maximum Y (PCE [%]):  10.76\n"
     ]
    },
    {
     "name": "stderr",
     "output_type": "stream",
     "text": [
      "reconstraining parameters Mat52.lengthscale\n",
      "reconstraining parameters Mat52.variance\n"
     ]
    },
    {
     "name": "stdout",
     "output_type": "stream",
     "text": [
      "total condition no.: 112\n",
      "total device no.: 112\n",
      "maximum Y (PCE [%]):  10.76\n"
     ]
    },
    {
     "name": "stderr",
     "output_type": "stream",
     "text": [
      "reconstraining parameters Mat52.lengthscale\n",
      "reconstraining parameters Mat52.variance\n"
     ]
    },
    {
     "name": "stdout",
     "output_type": "stream",
     "text": [
      "    MAPbI Conc [M]  CH₂I₂ Conc [μL]  PC voltage [V]  PC length [ms]  \\\n",
      "43        1.500578       183.920193      292.010416       54.216978   \n",
      "\n",
      "    Efficiency [%]  \n",
      "43       10.759072  \n"
     ]
    },
    {
     "name": "stderr",
     "output_type": "stream",
     "text": [
      "reconstraining parameters Mat52.lengthscale\n",
      "reconstraining parameters Mat52.variance\n"
     ]
    },
    {
     "name": "stdout",
     "output_type": "stream",
     "text": [
      "total condition no.: 16\n",
      "total device no.: 16\n",
      "maximum Y (PCE [%]):  10.67\n",
      "total condition no.: 32\n",
      "total device no.: 32\n",
      "maximum Y (PCE [%]):  10.67\n"
     ]
    },
    {
     "name": "stderr",
     "output_type": "stream",
     "text": [
      " /Users/JeremyXu/opt/anaconda3/lib/python3.8/site-packages/emukit/bayesian_optimization/acquisitions/log_acquisition.py:25: RuntimeWarning:invalid value encountered in log\n",
      "reconstraining parameters Mat52.lengthscale\n",
      "reconstraining parameters Mat52.variance\n"
     ]
    },
    {
     "name": "stdout",
     "output_type": "stream",
     "text": [
      "total condition no.: 48\n",
      "total device no.: 48\n",
      "maximum Y (PCE [%]):  10.67\n"
     ]
    },
    {
     "name": "stderr",
     "output_type": "stream",
     "text": [
      "reconstraining parameters Mat52.lengthscale\n",
      "reconstraining parameters Mat52.variance\n"
     ]
    },
    {
     "name": "stdout",
     "output_type": "stream",
     "text": [
      "total condition no.: 64\n",
      "total device no.: 64\n",
      "maximum Y (PCE [%]):  10.83\n"
     ]
    },
    {
     "name": "stderr",
     "output_type": "stream",
     "text": [
      "reconstraining parameters Mat52.lengthscale\n",
      "reconstraining parameters Mat52.variance\n"
     ]
    },
    {
     "name": "stdout",
     "output_type": "stream",
     "text": [
      "total condition no.: 80\n",
      "total device no.: 80\n",
      "maximum Y (PCE [%]):  10.83\n"
     ]
    },
    {
     "name": "stderr",
     "output_type": "stream",
     "text": [
      "reconstraining parameters Mat52.lengthscale\n",
      "reconstraining parameters Mat52.variance\n"
     ]
    },
    {
     "name": "stdout",
     "output_type": "stream",
     "text": [
      "total condition no.: 96\n",
      "total device no.: 96\n",
      "maximum Y (PCE [%]):  10.83\n"
     ]
    },
    {
     "name": "stderr",
     "output_type": "stream",
     "text": [
      "reconstraining parameters Mat52.lengthscale\n",
      "reconstraining parameters Mat52.variance\n"
     ]
    },
    {
     "name": "stdout",
     "output_type": "stream",
     "text": [
      "total condition no.: 112\n",
      "total device no.: 112\n",
      "maximum Y (PCE [%]):  10.83\n"
     ]
    },
    {
     "name": "stderr",
     "output_type": "stream",
     "text": [
      "reconstraining parameters Mat52.lengthscale\n",
      "reconstraining parameters Mat52.variance\n"
     ]
    },
    {
     "name": "stdout",
     "output_type": "stream",
     "text": [
      "     MAPbI Conc [M]  CH₂I₂ Conc [μL]  PC voltage [V]  PC length [ms]  \\\n",
      "127        1.350416       143.234737      294.510982        24.43001   \n",
      "\n",
      "     Efficiency [%]  \n",
      "127       10.843703  \n"
     ]
    },
    {
     "name": "stderr",
     "output_type": "stream",
     "text": [
      "reconstraining parameters Mat52.lengthscale\n",
      "reconstraining parameters Mat52.variance\n"
     ]
    },
    {
     "name": "stdout",
     "output_type": "stream",
     "text": [
      "total condition no.: 16\n",
      "total device no.: 16\n",
      "maximum Y (PCE [%]):  9.49\n",
      "total condition no.: 32\n",
      "total device no.: 32\n",
      "maximum Y (PCE [%]):  11.09\n"
     ]
    },
    {
     "name": "stderr",
     "output_type": "stream",
     "text": [
      "reconstraining parameters Mat52.lengthscale\n",
      "reconstraining parameters Mat52.variance\n"
     ]
    },
    {
     "name": "stdout",
     "output_type": "stream",
     "text": [
      "total condition no.: 48\n",
      "total device no.: 48\n",
      "maximum Y (PCE [%]):  11.09\n"
     ]
    },
    {
     "name": "stderr",
     "output_type": "stream",
     "text": [
      "reconstraining parameters Mat52.lengthscale\n",
      "reconstraining parameters Mat52.variance\n"
     ]
    },
    {
     "name": "stdout",
     "output_type": "stream",
     "text": [
      "total condition no.: 64\n",
      "total device no.: 64\n",
      "maximum Y (PCE [%]):  11.13\n"
     ]
    },
    {
     "name": "stderr",
     "output_type": "stream",
     "text": [
      "reconstraining parameters Mat52.lengthscale\n",
      "reconstraining parameters Mat52.variance\n"
     ]
    },
    {
     "name": "stdout",
     "output_type": "stream",
     "text": [
      "total condition no.: 80\n",
      "total device no.: 80\n",
      "maximum Y (PCE [%]):  11.25\n"
     ]
    },
    {
     "name": "stderr",
     "output_type": "stream",
     "text": [
      "reconstraining parameters Mat52.lengthscale\n",
      "reconstraining parameters Mat52.variance\n"
     ]
    },
    {
     "name": "stdout",
     "output_type": "stream",
     "text": [
      "total condition no.: 96\n",
      "total device no.: 96\n",
      "maximum Y (PCE [%]):  11.25\n"
     ]
    },
    {
     "name": "stderr",
     "output_type": "stream",
     "text": [
      "reconstraining parameters Mat52.lengthscale\n",
      "reconstraining parameters Mat52.variance\n"
     ]
    },
    {
     "name": "stdout",
     "output_type": "stream",
     "text": [
      "total condition no.: 112\n",
      "total device no.: 112\n",
      "maximum Y (PCE [%]):  11.25\n"
     ]
    },
    {
     "name": "stderr",
     "output_type": "stream",
     "text": [
      "reconstraining parameters Mat52.lengthscale\n",
      "reconstraining parameters Mat52.variance\n"
     ]
    },
    {
     "name": "stdout",
     "output_type": "stream",
     "text": [
      "    MAPbI Conc [M]  CH₂I₂ Conc [μL]  PC voltage [V]  PC length [ms]  \\\n",
      "75        1.355596       168.944548      290.406412       24.746123   \n",
      "\n",
      "    Efficiency [%]  \n",
      "75       11.252167  \n"
     ]
    },
    {
     "name": "stderr",
     "output_type": "stream",
     "text": [
      " /Users/JeremyXu/opt/anaconda3/lib/python3.8/site-packages/emukit/bayesian_optimization/acquisitions/log_acquisition.py:25: RuntimeWarning:invalid value encountered in log\n",
      "reconstraining parameters Mat52.lengthscale\n",
      "reconstraining parameters Mat52.variance\n"
     ]
    },
    {
     "name": "stdout",
     "output_type": "stream",
     "text": [
      "total condition no.: 16\n",
      "total device no.: 16\n",
      "maximum Y (PCE [%]):  9.18\n",
      "total condition no.: 32\n",
      "total device no.: 32\n",
      "maximum Y (PCE [%]):  10.92\n"
     ]
    },
    {
     "name": "stderr",
     "output_type": "stream",
     "text": [
      "reconstraining parameters Mat52.lengthscale\n",
      "reconstraining parameters Mat52.variance\n"
     ]
    },
    {
     "name": "stdout",
     "output_type": "stream",
     "text": [
      "total condition no.: 48\n",
      "total device no.: 48\n",
      "maximum Y (PCE [%]):  10.92\n"
     ]
    },
    {
     "name": "stderr",
     "output_type": "stream",
     "text": [
      "reconstraining parameters Mat52.lengthscale\n",
      "reconstraining parameters Mat52.variance\n"
     ]
    },
    {
     "name": "stdout",
     "output_type": "stream",
     "text": [
      "total condition no.: 64\n",
      "total device no.: 64\n",
      "maximum Y (PCE [%]):  10.92\n"
     ]
    },
    {
     "name": "stderr",
     "output_type": "stream",
     "text": [
      "reconstraining parameters Mat52.lengthscale\n",
      "reconstraining parameters Mat52.variance\n"
     ]
    },
    {
     "name": "stdout",
     "output_type": "stream",
     "text": [
      "total condition no.: 80\n",
      "total device no.: 80\n",
      "maximum Y (PCE [%]):  10.92\n"
     ]
    },
    {
     "name": "stderr",
     "output_type": "stream",
     "text": [
      "reconstraining parameters Mat52.lengthscale\n",
      "reconstraining parameters Mat52.variance\n"
     ]
    },
    {
     "name": "stdout",
     "output_type": "stream",
     "text": [
      "total condition no.: 96\n",
      "total device no.: 96\n",
      "maximum Y (PCE [%]):  10.95\n"
     ]
    },
    {
     "name": "stderr",
     "output_type": "stream",
     "text": [
      "reconstraining parameters Mat52.lengthscale\n",
      "reconstraining parameters Mat52.variance\n"
     ]
    },
    {
     "name": "stdout",
     "output_type": "stream",
     "text": [
      "total condition no.: 112\n",
      "total device no.: 112\n",
      "maximum Y (PCE [%]):  10.97\n"
     ]
    },
    {
     "name": "stderr",
     "output_type": "stream",
     "text": [
      "reconstraining parameters Mat52.lengthscale\n",
      "reconstraining parameters Mat52.variance\n"
     ]
    },
    {
     "name": "stdout",
     "output_type": "stream",
     "text": [
      "     MAPbI Conc [M]  CH₂I₂ Conc [μL]  PC voltage [V]  PC length [ms]  \\\n",
      "108        1.368266            252.5      335.066408       23.645668   \n",
      "\n",
      "     Efficiency [%]  \n",
      "108       10.968667  \n"
     ]
    },
    {
     "name": "stderr",
     "output_type": "stream",
     "text": [
      "reconstraining parameters Mat52.lengthscale\n",
      "reconstraining parameters Mat52.variance\n"
     ]
    },
    {
     "name": "stdout",
     "output_type": "stream",
     "text": [
      "total condition no.: 16\n",
      "total device no.: 16\n",
      "maximum Y (PCE [%]):  9.19\n",
      "total condition no.: 32\n",
      "total device no.: 32\n",
      "maximum Y (PCE [%]):  10.97\n"
     ]
    },
    {
     "name": "stderr",
     "output_type": "stream",
     "text": [
      "reconstraining parameters Mat52.lengthscale\n",
      "reconstraining parameters Mat52.variance\n"
     ]
    },
    {
     "name": "stdout",
     "output_type": "stream",
     "text": [
      "total condition no.: 48\n",
      "total device no.: 48\n",
      "maximum Y (PCE [%]):  10.97\n"
     ]
    },
    {
     "name": "stderr",
     "output_type": "stream",
     "text": [
      "reconstraining parameters Mat52.lengthscale\n",
      "reconstraining parameters Mat52.variance\n"
     ]
    },
    {
     "name": "stdout",
     "output_type": "stream",
     "text": [
      "total condition no.: 64\n",
      "total device no.: 64\n",
      "maximum Y (PCE [%]):  11.1\n"
     ]
    },
    {
     "name": "stderr",
     "output_type": "stream",
     "text": [
      "reconstraining parameters Mat52.lengthscale\n",
      "reconstraining parameters Mat52.variance\n"
     ]
    },
    {
     "name": "stdout",
     "output_type": "stream",
     "text": [
      "total condition no.: 80\n",
      "total device no.: 80\n",
      "maximum Y (PCE [%]):  11.1\n"
     ]
    },
    {
     "name": "stderr",
     "output_type": "stream",
     "text": [
      " /Users/JeremyXu/opt/anaconda3/lib/python3.8/site-packages/emukit/bayesian_optimization/acquisitions/log_acquisition.py:25: RuntimeWarning:invalid value encountered in log\n",
      "reconstraining parameters Mat52.lengthscale\n",
      "reconstraining parameters Mat52.variance\n"
     ]
    },
    {
     "name": "stdout",
     "output_type": "stream",
     "text": [
      "total condition no.: 96\n",
      "total device no.: 96\n",
      "maximum Y (PCE [%]):  11.1\n"
     ]
    },
    {
     "name": "stderr",
     "output_type": "stream",
     "text": [
      "reconstraining parameters Mat52.lengthscale\n",
      "reconstraining parameters Mat52.variance\n"
     ]
    },
    {
     "name": "stdout",
     "output_type": "stream",
     "text": [
      "total condition no.: 112\n",
      "total device no.: 112\n",
      "maximum Y (PCE [%]):  11.1\n"
     ]
    },
    {
     "name": "stderr",
     "output_type": "stream",
     "text": [
      "reconstraining parameters Mat52.lengthscale\n",
      "reconstraining parameters Mat52.variance\n"
     ]
    },
    {
     "name": "stdout",
     "output_type": "stream",
     "text": [
      "    MAPbI Conc [M]  CH₂I₂ Conc [μL]  PC voltage [V]  PC length [ms]  \\\n",
      "62        1.346204       205.623809      291.075057       26.629516   \n",
      "\n",
      "    Efficiency [%]  \n",
      "62       11.098708  \n"
     ]
    },
    {
     "name": "stderr",
     "output_type": "stream",
     "text": [
      "reconstraining parameters Mat52.lengthscale\n",
      "reconstraining parameters Mat52.variance\n"
     ]
    },
    {
     "name": "stdout",
     "output_type": "stream",
     "text": [
      "total condition no.: 16\n",
      "total device no.: 16\n",
      "maximum Y (PCE [%]):  10.13\n",
      "total condition no.: 32\n",
      "total device no.: 32\n",
      "maximum Y (PCE [%]):  10.13\n"
     ]
    },
    {
     "name": "stderr",
     "output_type": "stream",
     "text": [
      "reconstraining parameters Mat52.lengthscale\n",
      "reconstraining parameters Mat52.variance\n"
     ]
    },
    {
     "name": "stdout",
     "output_type": "stream",
     "text": [
      "total condition no.: 48\n",
      "total device no.: 48\n",
      "maximum Y (PCE [%]):  10.58\n"
     ]
    },
    {
     "name": "stderr",
     "output_type": "stream",
     "text": [
      "reconstraining parameters Mat52.lengthscale\n",
      "reconstraining parameters Mat52.variance\n"
     ]
    },
    {
     "name": "stdout",
     "output_type": "stream",
     "text": [
      "total condition no.: 64\n",
      "total device no.: 64\n",
      "maximum Y (PCE [%]):  10.58\n"
     ]
    },
    {
     "name": "stderr",
     "output_type": "stream",
     "text": [
      "reconstraining parameters Mat52.lengthscale\n",
      "reconstraining parameters Mat52.variance\n"
     ]
    },
    {
     "name": "stdout",
     "output_type": "stream",
     "text": [
      "total condition no.: 80\n",
      "total device no.: 80\n",
      "maximum Y (PCE [%]):  10.58\n"
     ]
    },
    {
     "name": "stderr",
     "output_type": "stream",
     "text": [
      "reconstraining parameters Mat52.lengthscale\n",
      "reconstraining parameters Mat52.variance\n"
     ]
    },
    {
     "name": "stdout",
     "output_type": "stream",
     "text": [
      "total condition no.: 96\n",
      "total device no.: 96\n",
      "maximum Y (PCE [%]):  10.59\n"
     ]
    },
    {
     "name": "stderr",
     "output_type": "stream",
     "text": [
      "reconstraining parameters Mat52.lengthscale\n",
      "reconstraining parameters Mat52.variance\n"
     ]
    },
    {
     "name": "stdout",
     "output_type": "stream",
     "text": [
      "total condition no.: 112\n",
      "total device no.: 112\n",
      "maximum Y (PCE [%]):  10.6\n"
     ]
    },
    {
     "name": "stderr",
     "output_type": "stream",
     "text": [
      "reconstraining parameters Mat52.lengthscale\n",
      "reconstraining parameters Mat52.variance\n"
     ]
    },
    {
     "name": "stdout",
     "output_type": "stream",
     "text": [
      "    MAPbI Conc [M]  CH₂I₂ Conc [μL]  PC voltage [V]  PC length [ms]  \\\n",
      "97        1.480797       192.136306      295.383663       55.881468   \n",
      "\n",
      "    Efficiency [%]  \n",
      "97       10.598122  \n"
     ]
    },
    {
     "name": "stderr",
     "output_type": "stream",
     "text": [
      " /Users/JeremyXu/opt/anaconda3/lib/python3.8/site-packages/emukit/bayesian_optimization/acquisitions/log_acquisition.py:25: RuntimeWarning:invalid value encountered in log\n",
      "reconstraining parameters Mat52.lengthscale\n",
      "reconstraining parameters Mat52.variance\n"
     ]
    },
    {
     "name": "stdout",
     "output_type": "stream",
     "text": [
      "total condition no.: 16\n",
      "total device no.: 16\n",
      "maximum Y (PCE [%]):  9.55\n",
      "total condition no.: 32\n",
      "total device no.: 32\n",
      "maximum Y (PCE [%]):  10.99\n"
     ]
    },
    {
     "name": "stderr",
     "output_type": "stream",
     "text": [
      "reconstraining parameters Mat52.lengthscale\n",
      "reconstraining parameters Mat52.variance\n"
     ]
    },
    {
     "name": "stdout",
     "output_type": "stream",
     "text": [
      "total condition no.: 48\n",
      "total device no.: 48\n",
      "maximum Y (PCE [%]):  10.99\n"
     ]
    },
    {
     "name": "stderr",
     "output_type": "stream",
     "text": [
      "reconstraining parameters Mat52.lengthscale\n",
      "reconstraining parameters Mat52.variance\n"
     ]
    },
    {
     "name": "stdout",
     "output_type": "stream",
     "text": [
      "total condition no.: 64\n",
      "total device no.: 64\n",
      "maximum Y (PCE [%]):  10.99\n"
     ]
    },
    {
     "name": "stderr",
     "output_type": "stream",
     "text": [
      "reconstraining parameters Mat52.lengthscale\n",
      "reconstraining parameters Mat52.variance\n"
     ]
    },
    {
     "name": "stdout",
     "output_type": "stream",
     "text": [
      "total condition no.: 80\n",
      "total device no.: 80\n",
      "maximum Y (PCE [%]):  10.99\n"
     ]
    },
    {
     "name": "stderr",
     "output_type": "stream",
     "text": [
      "reconstraining parameters Mat52.lengthscale\n",
      "reconstraining parameters Mat52.variance\n"
     ]
    },
    {
     "name": "stdout",
     "output_type": "stream",
     "text": [
      "total condition no.: 96\n",
      "total device no.: 96\n",
      "maximum Y (PCE [%]):  11.13\n"
     ]
    },
    {
     "name": "stderr",
     "output_type": "stream",
     "text": [
      "reconstraining parameters Mat52.lengthscale\n",
      "reconstraining parameters Mat52.variance\n"
     ]
    },
    {
     "name": "stdout",
     "output_type": "stream",
     "text": [
      "total condition no.: 112\n",
      "total device no.: 112\n",
      "maximum Y (PCE [%]):  11.13\n"
     ]
    },
    {
     "name": "stderr",
     "output_type": "stream",
     "text": [
      "reconstraining parameters Mat52.lengthscale\n",
      "reconstraining parameters Mat52.variance\n"
     ]
    },
    {
     "name": "stdout",
     "output_type": "stream",
     "text": [
      "    MAPbI Conc [M]  CH₂I₂ Conc [μL]  PC voltage [V]  PC length [ms]  \\\n",
      "80        1.346678       224.097372       298.46443       26.088471   \n",
      "\n",
      "    Efficiency [%]  \n",
      "80       11.125733  \n"
     ]
    },
    {
     "name": "stderr",
     "output_type": "stream",
     "text": [
      "reconstraining parameters Mat52.lengthscale\n",
      "reconstraining parameters Mat52.variance\n"
     ]
    },
    {
     "name": "stdout",
     "output_type": "stream",
     "text": [
      "total condition no.: 16\n",
      "total device no.: 16\n",
      "maximum Y (PCE [%]):  10.16\n",
      "total condition no.: 32\n",
      "total device no.: 32\n",
      "maximum Y (PCE [%]):  10.89\n"
     ]
    },
    {
     "name": "stderr",
     "output_type": "stream",
     "text": [
      "reconstraining parameters Mat52.lengthscale\n",
      "reconstraining parameters Mat52.variance\n"
     ]
    },
    {
     "name": "stdout",
     "output_type": "stream",
     "text": [
      "total condition no.: 48\n",
      "total device no.: 48\n",
      "maximum Y (PCE [%]):  10.89\n"
     ]
    },
    {
     "name": "stderr",
     "output_type": "stream",
     "text": [
      "reconstraining parameters Mat52.lengthscale\n",
      "reconstraining parameters Mat52.variance\n"
     ]
    },
    {
     "name": "stdout",
     "output_type": "stream",
     "text": [
      "total condition no.: 64\n",
      "total device no.: 64\n",
      "maximum Y (PCE [%]):  10.89\n"
     ]
    },
    {
     "name": "stderr",
     "output_type": "stream",
     "text": [
      "reconstraining parameters Mat52.lengthscale\n",
      "reconstraining parameters Mat52.variance\n"
     ]
    },
    {
     "name": "stdout",
     "output_type": "stream",
     "text": [
      "total condition no.: 80\n",
      "total device no.: 80\n",
      "maximum Y (PCE [%]):  11.1\n"
     ]
    },
    {
     "name": "stderr",
     "output_type": "stream",
     "text": [
      "reconstraining parameters Mat52.lengthscale\n",
      "reconstraining parameters Mat52.variance\n"
     ]
    },
    {
     "name": "stdout",
     "output_type": "stream",
     "text": [
      "total condition no.: 96\n",
      "total device no.: 96\n",
      "maximum Y (PCE [%]):  11.13\n"
     ]
    },
    {
     "name": "stderr",
     "output_type": "stream",
     "text": [
      "reconstraining parameters Mat52.lengthscale\n",
      "reconstraining parameters Mat52.variance\n"
     ]
    },
    {
     "name": "stdout",
     "output_type": "stream",
     "text": [
      "total condition no.: 112\n",
      "total device no.: 112\n",
      "maximum Y (PCE [%]):  11.13\n"
     ]
    },
    {
     "name": "stderr",
     "output_type": "stream",
     "text": [
      "reconstraining parameters Mat52.lengthscale\n",
      "reconstraining parameters Mat52.variance\n"
     ]
    },
    {
     "name": "stdout",
     "output_type": "stream",
     "text": [
      "    MAPbI Conc [M]  CH₂I₂ Conc [μL]  PC voltage [V]  PC length [ms]  \\\n",
      "94        1.334464       204.259951      290.117811       23.323682   \n",
      "\n",
      "    Efficiency [%]  \n",
      "94       11.131692  \n"
     ]
    },
    {
     "name": "stderr",
     "output_type": "stream",
     "text": [
      "reconstraining parameters Mat52.lengthscale\n",
      "reconstraining parameters Mat52.variance\n"
     ]
    },
    {
     "name": "stdout",
     "output_type": "stream",
     "text": [
      "total condition no.: 16\n",
      "total device no.: 16\n",
      "maximum Y (PCE [%]):  8.99\n",
      "total condition no.: 32\n",
      "total device no.: 32\n",
      "maximum Y (PCE [%]):  10.26\n"
     ]
    },
    {
     "name": "stderr",
     "output_type": "stream",
     "text": [
      " /Users/JeremyXu/opt/anaconda3/lib/python3.8/site-packages/emukit/bayesian_optimization/acquisitions/log_acquisition.py:25: RuntimeWarning:invalid value encountered in log\n",
      "reconstraining parameters Mat52.lengthscale\n",
      "reconstraining parameters Mat52.variance\n"
     ]
    },
    {
     "name": "stdout",
     "output_type": "stream",
     "text": [
      "total condition no.: 48\n",
      "total device no.: 48\n",
      "maximum Y (PCE [%]):  10.55\n"
     ]
    },
    {
     "name": "stderr",
     "output_type": "stream",
     "text": [
      "reconstraining parameters Mat52.lengthscale\n",
      "reconstraining parameters Mat52.variance\n"
     ]
    },
    {
     "name": "stdout",
     "output_type": "stream",
     "text": [
      "total condition no.: 64\n",
      "total device no.: 64\n",
      "maximum Y (PCE [%]):  10.76\n"
     ]
    },
    {
     "name": "stderr",
     "output_type": "stream",
     "text": [
      "reconstraining parameters Mat52.lengthscale\n",
      "reconstraining parameters Mat52.variance\n"
     ]
    },
    {
     "name": "stdout",
     "output_type": "stream",
     "text": [
      "total condition no.: 80\n",
      "total device no.: 80\n",
      "maximum Y (PCE [%]):  10.76\n"
     ]
    },
    {
     "name": "stderr",
     "output_type": "stream",
     "text": [
      "reconstraining parameters Mat52.lengthscale\n",
      "reconstraining parameters Mat52.variance\n"
     ]
    },
    {
     "name": "stdout",
     "output_type": "stream",
     "text": [
      "total condition no.: 96\n",
      "total device no.: 96\n",
      "maximum Y (PCE [%]):  10.76\n"
     ]
    },
    {
     "name": "stderr",
     "output_type": "stream",
     "text": [
      "reconstraining parameters Mat52.lengthscale\n",
      "reconstraining parameters Mat52.variance\n"
     ]
    },
    {
     "name": "stdout",
     "output_type": "stream",
     "text": [
      "total condition no.: 112\n",
      "total device no.: 112\n",
      "maximum Y (PCE [%]):  10.76\n"
     ]
    },
    {
     "name": "stderr",
     "output_type": "stream",
     "text": [
      "reconstraining parameters Mat52.lengthscale\n",
      "reconstraining parameters Mat52.variance\n"
     ]
    },
    {
     "name": "stdout",
     "output_type": "stream",
     "text": [
      "    MAPbI Conc [M]  CH₂I₂ Conc [μL]  PC voltage [V]  PC length [ms]  \\\n",
      "48        1.482822       182.844812       291.67699       55.246732   \n",
      "\n",
      "    Efficiency [%]  \n",
      "48       10.759072  \n"
     ]
    },
    {
     "name": "stderr",
     "output_type": "stream",
     "text": [
      "reconstraining parameters Mat52.lengthscale\n",
      "reconstraining parameters Mat52.variance\n"
     ]
    },
    {
     "name": "stdout",
     "output_type": "stream",
     "text": [
      "total condition no.: 16\n",
      "total device no.: 16\n",
      "maximum Y (PCE [%]):  10.2\n",
      "total condition no.: 32\n",
      "total device no.: 32\n",
      "maximum Y (PCE [%]):  10.2\n"
     ]
    },
    {
     "name": "stderr",
     "output_type": "stream",
     "text": [
      "reconstraining parameters Mat52.lengthscale\n",
      "reconstraining parameters Mat52.variance\n"
     ]
    },
    {
     "name": "stdout",
     "output_type": "stream",
     "text": [
      "total condition no.: 48\n",
      "total device no.: 48\n",
      "maximum Y (PCE [%]):  10.78\n"
     ]
    },
    {
     "name": "stderr",
     "output_type": "stream",
     "text": [
      "reconstraining parameters Mat52.lengthscale\n",
      "reconstraining parameters Mat52.variance\n"
     ]
    },
    {
     "name": "stdout",
     "output_type": "stream",
     "text": [
      "total condition no.: 64\n",
      "total device no.: 64\n",
      "maximum Y (PCE [%]):  10.78\n"
     ]
    },
    {
     "name": "stderr",
     "output_type": "stream",
     "text": [
      "reconstraining parameters Mat52.lengthscale\n",
      "reconstraining parameters Mat52.variance\n"
     ]
    },
    {
     "name": "stdout",
     "output_type": "stream",
     "text": [
      "total condition no.: 80\n",
      "total device no.: 80\n",
      "maximum Y (PCE [%]):  11.05\n"
     ]
    },
    {
     "name": "stderr",
     "output_type": "stream",
     "text": [
      "reconstraining parameters Mat52.lengthscale\n",
      "reconstraining parameters Mat52.variance\n"
     ]
    },
    {
     "name": "stdout",
     "output_type": "stream",
     "text": [
      "total condition no.: 96\n",
      "total device no.: 96\n",
      "maximum Y (PCE [%]):  11.05\n"
     ]
    },
    {
     "name": "stderr",
     "output_type": "stream",
     "text": [
      "reconstraining parameters Mat52.lengthscale\n",
      "reconstraining parameters Mat52.variance\n"
     ]
    },
    {
     "name": "stdout",
     "output_type": "stream",
     "text": [
      "total condition no.: 112\n",
      "total device no.: 112\n",
      "maximum Y (PCE [%]):  11.05\n"
     ]
    },
    {
     "name": "stderr",
     "output_type": "stream",
     "text": [
      "reconstraining parameters Mat52.lengthscale\n",
      "reconstraining parameters Mat52.variance\n"
     ]
    },
    {
     "name": "stdout",
     "output_type": "stream",
     "text": [
      "     MAPbI Conc [M]  CH₂I₂ Conc [μL]  PC voltage [V]  PC length [ms]  \\\n",
      "112        1.462108       211.161315      295.963257       24.015605   \n",
      "\n",
      "     Efficiency [%]  \n",
      "112       11.069383  \n"
     ]
    },
    {
     "name": "stderr",
     "output_type": "stream",
     "text": [
      "reconstraining parameters Mat52.lengthscale\n",
      "reconstraining parameters Mat52.variance\n"
     ]
    },
    {
     "name": "stdout",
     "output_type": "stream",
     "text": [
      "total condition no.: 16\n",
      "total device no.: 16\n",
      "maximum Y (PCE [%]):  9.81\n",
      "total condition no.: 32\n",
      "total device no.: 32\n",
      "maximum Y (PCE [%]):  10.18\n"
     ]
    },
    {
     "name": "stderr",
     "output_type": "stream",
     "text": [
      "reconstraining parameters Mat52.lengthscale\n",
      "reconstraining parameters Mat52.variance\n"
     ]
    },
    {
     "name": "stdout",
     "output_type": "stream",
     "text": [
      "total condition no.: 48\n",
      "total device no.: 48\n",
      "maximum Y (PCE [%]):  10.49\n"
     ]
    },
    {
     "name": "stderr",
     "output_type": "stream",
     "text": [
      "reconstraining parameters Mat52.lengthscale\n",
      "reconstraining parameters Mat52.variance\n"
     ]
    },
    {
     "name": "stdout",
     "output_type": "stream",
     "text": [
      "total condition no.: 64\n",
      "total device no.: 64\n",
      "maximum Y (PCE [%]):  10.49\n"
     ]
    },
    {
     "name": "stderr",
     "output_type": "stream",
     "text": [
      "reconstraining parameters Mat52.lengthscale\n",
      "reconstraining parameters Mat52.variance\n"
     ]
    },
    {
     "name": "stdout",
     "output_type": "stream",
     "text": [
      "total condition no.: 80\n",
      "total device no.: 80\n",
      "maximum Y (PCE [%]):  10.49\n"
     ]
    },
    {
     "name": "stderr",
     "output_type": "stream",
     "text": [
      "reconstraining parameters Mat52.lengthscale\n",
      "reconstraining parameters Mat52.variance\n"
     ]
    },
    {
     "name": "stdout",
     "output_type": "stream",
     "text": [
      "total condition no.: 96\n",
      "total device no.: 96\n",
      "maximum Y (PCE [%]):  10.73\n"
     ]
    },
    {
     "name": "stderr",
     "output_type": "stream",
     "text": [
      "reconstraining parameters Mat52.lengthscale\n",
      "reconstraining parameters Mat52.variance\n"
     ]
    },
    {
     "name": "stdout",
     "output_type": "stream",
     "text": [
      "total condition no.: 112\n",
      "total device no.: 112\n",
      "maximum Y (PCE [%]):  11.02\n"
     ]
    },
    {
     "name": "stderr",
     "output_type": "stream",
     "text": [
      "reconstraining parameters Mat52.lengthscale\n",
      "reconstraining parameters Mat52.variance\n"
     ]
    },
    {
     "name": "stdout",
     "output_type": "stream",
     "text": [
      "     MAPbI Conc [M]  CH₂I₂ Conc [μL]  PC voltage [V]  PC length [ms]  \\\n",
      "119         1.40128       160.058595      286.481132       21.959998   \n",
      "\n",
      "     Efficiency [%]  \n",
      "119         11.1035  \n"
     ]
    },
    {
     "name": "stderr",
     "output_type": "stream",
     "text": [
      "reconstraining parameters Mat52.lengthscale\n",
      "reconstraining parameters Mat52.variance\n"
     ]
    },
    {
     "name": "stdout",
     "output_type": "stream",
     "text": [
      "total condition no.: 16\n",
      "total device no.: 16\n",
      "maximum Y (PCE [%]):  9.81\n",
      "total condition no.: 32\n",
      "total device no.: 32\n",
      "maximum Y (PCE [%]):  10.31\n"
     ]
    },
    {
     "name": "stderr",
     "output_type": "stream",
     "text": [
      "reconstraining parameters Mat52.lengthscale\n",
      "reconstraining parameters Mat52.variance\n"
     ]
    },
    {
     "name": "stdout",
     "output_type": "stream",
     "text": [
      "total condition no.: 48\n",
      "total device no.: 48\n",
      "maximum Y (PCE [%]):  10.33\n"
     ]
    },
    {
     "name": "stderr",
     "output_type": "stream",
     "text": [
      "reconstraining parameters Mat52.lengthscale\n",
      "reconstraining parameters Mat52.variance\n"
     ]
    },
    {
     "name": "stdout",
     "output_type": "stream",
     "text": [
      "total condition no.: 64\n",
      "total device no.: 64\n",
      "maximum Y (PCE [%]):  10.33\n"
     ]
    },
    {
     "name": "stderr",
     "output_type": "stream",
     "text": [
      "reconstraining parameters Mat52.lengthscale\n",
      "reconstraining parameters Mat52.variance\n"
     ]
    },
    {
     "name": "stdout",
     "output_type": "stream",
     "text": [
      "total condition no.: 80\n",
      "total device no.: 80\n",
      "maximum Y (PCE [%]):  10.33\n"
     ]
    },
    {
     "name": "stderr",
     "output_type": "stream",
     "text": [
      " /Users/JeremyXu/opt/anaconda3/lib/python3.8/site-packages/emukit/bayesian_optimization/acquisitions/log_acquisition.py:25: RuntimeWarning:invalid value encountered in log\n",
      "reconstraining parameters Mat52.lengthscale\n",
      "reconstraining parameters Mat52.variance\n"
     ]
    },
    {
     "name": "stdout",
     "output_type": "stream",
     "text": [
      "total condition no.: 96\n",
      "total device no.: 96\n",
      "maximum Y (PCE [%]):  10.33\n"
     ]
    },
    {
     "name": "stderr",
     "output_type": "stream",
     "text": [
      "reconstraining parameters Mat52.lengthscale\n",
      "reconstraining parameters Mat52.variance\n"
     ]
    },
    {
     "name": "stdout",
     "output_type": "stream",
     "text": [
      "total condition no.: 112\n",
      "total device no.: 112\n",
      "maximum Y (PCE [%]):  10.33\n"
     ]
    },
    {
     "name": "stderr",
     "output_type": "stream",
     "text": [
      "reconstraining parameters Mat52.lengthscale\n",
      "reconstraining parameters Mat52.variance\n"
     ]
    },
    {
     "name": "stdout",
     "output_type": "stream",
     "text": [
      "    MAPbI Conc [M]  CH₂I₂ Conc [μL]  PC voltage [V]  PC length [ms]  \\\n",
      "83        1.313605       220.003089       291.91493       58.800681   \n",
      "\n",
      "    Efficiency [%]  \n",
      "83       10.329917  \n"
     ]
    },
    {
     "name": "stderr",
     "output_type": "stream",
     "text": [
      "reconstraining parameters Mat52.lengthscale\n",
      "reconstraining parameters Mat52.variance\n"
     ]
    },
    {
     "name": "stdout",
     "output_type": "stream",
     "text": [
      "total condition no.: 16\n",
      "total device no.: 16\n",
      "maximum Y (PCE [%]):  9.81\n",
      "total condition no.: 32\n",
      "total device no.: 32\n",
      "maximum Y (PCE [%]):  10.15\n"
     ]
    },
    {
     "name": "stderr",
     "output_type": "stream",
     "text": [
      "reconstraining parameters Mat52.lengthscale\n",
      "reconstraining parameters Mat52.variance\n"
     ]
    },
    {
     "name": "stdout",
     "output_type": "stream",
     "text": [
      "total condition no.: 48\n",
      "total device no.: 48\n",
      "maximum Y (PCE [%]):  10.92\n"
     ]
    },
    {
     "name": "stderr",
     "output_type": "stream",
     "text": [
      "reconstraining parameters Mat52.lengthscale\n",
      "reconstraining parameters Mat52.variance\n"
     ]
    },
    {
     "name": "stdout",
     "output_type": "stream",
     "text": [
      "total condition no.: 64\n",
      "total device no.: 64\n",
      "maximum Y (PCE [%]):  10.92\n"
     ]
    },
    {
     "name": "stderr",
     "output_type": "stream",
     "text": [
      "reconstraining parameters Mat52.lengthscale\n",
      "reconstraining parameters Mat52.variance\n"
     ]
    },
    {
     "name": "stdout",
     "output_type": "stream",
     "text": [
      "total condition no.: 80\n",
      "total device no.: 80\n",
      "maximum Y (PCE [%]):  11.1\n"
     ]
    },
    {
     "name": "stderr",
     "output_type": "stream",
     "text": [
      "reconstraining parameters Mat52.lengthscale\n",
      "reconstraining parameters Mat52.variance\n"
     ]
    },
    {
     "name": "stdout",
     "output_type": "stream",
     "text": [
      "total condition no.: 96\n",
      "total device no.: 96\n",
      "maximum Y (PCE [%]):  11.23\n"
     ]
    },
    {
     "name": "stderr",
     "output_type": "stream",
     "text": [
      "reconstraining parameters Mat52.lengthscale\n",
      "reconstraining parameters Mat52.variance\n"
     ]
    },
    {
     "name": "stdout",
     "output_type": "stream",
     "text": [
      "total condition no.: 112\n",
      "total device no.: 112\n",
      "maximum Y (PCE [%]):  11.23\n"
     ]
    },
    {
     "name": "stderr",
     "output_type": "stream",
     "text": [
      "reconstraining parameters Mat52.lengthscale\n",
      "reconstraining parameters Mat52.variance\n"
     ]
    },
    {
     "name": "stdout",
     "output_type": "stream",
     "text": [
      "     MAPbI Conc [M]  CH₂I₂ Conc [μL]  PC voltage [V]  PC length [ms]  \\\n",
      "121        1.331393       204.537546      292.009786       24.740141   \n",
      "\n",
      "     Efficiency [%]  \n",
      "121       11.252167  \n"
     ]
    },
    {
     "name": "stderr",
     "output_type": "stream",
     "text": [
      " /Users/JeremyXu/opt/anaconda3/lib/python3.8/site-packages/emukit/bayesian_optimization/acquisitions/log_acquisition.py:25: RuntimeWarning:invalid value encountered in log\n",
      "reconstraining parameters Mat52.lengthscale\n",
      "reconstraining parameters Mat52.variance\n"
     ]
    },
    {
     "name": "stdout",
     "output_type": "stream",
     "text": [
      "total condition no.: 16\n",
      "total device no.: 16\n",
      "maximum Y (PCE [%]):  9.4\n",
      "total condition no.: 32\n",
      "total device no.: 32\n",
      "maximum Y (PCE [%]):  10.5\n"
     ]
    },
    {
     "name": "stderr",
     "output_type": "stream",
     "text": [
      "reconstraining parameters Mat52.lengthscale\n",
      "reconstraining parameters Mat52.variance\n"
     ]
    },
    {
     "name": "stdout",
     "output_type": "stream",
     "text": [
      "total condition no.: 48\n",
      "total device no.: 48\n",
      "maximum Y (PCE [%]):  10.5\n"
     ]
    },
    {
     "name": "stderr",
     "output_type": "stream",
     "text": [
      "reconstraining parameters Mat52.lengthscale\n",
      "reconstraining parameters Mat52.variance\n"
     ]
    },
    {
     "name": "stdout",
     "output_type": "stream",
     "text": [
      "total condition no.: 64\n",
      "total device no.: 64\n",
      "maximum Y (PCE [%]):  10.5\n"
     ]
    },
    {
     "name": "stderr",
     "output_type": "stream",
     "text": [
      "reconstraining parameters Mat52.lengthscale\n",
      "reconstraining parameters Mat52.variance\n"
     ]
    },
    {
     "name": "stdout",
     "output_type": "stream",
     "text": [
      "total condition no.: 80\n",
      "total device no.: 80\n",
      "maximum Y (PCE [%]):  10.5\n"
     ]
    },
    {
     "name": "stderr",
     "output_type": "stream",
     "text": [
      "reconstraining parameters Mat52.lengthscale\n",
      "reconstraining parameters Mat52.variance\n"
     ]
    },
    {
     "name": "stdout",
     "output_type": "stream",
     "text": [
      "total condition no.: 96\n",
      "total device no.: 96\n",
      "maximum Y (PCE [%]):  10.5\n"
     ]
    },
    {
     "name": "stderr",
     "output_type": "stream",
     "text": [
      "reconstraining parameters Mat52.lengthscale\n",
      "reconstraining parameters Mat52.variance\n"
     ]
    },
    {
     "name": "stdout",
     "output_type": "stream",
     "text": [
      "total condition no.: 112\n",
      "total device no.: 112\n",
      "maximum Y (PCE [%]):  10.5\n"
     ]
    },
    {
     "name": "stderr",
     "output_type": "stream",
     "text": [
      "reconstraining parameters Mat52.lengthscale\n",
      "reconstraining parameters Mat52.variance\n"
     ]
    },
    {
     "name": "stdout",
     "output_type": "stream",
     "text": [
      "    MAPbI Conc [M]  CH₂I₂ Conc [μL]  PC voltage [V]  PC length [ms]  \\\n",
      "23        1.430997       226.765396      287.130762       51.869572   \n",
      "\n",
      "    Efficiency [%]  \n",
      "23       10.496235  \n"
     ]
    },
    {
     "name": "stderr",
     "output_type": "stream",
     "text": [
      "reconstraining parameters Mat52.lengthscale\n",
      "reconstraining parameters Mat52.variance\n"
     ]
    },
    {
     "name": "stdout",
     "output_type": "stream",
     "text": [
      "total condition no.: 16\n",
      "total device no.: 16\n",
      "maximum Y (PCE [%]):  9.6\n",
      "total condition no.: 32\n",
      "total device no.: 32\n",
      "maximum Y (PCE [%]):  10.95\n"
     ]
    },
    {
     "name": "stderr",
     "output_type": "stream",
     "text": [
      "reconstraining parameters Mat52.lengthscale\n",
      "reconstraining parameters Mat52.variance\n"
     ]
    },
    {
     "name": "stdout",
     "output_type": "stream",
     "text": [
      "total condition no.: 48\n",
      "total device no.: 48\n",
      "maximum Y (PCE [%]):  10.95\n"
     ]
    },
    {
     "name": "stderr",
     "output_type": "stream",
     "text": [
      "reconstraining parameters Mat52.lengthscale\n",
      "reconstraining parameters Mat52.variance\n"
     ]
    },
    {
     "name": "stdout",
     "output_type": "stream",
     "text": [
      "total condition no.: 64\n",
      "total device no.: 64\n",
      "maximum Y (PCE [%]):  10.97\n"
     ]
    },
    {
     "name": "stderr",
     "output_type": "stream",
     "text": [
      "reconstraining parameters Mat52.lengthscale\n",
      "reconstraining parameters Mat52.variance\n"
     ]
    },
    {
     "name": "stdout",
     "output_type": "stream",
     "text": [
      "total condition no.: 80\n",
      "total device no.: 80\n",
      "maximum Y (PCE [%]):  10.99\n"
     ]
    },
    {
     "name": "stderr",
     "output_type": "stream",
     "text": [
      "reconstraining parameters Mat52.lengthscale\n",
      "reconstraining parameters Mat52.variance\n"
     ]
    },
    {
     "name": "stdout",
     "output_type": "stream",
     "text": [
      "total condition no.: 96\n",
      "total device no.: 96\n",
      "maximum Y (PCE [%]):  10.99\n"
     ]
    },
    {
     "name": "stderr",
     "output_type": "stream",
     "text": [
      "reconstraining parameters Mat52.lengthscale\n",
      "reconstraining parameters Mat52.variance\n"
     ]
    },
    {
     "name": "stdout",
     "output_type": "stream",
     "text": [
      "total condition no.: 112\n",
      "total device no.: 112\n",
      "maximum Y (PCE [%]):  10.99\n"
     ]
    },
    {
     "name": "stderr",
     "output_type": "stream",
     "text": [
      "reconstraining parameters Mat52.lengthscale\n",
      "reconstraining parameters Mat52.variance\n"
     ]
    },
    {
     "name": "stdout",
     "output_type": "stream",
     "text": [
      "    MAPbI Conc [M]  CH₂I₂ Conc [μL]  PC voltage [V]  PC length [ms]  \\\n",
      "76        1.442039            252.5      314.036011       22.594803   \n",
      "\n",
      "    Efficiency [%]  \n",
      "76       10.987933  \n"
     ]
    },
    {
     "name": "stderr",
     "output_type": "stream",
     "text": [
      "reconstraining parameters Mat52.lengthscale\n",
      "reconstraining parameters Mat52.variance\n"
     ]
    },
    {
     "name": "stdout",
     "output_type": "stream",
     "text": [
      "total condition no.: 16\n",
      "total device no.: 16\n",
      "maximum Y (PCE [%]):  9.49\n",
      "total condition no.: 32\n",
      "total device no.: 32\n",
      "maximum Y (PCE [%]):  10.97\n"
     ]
    },
    {
     "name": "stderr",
     "output_type": "stream",
     "text": [
      "reconstraining parameters Mat52.lengthscale\n",
      "reconstraining parameters Mat52.variance\n"
     ]
    },
    {
     "name": "stdout",
     "output_type": "stream",
     "text": [
      "total condition no.: 48\n",
      "total device no.: 48\n",
      "maximum Y (PCE [%]):  11.07\n"
     ]
    },
    {
     "name": "stderr",
     "output_type": "stream",
     "text": [
      " /Users/JeremyXu/opt/anaconda3/lib/python3.8/site-packages/emukit/bayesian_optimization/acquisitions/log_acquisition.py:25: RuntimeWarning:invalid value encountered in log\n",
      "reconstraining parameters Mat52.lengthscale\n",
      "reconstraining parameters Mat52.variance\n"
     ]
    },
    {
     "name": "stdout",
     "output_type": "stream",
     "text": [
      "total condition no.: 64\n",
      "total device no.: 64\n",
      "maximum Y (PCE [%]):  11.07\n"
     ]
    },
    {
     "name": "stderr",
     "output_type": "stream",
     "text": [
      "reconstraining parameters Mat52.lengthscale\n",
      "reconstraining parameters Mat52.variance\n"
     ]
    },
    {
     "name": "stdout",
     "output_type": "stream",
     "text": [
      "total condition no.: 80\n",
      "total device no.: 80\n",
      "maximum Y (PCE [%]):  11.07\n"
     ]
    },
    {
     "name": "stderr",
     "output_type": "stream",
     "text": [
      "reconstraining parameters Mat52.lengthscale\n",
      "reconstraining parameters Mat52.variance\n"
     ]
    },
    {
     "name": "stdout",
     "output_type": "stream",
     "text": [
      "total condition no.: 96\n",
      "total device no.: 96\n",
      "maximum Y (PCE [%]):  11.07\n"
     ]
    },
    {
     "name": "stderr",
     "output_type": "stream",
     "text": [
      "reconstraining parameters Mat52.lengthscale\n",
      "reconstraining parameters Mat52.variance\n"
     ]
    },
    {
     "name": "stdout",
     "output_type": "stream",
     "text": [
      "total condition no.: 112\n",
      "total device no.: 112\n",
      "maximum Y (PCE [%]):  11.07\n"
     ]
    },
    {
     "name": "stderr",
     "output_type": "stream",
     "text": [
      "reconstraining parameters Mat52.lengthscale\n",
      "reconstraining parameters Mat52.variance\n"
     ]
    },
    {
     "name": "stdout",
     "output_type": "stream",
     "text": [
      "    MAPbI Conc [M]  CH₂I₂ Conc [μL]  PC voltage [V]  PC length [ms]  \\\n",
      "43        1.457137        224.11625      292.318521       22.878607   \n",
      "\n",
      "    Efficiency [%]  \n",
      "43       11.069383  \n"
     ]
    },
    {
     "name": "stderr",
     "output_type": "stream",
     "text": [
      "reconstraining parameters Mat52.lengthscale\n",
      "reconstraining parameters Mat52.variance\n"
     ]
    },
    {
     "name": "stdout",
     "output_type": "stream",
     "text": [
      "total condition no.: 16\n",
      "total device no.: 16\n",
      "maximum Y (PCE [%]):  9.8\n",
      "total condition no.: 32\n",
      "total device no.: 32\n",
      "maximum Y (PCE [%]):  10.13\n"
     ]
    },
    {
     "name": "stderr",
     "output_type": "stream",
     "text": [
      "reconstraining parameters Mat52.lengthscale\n",
      "reconstraining parameters Mat52.variance\n"
     ]
    },
    {
     "name": "stdout",
     "output_type": "stream",
     "text": [
      "total condition no.: 48\n",
      "total device no.: 48\n",
      "maximum Y (PCE [%]):  10.13\n"
     ]
    },
    {
     "name": "stderr",
     "output_type": "stream",
     "text": [
      "reconstraining parameters Mat52.lengthscale\n",
      "reconstraining parameters Mat52.variance\n"
     ]
    },
    {
     "name": "stdout",
     "output_type": "stream",
     "text": [
      "total condition no.: 64\n",
      "total device no.: 64\n",
      "maximum Y (PCE [%]):  10.21\n"
     ]
    },
    {
     "name": "stderr",
     "output_type": "stream",
     "text": [
      "reconstraining parameters Mat52.lengthscale\n",
      "reconstraining parameters Mat52.variance\n"
     ]
    },
    {
     "name": "stdout",
     "output_type": "stream",
     "text": [
      "total condition no.: 80\n",
      "total device no.: 80\n",
      "maximum Y (PCE [%]):  10.21\n"
     ]
    },
    {
     "name": "stderr",
     "output_type": "stream",
     "text": [
      "reconstraining parameters Mat52.lengthscale\n",
      "reconstraining parameters Mat52.variance\n"
     ]
    },
    {
     "name": "stdout",
     "output_type": "stream",
     "text": [
      "total condition no.: 96\n",
      "total device no.: 96\n",
      "maximum Y (PCE [%]):  10.3\n"
     ]
    },
    {
     "name": "stderr",
     "output_type": "stream",
     "text": [
      "reconstraining parameters Mat52.lengthscale\n",
      "reconstraining parameters Mat52.variance\n"
     ]
    },
    {
     "name": "stdout",
     "output_type": "stream",
     "text": [
      "total condition no.: 112\n",
      "total device no.: 112\n",
      "maximum Y (PCE [%]):  10.3\n"
     ]
    },
    {
     "name": "stderr",
     "output_type": "stream",
     "text": [
      "reconstraining parameters Mat52.lengthscale\n",
      "reconstraining parameters Mat52.variance\n"
     ]
    },
    {
     "name": "stdout",
     "output_type": "stream",
     "text": [
      "     MAPbI Conc [M]  CH₂I₂ Conc [μL]  PC voltage [V]  PC length [ms]  \\\n",
      "121        1.449859       221.220179      348.349694       25.002588   \n",
      "\n",
      "     Efficiency [%]  \n",
      "121       10.311415  \n"
     ]
    },
    {
     "name": "stderr",
     "output_type": "stream",
     "text": [
      "reconstraining parameters Mat52.lengthscale\n",
      "reconstraining parameters Mat52.variance\n"
     ]
    },
    {
     "name": "stdout",
     "output_type": "stream",
     "text": [
      "total condition no.: 16\n",
      "total device no.: 16\n",
      "maximum Y (PCE [%]):  9.27\n",
      "total condition no.: 32\n",
      "total device no.: 32\n",
      "maximum Y (PCE [%]):  10.27\n"
     ]
    },
    {
     "name": "stderr",
     "output_type": "stream",
     "text": [
      "reconstraining parameters Mat52.lengthscale\n",
      "reconstraining parameters Mat52.variance\n"
     ]
    },
    {
     "name": "stdout",
     "output_type": "stream",
     "text": [
      "total condition no.: 48\n",
      "total device no.: 48\n",
      "maximum Y (PCE [%]):  10.27\n"
     ]
    },
    {
     "name": "stderr",
     "output_type": "stream",
     "text": [
      "reconstraining parameters Mat52.lengthscale\n",
      "reconstraining parameters Mat52.variance\n"
     ]
    },
    {
     "name": "stdout",
     "output_type": "stream",
     "text": [
      "total condition no.: 64\n",
      "total device no.: 64\n",
      "maximum Y (PCE [%]):  10.27\n"
     ]
    },
    {
     "name": "stderr",
     "output_type": "stream",
     "text": [
      "reconstraining parameters Mat52.lengthscale\n",
      "reconstraining parameters Mat52.variance\n"
     ]
    },
    {
     "name": "stdout",
     "output_type": "stream",
     "text": [
      "total condition no.: 80\n",
      "total device no.: 80\n",
      "maximum Y (PCE [%]):  10.49\n"
     ]
    },
    {
     "name": "stderr",
     "output_type": "stream",
     "text": [
      "reconstraining parameters Mat52.lengthscale\n",
      "reconstraining parameters Mat52.variance\n"
     ]
    },
    {
     "name": "stdout",
     "output_type": "stream",
     "text": [
      "total condition no.: 96\n",
      "total device no.: 96\n",
      "maximum Y (PCE [%]):  10.49\n"
     ]
    },
    {
     "name": "stderr",
     "output_type": "stream",
     "text": [
      "reconstraining parameters Mat52.lengthscale\n",
      "reconstraining parameters Mat52.variance\n"
     ]
    },
    {
     "name": "stdout",
     "output_type": "stream",
     "text": [
      "total condition no.: 112\n",
      "total device no.: 112\n",
      "maximum Y (PCE [%]):  10.51\n"
     ]
    },
    {
     "name": "stderr",
     "output_type": "stream",
     "text": [
      "reconstraining parameters Mat52.lengthscale\n",
      "reconstraining parameters Mat52.variance\n"
     ]
    },
    {
     "name": "stdout",
     "output_type": "stream",
     "text": [
      "     MAPbI Conc [M]  CH₂I₂ Conc [μL]  PC voltage [V]  PC length [ms]  \\\n",
      "126        1.460101       186.791932      299.150946       55.655759   \n",
      "\n",
      "     Efficiency [%]  \n",
      "126       10.545922  \n"
     ]
    },
    {
     "name": "stderr",
     "output_type": "stream",
     "text": [
      "reconstraining parameters Mat52.lengthscale\n",
      "reconstraining parameters Mat52.variance\n"
     ]
    },
    {
     "name": "stdout",
     "output_type": "stream",
     "text": [
      "total condition no.: 16\n",
      "total device no.: 16\n",
      "maximum Y (PCE [%]):  10.97\n",
      "total condition no.: 32\n",
      "total device no.: 32\n",
      "maximum Y (PCE [%]):  11.12\n"
     ]
    },
    {
     "name": "stderr",
     "output_type": "stream",
     "text": [
      "reconstraining parameters Mat52.lengthscale\n",
      "reconstraining parameters Mat52.variance\n"
     ]
    },
    {
     "name": "stdout",
     "output_type": "stream",
     "text": [
      "total condition no.: 48\n",
      "total device no.: 48\n",
      "maximum Y (PCE [%]):  11.12\n"
     ]
    },
    {
     "name": "stderr",
     "output_type": "stream",
     "text": [
      "reconstraining parameters Mat52.lengthscale\n",
      "reconstraining parameters Mat52.variance\n"
     ]
    },
    {
     "name": "stdout",
     "output_type": "stream",
     "text": [
      "total condition no.: 64\n",
      "total device no.: 64\n",
      "maximum Y (PCE [%]):  11.12\n"
     ]
    },
    {
     "name": "stderr",
     "output_type": "stream",
     "text": [
      "reconstraining parameters Mat52.lengthscale\n",
      "reconstraining parameters Mat52.variance\n"
     ]
    },
    {
     "name": "stdout",
     "output_type": "stream",
     "text": [
      "total condition no.: 80\n",
      "total device no.: 80\n",
      "maximum Y (PCE [%]):  11.12\n"
     ]
    },
    {
     "name": "stderr",
     "output_type": "stream",
     "text": [
      "reconstraining parameters Mat52.lengthscale\n",
      "reconstraining parameters Mat52.variance\n"
     ]
    },
    {
     "name": "stdout",
     "output_type": "stream",
     "text": [
      "total condition no.: 96\n",
      "total device no.: 96\n",
      "maximum Y (PCE [%]):  11.12\n"
     ]
    },
    {
     "name": "stderr",
     "output_type": "stream",
     "text": [
      "reconstraining parameters Mat52.lengthscale\n",
      "reconstraining parameters Mat52.variance\n"
     ]
    },
    {
     "name": "stdout",
     "output_type": "stream",
     "text": [
      "total condition no.: 112\n",
      "total device no.: 112\n",
      "maximum Y (PCE [%]):  11.13\n"
     ]
    },
    {
     "name": "stderr",
     "output_type": "stream",
     "text": [
      "reconstraining parameters Mat52.lengthscale\n",
      "reconstraining parameters Mat52.variance\n"
     ]
    },
    {
     "name": "stdout",
     "output_type": "stream",
     "text": [
      "    MAPbI Conc [M]  CH₂I₂ Conc [μL]  PC voltage [V]  PC length [ms]  \\\n",
      "96        1.408619       179.444482      293.333271       25.822333   \n",
      "\n",
      "    Efficiency [%]  \n",
      "96         11.1288  \n"
     ]
    },
    {
     "name": "stderr",
     "output_type": "stream",
     "text": [
      "reconstraining parameters Mat52.lengthscale\n",
      "reconstraining parameters Mat52.variance\n"
     ]
    },
    {
     "name": "stdout",
     "output_type": "stream",
     "text": [
      "total condition no.: 16\n",
      "total device no.: 16\n",
      "maximum Y (PCE [%]):  10.21\n",
      "total condition no.: 32\n",
      "total device no.: 32\n",
      "maximum Y (PCE [%]):  10.21\n"
     ]
    },
    {
     "name": "stderr",
     "output_type": "stream",
     "text": [
      "reconstraining parameters Mat52.lengthscale\n",
      "reconstraining parameters Mat52.variance\n"
     ]
    },
    {
     "name": "stdout",
     "output_type": "stream",
     "text": [
      "total condition no.: 48\n",
      "total device no.: 48\n",
      "maximum Y (PCE [%]):  10.32\n"
     ]
    },
    {
     "name": "stderr",
     "output_type": "stream",
     "text": [
      "reconstraining parameters Mat52.lengthscale\n",
      "reconstraining parameters Mat52.variance\n"
     ]
    },
    {
     "name": "stdout",
     "output_type": "stream",
     "text": [
      "total condition no.: 64\n",
      "total device no.: 64\n",
      "maximum Y (PCE [%]):  10.78\n"
     ]
    },
    {
     "name": "stderr",
     "output_type": "stream",
     "text": [
      "reconstraining parameters Mat52.lengthscale\n",
      "reconstraining parameters Mat52.variance\n"
     ]
    },
    {
     "name": "stdout",
     "output_type": "stream",
     "text": [
      "total condition no.: 80\n",
      "total device no.: 80\n",
      "maximum Y (PCE [%]):  10.99\n"
     ]
    },
    {
     "name": "stderr",
     "output_type": "stream",
     "text": [
      "reconstraining parameters Mat52.lengthscale\n",
      "reconstraining parameters Mat52.variance\n"
     ]
    },
    {
     "name": "stdout",
     "output_type": "stream",
     "text": [
      "total condition no.: 96\n",
      "total device no.: 96\n",
      "maximum Y (PCE [%]):  10.99\n"
     ]
    },
    {
     "name": "stderr",
     "output_type": "stream",
     "text": [
      "reconstraining parameters Mat52.lengthscale\n",
      "reconstraining parameters Mat52.variance\n"
     ]
    },
    {
     "name": "stdout",
     "output_type": "stream",
     "text": [
      "total condition no.: 112\n",
      "total device no.: 112\n",
      "maximum Y (PCE [%]):  11.0\n"
     ]
    },
    {
     "name": "stderr",
     "output_type": "stream",
     "text": [
      "reconstraining parameters Mat52.lengthscale\n",
      "reconstraining parameters Mat52.variance\n"
     ]
    },
    {
     "name": "stdout",
     "output_type": "stream",
     "text": [
      "    MAPbI Conc [M]  CH₂I₂ Conc [μL]  PC voltage [V]  PC length [ms]  \\\n",
      "97        1.459749       236.697799      302.813523       23.727005   \n",
      "\n",
      "    Efficiency [%]  \n",
      "97       10.995933  \n"
     ]
    },
    {
     "name": "stderr",
     "output_type": "stream",
     "text": [
      "reconstraining parameters Mat52.lengthscale\n",
      "reconstraining parameters Mat52.variance\n"
     ]
    },
    {
     "name": "stdout",
     "output_type": "stream",
     "text": [
      "total condition no.: 16\n",
      "total device no.: 16\n",
      "maximum Y (PCE [%]):  9.8\n",
      "total condition no.: 32\n",
      "total device no.: 32\n",
      "maximum Y (PCE [%]):  10.48\n"
     ]
    },
    {
     "name": "stderr",
     "output_type": "stream",
     "text": [
      " /Users/JeremyXu/opt/anaconda3/lib/python3.8/site-packages/emukit/bayesian_optimization/acquisitions/log_acquisition.py:25: RuntimeWarning:invalid value encountered in log\n",
      "reconstraining parameters Mat52.lengthscale\n",
      "reconstraining parameters Mat52.variance\n"
     ]
    },
    {
     "name": "stdout",
     "output_type": "stream",
     "text": [
      "total condition no.: 48\n",
      "total device no.: 48\n",
      "maximum Y (PCE [%]):  10.73\n"
     ]
    },
    {
     "name": "stderr",
     "output_type": "stream",
     "text": [
      " /Users/JeremyXu/opt/anaconda3/lib/python3.8/site-packages/emukit/bayesian_optimization/acquisitions/log_acquisition.py:25: RuntimeWarning:invalid value encountered in log\n",
      "reconstraining parameters Mat52.lengthscale\n",
      "reconstraining parameters Mat52.variance\n"
     ]
    },
    {
     "name": "stdout",
     "output_type": "stream",
     "text": [
      "total condition no.: 64\n",
      "total device no.: 64\n",
      "maximum Y (PCE [%]):  11.04\n"
     ]
    },
    {
     "name": "stderr",
     "output_type": "stream",
     "text": [
      " /Users/JeremyXu/opt/anaconda3/lib/python3.8/site-packages/emukit/bayesian_optimization/acquisitions/log_acquisition.py:25: RuntimeWarning:invalid value encountered in log\n",
      "reconstraining parameters Mat52.lengthscale\n",
      "reconstraining parameters Mat52.variance\n"
     ]
    },
    {
     "name": "stdout",
     "output_type": "stream",
     "text": [
      "total condition no.: 80\n",
      "total device no.: 80\n",
      "maximum Y (PCE [%]):  11.13\n"
     ]
    },
    {
     "name": "stderr",
     "output_type": "stream",
     "text": [
      " /Users/JeremyXu/opt/anaconda3/lib/python3.8/site-packages/emukit/bayesian_optimization/acquisitions/log_acquisition.py:25: RuntimeWarning:invalid value encountered in log\n",
      "reconstraining parameters Mat52.lengthscale\n",
      "reconstraining parameters Mat52.variance\n"
     ]
    },
    {
     "name": "stdout",
     "output_type": "stream",
     "text": [
      "total condition no.: 96\n",
      "total device no.: 96\n",
      "maximum Y (PCE [%]):  11.24\n"
     ]
    },
    {
     "name": "stderr",
     "output_type": "stream",
     "text": [
      "reconstraining parameters Mat52.lengthscale\n",
      "reconstraining parameters Mat52.variance\n"
     ]
    },
    {
     "name": "stdout",
     "output_type": "stream",
     "text": [
      "total condition no.: 112\n",
      "total device no.: 112\n",
      "maximum Y (PCE [%]):  11.24\n"
     ]
    },
    {
     "name": "stderr",
     "output_type": "stream",
     "text": [
      "reconstraining parameters Mat52.lengthscale\n",
      "reconstraining parameters Mat52.variance\n"
     ]
    },
    {
     "name": "stdout",
     "output_type": "stream",
     "text": [
      "     MAPbI Conc [M]  CH₂I₂ Conc [μL]  PC voltage [V]  PC length [ms]  \\\n",
      "116        1.361055       155.883145      288.849949       22.424551   \n",
      "\n",
      "     Efficiency [%]  \n",
      "116       11.252167  \n"
     ]
    },
    {
     "name": "stderr",
     "output_type": "stream",
     "text": [
      "reconstraining parameters Mat52.lengthscale\n",
      "reconstraining parameters Mat52.variance\n"
     ]
    },
    {
     "name": "stdout",
     "output_type": "stream",
     "text": [
      "total condition no.: 16\n",
      "total device no.: 16\n",
      "maximum Y (PCE [%]):  10.25\n",
      "total condition no.: 32\n",
      "total device no.: 32\n",
      "maximum Y (PCE [%]):  10.25\n"
     ]
    },
    {
     "name": "stderr",
     "output_type": "stream",
     "text": [
      "reconstraining parameters Mat52.lengthscale\n",
      "reconstraining parameters Mat52.variance\n"
     ]
    },
    {
     "name": "stdout",
     "output_type": "stream",
     "text": [
      "total condition no.: 48\n",
      "total device no.: 48\n",
      "maximum Y (PCE [%]):  10.28\n"
     ]
    },
    {
     "name": "stderr",
     "output_type": "stream",
     "text": [
      " /Users/JeremyXu/opt/anaconda3/lib/python3.8/site-packages/emukit/bayesian_optimization/acquisitions/log_acquisition.py:25: RuntimeWarning:invalid value encountered in log\n",
      "reconstraining parameters Mat52.lengthscale\n",
      "reconstraining parameters Mat52.variance\n"
     ]
    },
    {
     "name": "stdout",
     "output_type": "stream",
     "text": [
      "total condition no.: 64\n",
      "total device no.: 64\n",
      "maximum Y (PCE [%]):  10.28\n"
     ]
    },
    {
     "name": "stderr",
     "output_type": "stream",
     "text": [
      "reconstraining parameters Mat52.lengthscale\n",
      "reconstraining parameters Mat52.variance\n"
     ]
    },
    {
     "name": "stdout",
     "output_type": "stream",
     "text": [
      "total condition no.: 80\n",
      "total device no.: 80\n",
      "maximum Y (PCE [%]):  10.33\n"
     ]
    },
    {
     "name": "stderr",
     "output_type": "stream",
     "text": [
      "reconstraining parameters Mat52.lengthscale\n",
      "reconstraining parameters Mat52.variance\n"
     ]
    },
    {
     "name": "stdout",
     "output_type": "stream",
     "text": [
      "total condition no.: 96\n",
      "total device no.: 96\n",
      "maximum Y (PCE [%]):  10.52\n"
     ]
    },
    {
     "name": "stderr",
     "output_type": "stream",
     "text": [
      "reconstraining parameters Mat52.lengthscale\n",
      "reconstraining parameters Mat52.variance\n"
     ]
    },
    {
     "name": "stdout",
     "output_type": "stream",
     "text": [
      "total condition no.: 112\n",
      "total device no.: 112\n",
      "maximum Y (PCE [%]):  10.52\n"
     ]
    },
    {
     "name": "stderr",
     "output_type": "stream",
     "text": [
      "reconstraining parameters Mat52.lengthscale\n",
      "reconstraining parameters Mat52.variance\n"
     ]
    },
    {
     "name": "stdout",
     "output_type": "stream",
     "text": [
      "    MAPbI Conc [M]  CH₂I₂ Conc [μL]  PC voltage [V]  PC length [ms]  \\\n",
      "95        1.443383       214.883814      292.558969       49.351789   \n",
      "\n",
      "    Efficiency [%]  \n",
      "95       10.516535  \n"
     ]
    },
    {
     "name": "stderr",
     "output_type": "stream",
     "text": [
      " /Users/JeremyXu/opt/anaconda3/lib/python3.8/site-packages/emukit/bayesian_optimization/acquisitions/log_acquisition.py:25: RuntimeWarning:invalid value encountered in log\n",
      "reconstraining parameters Mat52.lengthscale\n",
      "reconstraining parameters Mat52.variance\n"
     ]
    },
    {
     "name": "stdout",
     "output_type": "stream",
     "text": [
      "total condition no.: 16\n",
      "total device no.: 16\n",
      "maximum Y (PCE [%]):  9.95\n",
      "total condition no.: 32\n",
      "total device no.: 32\n",
      "maximum Y (PCE [%]):  9.95\n"
     ]
    },
    {
     "name": "stderr",
     "output_type": "stream",
     "text": [
      "reconstraining parameters Mat52.lengthscale\n",
      "reconstraining parameters Mat52.variance\n"
     ]
    },
    {
     "name": "stdout",
     "output_type": "stream",
     "text": [
      "total condition no.: 48\n",
      "total device no.: 48\n",
      "maximum Y (PCE [%]):  10.29\n"
     ]
    },
    {
     "name": "stderr",
     "output_type": "stream",
     "text": [
      "reconstraining parameters Mat52.lengthscale\n",
      "reconstraining parameters Mat52.variance\n"
     ]
    },
    {
     "name": "stdout",
     "output_type": "stream",
     "text": [
      "total condition no.: 64\n",
      "total device no.: 64\n",
      "maximum Y (PCE [%]):  10.29\n"
     ]
    },
    {
     "name": "stderr",
     "output_type": "stream",
     "text": [
      "reconstraining parameters Mat52.lengthscale\n",
      "reconstraining parameters Mat52.variance\n"
     ]
    },
    {
     "name": "stdout",
     "output_type": "stream",
     "text": [
      "total condition no.: 80\n",
      "total device no.: 80\n",
      "maximum Y (PCE [%]):  10.29\n"
     ]
    },
    {
     "name": "stderr",
     "output_type": "stream",
     "text": [
      "reconstraining parameters Mat52.lengthscale\n",
      "reconstraining parameters Mat52.variance\n"
     ]
    },
    {
     "name": "stdout",
     "output_type": "stream",
     "text": [
      "total condition no.: 96\n",
      "total device no.: 96\n",
      "maximum Y (PCE [%]):  10.29\n"
     ]
    },
    {
     "name": "stderr",
     "output_type": "stream",
     "text": [
      "reconstraining parameters Mat52.lengthscale\n",
      "reconstraining parameters Mat52.variance\n"
     ]
    },
    {
     "name": "stdout",
     "output_type": "stream",
     "text": [
      "total condition no.: 112\n",
      "total device no.: 112\n",
      "maximum Y (PCE [%]):  10.29\n"
     ]
    },
    {
     "name": "stderr",
     "output_type": "stream",
     "text": [
      "reconstraining parameters Mat52.lengthscale\n",
      "reconstraining parameters Mat52.variance\n"
     ]
    },
    {
     "name": "stdout",
     "output_type": "stream",
     "text": [
      "     MAPbI Conc [M]  CH₂I₂ Conc [μL]  PC voltage [V]  PC length [ms]  \\\n",
      "118        1.341693       175.204706      326.218677       23.811685   \n",
      "\n",
      "     Efficiency [%]  \n",
      "118       10.326272  \n"
     ]
    },
    {
     "name": "stderr",
     "output_type": "stream",
     "text": [
      "reconstraining parameters Mat52.lengthscale\n",
      "reconstraining parameters Mat52.variance\n"
     ]
    },
    {
     "name": "stdout",
     "output_type": "stream",
     "text": [
      "total condition no.: 16\n",
      "total device no.: 16\n",
      "maximum Y (PCE [%]):  9.81\n",
      "total condition no.: 32\n",
      "total device no.: 32\n",
      "maximum Y (PCE [%]):  10.58\n"
     ]
    },
    {
     "name": "stderr",
     "output_type": "stream",
     "text": [
      "reconstraining parameters Mat52.lengthscale\n",
      "reconstraining parameters Mat52.variance\n"
     ]
    },
    {
     "name": "stdout",
     "output_type": "stream",
     "text": [
      "total condition no.: 48\n",
      "total device no.: 48\n",
      "maximum Y (PCE [%]):  10.58\n"
     ]
    },
    {
     "name": "stderr",
     "output_type": "stream",
     "text": [
      "reconstraining parameters Mat52.lengthscale\n",
      "reconstraining parameters Mat52.variance\n"
     ]
    },
    {
     "name": "stdout",
     "output_type": "stream",
     "text": [
      "total condition no.: 64\n",
      "total device no.: 64\n",
      "maximum Y (PCE [%]):  11.13\n"
     ]
    },
    {
     "name": "stderr",
     "output_type": "stream",
     "text": [
      "reconstraining parameters Mat52.lengthscale\n",
      "reconstraining parameters Mat52.variance\n"
     ]
    },
    {
     "name": "stdout",
     "output_type": "stream",
     "text": [
      "total condition no.: 80\n",
      "total device no.: 80\n",
      "maximum Y (PCE [%]):  11.13\n"
     ]
    },
    {
     "name": "stderr",
     "output_type": "stream",
     "text": [
      "reconstraining parameters Mat52.lengthscale\n",
      "reconstraining parameters Mat52.variance\n"
     ]
    },
    {
     "name": "stdout",
     "output_type": "stream",
     "text": [
      "total condition no.: 96\n",
      "total device no.: 96\n",
      "maximum Y (PCE [%]):  11.13\n"
     ]
    },
    {
     "name": "stderr",
     "output_type": "stream",
     "text": [
      "reconstraining parameters Mat52.lengthscale\n",
      "reconstraining parameters Mat52.variance\n"
     ]
    },
    {
     "name": "stdout",
     "output_type": "stream",
     "text": [
      "total condition no.: 112\n",
      "total device no.: 112\n",
      "maximum Y (PCE [%]):  11.13\n"
     ]
    },
    {
     "name": "stderr",
     "output_type": "stream",
     "text": [
      "reconstraining parameters Mat52.lengthscale\n",
      "reconstraining parameters Mat52.variance\n"
     ]
    },
    {
     "name": "stdout",
     "output_type": "stream",
     "text": [
      "    MAPbI Conc [M]  CH₂I₂ Conc [μL]  PC voltage [V]  PC length [ms]  \\\n",
      "53        1.356129       185.772398      290.546984       25.743418   \n",
      "\n",
      "    Efficiency [%]  \n",
      "53         11.1288  \n"
     ]
    },
    {
     "name": "stderr",
     "output_type": "stream",
     "text": [
      "reconstraining parameters Mat52.lengthscale\n",
      "reconstraining parameters Mat52.variance\n"
     ]
    },
    {
     "name": "stdout",
     "output_type": "stream",
     "text": [
      "total condition no.: 16\n",
      "total device no.: 16\n",
      "maximum Y (PCE [%]):  9.19\n",
      "total condition no.: 32\n",
      "total device no.: 32\n",
      "maximum Y (PCE [%]):  9.81\n"
     ]
    },
    {
     "name": "stderr",
     "output_type": "stream",
     "text": [
      "reconstraining parameters Mat52.lengthscale\n",
      "reconstraining parameters Mat52.variance\n"
     ]
    },
    {
     "name": "stdout",
     "output_type": "stream",
     "text": [
      "total condition no.: 48\n",
      "total device no.: 48\n",
      "maximum Y (PCE [%]):  10.33\n"
     ]
    },
    {
     "name": "stderr",
     "output_type": "stream",
     "text": [
      "reconstraining parameters Mat52.lengthscale\n",
      "reconstraining parameters Mat52.variance\n"
     ]
    },
    {
     "name": "stdout",
     "output_type": "stream",
     "text": [
      "total condition no.: 64\n",
      "total device no.: 64\n",
      "maximum Y (PCE [%]):  10.33\n"
     ]
    },
    {
     "name": "stderr",
     "output_type": "stream",
     "text": [
      "reconstraining parameters Mat52.lengthscale\n",
      "reconstraining parameters Mat52.variance\n"
     ]
    },
    {
     "name": "stdout",
     "output_type": "stream",
     "text": [
      "total condition no.: 80\n",
      "total device no.: 80\n",
      "maximum Y (PCE [%]):  10.33\n"
     ]
    },
    {
     "name": "stderr",
     "output_type": "stream",
     "text": [
      "reconstraining parameters Mat52.lengthscale\n",
      "reconstraining parameters Mat52.variance\n"
     ]
    },
    {
     "name": "stdout",
     "output_type": "stream",
     "text": [
      "total condition no.: 96\n",
      "total device no.: 96\n",
      "maximum Y (PCE [%]):  10.33\n"
     ]
    },
    {
     "name": "stderr",
     "output_type": "stream",
     "text": [
      "reconstraining parameters Mat52.lengthscale\n",
      "reconstraining parameters Mat52.variance\n"
     ]
    },
    {
     "name": "stdout",
     "output_type": "stream",
     "text": [
      "total condition no.: 112\n",
      "total device no.: 112\n",
      "maximum Y (PCE [%]):  10.33\n"
     ]
    },
    {
     "name": "stderr",
     "output_type": "stream",
     "text": [
      "reconstraining parameters Mat52.lengthscale\n",
      "reconstraining parameters Mat52.variance\n"
     ]
    },
    {
     "name": "stdout",
     "output_type": "stream",
     "text": [
      "    MAPbI Conc [M]  CH₂I₂ Conc [μL]  PC voltage [V]  PC length [ms]  \\\n",
      "38        1.316004       214.856748      290.210758       45.511987   \n",
      "\n",
      "    Efficiency [%]  \n",
      "38           10.33  \n"
     ]
    },
    {
     "name": "stderr",
     "output_type": "stream",
     "text": [
      "reconstraining parameters Mat52.lengthscale\n",
      "reconstraining parameters Mat52.variance\n"
     ]
    },
    {
     "name": "stdout",
     "output_type": "stream",
     "text": [
      "total condition no.: 16\n",
      "total device no.: 16\n",
      "maximum Y (PCE [%]):  10.72\n",
      "total condition no.: 32\n",
      "total device no.: 32\n",
      "maximum Y (PCE [%]):  10.8\n"
     ]
    },
    {
     "name": "stderr",
     "output_type": "stream",
     "text": [
      "reconstraining parameters Mat52.lengthscale\n",
      "reconstraining parameters Mat52.variance\n"
     ]
    },
    {
     "name": "stdout",
     "output_type": "stream",
     "text": [
      "total condition no.: 48\n",
      "total device no.: 48\n",
      "maximum Y (PCE [%]):  10.95\n"
     ]
    },
    {
     "name": "stderr",
     "output_type": "stream",
     "text": [
      " /Users/JeremyXu/opt/anaconda3/lib/python3.8/site-packages/emukit/bayesian_optimization/acquisitions/log_acquisition.py:25: RuntimeWarning:invalid value encountered in log\n",
      "reconstraining parameters Mat52.lengthscale\n",
      "reconstraining parameters Mat52.variance\n"
     ]
    },
    {
     "name": "stdout",
     "output_type": "stream",
     "text": [
      "total condition no.: 64\n",
      "total device no.: 64\n",
      "maximum Y (PCE [%]):  11.09\n"
     ]
    },
    {
     "name": "stderr",
     "output_type": "stream",
     "text": [
      "reconstraining parameters Mat52.lengthscale\n",
      "reconstraining parameters Mat52.variance\n"
     ]
    },
    {
     "name": "stdout",
     "output_type": "stream",
     "text": [
      "total condition no.: 80\n",
      "total device no.: 80\n",
      "maximum Y (PCE [%]):  11.09\n"
     ]
    },
    {
     "name": "stderr",
     "output_type": "stream",
     "text": [
      "reconstraining parameters Mat52.lengthscale\n",
      "reconstraining parameters Mat52.variance\n"
     ]
    },
    {
     "name": "stdout",
     "output_type": "stream",
     "text": [
      "total condition no.: 96\n",
      "total device no.: 96\n",
      "maximum Y (PCE [%]):  11.09\n"
     ]
    },
    {
     "name": "stderr",
     "output_type": "stream",
     "text": [
      "reconstraining parameters Mat52.lengthscale\n",
      "reconstraining parameters Mat52.variance\n"
     ]
    },
    {
     "name": "stdout",
     "output_type": "stream",
     "text": [
      "total condition no.: 112\n",
      "total device no.: 112\n",
      "maximum Y (PCE [%]):  11.09\n"
     ]
    },
    {
     "name": "stderr",
     "output_type": "stream",
     "text": [
      "reconstraining parameters Mat52.lengthscale\n",
      "reconstraining parameters Mat52.variance\n"
     ]
    },
    {
     "name": "stdout",
     "output_type": "stream",
     "text": [
      "    MAPbI Conc [M]  CH₂I₂ Conc [μL]  PC voltage [V]  PC length [ms]  \\\n",
      "62         1.39892       232.397653      291.242288       26.353512   \n",
      "\n",
      "    Efficiency [%]  \n",
      "62       11.089125  \n"
     ]
    },
    {
     "name": "stderr",
     "output_type": "stream",
     "text": [
      "reconstraining parameters Mat52.lengthscale\n",
      "reconstraining parameters Mat52.variance\n"
     ]
    },
    {
     "name": "stdout",
     "output_type": "stream",
     "text": [
      "total condition no.: 16\n",
      "total device no.: 16\n",
      "maximum Y (PCE [%]):  9.64\n",
      "total condition no.: 32\n",
      "total device no.: 32\n",
      "maximum Y (PCE [%]):  11.0\n"
     ]
    },
    {
     "name": "stderr",
     "output_type": "stream",
     "text": [
      "reconstraining parameters Mat52.lengthscale\n",
      "reconstraining parameters Mat52.variance\n"
     ]
    },
    {
     "name": "stdout",
     "output_type": "stream",
     "text": [
      "total condition no.: 48\n",
      "total device no.: 48\n",
      "maximum Y (PCE [%]):  11.19\n"
     ]
    },
    {
     "name": "stderr",
     "output_type": "stream",
     "text": [
      "reconstraining parameters Mat52.lengthscale\n",
      "reconstraining parameters Mat52.variance\n"
     ]
    },
    {
     "name": "stdout",
     "output_type": "stream",
     "text": [
      "total condition no.: 64\n",
      "total device no.: 64\n",
      "maximum Y (PCE [%]):  11.25\n"
     ]
    },
    {
     "name": "stderr",
     "output_type": "stream",
     "text": [
      "reconstraining parameters Mat52.lengthscale\n",
      "reconstraining parameters Mat52.variance\n"
     ]
    },
    {
     "name": "stdout",
     "output_type": "stream",
     "text": [
      "total condition no.: 80\n",
      "total device no.: 80\n",
      "maximum Y (PCE [%]):  11.25\n"
     ]
    },
    {
     "name": "stderr",
     "output_type": "stream",
     "text": [
      "reconstraining parameters Mat52.lengthscale\n",
      "reconstraining parameters Mat52.variance\n"
     ]
    },
    {
     "name": "stdout",
     "output_type": "stream",
     "text": [
      "total condition no.: 96\n",
      "total device no.: 96\n",
      "maximum Y (PCE [%]):  11.27\n"
     ]
    },
    {
     "name": "stderr",
     "output_type": "stream",
     "text": [
      "reconstraining parameters Mat52.lengthscale\n",
      "reconstraining parameters Mat52.variance\n"
     ]
    },
    {
     "name": "stdout",
     "output_type": "stream",
     "text": [
      "total condition no.: 112\n",
      "total device no.: 112\n",
      "maximum Y (PCE [%]):  11.27\n"
     ]
    },
    {
     "name": "stderr",
     "output_type": "stream",
     "text": [
      "reconstraining parameters Mat52.lengthscale\n",
      "reconstraining parameters Mat52.variance\n"
     ]
    },
    {
     "name": "stdout",
     "output_type": "stream",
     "text": [
      "    MAPbI Conc [M]  CH₂I₂ Conc [μL]  PC voltage [V]  PC length [ms]  \\\n",
      "94        1.315504       184.946203       294.21412       23.527509   \n",
      "\n",
      "    Efficiency [%]  \n",
      "94       11.271167  \n"
     ]
    },
    {
     "name": "stderr",
     "output_type": "stream",
     "text": [
      "reconstraining parameters Mat52.lengthscale\n",
      "reconstraining parameters Mat52.variance\n"
     ]
    },
    {
     "name": "stdout",
     "output_type": "stream",
     "text": [
      "total condition no.: 16\n",
      "total device no.: 16\n",
      "maximum Y (PCE [%]):  9.72\n",
      "total condition no.: 32\n",
      "total device no.: 32\n",
      "maximum Y (PCE [%]):  10.96\n"
     ]
    },
    {
     "name": "stderr",
     "output_type": "stream",
     "text": [
      " /Users/JeremyXu/opt/anaconda3/lib/python3.8/site-packages/emukit/bayesian_optimization/acquisitions/log_acquisition.py:25: RuntimeWarning:invalid value encountered in log\n",
      "reconstraining parameters Mat52.lengthscale\n",
      "reconstraining parameters Mat52.variance\n"
     ]
    },
    {
     "name": "stdout",
     "output_type": "stream",
     "text": [
      "total condition no.: 48\n",
      "total device no.: 48\n",
      "maximum Y (PCE [%]):  10.96\n"
     ]
    },
    {
     "name": "stderr",
     "output_type": "stream",
     "text": [
      "reconstraining parameters Mat52.lengthscale\n",
      "reconstraining parameters Mat52.variance\n"
     ]
    },
    {
     "name": "stdout",
     "output_type": "stream",
     "text": [
      "total condition no.: 64\n",
      "total device no.: 64\n",
      "maximum Y (PCE [%]):  10.96\n"
     ]
    },
    {
     "name": "stderr",
     "output_type": "stream",
     "text": [
      "reconstraining parameters Mat52.lengthscale\n",
      "reconstraining parameters Mat52.variance\n"
     ]
    },
    {
     "name": "stdout",
     "output_type": "stream",
     "text": [
      "total condition no.: 80\n",
      "total device no.: 80\n",
      "maximum Y (PCE [%]):  10.99\n"
     ]
    },
    {
     "name": "stderr",
     "output_type": "stream",
     "text": [
      "reconstraining parameters Mat52.lengthscale\n",
      "reconstraining parameters Mat52.variance\n"
     ]
    },
    {
     "name": "stdout",
     "output_type": "stream",
     "text": [
      "total condition no.: 96\n",
      "total device no.: 96\n",
      "maximum Y (PCE [%]):  10.99\n"
     ]
    },
    {
     "name": "stderr",
     "output_type": "stream",
     "text": [
      "reconstraining parameters Mat52.lengthscale\n",
      "reconstraining parameters Mat52.variance\n"
     ]
    },
    {
     "name": "stdout",
     "output_type": "stream",
     "text": [
      "total condition no.: 112\n",
      "total device no.: 112\n",
      "maximum Y (PCE [%]):  10.99\n"
     ]
    },
    {
     "name": "stderr",
     "output_type": "stream",
     "text": [
      "reconstraining parameters Mat52.lengthscale\n",
      "reconstraining parameters Mat52.variance\n"
     ]
    },
    {
     "name": "stdout",
     "output_type": "stream",
     "text": [
      "    MAPbI Conc [M]  CH₂I₂ Conc [μL]  PC voltage [V]  PC length [ms]  \\\n",
      "75        1.311981       217.840753      300.989822       25.839232   \n",
      "\n",
      "    Efficiency [%]  \n",
      "75       10.993542  \n"
     ]
    },
    {
     "name": "stderr",
     "output_type": "stream",
     "text": [
      " /Users/JeremyXu/opt/anaconda3/lib/python3.8/site-packages/emukit/bayesian_optimization/acquisitions/log_acquisition.py:25: RuntimeWarning:invalid value encountered in log\n",
      "reconstraining parameters Mat52.lengthscale\n",
      "reconstraining parameters Mat52.variance\n"
     ]
    },
    {
     "name": "stdout",
     "output_type": "stream",
     "text": [
      "total condition no.: 16\n",
      "total device no.: 16\n",
      "maximum Y (PCE [%]):  9.86\n",
      "total condition no.: 32\n",
      "total device no.: 32\n",
      "maximum Y (PCE [%]):  10.52\n"
     ]
    },
    {
     "name": "stderr",
     "output_type": "stream",
     "text": [
      "reconstraining parameters Mat52.lengthscale\n",
      "reconstraining parameters Mat52.variance\n"
     ]
    },
    {
     "name": "stdout",
     "output_type": "stream",
     "text": [
      "total condition no.: 48\n",
      "total device no.: 48\n",
      "maximum Y (PCE [%]):  10.97\n"
     ]
    },
    {
     "name": "stderr",
     "output_type": "stream",
     "text": [
      "reconstraining parameters Mat52.lengthscale\n",
      "reconstraining parameters Mat52.variance\n"
     ]
    },
    {
     "name": "stdout",
     "output_type": "stream",
     "text": [
      "total condition no.: 64\n",
      "total device no.: 64\n",
      "maximum Y (PCE [%]):  10.97\n"
     ]
    },
    {
     "name": "stderr",
     "output_type": "stream",
     "text": [
      "reconstraining parameters Mat52.lengthscale\n",
      "reconstraining parameters Mat52.variance\n"
     ]
    },
    {
     "name": "stdout",
     "output_type": "stream",
     "text": [
      "total condition no.: 80\n",
      "total device no.: 80\n",
      "maximum Y (PCE [%]):  10.98\n"
     ]
    },
    {
     "name": "stderr",
     "output_type": "stream",
     "text": [
      "reconstraining parameters Mat52.lengthscale\n",
      "reconstraining parameters Mat52.variance\n"
     ]
    },
    {
     "name": "stdout",
     "output_type": "stream",
     "text": [
      "total condition no.: 96\n",
      "total device no.: 96\n",
      "maximum Y (PCE [%]):  10.98\n"
     ]
    },
    {
     "name": "stderr",
     "output_type": "stream",
     "text": [
      "reconstraining parameters Mat52.lengthscale\n",
      "reconstraining parameters Mat52.variance\n"
     ]
    },
    {
     "name": "stdout",
     "output_type": "stream",
     "text": [
      "total condition no.: 112\n",
      "total device no.: 112\n",
      "maximum Y (PCE [%]):  10.98\n"
     ]
    },
    {
     "name": "stderr",
     "output_type": "stream",
     "text": [
      "reconstraining parameters Mat52.lengthscale\n",
      "reconstraining parameters Mat52.variance\n"
     ]
    },
    {
     "name": "stdout",
     "output_type": "stream",
     "text": [
      "    MAPbI Conc [M]  CH₂I₂ Conc [μL]  PC voltage [V]  PC length [ms]  \\\n",
      "69        1.371348       238.502492      303.481224       25.634192   \n",
      "\n",
      "    Efficiency [%]  \n",
      "69       10.979833  \n"
     ]
    },
    {
     "name": "stderr",
     "output_type": "stream",
     "text": [
      "reconstraining parameters Mat52.lengthscale\n",
      "reconstraining parameters Mat52.variance\n"
     ]
    },
    {
     "name": "stdout",
     "output_type": "stream",
     "text": [
      "total condition no.: 16\n",
      "total device no.: 16\n",
      "maximum Y (PCE [%]):  10.3\n",
      "total condition no.: 32\n",
      "total device no.: 32\n",
      "maximum Y (PCE [%]):  10.33\n"
     ]
    },
    {
     "name": "stderr",
     "output_type": "stream",
     "text": [
      "reconstraining parameters Mat52.lengthscale\n",
      "reconstraining parameters Mat52.variance\n"
     ]
    },
    {
     "name": "stdout",
     "output_type": "stream",
     "text": [
      "total condition no.: 48\n",
      "total device no.: 48\n",
      "maximum Y (PCE [%]):  10.33\n"
     ]
    },
    {
     "name": "stderr",
     "output_type": "stream",
     "text": [
      " /Users/JeremyXu/opt/anaconda3/lib/python3.8/site-packages/emukit/bayesian_optimization/acquisitions/log_acquisition.py:25: RuntimeWarning:invalid value encountered in log\n",
      "reconstraining parameters Mat52.lengthscale\n",
      "reconstraining parameters Mat52.variance\n"
     ]
    },
    {
     "name": "stdout",
     "output_type": "stream",
     "text": [
      "total condition no.: 64\n",
      "total device no.: 64\n",
      "maximum Y (PCE [%]):  10.33\n"
     ]
    },
    {
     "name": "stderr",
     "output_type": "stream",
     "text": [
      "reconstraining parameters Mat52.lengthscale\n",
      "reconstraining parameters Mat52.variance\n"
     ]
    },
    {
     "name": "stdout",
     "output_type": "stream",
     "text": [
      "total condition no.: 80\n",
      "total device no.: 80\n",
      "maximum Y (PCE [%]):  10.55\n"
     ]
    },
    {
     "name": "stderr",
     "output_type": "stream",
     "text": [
      "reconstraining parameters Mat52.lengthscale\n",
      "reconstraining parameters Mat52.variance\n"
     ]
    },
    {
     "name": "stdout",
     "output_type": "stream",
     "text": [
      "total condition no.: 96\n",
      "total device no.: 96\n",
      "maximum Y (PCE [%]):  11.0\n"
     ]
    },
    {
     "name": "stderr",
     "output_type": "stream",
     "text": [
      "reconstraining parameters Mat52.lengthscale\n",
      "reconstraining parameters Mat52.variance\n"
     ]
    },
    {
     "name": "stdout",
     "output_type": "stream",
     "text": [
      "total condition no.: 112\n",
      "total device no.: 112\n",
      "maximum Y (PCE [%]):  11.12\n"
     ]
    },
    {
     "name": "stderr",
     "output_type": "stream",
     "text": [
      "reconstraining parameters Mat52.lengthscale\n",
      "reconstraining parameters Mat52.variance\n"
     ]
    },
    {
     "name": "stdout",
     "output_type": "stream",
     "text": [
      "     MAPbI Conc [M]  CH₂I₂ Conc [μL]  PC voltage [V]  PC length [ms]  \\\n",
      "108         1.42678       217.504983      291.084805       26.191868   \n",
      "\n",
      "     Efficiency [%]  \n",
      "108         11.1173  \n"
     ]
    },
    {
     "name": "stderr",
     "output_type": "stream",
     "text": [
      "reconstraining parameters Mat52.lengthscale\n",
      "reconstraining parameters Mat52.variance\n"
     ]
    },
    {
     "name": "stdout",
     "output_type": "stream",
     "text": [
      "total condition no.: 16\n",
      "total device no.: 16\n",
      "maximum Y (PCE [%]):  9.81\n",
      "total condition no.: 32\n",
      "total device no.: 32\n",
      "maximum Y (PCE [%]):  10.89\n"
     ]
    },
    {
     "name": "stderr",
     "output_type": "stream",
     "text": [
      "reconstraining parameters Mat52.lengthscale\n",
      "reconstraining parameters Mat52.variance\n"
     ]
    },
    {
     "name": "stdout",
     "output_type": "stream",
     "text": [
      "total condition no.: 48\n",
      "total device no.: 48\n",
      "maximum Y (PCE [%]):  10.99\n"
     ]
    },
    {
     "name": "stderr",
     "output_type": "stream",
     "text": [
      "reconstraining parameters Mat52.lengthscale\n",
      "reconstraining parameters Mat52.variance\n"
     ]
    },
    {
     "name": "stdout",
     "output_type": "stream",
     "text": [
      "total condition no.: 64\n",
      "total device no.: 64\n",
      "maximum Y (PCE [%]):  10.99\n"
     ]
    },
    {
     "name": "stderr",
     "output_type": "stream",
     "text": [
      "reconstraining parameters Mat52.lengthscale\n",
      "reconstraining parameters Mat52.variance\n"
     ]
    },
    {
     "name": "stdout",
     "output_type": "stream",
     "text": [
      "total condition no.: 80\n",
      "total device no.: 80\n",
      "maximum Y (PCE [%]):  10.99\n"
     ]
    },
    {
     "name": "stderr",
     "output_type": "stream",
     "text": [
      "reconstraining parameters Mat52.lengthscale\n",
      "reconstraining parameters Mat52.variance\n"
     ]
    },
    {
     "name": "stdout",
     "output_type": "stream",
     "text": [
      "total condition no.: 96\n",
      "total device no.: 96\n",
      "maximum Y (PCE [%]):  10.99\n"
     ]
    },
    {
     "name": "stderr",
     "output_type": "stream",
     "text": [
      "reconstraining parameters Mat52.lengthscale\n",
      "reconstraining parameters Mat52.variance\n"
     ]
    },
    {
     "name": "stdout",
     "output_type": "stream",
     "text": [
      "total condition no.: 112\n",
      "total device no.: 112\n",
      "maximum Y (PCE [%]):  10.99\n"
     ]
    },
    {
     "name": "stderr",
     "output_type": "stream",
     "text": [
      "reconstraining parameters Mat52.lengthscale\n",
      "reconstraining parameters Mat52.variance\n"
     ]
    },
    {
     "name": "stdout",
     "output_type": "stream",
     "text": [
      "    MAPbI Conc [M]  CH₂I₂ Conc [μL]  PC voltage [V]  PC length [ms]  \\\n",
      "76        1.306873       177.359171      304.710598        23.63671   \n",
      "\n",
      "    Efficiency [%]  \n",
      "76        10.99125  \n"
     ]
    },
    {
     "name": "stderr",
     "output_type": "stream",
     "text": [
      " /Users/JeremyXu/opt/anaconda3/lib/python3.8/site-packages/emukit/bayesian_optimization/acquisitions/log_acquisition.py:25: RuntimeWarning:invalid value encountered in log\n",
      "reconstraining parameters Mat52.lengthscale\n",
      "reconstraining parameters Mat52.variance\n"
     ]
    },
    {
     "name": "stdout",
     "output_type": "stream",
     "text": [
      "total condition no.: 16\n",
      "total device no.: 16\n",
      "maximum Y (PCE [%]):  9.77\n",
      "total condition no.: 32\n",
      "total device no.: 32\n",
      "maximum Y (PCE [%]):  10.98\n"
     ]
    },
    {
     "name": "stderr",
     "output_type": "stream",
     "text": [
      "reconstraining parameters Mat52.lengthscale\n",
      "reconstraining parameters Mat52.variance\n"
     ]
    },
    {
     "name": "stdout",
     "output_type": "stream",
     "text": [
      "total condition no.: 48\n",
      "total device no.: 48\n",
      "maximum Y (PCE [%]):  10.98\n"
     ]
    },
    {
     "name": "stderr",
     "output_type": "stream",
     "text": [
      "reconstraining parameters Mat52.lengthscale\n",
      "reconstraining parameters Mat52.variance\n"
     ]
    },
    {
     "name": "stdout",
     "output_type": "stream",
     "text": [
      "total condition no.: 64\n",
      "total device no.: 64\n",
      "maximum Y (PCE [%]):  11.01\n"
     ]
    },
    {
     "name": "stderr",
     "output_type": "stream",
     "text": [
      "reconstraining parameters Mat52.lengthscale\n",
      "reconstraining parameters Mat52.variance\n"
     ]
    },
    {
     "name": "stdout",
     "output_type": "stream",
     "text": [
      "total condition no.: 80\n",
      "total device no.: 80\n",
      "maximum Y (PCE [%]):  11.01\n"
     ]
    },
    {
     "name": "stderr",
     "output_type": "stream",
     "text": [
      "reconstraining parameters Mat52.lengthscale\n",
      "reconstraining parameters Mat52.variance\n"
     ]
    },
    {
     "name": "stdout",
     "output_type": "stream",
     "text": [
      "total condition no.: 96\n",
      "total device no.: 96\n",
      "maximum Y (PCE [%]):  11.01\n"
     ]
    },
    {
     "name": "stderr",
     "output_type": "stream",
     "text": [
      "reconstraining parameters Mat52.lengthscale\n",
      "reconstraining parameters Mat52.variance\n"
     ]
    },
    {
     "name": "stdout",
     "output_type": "stream",
     "text": [
      "total condition no.: 112\n",
      "total device no.: 112\n",
      "maximum Y (PCE [%]):  11.01\n"
     ]
    },
    {
     "name": "stderr",
     "output_type": "stream",
     "text": [
      "reconstraining parameters Mat52.lengthscale\n",
      "reconstraining parameters Mat52.variance\n"
     ]
    },
    {
     "name": "stdout",
     "output_type": "stream",
     "text": [
      "    MAPbI Conc [M]  CH₂I₂ Conc [μL]  PC voltage [V]  PC length [ms]  \\\n",
      "69        1.463027       173.402354      297.230833       24.386999   \n",
      "\n",
      "    Efficiency [%]  \n",
      "69         11.0138  \n"
     ]
    },
    {
     "name": "stderr",
     "output_type": "stream",
     "text": [
      "reconstraining parameters Mat52.lengthscale\n",
      "reconstraining parameters Mat52.variance\n"
     ]
    },
    {
     "name": "stdout",
     "output_type": "stream",
     "text": [
      "total condition no.: 16\n",
      "total device no.: 16\n",
      "maximum Y (PCE [%]):  10.27\n",
      "total condition no.: 32\n",
      "total device no.: 32\n",
      "maximum Y (PCE [%]):  10.33\n"
     ]
    },
    {
     "name": "stderr",
     "output_type": "stream",
     "text": [
      " /Users/JeremyXu/opt/anaconda3/lib/python3.8/site-packages/emukit/bayesian_optimization/acquisitions/log_acquisition.py:25: RuntimeWarning:invalid value encountered in log\n",
      "reconstraining parameters Mat52.lengthscale\n",
      "reconstraining parameters Mat52.variance\n"
     ]
    },
    {
     "name": "stdout",
     "output_type": "stream",
     "text": [
      "total condition no.: 48\n",
      "total device no.: 48\n",
      "maximum Y (PCE [%]):  10.33\n"
     ]
    },
    {
     "name": "stderr",
     "output_type": "stream",
     "text": [
      "reconstraining parameters Mat52.lengthscale\n",
      "reconstraining parameters Mat52.variance\n"
     ]
    },
    {
     "name": "stdout",
     "output_type": "stream",
     "text": [
      "total condition no.: 64\n",
      "total device no.: 64\n",
      "maximum Y (PCE [%]):  10.33\n"
     ]
    },
    {
     "name": "stderr",
     "output_type": "stream",
     "text": [
      " /Users/JeremyXu/opt/anaconda3/lib/python3.8/site-packages/emukit/bayesian_optimization/acquisitions/log_acquisition.py:25: RuntimeWarning:invalid value encountered in log\n",
      "reconstraining parameters Mat52.lengthscale\n",
      "reconstraining parameters Mat52.variance\n"
     ]
    },
    {
     "name": "stdout",
     "output_type": "stream",
     "text": [
      "total condition no.: 80\n",
      "total device no.: 80\n",
      "maximum Y (PCE [%]):  10.45\n"
     ]
    },
    {
     "name": "stderr",
     "output_type": "stream",
     "text": [
      "reconstraining parameters Mat52.lengthscale\n",
      "reconstraining parameters Mat52.variance\n"
     ]
    },
    {
     "name": "stdout",
     "output_type": "stream",
     "text": [
      "total condition no.: 96\n",
      "total device no.: 96\n",
      "maximum Y (PCE [%]):  10.6\n"
     ]
    },
    {
     "name": "stderr",
     "output_type": "stream",
     "text": [
      "reconstraining parameters Mat52.lengthscale\n",
      "reconstraining parameters Mat52.variance\n"
     ]
    },
    {
     "name": "stdout",
     "output_type": "stream",
     "text": [
      "total condition no.: 112\n",
      "total device no.: 112\n",
      "maximum Y (PCE [%]):  10.92\n"
     ]
    },
    {
     "name": "stderr",
     "output_type": "stream",
     "text": [
      "reconstraining parameters Mat52.lengthscale\n",
      "reconstraining parameters Mat52.variance\n"
     ]
    },
    {
     "name": "stdout",
     "output_type": "stream",
     "text": [
      "     MAPbI Conc [M]  CH₂I₂ Conc [μL]  PC voltage [V]  PC length [ms]  \\\n",
      "127        1.345982        233.69908      298.835639       27.030916   \n",
      "\n",
      "     Efficiency [%]  \n",
      "127       10.983208  \n"
     ]
    },
    {
     "name": "stderr",
     "output_type": "stream",
     "text": [
      "reconstraining parameters Mat52.lengthscale\n",
      "reconstraining parameters Mat52.variance\n"
     ]
    },
    {
     "name": "stdout",
     "output_type": "stream",
     "text": [
      "total condition no.: 16\n",
      "total device no.: 16\n",
      "maximum Y (PCE [%]):  9.81\n",
      "total condition no.: 32\n",
      "total device no.: 32\n",
      "maximum Y (PCE [%]):  10.12\n"
     ]
    },
    {
     "name": "stderr",
     "output_type": "stream",
     "text": [
      " /Users/JeremyXu/opt/anaconda3/lib/python3.8/site-packages/emukit/bayesian_optimization/acquisitions/log_acquisition.py:25: RuntimeWarning:invalid value encountered in log\n",
      "reconstraining parameters Mat52.lengthscale\n",
      "reconstraining parameters Mat52.variance\n"
     ]
    },
    {
     "name": "stdout",
     "output_type": "stream",
     "text": [
      "total condition no.: 48\n",
      "total device no.: 48\n",
      "maximum Y (PCE [%]):  10.17\n"
     ]
    },
    {
     "name": "stderr",
     "output_type": "stream",
     "text": [
      "reconstraining parameters Mat52.lengthscale\n",
      "reconstraining parameters Mat52.variance\n"
     ]
    },
    {
     "name": "stdout",
     "output_type": "stream",
     "text": [
      "total condition no.: 64\n",
      "total device no.: 64\n",
      "maximum Y (PCE [%]):  10.32\n"
     ]
    },
    {
     "name": "stderr",
     "output_type": "stream",
     "text": [
      "reconstraining parameters Mat52.lengthscale\n",
      "reconstraining parameters Mat52.variance\n"
     ]
    },
    {
     "name": "stdout",
     "output_type": "stream",
     "text": [
      "total condition no.: 80\n",
      "total device no.: 80\n",
      "maximum Y (PCE [%]):  10.49\n"
     ]
    },
    {
     "name": "stderr",
     "output_type": "stream",
     "text": [
      "reconstraining parameters Mat52.lengthscale\n",
      "reconstraining parameters Mat52.variance\n"
     ]
    },
    {
     "name": "stdout",
     "output_type": "stream",
     "text": [
      "total condition no.: 96\n",
      "total device no.: 96\n",
      "maximum Y (PCE [%]):  10.49\n"
     ]
    },
    {
     "name": "stderr",
     "output_type": "stream",
     "text": [
      "reconstraining parameters Mat52.lengthscale\n",
      "reconstraining parameters Mat52.variance\n"
     ]
    },
    {
     "name": "stdout",
     "output_type": "stream",
     "text": [
      "total condition no.: 112\n",
      "total device no.: 112\n",
      "maximum Y (PCE [%]):  10.52\n"
     ]
    },
    {
     "name": "stderr",
     "output_type": "stream",
     "text": [
      "reconstraining parameters Mat52.lengthscale\n",
      "reconstraining parameters Mat52.variance\n"
     ]
    },
    {
     "name": "stdout",
     "output_type": "stream",
     "text": [
      "     MAPbI Conc [M]  CH₂I₂ Conc [μL]  PC voltage [V]  PC length [ms]  \\\n",
      "108        1.493444       204.124622      292.455034       52.679881   \n",
      "\n",
      "     Efficiency [%]  \n",
      "108       10.515472  \n"
     ]
    },
    {
     "name": "stderr",
     "output_type": "stream",
     "text": [
      "reconstraining parameters Mat52.lengthscale\n",
      "reconstraining parameters Mat52.variance\n"
     ]
    },
    {
     "name": "stdout",
     "output_type": "stream",
     "text": [
      "total condition no.: 16\n",
      "total device no.: 16\n",
      "maximum Y (PCE [%]):  9.2\n",
      "total condition no.: 32\n",
      "total device no.: 32\n",
      "maximum Y (PCE [%]):  10.91\n"
     ]
    },
    {
     "name": "stderr",
     "output_type": "stream",
     "text": [
      "reconstraining parameters Mat52.lengthscale\n",
      "reconstraining parameters Mat52.variance\n"
     ]
    },
    {
     "name": "stdout",
     "output_type": "stream",
     "text": [
      "total condition no.: 48\n",
      "total device no.: 48\n",
      "maximum Y (PCE [%]):  10.91\n"
     ]
    },
    {
     "name": "stderr",
     "output_type": "stream",
     "text": [
      "reconstraining parameters Mat52.lengthscale\n",
      "reconstraining parameters Mat52.variance\n"
     ]
    },
    {
     "name": "stdout",
     "output_type": "stream",
     "text": [
      "total condition no.: 64\n",
      "total device no.: 64\n",
      "maximum Y (PCE [%]):  10.91\n"
     ]
    },
    {
     "name": "stderr",
     "output_type": "stream",
     "text": [
      "reconstraining parameters Mat52.lengthscale\n",
      "reconstraining parameters Mat52.variance\n"
     ]
    },
    {
     "name": "stdout",
     "output_type": "stream",
     "text": [
      "total condition no.: 80\n",
      "total device no.: 80\n",
      "maximum Y (PCE [%]):  10.91\n"
     ]
    },
    {
     "name": "stderr",
     "output_type": "stream",
     "text": [
      "reconstraining parameters Mat52.lengthscale\n",
      "reconstraining parameters Mat52.variance\n"
     ]
    },
    {
     "name": "stdout",
     "output_type": "stream",
     "text": [
      "total condition no.: 96\n",
      "total device no.: 96\n",
      "maximum Y (PCE [%]):  10.97\n"
     ]
    },
    {
     "name": "stderr",
     "output_type": "stream",
     "text": [
      "reconstraining parameters Mat52.lengthscale\n",
      "reconstraining parameters Mat52.variance\n"
     ]
    },
    {
     "name": "stdout",
     "output_type": "stream",
     "text": [
      "total condition no.: 112\n",
      "total device no.: 112\n",
      "maximum Y (PCE [%]):  10.98\n"
     ]
    },
    {
     "name": "stderr",
     "output_type": "stream",
     "text": [
      "reconstraining parameters Mat52.lengthscale\n",
      "reconstraining parameters Mat52.variance\n"
     ]
    },
    {
     "name": "stdout",
     "output_type": "stream",
     "text": [
      "     MAPbI Conc [M]  CH₂I₂ Conc [μL]  PC voltage [V]  PC length [ms]  \\\n",
      "117        1.397624            252.5      308.410685       23.373948   \n",
      "\n",
      "     Efficiency [%]  \n",
      "117       10.989417  \n"
     ]
    },
    {
     "name": "stderr",
     "output_type": "stream",
     "text": [
      "reconstraining parameters Mat52.lengthscale\n",
      "reconstraining parameters Mat52.variance\n"
     ]
    },
    {
     "name": "stdout",
     "output_type": "stream",
     "text": [
      "total condition no.: 16\n",
      "total device no.: 16\n",
      "maximum Y (PCE [%]):  9.38\n",
      "total condition no.: 32\n",
      "total device no.: 32\n",
      "maximum Y (PCE [%]):  10.32\n"
     ]
    },
    {
     "name": "stderr",
     "output_type": "stream",
     "text": [
      "reconstraining parameters Mat52.lengthscale\n",
      "reconstraining parameters Mat52.variance\n"
     ]
    },
    {
     "name": "stdout",
     "output_type": "stream",
     "text": [
      "total condition no.: 48\n",
      "total device no.: 48\n",
      "maximum Y (PCE [%]):  10.32\n"
     ]
    },
    {
     "name": "stderr",
     "output_type": "stream",
     "text": [
      "reconstraining parameters Mat52.lengthscale\n",
      "reconstraining parameters Mat52.variance\n"
     ]
    },
    {
     "name": "stdout",
     "output_type": "stream",
     "text": [
      "total condition no.: 64\n",
      "total device no.: 64\n",
      "maximum Y (PCE [%]):  10.32\n"
     ]
    },
    {
     "name": "stderr",
     "output_type": "stream",
     "text": [
      "reconstraining parameters Mat52.lengthscale\n",
      "reconstraining parameters Mat52.variance\n"
     ]
    },
    {
     "name": "stdout",
     "output_type": "stream",
     "text": [
      "total condition no.: 80\n",
      "total device no.: 80\n",
      "maximum Y (PCE [%]):  10.32\n"
     ]
    },
    {
     "name": "stderr",
     "output_type": "stream",
     "text": [
      "reconstraining parameters Mat52.lengthscale\n",
      "reconstraining parameters Mat52.variance\n"
     ]
    },
    {
     "name": "stdout",
     "output_type": "stream",
     "text": [
      "total condition no.: 96\n",
      "total device no.: 96\n",
      "maximum Y (PCE [%]):  10.52\n"
     ]
    },
    {
     "name": "stderr",
     "output_type": "stream",
     "text": [
      "reconstraining parameters Mat52.lengthscale\n",
      "reconstraining parameters Mat52.variance\n"
     ]
    },
    {
     "name": "stdout",
     "output_type": "stream",
     "text": [
      "total condition no.: 112\n",
      "total device no.: 112\n",
      "maximum Y (PCE [%]):  10.91\n"
     ]
    },
    {
     "name": "stderr",
     "output_type": "stream",
     "text": [
      "reconstraining parameters Mat52.lengthscale\n",
      "reconstraining parameters Mat52.variance\n"
     ]
    },
    {
     "name": "stdout",
     "output_type": "stream",
     "text": [
      "     MAPbI Conc [M]  CH₂I₂ Conc [μL]  PC voltage [V]  PC length [ms]  \\\n",
      "115        1.341706       196.262959      291.130853       24.959942   \n",
      "\n",
      "     Efficiency [%]  \n",
      "115       11.252167  \n"
     ]
    },
    {
     "name": "stderr",
     "output_type": "stream",
     "text": [
      "reconstraining parameters Mat52.lengthscale\n",
      "reconstraining parameters Mat52.variance\n"
     ]
    },
    {
     "name": "stdout",
     "output_type": "stream",
     "text": [
      "total condition no.: 16\n",
      "total device no.: 16\n",
      "maximum Y (PCE [%]):  10.24\n",
      "total condition no.: 32\n",
      "total device no.: 32\n",
      "maximum Y (PCE [%]):  10.55\n"
     ]
    },
    {
     "name": "stderr",
     "output_type": "stream",
     "text": [
      "reconstraining parameters Mat52.lengthscale\n",
      "reconstraining parameters Mat52.variance\n"
     ]
    },
    {
     "name": "stdout",
     "output_type": "stream",
     "text": [
      "total condition no.: 48\n",
      "total device no.: 48\n",
      "maximum Y (PCE [%]):  10.55\n"
     ]
    },
    {
     "name": "stderr",
     "output_type": "stream",
     "text": [
      "reconstraining parameters Mat52.lengthscale\n",
      "reconstraining parameters Mat52.variance\n"
     ]
    },
    {
     "name": "stdout",
     "output_type": "stream",
     "text": [
      "total condition no.: 64\n",
      "total device no.: 64\n",
      "maximum Y (PCE [%]):  10.55\n"
     ]
    },
    {
     "name": "stderr",
     "output_type": "stream",
     "text": [
      "reconstraining parameters Mat52.lengthscale\n",
      "reconstraining parameters Mat52.variance\n"
     ]
    },
    {
     "name": "stdout",
     "output_type": "stream",
     "text": [
      "total condition no.: 80\n",
      "total device no.: 80\n",
      "maximum Y (PCE [%]):  11.05\n"
     ]
    },
    {
     "name": "stderr",
     "output_type": "stream",
     "text": [
      "reconstraining parameters Mat52.lengthscale\n",
      "reconstraining parameters Mat52.variance\n"
     ]
    },
    {
     "name": "stdout",
     "output_type": "stream",
     "text": [
      "total condition no.: 96\n",
      "total device no.: 96\n",
      "maximum Y (PCE [%]):  11.05\n"
     ]
    },
    {
     "name": "stderr",
     "output_type": "stream",
     "text": [
      "reconstraining parameters Mat52.lengthscale\n",
      "reconstraining parameters Mat52.variance\n"
     ]
    },
    {
     "name": "stdout",
     "output_type": "stream",
     "text": [
      "total condition no.: 112\n",
      "total device no.: 112\n",
      "maximum Y (PCE [%]):  11.05\n"
     ]
    },
    {
     "name": "stderr",
     "output_type": "stream",
     "text": [
      "reconstraining parameters Mat52.lengthscale\n",
      "reconstraining parameters Mat52.variance\n"
     ]
    },
    {
     "name": "stdout",
     "output_type": "stream",
     "text": [
      "    MAPbI Conc [M]  CH₂I₂ Conc [μL]  PC voltage [V]  PC length [ms]  \\\n",
      "79        1.406282       232.623157      295.643342       25.347666   \n",
      "\n",
      "    Efficiency [%]  \n",
      "79         11.0506  \n"
     ]
    },
    {
     "name": "stderr",
     "output_type": "stream",
     "text": [
      "reconstraining parameters Mat52.lengthscale\n",
      "reconstraining parameters Mat52.variance\n"
     ]
    },
    {
     "name": "stdout",
     "output_type": "stream",
     "text": [
      "total condition no.: 16\n",
      "total device no.: 16\n",
      "maximum Y (PCE [%]):  10.22\n",
      "total condition no.: 32\n",
      "total device no.: 32\n",
      "maximum Y (PCE [%]):  10.49\n"
     ]
    },
    {
     "name": "stderr",
     "output_type": "stream",
     "text": [
      "reconstraining parameters Mat52.lengthscale\n",
      "reconstraining parameters Mat52.variance\n"
     ]
    },
    {
     "name": "stdout",
     "output_type": "stream",
     "text": [
      "total condition no.: 48\n",
      "total device no.: 48\n",
      "maximum Y (PCE [%]):  10.49\n"
     ]
    },
    {
     "name": "stderr",
     "output_type": "stream",
     "text": [
      "reconstraining parameters Mat52.lengthscale\n",
      "reconstraining parameters Mat52.variance\n"
     ]
    },
    {
     "name": "stdout",
     "output_type": "stream",
     "text": [
      "total condition no.: 64\n",
      "total device no.: 64\n",
      "maximum Y (PCE [%]):  10.72\n"
     ]
    },
    {
     "name": "stderr",
     "output_type": "stream",
     "text": [
      "reconstraining parameters Mat52.lengthscale\n",
      "reconstraining parameters Mat52.variance\n"
     ]
    },
    {
     "name": "stdout",
     "output_type": "stream",
     "text": [
      "total condition no.: 80\n",
      "total device no.: 80\n",
      "maximum Y (PCE [%]):  10.75\n"
     ]
    },
    {
     "name": "stderr",
     "output_type": "stream",
     "text": [
      "reconstraining parameters Mat52.lengthscale\n",
      "reconstraining parameters Mat52.variance\n"
     ]
    },
    {
     "name": "stdout",
     "output_type": "stream",
     "text": [
      "total condition no.: 96\n",
      "total device no.: 96\n",
      "maximum Y (PCE [%]):  10.75\n"
     ]
    },
    {
     "name": "stderr",
     "output_type": "stream",
     "text": [
      "reconstraining parameters Mat52.lengthscale\n",
      "reconstraining parameters Mat52.variance\n"
     ]
    },
    {
     "name": "stdout",
     "output_type": "stream",
     "text": [
      "total condition no.: 112\n",
      "total device no.: 112\n",
      "maximum Y (PCE [%]):  10.75\n"
     ]
    },
    {
     "name": "stderr",
     "output_type": "stream",
     "text": [
      "reconstraining parameters Mat52.lengthscale\n",
      "reconstraining parameters Mat52.variance\n"
     ]
    },
    {
     "name": "stdout",
     "output_type": "stream",
     "text": [
      "    MAPbI Conc [M]  CH₂I₂ Conc [μL]  PC voltage [V]  PC length [ms]  \\\n",
      "66        1.502835       181.514893      289.982518       57.229606   \n",
      "\n",
      "    Efficiency [%]  \n",
      "66       10.754722  \n"
     ]
    },
    {
     "name": "stderr",
     "output_type": "stream",
     "text": [
      "reconstraining parameters Mat52.lengthscale\n",
      "reconstraining parameters Mat52.variance\n"
     ]
    },
    {
     "name": "stdout",
     "output_type": "stream",
     "text": [
      "total condition no.: 16\n",
      "total device no.: 16\n",
      "maximum Y (PCE [%]):  10.16\n",
      "total condition no.: 32\n",
      "total device no.: 32\n",
      "maximum Y (PCE [%]):  10.33\n"
     ]
    },
    {
     "name": "stderr",
     "output_type": "stream",
     "text": [
      "reconstraining parameters Mat52.lengthscale\n",
      "reconstraining parameters Mat52.variance\n"
     ]
    },
    {
     "name": "stdout",
     "output_type": "stream",
     "text": [
      "total condition no.: 48\n",
      "total device no.: 48\n",
      "maximum Y (PCE [%]):  10.49\n"
     ]
    },
    {
     "name": "stderr",
     "output_type": "stream",
     "text": [
      "reconstraining parameters Mat52.lengthscale\n",
      "reconstraining parameters Mat52.variance\n"
     ]
    },
    {
     "name": "stdout",
     "output_type": "stream",
     "text": [
      "total condition no.: 64\n",
      "total device no.: 64\n",
      "maximum Y (PCE [%]):  10.49\n"
     ]
    },
    {
     "name": "stderr",
     "output_type": "stream",
     "text": [
      "reconstraining parameters Mat52.lengthscale\n",
      "reconstraining parameters Mat52.variance\n"
     ]
    },
    {
     "name": "stdout",
     "output_type": "stream",
     "text": [
      "total condition no.: 80\n",
      "total device no.: 80\n",
      "maximum Y (PCE [%]):  10.49\n"
     ]
    },
    {
     "name": "stderr",
     "output_type": "stream",
     "text": [
      "reconstraining parameters Mat52.lengthscale\n",
      "reconstraining parameters Mat52.variance\n"
     ]
    },
    {
     "name": "stdout",
     "output_type": "stream",
     "text": [
      "total condition no.: 96\n",
      "total device no.: 96\n",
      "maximum Y (PCE [%]):  10.49\n"
     ]
    },
    {
     "name": "stderr",
     "output_type": "stream",
     "text": [
      "reconstraining parameters Mat52.lengthscale\n",
      "reconstraining parameters Mat52.variance\n"
     ]
    },
    {
     "name": "stdout",
     "output_type": "stream",
     "text": [
      "total condition no.: 112\n",
      "total device no.: 112\n",
      "maximum Y (PCE [%]):  10.49\n"
     ]
    },
    {
     "name": "stderr",
     "output_type": "stream",
     "text": [
      "reconstraining parameters Mat52.lengthscale\n",
      "reconstraining parameters Mat52.variance\n"
     ]
    },
    {
     "name": "stdout",
     "output_type": "stream",
     "text": [
      "     MAPbI Conc [M]  CH₂I₂ Conc [μL]  PC voltage [V]  PC length [ms]  \\\n",
      "122        1.457665        196.85802      287.520824       54.827801   \n",
      "\n",
      "     Efficiency [%]  \n",
      "122       10.531325  \n"
     ]
    },
    {
     "name": "stderr",
     "output_type": "stream",
     "text": [
      " /Users/JeremyXu/opt/anaconda3/lib/python3.8/site-packages/emukit/bayesian_optimization/acquisitions/log_acquisition.py:25: RuntimeWarning:invalid value encountered in log\n",
      "reconstraining parameters Mat52.lengthscale\n",
      "reconstraining parameters Mat52.variance\n"
     ]
    },
    {
     "name": "stdout",
     "output_type": "stream",
     "text": [
      "total condition no.: 16\n",
      "total device no.: 16\n",
      "maximum Y (PCE [%]):  9.81\n",
      "total condition no.: 32\n",
      "total device no.: 32\n",
      "maximum Y (PCE [%]):  9.86\n"
     ]
    },
    {
     "name": "stderr",
     "output_type": "stream",
     "text": [
      "reconstraining parameters Mat52.lengthscale\n",
      "reconstraining parameters Mat52.variance\n"
     ]
    },
    {
     "name": "stdout",
     "output_type": "stream",
     "text": [
      "total condition no.: 48\n",
      "total device no.: 48\n",
      "maximum Y (PCE [%]):  10.48\n"
     ]
    },
    {
     "name": "stderr",
     "output_type": "stream",
     "text": [
      "reconstraining parameters Mat52.lengthscale\n",
      "reconstraining parameters Mat52.variance\n"
     ]
    },
    {
     "name": "stdout",
     "output_type": "stream",
     "text": [
      "total condition no.: 64\n",
      "total device no.: 64\n",
      "maximum Y (PCE [%]):  10.48\n"
     ]
    },
    {
     "name": "stderr",
     "output_type": "stream",
     "text": [
      "reconstraining parameters Mat52.lengthscale\n",
      "reconstraining parameters Mat52.variance\n"
     ]
    },
    {
     "name": "stdout",
     "output_type": "stream",
     "text": [
      "total condition no.: 80\n",
      "total device no.: 80\n",
      "maximum Y (PCE [%]):  10.57\n"
     ]
    },
    {
     "name": "stderr",
     "output_type": "stream",
     "text": [
      "reconstraining parameters Mat52.lengthscale\n",
      "reconstraining parameters Mat52.variance\n"
     ]
    },
    {
     "name": "stdout",
     "output_type": "stream",
     "text": [
      "total condition no.: 96\n",
      "total device no.: 96\n",
      "maximum Y (PCE [%]):  10.57\n"
     ]
    },
    {
     "name": "stderr",
     "output_type": "stream",
     "text": [
      "reconstraining parameters Mat52.lengthscale\n",
      "reconstraining parameters Mat52.variance\n"
     ]
    },
    {
     "name": "stdout",
     "output_type": "stream",
     "text": [
      "total condition no.: 112\n",
      "total device no.: 112\n",
      "maximum Y (PCE [%]):  10.57\n"
     ]
    },
    {
     "name": "stderr",
     "output_type": "stream",
     "text": [
      "reconstraining parameters Mat52.lengthscale\n",
      "reconstraining parameters Mat52.variance\n"
     ]
    },
    {
     "name": "stdout",
     "output_type": "stream",
     "text": [
      "     MAPbI Conc [M]  CH₂I₂ Conc [μL]  PC voltage [V]  PC length [ms]  \\\n",
      "127        1.406032       207.810229      297.826015       25.777544   \n",
      "\n",
      "     Efficiency [%]  \n",
      "127       10.956667  \n"
     ]
    },
    {
     "name": "stderr",
     "output_type": "stream",
     "text": [
      "reconstraining parameters Mat52.lengthscale\n",
      "reconstraining parameters Mat52.variance\n"
     ]
    },
    {
     "name": "stdout",
     "output_type": "stream",
     "text": [
      "total condition no.: 16\n",
      "total device no.: 16\n",
      "maximum Y (PCE [%]):  9.81\n",
      "total condition no.: 32\n",
      "total device no.: 32\n",
      "maximum Y (PCE [%]):  9.81\n"
     ]
    },
    {
     "name": "stderr",
     "output_type": "stream",
     "text": [
      "reconstraining parameters Mat52.lengthscale\n",
      "reconstraining parameters Mat52.variance\n"
     ]
    },
    {
     "name": "stdout",
     "output_type": "stream",
     "text": [
      "total condition no.: 48\n",
      "total device no.: 48\n",
      "maximum Y (PCE [%]):  10.52\n"
     ]
    },
    {
     "name": "stderr",
     "output_type": "stream",
     "text": [
      "reconstraining parameters Mat52.lengthscale\n",
      "reconstraining parameters Mat52.variance\n"
     ]
    },
    {
     "name": "stdout",
     "output_type": "stream",
     "text": [
      "total condition no.: 64\n",
      "total device no.: 64\n",
      "maximum Y (PCE [%]):  10.52\n"
     ]
    },
    {
     "name": "stderr",
     "output_type": "stream",
     "text": [
      " /Users/JeremyXu/opt/anaconda3/lib/python3.8/site-packages/emukit/bayesian_optimization/acquisitions/log_acquisition.py:25: RuntimeWarning:invalid value encountered in log\n",
      "reconstraining parameters Mat52.lengthscale\n",
      "reconstraining parameters Mat52.variance\n"
     ]
    },
    {
     "name": "stdout",
     "output_type": "stream",
     "text": [
      "total condition no.: 80\n",
      "total device no.: 80\n",
      "maximum Y (PCE [%]):  10.52\n"
     ]
    },
    {
     "name": "stderr",
     "output_type": "stream",
     "text": [
      "reconstraining parameters Mat52.lengthscale\n",
      "reconstraining parameters Mat52.variance\n"
     ]
    },
    {
     "name": "stdout",
     "output_type": "stream",
     "text": [
      "total condition no.: 96\n",
      "total device no.: 96\n",
      "maximum Y (PCE [%]):  10.52\n"
     ]
    },
    {
     "name": "stderr",
     "output_type": "stream",
     "text": [
      " /Users/JeremyXu/opt/anaconda3/lib/python3.8/site-packages/emukit/bayesian_optimization/acquisitions/log_acquisition.py:25: RuntimeWarning:invalid value encountered in log\n",
      "reconstraining parameters Mat52.lengthscale\n",
      "reconstraining parameters Mat52.variance\n"
     ]
    },
    {
     "name": "stdout",
     "output_type": "stream",
     "text": [
      "total condition no.: 112\n",
      "total device no.: 112\n",
      "maximum Y (PCE [%]):  10.52\n"
     ]
    },
    {
     "name": "stderr",
     "output_type": "stream",
     "text": [
      "reconstraining parameters Mat52.lengthscale\n",
      "reconstraining parameters Mat52.variance\n"
     ]
    },
    {
     "name": "stdout",
     "output_type": "stream",
     "text": [
      "    MAPbI Conc [M]  CH₂I₂ Conc [μL]  PC voltage [V]  PC length [ms]  \\\n",
      "97        1.404701       179.276403      289.925714       51.013928   \n",
      "\n",
      "    Efficiency [%]  \n",
      "97       10.519435  \n"
     ]
    },
    {
     "name": "stderr",
     "output_type": "stream",
     "text": [
      "reconstraining parameters Mat52.lengthscale\n",
      "reconstraining parameters Mat52.variance\n"
     ]
    },
    {
     "name": "stdout",
     "output_type": "stream",
     "text": [
      "total condition no.: 16\n",
      "total device no.: 16\n",
      "maximum Y (PCE [%]):  9.81\n",
      "total condition no.: 32\n",
      "total device no.: 32\n",
      "maximum Y (PCE [%]):  10.21\n"
     ]
    },
    {
     "name": "stderr",
     "output_type": "stream",
     "text": [
      "reconstraining parameters Mat52.lengthscale\n",
      "reconstraining parameters Mat52.variance\n"
     ]
    },
    {
     "name": "stdout",
     "output_type": "stream",
     "text": [
      "total condition no.: 48\n",
      "total device no.: 48\n",
      "maximum Y (PCE [%]):  10.21\n"
     ]
    },
    {
     "name": "stderr",
     "output_type": "stream",
     "text": [
      "reconstraining parameters Mat52.lengthscale\n",
      "reconstraining parameters Mat52.variance\n"
     ]
    },
    {
     "name": "stdout",
     "output_type": "stream",
     "text": [
      "total condition no.: 64\n",
      "total device no.: 64\n",
      "maximum Y (PCE [%]):  10.48\n"
     ]
    },
    {
     "name": "stderr",
     "output_type": "stream",
     "text": [
      "reconstraining parameters Mat52.lengthscale\n",
      "reconstraining parameters Mat52.variance\n"
     ]
    },
    {
     "name": "stdout",
     "output_type": "stream",
     "text": [
      "total condition no.: 80\n",
      "total device no.: 80\n",
      "maximum Y (PCE [%]):  10.85\n"
     ]
    },
    {
     "name": "stderr",
     "output_type": "stream",
     "text": [
      " /Users/JeremyXu/opt/anaconda3/lib/python3.8/site-packages/emukit/bayesian_optimization/acquisitions/log_acquisition.py:25: RuntimeWarning:invalid value encountered in log\n",
      "reconstraining parameters Mat52.lengthscale\n",
      "reconstraining parameters Mat52.variance\n"
     ]
    },
    {
     "name": "stdout",
     "output_type": "stream",
     "text": [
      "total condition no.: 96\n",
      "total device no.: 96\n",
      "maximum Y (PCE [%]):  10.85\n"
     ]
    },
    {
     "name": "stderr",
     "output_type": "stream",
     "text": [
      "reconstraining parameters Mat52.lengthscale\n",
      "reconstraining parameters Mat52.variance\n"
     ]
    },
    {
     "name": "stdout",
     "output_type": "stream",
     "text": [
      "total condition no.: 112\n",
      "total device no.: 112\n",
      "maximum Y (PCE [%]):  10.99\n"
     ]
    },
    {
     "name": "stderr",
     "output_type": "stream",
     "text": [
      "reconstraining parameters Mat52.lengthscale\n",
      "reconstraining parameters Mat52.variance\n"
     ]
    },
    {
     "name": "stdout",
     "output_type": "stream",
     "text": [
      "     MAPbI Conc [M]  CH₂I₂ Conc [μL]  PC voltage [V]  PC length [ms]  \\\n",
      "100         1.45034       186.369232      299.945789        26.72811   \n",
      "\n",
      "     Efficiency [%]  \n",
      "100       10.989808  \n"
     ]
    },
    {
     "name": "stderr",
     "output_type": "stream",
     "text": [
      "reconstraining parameters Mat52.lengthscale\n",
      "reconstraining parameters Mat52.variance\n"
     ]
    },
    {
     "name": "stdout",
     "output_type": "stream",
     "text": [
      "total condition no.: 16\n",
      "total device no.: 16\n",
      "maximum Y (PCE [%]):  10.22\n",
      "total condition no.: 32\n",
      "total device no.: 32\n",
      "maximum Y (PCE [%]):  10.22\n"
     ]
    },
    {
     "name": "stderr",
     "output_type": "stream",
     "text": [
      "reconstraining parameters Mat52.lengthscale\n",
      "reconstraining parameters Mat52.variance\n"
     ]
    },
    {
     "name": "stdout",
     "output_type": "stream",
     "text": [
      "total condition no.: 48\n",
      "total device no.: 48\n",
      "maximum Y (PCE [%]):  10.22\n"
     ]
    },
    {
     "name": "stderr",
     "output_type": "stream",
     "text": [
      "reconstraining parameters Mat52.lengthscale\n",
      "reconstraining parameters Mat52.variance\n"
     ]
    },
    {
     "name": "stdout",
     "output_type": "stream",
     "text": [
      "total condition no.: 64\n",
      "total device no.: 64\n",
      "maximum Y (PCE [%]):  11.0\n"
     ]
    },
    {
     "name": "stderr",
     "output_type": "stream",
     "text": [
      " /Users/JeremyXu/opt/anaconda3/lib/python3.8/site-packages/emukit/bayesian_optimization/acquisitions/log_acquisition.py:25: RuntimeWarning:invalid value encountered in log\n",
      "reconstraining parameters Mat52.lengthscale\n",
      "reconstraining parameters Mat52.variance\n"
     ]
    },
    {
     "name": "stdout",
     "output_type": "stream",
     "text": [
      "total condition no.: 80\n",
      "total device no.: 80\n",
      "maximum Y (PCE [%]):  11.05\n"
     ]
    },
    {
     "name": "stderr",
     "output_type": "stream",
     "text": [
      " /Users/JeremyXu/opt/anaconda3/lib/python3.8/site-packages/emukit/bayesian_optimization/acquisitions/log_acquisition.py:25: RuntimeWarning:invalid value encountered in log\n",
      "reconstraining parameters Mat52.lengthscale\n",
      "reconstraining parameters Mat52.variance\n"
     ]
    },
    {
     "name": "stdout",
     "output_type": "stream",
     "text": [
      "total condition no.: 96\n",
      "total device no.: 96\n",
      "maximum Y (PCE [%]):  11.05\n"
     ]
    },
    {
     "name": "stderr",
     "output_type": "stream",
     "text": [
      "reconstraining parameters Mat52.lengthscale\n",
      "reconstraining parameters Mat52.variance\n"
     ]
    },
    {
     "name": "stdout",
     "output_type": "stream",
     "text": [
      "total condition no.: 112\n",
      "total device no.: 112\n",
      "maximum Y (PCE [%]):  11.05\n"
     ]
    },
    {
     "name": "stderr",
     "output_type": "stream",
     "text": [
      "reconstraining parameters Mat52.lengthscale\n",
      "reconstraining parameters Mat52.variance\n"
     ]
    },
    {
     "name": "stdout",
     "output_type": "stream",
     "text": [
      "    MAPbI Conc [M]  CH₂I₂ Conc [μL]  PC voltage [V]  PC length [ms]  \\\n",
      "66        1.479263       216.499964      294.155805       22.379955   \n",
      "\n",
      "    Efficiency [%]  \n",
      "66       11.054817  \n"
     ]
    },
    {
     "name": "stderr",
     "output_type": "stream",
     "text": [
      "reconstraining parameters Mat52.lengthscale\n",
      "reconstraining parameters Mat52.variance\n"
     ]
    },
    {
     "name": "stdout",
     "output_type": "stream",
     "text": [
      "total condition no.: 16\n",
      "total device no.: 16\n",
      "maximum Y (PCE [%]):  9.81\n",
      "total condition no.: 32\n",
      "total device no.: 32\n",
      "maximum Y (PCE [%]):  10.32\n"
     ]
    },
    {
     "name": "stderr",
     "output_type": "stream",
     "text": [
      "reconstraining parameters Mat52.lengthscale\n",
      "reconstraining parameters Mat52.variance\n"
     ]
    },
    {
     "name": "stdout",
     "output_type": "stream",
     "text": [
      "total condition no.: 48\n",
      "total device no.: 48\n",
      "maximum Y (PCE [%]):  10.58\n"
     ]
    },
    {
     "name": "stderr",
     "output_type": "stream",
     "text": [
      "reconstraining parameters Mat52.lengthscale\n",
      "reconstraining parameters Mat52.variance\n"
     ]
    },
    {
     "name": "stdout",
     "output_type": "stream",
     "text": [
      "total condition no.: 64\n",
      "total device no.: 64\n",
      "maximum Y (PCE [%]):  10.98\n"
     ]
    },
    {
     "name": "stderr",
     "output_type": "stream",
     "text": [
      "reconstraining parameters Mat52.lengthscale\n",
      "reconstraining parameters Mat52.variance\n"
     ]
    },
    {
     "name": "stdout",
     "output_type": "stream",
     "text": [
      "total condition no.: 80\n",
      "total device no.: 80\n",
      "maximum Y (PCE [%]):  10.98\n"
     ]
    },
    {
     "name": "stderr",
     "output_type": "stream",
     "text": [
      "reconstraining parameters Mat52.lengthscale\n",
      "reconstraining parameters Mat52.variance\n"
     ]
    },
    {
     "name": "stdout",
     "output_type": "stream",
     "text": [
      "total condition no.: 96\n",
      "total device no.: 96\n",
      "maximum Y (PCE [%]):  10.98\n"
     ]
    },
    {
     "name": "stderr",
     "output_type": "stream",
     "text": [
      "reconstraining parameters Mat52.lengthscale\n",
      "reconstraining parameters Mat52.variance\n"
     ]
    },
    {
     "name": "stdout",
     "output_type": "stream",
     "text": [
      "total condition no.: 112\n",
      "total device no.: 112\n",
      "maximum Y (PCE [%]):  11.0\n"
     ]
    },
    {
     "name": "stderr",
     "output_type": "stream",
     "text": [
      "reconstraining parameters Mat52.lengthscale\n",
      "reconstraining parameters Mat52.variance\n"
     ]
    },
    {
     "name": "stdout",
     "output_type": "stream",
     "text": [
      "     MAPbI Conc [M]  CH₂I₂ Conc [μL]  PC voltage [V]  PC length [ms]  \\\n",
      "121        1.348911       235.647738      297.991608       25.643079   \n",
      "\n",
      "     Efficiency [%]  \n",
      "121       11.064208  \n"
     ]
    },
    {
     "name": "stderr",
     "output_type": "stream",
     "text": [
      "reconstraining parameters Mat52.lengthscale\n",
      "reconstraining parameters Mat52.variance\n"
     ]
    },
    {
     "name": "stdout",
     "output_type": "stream",
     "text": [
      "total condition no.: 16\n",
      "total device no.: 16\n",
      "maximum Y (PCE [%]):  10.48\n",
      "total condition no.: 32\n",
      "total device no.: 32\n",
      "maximum Y (PCE [%]):  10.48\n"
     ]
    },
    {
     "name": "stderr",
     "output_type": "stream",
     "text": [
      "reconstraining parameters Mat52.lengthscale\n",
      "reconstraining parameters Mat52.variance\n"
     ]
    },
    {
     "name": "stdout",
     "output_type": "stream",
     "text": [
      "total condition no.: 48\n",
      "total device no.: 48\n",
      "maximum Y (PCE [%]):  10.68\n"
     ]
    },
    {
     "name": "stderr",
     "output_type": "stream",
     "text": [
      "reconstraining parameters Mat52.lengthscale\n",
      "reconstraining parameters Mat52.variance\n"
     ]
    },
    {
     "name": "stdout",
     "output_type": "stream",
     "text": [
      "total condition no.: 64\n",
      "total device no.: 64\n",
      "maximum Y (PCE [%]):  10.71\n"
     ]
    },
    {
     "name": "stderr",
     "output_type": "stream",
     "text": [
      "reconstraining parameters Mat52.lengthscale\n",
      "reconstraining parameters Mat52.variance\n"
     ]
    },
    {
     "name": "stdout",
     "output_type": "stream",
     "text": [
      "total condition no.: 80\n",
      "total device no.: 80\n",
      "maximum Y (PCE [%]):  10.77\n"
     ]
    },
    {
     "name": "stderr",
     "output_type": "stream",
     "text": [
      "reconstraining parameters Mat52.lengthscale\n",
      "reconstraining parameters Mat52.variance\n"
     ]
    },
    {
     "name": "stdout",
     "output_type": "stream",
     "text": [
      "total condition no.: 96\n",
      "total device no.: 96\n",
      "maximum Y (PCE [%]):  10.77\n"
     ]
    },
    {
     "name": "stderr",
     "output_type": "stream",
     "text": [
      "reconstraining parameters Mat52.lengthscale\n",
      "reconstraining parameters Mat52.variance\n"
     ]
    },
    {
     "name": "stdout",
     "output_type": "stream",
     "text": [
      "total condition no.: 112\n",
      "total device no.: 112\n",
      "maximum Y (PCE [%]):  10.77\n"
     ]
    },
    {
     "name": "stderr",
     "output_type": "stream",
     "text": [
      "reconstraining parameters Mat52.lengthscale\n",
      "reconstraining parameters Mat52.variance\n"
     ]
    },
    {
     "name": "stdout",
     "output_type": "stream",
     "text": [
      "    MAPbI Conc [M]  CH₂I₂ Conc [μL]  PC voltage [V]  PC length [ms]  \\\n",
      "68        1.483488       180.871723      292.067106       54.905059   \n",
      "\n",
      "    Efficiency [%]  \n",
      "68       10.767675  \n"
     ]
    },
    {
     "name": "stderr",
     "output_type": "stream",
     "text": [
      "reconstraining parameters Mat52.lengthscale\n",
      "reconstraining parameters Mat52.variance\n"
     ]
    },
    {
     "name": "stdout",
     "output_type": "stream",
     "text": [
      "total condition no.: 16\n",
      "total device no.: 16\n",
      "maximum Y (PCE [%]):  10.18\n",
      "total condition no.: 32\n",
      "total device no.: 32\n",
      "maximum Y (PCE [%]):  10.52\n"
     ]
    },
    {
     "name": "stderr",
     "output_type": "stream",
     "text": [
      "reconstraining parameters Mat52.lengthscale\n",
      "reconstraining parameters Mat52.variance\n"
     ]
    },
    {
     "name": "stdout",
     "output_type": "stream",
     "text": [
      "total condition no.: 48\n",
      "total device no.: 48\n",
      "maximum Y (PCE [%]):  10.52\n"
     ]
    },
    {
     "name": "stderr",
     "output_type": "stream",
     "text": [
      "reconstraining parameters Mat52.lengthscale\n",
      "reconstraining parameters Mat52.variance\n"
     ]
    },
    {
     "name": "stdout",
     "output_type": "stream",
     "text": [
      "total condition no.: 64\n",
      "total device no.: 64\n",
      "maximum Y (PCE [%]):  10.52\n"
     ]
    },
    {
     "name": "stderr",
     "output_type": "stream",
     "text": [
      "reconstraining parameters Mat52.lengthscale\n",
      "reconstraining parameters Mat52.variance\n"
     ]
    },
    {
     "name": "stdout",
     "output_type": "stream",
     "text": [
      "total condition no.: 80\n",
      "total device no.: 80\n",
      "maximum Y (PCE [%]):  10.98\n"
     ]
    },
    {
     "name": "stderr",
     "output_type": "stream",
     "text": [
      " /Users/JeremyXu/opt/anaconda3/lib/python3.8/site-packages/emukit/bayesian_optimization/acquisitions/log_acquisition.py:25: RuntimeWarning:invalid value encountered in log\n",
      "reconstraining parameters Mat52.lengthscale\n",
      "reconstraining parameters Mat52.variance\n"
     ]
    },
    {
     "name": "stdout",
     "output_type": "stream",
     "text": [
      "total condition no.: 96\n",
      "total device no.: 96\n",
      "maximum Y (PCE [%]):  11.0\n"
     ]
    },
    {
     "name": "stderr",
     "output_type": "stream",
     "text": [
      " /Users/JeremyXu/opt/anaconda3/lib/python3.8/site-packages/emukit/bayesian_optimization/acquisitions/log_acquisition.py:25: RuntimeWarning:invalid value encountered in log\n",
      "reconstraining parameters Mat52.lengthscale\n",
      "reconstraining parameters Mat52.variance\n"
     ]
    },
    {
     "name": "stdout",
     "output_type": "stream",
     "text": [
      "total condition no.: 112\n",
      "total device no.: 112\n",
      "maximum Y (PCE [%]):  11.0\n"
     ]
    },
    {
     "name": "stderr",
     "output_type": "stream",
     "text": [
      "reconstraining parameters Mat52.lengthscale\n",
      "reconstraining parameters Mat52.variance\n"
     ]
    },
    {
     "name": "stdout",
     "output_type": "stream",
     "text": [
      "    MAPbI Conc [M]  CH₂I₂ Conc [μL]  PC voltage [V]  PC length [ms]  \\\n",
      "89        1.412827            252.5      304.929427        23.94962   \n",
      "\n",
      "    Efficiency [%]  \n",
      "89       10.995933  \n"
     ]
    },
    {
     "name": "stderr",
     "output_type": "stream",
     "text": [
      "reconstraining parameters Mat52.lengthscale\n",
      "reconstraining parameters Mat52.variance\n"
     ]
    },
    {
     "name": "stdout",
     "output_type": "stream",
     "text": [
      "total condition no.: 16\n",
      "total device no.: 16\n",
      "maximum Y (PCE [%]):  9.86\n",
      "total condition no.: 32\n",
      "total device no.: 32\n",
      "maximum Y (PCE [%]):  9.92\n"
     ]
    },
    {
     "name": "stderr",
     "output_type": "stream",
     "text": [
      "reconstraining parameters Mat52.lengthscale\n",
      "reconstraining parameters Mat52.variance\n"
     ]
    },
    {
     "name": "stdout",
     "output_type": "stream",
     "text": [
      "total condition no.: 48\n",
      "total device no.: 48\n",
      "maximum Y (PCE [%]):  10.49\n"
     ]
    },
    {
     "name": "stderr",
     "output_type": "stream",
     "text": [
      "reconstraining parameters Mat52.lengthscale\n",
      "reconstraining parameters Mat52.variance\n"
     ]
    },
    {
     "name": "stdout",
     "output_type": "stream",
     "text": [
      "total condition no.: 64\n",
      "total device no.: 64\n",
      "maximum Y (PCE [%]):  11.01\n"
     ]
    },
    {
     "name": "stderr",
     "output_type": "stream",
     "text": [
      "reconstraining parameters Mat52.lengthscale\n",
      "reconstraining parameters Mat52.variance\n"
     ]
    },
    {
     "name": "stdout",
     "output_type": "stream",
     "text": [
      "total condition no.: 80\n",
      "total device no.: 80\n",
      "maximum Y (PCE [%]):  11.01\n"
     ]
    },
    {
     "name": "stderr",
     "output_type": "stream",
     "text": [
      "reconstraining parameters Mat52.lengthscale\n",
      "reconstraining parameters Mat52.variance\n"
     ]
    },
    {
     "name": "stdout",
     "output_type": "stream",
     "text": [
      "total condition no.: 96\n",
      "total device no.: 96\n",
      "maximum Y (PCE [%]):  11.12\n"
     ]
    },
    {
     "name": "stderr",
     "output_type": "stream",
     "text": [
      "reconstraining parameters Mat52.lengthscale\n",
      "reconstraining parameters Mat52.variance\n"
     ]
    },
    {
     "name": "stdout",
     "output_type": "stream",
     "text": [
      "total condition no.: 112\n",
      "total device no.: 112\n",
      "maximum Y (PCE [%]):  11.12\n"
     ]
    },
    {
     "name": "stderr",
     "output_type": "stream",
     "text": [
      "reconstraining parameters Mat52.lengthscale\n",
      "reconstraining parameters Mat52.variance\n"
     ]
    },
    {
     "name": "stdout",
     "output_type": "stream",
     "text": [
      "    MAPbI Conc [M]  CH₂I₂ Conc [μL]  PC voltage [V]  PC length [ms]  \\\n",
      "82        1.463236       179.302256      292.273661       22.844902   \n",
      "\n",
      "    Efficiency [%]  \n",
      "82         11.1173  \n"
     ]
    },
    {
     "name": "stderr",
     "output_type": "stream",
     "text": [
      " /Users/JeremyXu/opt/anaconda3/lib/python3.8/site-packages/emukit/bayesian_optimization/acquisitions/log_acquisition.py:25: RuntimeWarning:invalid value encountered in log\n",
      "reconstraining parameters Mat52.lengthscale\n",
      "reconstraining parameters Mat52.variance\n"
     ]
    },
    {
     "name": "stdout",
     "output_type": "stream",
     "text": [
      "total condition no.: 16\n",
      "total device no.: 16\n",
      "maximum Y (PCE [%]):  8.91\n",
      "total condition no.: 32\n",
      "total device no.: 32\n",
      "maximum Y (PCE [%]):  9.81\n"
     ]
    },
    {
     "name": "stderr",
     "output_type": "stream",
     "text": [
      "reconstraining parameters Mat52.lengthscale\n",
      "reconstraining parameters Mat52.variance\n"
     ]
    },
    {
     "name": "stdout",
     "output_type": "stream",
     "text": [
      "total condition no.: 48\n",
      "total device no.: 48\n",
      "maximum Y (PCE [%]):  10.14\n"
     ]
    },
    {
     "name": "stderr",
     "output_type": "stream",
     "text": [
      "reconstraining parameters Mat52.lengthscale\n",
      "reconstraining parameters Mat52.variance\n"
     ]
    },
    {
     "name": "stdout",
     "output_type": "stream",
     "text": [
      "total condition no.: 64\n",
      "total device no.: 64\n",
      "maximum Y (PCE [%]):  10.18\n"
     ]
    },
    {
     "name": "stderr",
     "output_type": "stream",
     "text": [
      "reconstraining parameters Mat52.lengthscale\n",
      "reconstraining parameters Mat52.variance\n"
     ]
    },
    {
     "name": "stdout",
     "output_type": "stream",
     "text": [
      "total condition no.: 80\n",
      "total device no.: 80\n",
      "maximum Y (PCE [%]):  10.31\n"
     ]
    },
    {
     "name": "stderr",
     "output_type": "stream",
     "text": [
      "reconstraining parameters Mat52.lengthscale\n",
      "reconstraining parameters Mat52.variance\n"
     ]
    },
    {
     "name": "stdout",
     "output_type": "stream",
     "text": [
      "total condition no.: 96\n",
      "total device no.: 96\n",
      "maximum Y (PCE [%]):  10.31\n"
     ]
    },
    {
     "name": "stderr",
     "output_type": "stream",
     "text": [
      "reconstraining parameters Mat52.lengthscale\n",
      "reconstraining parameters Mat52.variance\n"
     ]
    },
    {
     "name": "stdout",
     "output_type": "stream",
     "text": [
      "total condition no.: 112\n",
      "total device no.: 112\n",
      "maximum Y (PCE [%]):  10.31\n"
     ]
    },
    {
     "name": "stderr",
     "output_type": "stream",
     "text": [
      "reconstraining parameters Mat52.lengthscale\n",
      "reconstraining parameters Mat52.variance\n"
     ]
    },
    {
     "name": "stdout",
     "output_type": "stream",
     "text": [
      "    MAPbI Conc [M]  CH₂I₂ Conc [μL]  PC voltage [V]  PC length [ms]  \\\n",
      "67        1.367827       140.061327       298.94849       54.976048   \n",
      "\n",
      "    Efficiency [%]  \n",
      "67        10.31085  \n"
     ]
    },
    {
     "name": "stderr",
     "output_type": "stream",
     "text": [
      "reconstraining parameters Mat52.lengthscale\n",
      "reconstraining parameters Mat52.variance\n"
     ]
    },
    {
     "name": "stdout",
     "output_type": "stream",
     "text": [
      "total condition no.: 16\n",
      "total device no.: 16\n",
      "maximum Y (PCE [%]):  9.98\n",
      "total condition no.: 32\n",
      "total device no.: 32\n",
      "maximum Y (PCE [%]):  10.78\n"
     ]
    },
    {
     "name": "stderr",
     "output_type": "stream",
     "text": [
      "reconstraining parameters Mat52.lengthscale\n",
      "reconstraining parameters Mat52.variance\n"
     ]
    },
    {
     "name": "stdout",
     "output_type": "stream",
     "text": [
      "total condition no.: 48\n",
      "total device no.: 48\n",
      "maximum Y (PCE [%]):  10.83\n"
     ]
    },
    {
     "name": "stderr",
     "output_type": "stream",
     "text": [
      "reconstraining parameters Mat52.lengthscale\n",
      "reconstraining parameters Mat52.variance\n"
     ]
    },
    {
     "name": "stdout",
     "output_type": "stream",
     "text": [
      "total condition no.: 64\n",
      "total device no.: 64\n",
      "maximum Y (PCE [%]):  11.15\n"
     ]
    },
    {
     "name": "stderr",
     "output_type": "stream",
     "text": [
      "reconstraining parameters Mat52.lengthscale\n",
      "reconstraining parameters Mat52.variance\n"
     ]
    },
    {
     "name": "stdout",
     "output_type": "stream",
     "text": [
      "total condition no.: 80\n",
      "total device no.: 80\n",
      "maximum Y (PCE [%]):  11.15\n"
     ]
    },
    {
     "name": "stderr",
     "output_type": "stream",
     "text": [
      "reconstraining parameters Mat52.lengthscale\n",
      "reconstraining parameters Mat52.variance\n"
     ]
    },
    {
     "name": "stdout",
     "output_type": "stream",
     "text": [
      "total condition no.: 96\n",
      "total device no.: 96\n",
      "maximum Y (PCE [%]):  11.25\n"
     ]
    },
    {
     "name": "stderr",
     "output_type": "stream",
     "text": [
      "reconstraining parameters Mat52.lengthscale\n",
      "reconstraining parameters Mat52.variance\n"
     ]
    },
    {
     "name": "stdout",
     "output_type": "stream",
     "text": [
      "total condition no.: 112\n",
      "total device no.: 112\n",
      "maximum Y (PCE [%]):  11.25\n"
     ]
    },
    {
     "name": "stderr",
     "output_type": "stream",
     "text": [
      "reconstraining parameters Mat52.lengthscale\n",
      "reconstraining parameters Mat52.variance\n"
     ]
    },
    {
     "name": "stdout",
     "output_type": "stream",
     "text": [
      "    MAPbI Conc [M]  CH₂I₂ Conc [μL]  PC voltage [V]  PC length [ms]  \\\n",
      "82        1.351379       170.287928      291.975497       25.090626   \n",
      "\n",
      "    Efficiency [%]  \n",
      "82       11.252167  \n"
     ]
    },
    {
     "name": "stderr",
     "output_type": "stream",
     "text": [
      "reconstraining parameters Mat52.lengthscale\n",
      "reconstraining parameters Mat52.variance\n"
     ]
    },
    {
     "name": "stdout",
     "output_type": "stream",
     "text": [
      "total condition no.: 16\n",
      "total device no.: 16\n",
      "maximum Y (PCE [%]):  10.32\n",
      "total condition no.: 32\n",
      "total device no.: 32\n",
      "maximum Y (PCE [%]):  10.32\n"
     ]
    },
    {
     "name": "stderr",
     "output_type": "stream",
     "text": [
      "reconstraining parameters Mat52.lengthscale\n",
      "reconstraining parameters Mat52.variance\n"
     ]
    },
    {
     "name": "stdout",
     "output_type": "stream",
     "text": [
      "total condition no.: 48\n",
      "total device no.: 48\n",
      "maximum Y (PCE [%]):  10.32\n"
     ]
    },
    {
     "name": "stderr",
     "output_type": "stream",
     "text": [
      "reconstraining parameters Mat52.lengthscale\n",
      "reconstraining parameters Mat52.variance\n"
     ]
    },
    {
     "name": "stdout",
     "output_type": "stream",
     "text": [
      "total condition no.: 64\n",
      "total device no.: 64\n",
      "maximum Y (PCE [%]):  10.63\n"
     ]
    },
    {
     "name": "stderr",
     "output_type": "stream",
     "text": [
      "reconstraining parameters Mat52.lengthscale\n",
      "reconstraining parameters Mat52.variance\n"
     ]
    },
    {
     "name": "stdout",
     "output_type": "stream",
     "text": [
      "total condition no.: 80\n",
      "total device no.: 80\n",
      "maximum Y (PCE [%]):  10.63\n"
     ]
    },
    {
     "name": "stderr",
     "output_type": "stream",
     "text": [
      "reconstraining parameters Mat52.lengthscale\n",
      "reconstraining parameters Mat52.variance\n"
     ]
    },
    {
     "name": "stdout",
     "output_type": "stream",
     "text": [
      "total condition no.: 96\n",
      "total device no.: 96\n",
      "maximum Y (PCE [%]):  10.63\n"
     ]
    },
    {
     "name": "stderr",
     "output_type": "stream",
     "text": [
      "reconstraining parameters Mat52.lengthscale\n",
      "reconstraining parameters Mat52.variance\n"
     ]
    },
    {
     "name": "stdout",
     "output_type": "stream",
     "text": [
      "total condition no.: 112\n",
      "total device no.: 112\n",
      "maximum Y (PCE [%]):  10.63\n"
     ]
    },
    {
     "name": "stderr",
     "output_type": "stream",
     "text": [
      "reconstraining parameters Mat52.lengthscale\n",
      "reconstraining parameters Mat52.variance\n"
     ]
    },
    {
     "name": "stdout",
     "output_type": "stream",
     "text": [
      "    MAPbI Conc [M]  CH₂I₂ Conc [μL]  PC voltage [V]  PC length [ms]  \\\n",
      "52        1.304122            252.5      330.722463       21.753739   \n",
      "\n",
      "    Efficiency [%]  \n",
      "52       10.629694  \n"
     ]
    },
    {
     "name": "stderr",
     "output_type": "stream",
     "text": [
      "reconstraining parameters Mat52.lengthscale\n",
      "reconstraining parameters Mat52.variance\n"
     ]
    },
    {
     "name": "stdout",
     "output_type": "stream",
     "text": [
      "total condition no.: 16\n",
      "total device no.: 16\n",
      "maximum Y (PCE [%]):  9.18\n",
      "total condition no.: 32\n",
      "total device no.: 32\n",
      "maximum Y (PCE [%]):  10.27\n"
     ]
    },
    {
     "name": "stderr",
     "output_type": "stream",
     "text": [
      "reconstraining parameters Mat52.lengthscale\n",
      "reconstraining parameters Mat52.variance\n"
     ]
    },
    {
     "name": "stdout",
     "output_type": "stream",
     "text": [
      "total condition no.: 48\n",
      "total device no.: 48\n",
      "maximum Y (PCE [%]):  10.27\n"
     ]
    },
    {
     "name": "stderr",
     "output_type": "stream",
     "text": [
      "reconstraining parameters Mat52.lengthscale\n",
      "reconstraining parameters Mat52.variance\n"
     ]
    },
    {
     "name": "stdout",
     "output_type": "stream",
     "text": [
      "total condition no.: 64\n",
      "total device no.: 64\n",
      "maximum Y (PCE [%]):  10.27\n"
     ]
    },
    {
     "name": "stderr",
     "output_type": "stream",
     "text": [
      "reconstraining parameters Mat52.lengthscale\n",
      "reconstraining parameters Mat52.variance\n"
     ]
    },
    {
     "name": "stdout",
     "output_type": "stream",
     "text": [
      "total condition no.: 80\n",
      "total device no.: 80\n",
      "maximum Y (PCE [%]):  10.27\n"
     ]
    },
    {
     "name": "stderr",
     "output_type": "stream",
     "text": [
      "reconstraining parameters Mat52.lengthscale\n",
      "reconstraining parameters Mat52.variance\n"
     ]
    },
    {
     "name": "stdout",
     "output_type": "stream",
     "text": [
      "total condition no.: 96\n",
      "total device no.: 96\n",
      "maximum Y (PCE [%]):  10.33\n"
     ]
    },
    {
     "name": "stderr",
     "output_type": "stream",
     "text": [
      "reconstraining parameters Mat52.lengthscale\n",
      "reconstraining parameters Mat52.variance\n"
     ]
    },
    {
     "name": "stdout",
     "output_type": "stream",
     "text": [
      "total condition no.: 112\n",
      "total device no.: 112\n",
      "maximum Y (PCE [%]):  10.53\n"
     ]
    },
    {
     "name": "stderr",
     "output_type": "stream",
     "text": [
      "reconstraining parameters Mat52.lengthscale\n",
      "reconstraining parameters Mat52.variance\n"
     ]
    },
    {
     "name": "stdout",
     "output_type": "stream",
     "text": [
      "     MAPbI Conc [M]  CH₂I₂ Conc [μL]  PC voltage [V]  PC length [ms]  \\\n",
      "117        1.429625       198.474025      288.723102       27.714599   \n",
      "\n",
      "     Efficiency [%]  \n",
      "117       10.801093  \n"
     ]
    },
    {
     "name": "stderr",
     "output_type": "stream",
     "text": [
      "reconstraining parameters Mat52.lengthscale\n",
      "reconstraining parameters Mat52.variance\n"
     ]
    },
    {
     "name": "stdout",
     "output_type": "stream",
     "text": [
      "total condition no.: 16\n",
      "total device no.: 16\n",
      "maximum Y (PCE [%]):  10.12\n",
      "total condition no.: 32\n",
      "total device no.: 32\n",
      "maximum Y (PCE [%]):  10.33\n"
     ]
    },
    {
     "name": "stderr",
     "output_type": "stream",
     "text": [
      "reconstraining parameters Mat52.lengthscale\n",
      "reconstraining parameters Mat52.variance\n"
     ]
    },
    {
     "name": "stdout",
     "output_type": "stream",
     "text": [
      "total condition no.: 48\n",
      "total device no.: 48\n",
      "maximum Y (PCE [%]):  10.95\n"
     ]
    },
    {
     "name": "stderr",
     "output_type": "stream",
     "text": [
      "reconstraining parameters Mat52.lengthscale\n",
      "reconstraining parameters Mat52.variance\n"
     ]
    },
    {
     "name": "stdout",
     "output_type": "stream",
     "text": [
      "total condition no.: 64\n",
      "total device no.: 64\n",
      "maximum Y (PCE [%]):  11.0\n"
     ]
    },
    {
     "name": "stderr",
     "output_type": "stream",
     "text": [
      "reconstraining parameters Mat52.lengthscale\n",
      "reconstraining parameters Mat52.variance\n"
     ]
    },
    {
     "name": "stdout",
     "output_type": "stream",
     "text": [
      "total condition no.: 80\n",
      "total device no.: 80\n",
      "maximum Y (PCE [%]):  11.06\n"
     ]
    },
    {
     "name": "stderr",
     "output_type": "stream",
     "text": [
      "reconstraining parameters Mat52.lengthscale\n",
      "reconstraining parameters Mat52.variance\n"
     ]
    },
    {
     "name": "stdout",
     "output_type": "stream",
     "text": [
      "total condition no.: 96\n",
      "total device no.: 96\n",
      "maximum Y (PCE [%]):  11.06\n"
     ]
    },
    {
     "name": "stderr",
     "output_type": "stream",
     "text": [
      "reconstraining parameters Mat52.lengthscale\n",
      "reconstraining parameters Mat52.variance\n"
     ]
    },
    {
     "name": "stdout",
     "output_type": "stream",
     "text": [
      "total condition no.: 112\n",
      "total device no.: 112\n",
      "maximum Y (PCE [%]):  11.21\n"
     ]
    },
    {
     "name": "stderr",
     "output_type": "stream",
     "text": [
      "reconstraining parameters Mat52.lengthscale\n",
      "reconstraining parameters Mat52.variance\n"
     ]
    },
    {
     "name": "stdout",
     "output_type": "stream",
     "text": [
      "     MAPbI Conc [M]  CH₂I₂ Conc [μL]  PC voltage [V]  PC length [ms]  \\\n",
      "101        1.347505       222.137453      294.580297       25.289036   \n",
      "\n",
      "     Efficiency [%]  \n",
      "101       11.213133  \n"
     ]
    },
    {
     "name": "stderr",
     "output_type": "stream",
     "text": [
      "reconstraining parameters Mat52.lengthscale\n",
      "reconstraining parameters Mat52.variance\n"
     ]
    },
    {
     "name": "stdout",
     "output_type": "stream",
     "text": [
      "total condition no.: 16\n",
      "total device no.: 16\n",
      "maximum Y (PCE [%]):  9.85\n",
      "total condition no.: 32\n",
      "total device no.: 32\n",
      "maximum Y (PCE [%]):  10.33\n"
     ]
    },
    {
     "name": "stderr",
     "output_type": "stream",
     "text": [
      "reconstraining parameters Mat52.lengthscale\n",
      "reconstraining parameters Mat52.variance\n"
     ]
    },
    {
     "name": "stdout",
     "output_type": "stream",
     "text": [
      "total condition no.: 48\n",
      "total device no.: 48\n",
      "maximum Y (PCE [%]):  10.33\n"
     ]
    },
    {
     "name": "stderr",
     "output_type": "stream",
     "text": [
      "reconstraining parameters Mat52.lengthscale\n",
      "reconstraining parameters Mat52.variance\n"
     ]
    },
    {
     "name": "stdout",
     "output_type": "stream",
     "text": [
      "total condition no.: 64\n",
      "total device no.: 64\n",
      "maximum Y (PCE [%]):  10.96\n"
     ]
    },
    {
     "name": "stderr",
     "output_type": "stream",
     "text": [
      "reconstraining parameters Mat52.lengthscale\n",
      "reconstraining parameters Mat52.variance\n"
     ]
    },
    {
     "name": "stdout",
     "output_type": "stream",
     "text": [
      "total condition no.: 80\n",
      "total device no.: 80\n",
      "maximum Y (PCE [%]):  10.96\n"
     ]
    },
    {
     "name": "stderr",
     "output_type": "stream",
     "text": [
      "reconstraining parameters Mat52.lengthscale\n",
      "reconstraining parameters Mat52.variance\n"
     ]
    },
    {
     "name": "stdout",
     "output_type": "stream",
     "text": [
      "total condition no.: 96\n",
      "total device no.: 96\n",
      "maximum Y (PCE [%]):  10.97\n"
     ]
    },
    {
     "name": "stderr",
     "output_type": "stream",
     "text": [
      "reconstraining parameters Mat52.lengthscale\n",
      "reconstraining parameters Mat52.variance\n"
     ]
    },
    {
     "name": "stdout",
     "output_type": "stream",
     "text": [
      "total condition no.: 112\n",
      "total device no.: 112\n",
      "maximum Y (PCE [%]):  10.98\n"
     ]
    },
    {
     "name": "stderr",
     "output_type": "stream",
     "text": [
      "reconstraining parameters Mat52.lengthscale\n",
      "reconstraining parameters Mat52.variance\n"
     ]
    },
    {
     "name": "stdout",
     "output_type": "stream",
     "text": [
      "     MAPbI Conc [M]  CH₂I₂ Conc [μL]  PC voltage [V]  PC length [ms]  \\\n",
      "112        1.461323            252.5      316.737253       23.063655   \n",
      "\n",
      "     Efficiency [%]  \n",
      "112       10.995933  \n"
     ]
    },
    {
     "name": "stderr",
     "output_type": "stream",
     "text": [
      "reconstraining parameters Mat52.lengthscale\n",
      "reconstraining parameters Mat52.variance\n"
     ]
    },
    {
     "name": "stdout",
     "output_type": "stream",
     "text": [
      "total condition no.: 16\n",
      "total device no.: 16\n",
      "maximum Y (PCE [%]):  9.11\n",
      "total condition no.: 32\n",
      "total device no.: 32\n",
      "maximum Y (PCE [%]):  9.81\n"
     ]
    },
    {
     "name": "stderr",
     "output_type": "stream",
     "text": [
      "reconstraining parameters Mat52.lengthscale\n",
      "reconstraining parameters Mat52.variance\n"
     ]
    },
    {
     "name": "stdout",
     "output_type": "stream",
     "text": [
      "total condition no.: 48\n",
      "total device no.: 48\n",
      "maximum Y (PCE [%]):  10.32\n"
     ]
    },
    {
     "name": "stderr",
     "output_type": "stream",
     "text": [
      "reconstraining parameters Mat52.lengthscale\n",
      "reconstraining parameters Mat52.variance\n"
     ]
    },
    {
     "name": "stdout",
     "output_type": "stream",
     "text": [
      "total condition no.: 64\n",
      "total device no.: 64\n",
      "maximum Y (PCE [%]):  10.71\n"
     ]
    },
    {
     "name": "stderr",
     "output_type": "stream",
     "text": [
      "reconstraining parameters Mat52.lengthscale\n",
      "reconstraining parameters Mat52.variance\n"
     ]
    },
    {
     "name": "stdout",
     "output_type": "stream",
     "text": [
      "total condition no.: 80\n",
      "total device no.: 80\n",
      "maximum Y (PCE [%]):  10.71\n"
     ]
    },
    {
     "name": "stderr",
     "output_type": "stream",
     "text": [
      " /Users/JeremyXu/opt/anaconda3/lib/python3.8/site-packages/emukit/bayesian_optimization/acquisitions/log_acquisition.py:25: RuntimeWarning:invalid value encountered in log\n",
      "reconstraining parameters Mat52.lengthscale\n",
      "reconstraining parameters Mat52.variance\n"
     ]
    },
    {
     "name": "stdout",
     "output_type": "stream",
     "text": [
      "total condition no.: 96\n",
      "total device no.: 96\n",
      "maximum Y (PCE [%]):  10.71\n"
     ]
    },
    {
     "name": "stderr",
     "output_type": "stream",
     "text": [
      "reconstraining parameters Mat52.lengthscale\n",
      "reconstraining parameters Mat52.variance\n"
     ]
    },
    {
     "name": "stdout",
     "output_type": "stream",
     "text": [
      "total condition no.: 112\n",
      "total device no.: 112\n",
      "maximum Y (PCE [%]):  10.79\n"
     ]
    },
    {
     "name": "stderr",
     "output_type": "stream",
     "text": [
      " /Users/JeremyXu/opt/anaconda3/lib/python3.8/site-packages/emukit/bayesian_optimization/acquisitions/log_acquisition.py:25: RuntimeWarning:invalid value encountered in log\n",
      "reconstraining parameters Mat52.lengthscale\n",
      "reconstraining parameters Mat52.variance\n"
     ]
    },
    {
     "name": "stdout",
     "output_type": "stream",
     "text": [
      "     MAPbI Conc [M]  CH₂I₂ Conc [μL]  PC voltage [V]  PC length [ms]  \\\n",
      "125        1.415423       170.549944      294.666642       17.993235   \n",
      "\n",
      "     Efficiency [%]  \n",
      "125       10.958667  \n"
     ]
    },
    {
     "name": "stderr",
     "output_type": "stream",
     "text": [
      "reconstraining parameters Mat52.lengthscale\n",
      "reconstraining parameters Mat52.variance\n"
     ]
    },
    {
     "name": "stdout",
     "output_type": "stream",
     "text": [
      "total condition no.: 16\n",
      "total device no.: 16\n",
      "maximum Y (PCE [%]):  10.14\n",
      "total condition no.: 32\n",
      "total device no.: 32\n",
      "maximum Y (PCE [%]):  10.78\n"
     ]
    },
    {
     "name": "stderr",
     "output_type": "stream",
     "text": [
      "reconstraining parameters Mat52.lengthscale\n",
      "reconstraining parameters Mat52.variance\n"
     ]
    },
    {
     "name": "stdout",
     "output_type": "stream",
     "text": [
      "total condition no.: 48\n",
      "total device no.: 48\n",
      "maximum Y (PCE [%]):  10.98\n"
     ]
    },
    {
     "name": "stderr",
     "output_type": "stream",
     "text": [
      "reconstraining parameters Mat52.lengthscale\n",
      "reconstraining parameters Mat52.variance\n"
     ]
    },
    {
     "name": "stdout",
     "output_type": "stream",
     "text": [
      "total condition no.: 64\n",
      "total device no.: 64\n",
      "maximum Y (PCE [%]):  11.04\n"
     ]
    },
    {
     "name": "stderr",
     "output_type": "stream",
     "text": [
      "reconstraining parameters Mat52.lengthscale\n",
      "reconstraining parameters Mat52.variance\n"
     ]
    },
    {
     "name": "stdout",
     "output_type": "stream",
     "text": [
      "total condition no.: 80\n",
      "total device no.: 80\n",
      "maximum Y (PCE [%]):  11.09\n"
     ]
    },
    {
     "name": "stderr",
     "output_type": "stream",
     "text": [
      "reconstraining parameters Mat52.lengthscale\n",
      "reconstraining parameters Mat52.variance\n"
     ]
    },
    {
     "name": "stdout",
     "output_type": "stream",
     "text": [
      "total condition no.: 96\n",
      "total device no.: 96\n",
      "maximum Y (PCE [%]):  11.09\n"
     ]
    },
    {
     "name": "stderr",
     "output_type": "stream",
     "text": [
      "reconstraining parameters Mat52.lengthscale\n",
      "reconstraining parameters Mat52.variance\n"
     ]
    },
    {
     "name": "stdout",
     "output_type": "stream",
     "text": [
      "total condition no.: 112\n",
      "total device no.: 112\n",
      "maximum Y (PCE [%]):  11.09\n"
     ]
    },
    {
     "name": "stderr",
     "output_type": "stream",
     "text": [
      "reconstraining parameters Mat52.lengthscale\n",
      "reconstraining parameters Mat52.variance\n"
     ]
    },
    {
     "name": "stdout",
     "output_type": "stream",
     "text": [
      "    MAPbI Conc [M]  CH₂I₂ Conc [μL]  PC voltage [V]  PC length [ms]  \\\n",
      "77        1.438791            252.5      297.016839       23.299704   \n",
      "\n",
      "    Efficiency [%]  \n",
      "77       11.089125  \n"
     ]
    },
    {
     "name": "stderr",
     "output_type": "stream",
     "text": [
      "reconstraining parameters Mat52.lengthscale\n",
      "reconstraining parameters Mat52.variance\n"
     ]
    },
    {
     "name": "stdout",
     "output_type": "stream",
     "text": [
      "total condition no.: 16\n",
      "total device no.: 16\n",
      "maximum Y (PCE [%]):  9.95\n",
      "total condition no.: 32\n",
      "total device no.: 32\n",
      "maximum Y (PCE [%]):  9.95\n"
     ]
    },
    {
     "name": "stderr",
     "output_type": "stream",
     "text": [
      "reconstraining parameters Mat52.lengthscale\n",
      "reconstraining parameters Mat52.variance\n"
     ]
    },
    {
     "name": "stdout",
     "output_type": "stream",
     "text": [
      "total condition no.: 48\n",
      "total device no.: 48\n",
      "maximum Y (PCE [%]):  10.28\n"
     ]
    },
    {
     "name": "stderr",
     "output_type": "stream",
     "text": [
      "reconstraining parameters Mat52.lengthscale\n",
      "reconstraining parameters Mat52.variance\n"
     ]
    },
    {
     "name": "stdout",
     "output_type": "stream",
     "text": [
      "total condition no.: 64\n",
      "total device no.: 64\n",
      "maximum Y (PCE [%]):  10.83\n"
     ]
    },
    {
     "name": "stderr",
     "output_type": "stream",
     "text": [
      "reconstraining parameters Mat52.lengthscale\n",
      "reconstraining parameters Mat52.variance\n"
     ]
    },
    {
     "name": "stdout",
     "output_type": "stream",
     "text": [
      "total condition no.: 80\n",
      "total device no.: 80\n",
      "maximum Y (PCE [%]):  10.83\n"
     ]
    },
    {
     "name": "stderr",
     "output_type": "stream",
     "text": [
      "reconstraining parameters Mat52.lengthscale\n",
      "reconstraining parameters Mat52.variance\n"
     ]
    },
    {
     "name": "stdout",
     "output_type": "stream",
     "text": [
      "total condition no.: 96\n",
      "total device no.: 96\n",
      "maximum Y (PCE [%]):  10.83\n"
     ]
    },
    {
     "name": "stderr",
     "output_type": "stream",
     "text": [
      "reconstraining parameters Mat52.lengthscale\n",
      "reconstraining parameters Mat52.variance\n"
     ]
    },
    {
     "name": "stdout",
     "output_type": "stream",
     "text": [
      "total condition no.: 112\n",
      "total device no.: 112\n",
      "maximum Y (PCE [%]):  10.97\n"
     ]
    },
    {
     "name": "stderr",
     "output_type": "stream",
     "text": [
      "reconstraining parameters Mat52.lengthscale\n",
      "reconstraining parameters Mat52.variance\n"
     ]
    },
    {
     "name": "stdout",
     "output_type": "stream",
     "text": [
      "    MAPbI Conc [M]  CH₂I₂ Conc [μL]  PC voltage [V]  PC length [ms]  \\\n",
      "98        1.424049            252.5      330.763469       23.919897   \n",
      "\n",
      "    Efficiency [%]  \n",
      "98       10.972183  \n"
     ]
    },
    {
     "name": "stderr",
     "output_type": "stream",
     "text": [
      "reconstraining parameters Mat52.lengthscale\n",
      "reconstraining parameters Mat52.variance\n"
     ]
    },
    {
     "name": "stdout",
     "output_type": "stream",
     "text": [
      "total condition no.: 16\n",
      "total device no.: 16\n",
      "maximum Y (PCE [%]):  10.11\n",
      "total condition no.: 32\n",
      "total device no.: 32\n",
      "maximum Y (PCE [%]):  10.11\n"
     ]
    },
    {
     "name": "stderr",
     "output_type": "stream",
     "text": [
      "reconstraining parameters Mat52.lengthscale\n",
      "reconstraining parameters Mat52.variance\n"
     ]
    },
    {
     "name": "stdout",
     "output_type": "stream",
     "text": [
      "total condition no.: 48\n",
      "total device no.: 48\n",
      "maximum Y (PCE [%]):  10.19\n"
     ]
    },
    {
     "name": "stderr",
     "output_type": "stream",
     "text": [
      " /Users/JeremyXu/opt/anaconda3/lib/python3.8/site-packages/emukit/bayesian_optimization/acquisitions/log_acquisition.py:25: RuntimeWarning:invalid value encountered in log\n",
      "reconstraining parameters Mat52.lengthscale\n",
      "reconstraining parameters Mat52.variance\n"
     ]
    },
    {
     "name": "stdout",
     "output_type": "stream",
     "text": [
      "total condition no.: 64\n",
      "total device no.: 64\n",
      "maximum Y (PCE [%]):  10.24\n"
     ]
    },
    {
     "name": "stderr",
     "output_type": "stream",
     "text": [
      "reconstraining parameters Mat52.lengthscale\n",
      "reconstraining parameters Mat52.variance\n"
     ]
    },
    {
     "name": "stdout",
     "output_type": "stream",
     "text": [
      "total condition no.: 80\n",
      "total device no.: 80\n",
      "maximum Y (PCE [%]):  10.82\n"
     ]
    },
    {
     "name": "stderr",
     "output_type": "stream",
     "text": [
      "reconstraining parameters Mat52.lengthscale\n",
      "reconstraining parameters Mat52.variance\n"
     ]
    },
    {
     "name": "stdout",
     "output_type": "stream",
     "text": [
      "total condition no.: 96\n",
      "total device no.: 96\n",
      "maximum Y (PCE [%]):  10.96\n"
     ]
    },
    {
     "name": "stderr",
     "output_type": "stream",
     "text": [
      "reconstraining parameters Mat52.lengthscale\n",
      "reconstraining parameters Mat52.variance\n"
     ]
    },
    {
     "name": "stdout",
     "output_type": "stream",
     "text": [
      "total condition no.: 112\n",
      "total device no.: 112\n",
      "maximum Y (PCE [%]):  10.96\n"
     ]
    },
    {
     "name": "stderr",
     "output_type": "stream",
     "text": [
      "reconstraining parameters Mat52.lengthscale\n",
      "reconstraining parameters Mat52.variance\n"
     ]
    },
    {
     "name": "stdout",
     "output_type": "stream",
     "text": [
      "    MAPbI Conc [M]  CH₂I₂ Conc [μL]  PC voltage [V]  PC length [ms]  \\\n",
      "92        1.324901         247.3431      334.563121       23.923368   \n",
      "\n",
      "    Efficiency [%]  \n",
      "92        10.95617  \n"
     ]
    },
    {
     "name": "stderr",
     "output_type": "stream",
     "text": [
      "reconstraining parameters Mat52.lengthscale\n",
      "reconstraining parameters Mat52.variance\n"
     ]
    },
    {
     "name": "stdout",
     "output_type": "stream",
     "text": [
      "total condition no.: 16\n",
      "total device no.: 16\n",
      "maximum Y (PCE [%]):  10.97\n",
      "total condition no.: 32\n",
      "total device no.: 32\n",
      "maximum Y (PCE [%]):  10.97\n"
     ]
    },
    {
     "name": "stderr",
     "output_type": "stream",
     "text": [
      "reconstraining parameters Mat52.lengthscale\n",
      "reconstraining parameters Mat52.variance\n"
     ]
    },
    {
     "name": "stdout",
     "output_type": "stream",
     "text": [
      "total condition no.: 48\n",
      "total device no.: 48\n",
      "maximum Y (PCE [%]):  10.97\n"
     ]
    },
    {
     "name": "stderr",
     "output_type": "stream",
     "text": [
      "reconstraining parameters Mat52.lengthscale\n",
      "reconstraining parameters Mat52.variance\n"
     ]
    },
    {
     "name": "stdout",
     "output_type": "stream",
     "text": [
      "total condition no.: 64\n",
      "total device no.: 64\n",
      "maximum Y (PCE [%]):  10.98\n"
     ]
    },
    {
     "name": "stderr",
     "output_type": "stream",
     "text": [
      "reconstraining parameters Mat52.lengthscale\n",
      "reconstraining parameters Mat52.variance\n"
     ]
    },
    {
     "name": "stdout",
     "output_type": "stream",
     "text": [
      "total condition no.: 80\n",
      "total device no.: 80\n",
      "maximum Y (PCE [%]):  11.03\n"
     ]
    },
    {
     "name": "stderr",
     "output_type": "stream",
     "text": [
      "reconstraining parameters Mat52.lengthscale\n",
      "reconstraining parameters Mat52.variance\n"
     ]
    },
    {
     "name": "stdout",
     "output_type": "stream",
     "text": [
      "total condition no.: 96\n",
      "total device no.: 96\n",
      "maximum Y (PCE [%]):  11.03\n"
     ]
    },
    {
     "name": "stderr",
     "output_type": "stream",
     "text": [
      "reconstraining parameters Mat52.lengthscale\n",
      "reconstraining parameters Mat52.variance\n"
     ]
    },
    {
     "name": "stdout",
     "output_type": "stream",
     "text": [
      "total condition no.: 112\n",
      "total device no.: 112\n",
      "maximum Y (PCE [%]):  11.03\n"
     ]
    },
    {
     "name": "stderr",
     "output_type": "stream",
     "text": [
      "reconstraining parameters Mat52.lengthscale\n",
      "reconstraining parameters Mat52.variance\n"
     ]
    },
    {
     "name": "stdout",
     "output_type": "stream",
     "text": [
      "    MAPbI Conc [M]  CH₂I₂ Conc [μL]  PC voltage [V]  PC length [ms]  \\\n",
      "67           1.443        230.88242      297.445284       25.948427   \n",
      "\n",
      "    Efficiency [%]  \n",
      "67       11.025875  \n"
     ]
    },
    {
     "name": "stderr",
     "output_type": "stream",
     "text": [
      "reconstraining parameters Mat52.lengthscale\n",
      "reconstraining parameters Mat52.variance\n"
     ]
    },
    {
     "name": "stdout",
     "output_type": "stream",
     "text": [
      "total condition no.: 16\n",
      "total device no.: 16\n",
      "maximum Y (PCE [%]):  11.0\n",
      "total condition no.: 32\n",
      "total device no.: 32\n",
      "maximum Y (PCE [%]):  11.02\n"
     ]
    },
    {
     "name": "stderr",
     "output_type": "stream",
     "text": [
      "reconstraining parameters Mat52.lengthscale\n",
      "reconstraining parameters Mat52.variance\n"
     ]
    },
    {
     "name": "stdout",
     "output_type": "stream",
     "text": [
      "total condition no.: 48\n",
      "total device no.: 48\n",
      "maximum Y (PCE [%]):  11.02\n"
     ]
    },
    {
     "name": "stderr",
     "output_type": "stream",
     "text": [
      "reconstraining parameters Mat52.lengthscale\n",
      "reconstraining parameters Mat52.variance\n"
     ]
    },
    {
     "name": "stdout",
     "output_type": "stream",
     "text": [
      "total condition no.: 64\n",
      "total device no.: 64\n",
      "maximum Y (PCE [%]):  11.25\n"
     ]
    },
    {
     "name": "stderr",
     "output_type": "stream",
     "text": [
      "reconstraining parameters Mat52.lengthscale\n",
      "reconstraining parameters Mat52.variance\n"
     ]
    },
    {
     "name": "stdout",
     "output_type": "stream",
     "text": [
      "total condition no.: 80\n",
      "total device no.: 80\n",
      "maximum Y (PCE [%]):  11.25\n"
     ]
    },
    {
     "name": "stderr",
     "output_type": "stream",
     "text": [
      "reconstraining parameters Mat52.lengthscale\n",
      "reconstraining parameters Mat52.variance\n"
     ]
    },
    {
     "name": "stdout",
     "output_type": "stream",
     "text": [
      "total condition no.: 96\n",
      "total device no.: 96\n",
      "maximum Y (PCE [%]):  11.25\n"
     ]
    },
    {
     "name": "stderr",
     "output_type": "stream",
     "text": [
      "reconstraining parameters Mat52.lengthscale\n",
      "reconstraining parameters Mat52.variance\n"
     ]
    },
    {
     "name": "stdout",
     "output_type": "stream",
     "text": [
      "total condition no.: 112\n",
      "total device no.: 112\n",
      "maximum Y (PCE [%]):  11.25\n"
     ]
    },
    {
     "name": "stderr",
     "output_type": "stream",
     "text": [
      " /Users/JeremyXu/opt/anaconda3/lib/python3.8/site-packages/emukit/bayesian_optimization/acquisitions/log_acquisition.py:25: RuntimeWarning:invalid value encountered in log\n",
      "reconstraining parameters Mat52.lengthscale\n",
      "reconstraining parameters Mat52.variance\n"
     ]
    },
    {
     "name": "stdout",
     "output_type": "stream",
     "text": [
      "    MAPbI Conc [M]  CH₂I₂ Conc [μL]  PC voltage [V]  PC length [ms]  \\\n",
      "49        1.367965       179.479447      286.332387       23.823988   \n",
      "\n",
      "    Efficiency [%]  \n",
      "49       11.252167  \n"
     ]
    },
    {
     "name": "stderr",
     "output_type": "stream",
     "text": [
      "reconstraining parameters Mat52.lengthscale\n",
      "reconstraining parameters Mat52.variance\n"
     ]
    },
    {
     "name": "stdout",
     "output_type": "stream",
     "text": [
      "total condition no.: 16\n",
      "total device no.: 16\n",
      "maximum Y (PCE [%]):  9.86\n",
      "total condition no.: 32\n",
      "total device no.: 32\n",
      "maximum Y (PCE [%]):  10.33\n"
     ]
    },
    {
     "name": "stderr",
     "output_type": "stream",
     "text": [
      "reconstraining parameters Mat52.lengthscale\n",
      "reconstraining parameters Mat52.variance\n"
     ]
    },
    {
     "name": "stdout",
     "output_type": "stream",
     "text": [
      "total condition no.: 48\n",
      "total device no.: 48\n",
      "maximum Y (PCE [%]):  10.33\n"
     ]
    },
    {
     "name": "stderr",
     "output_type": "stream",
     "text": [
      "reconstraining parameters Mat52.lengthscale\n",
      "reconstraining parameters Mat52.variance\n"
     ]
    },
    {
     "name": "stdout",
     "output_type": "stream",
     "text": [
      "total condition no.: 64\n",
      "total device no.: 64\n",
      "maximum Y (PCE [%]):  10.33\n"
     ]
    },
    {
     "name": "stderr",
     "output_type": "stream",
     "text": [
      "reconstraining parameters Mat52.lengthscale\n",
      "reconstraining parameters Mat52.variance\n"
     ]
    },
    {
     "name": "stdout",
     "output_type": "stream",
     "text": [
      "total condition no.: 80\n",
      "total device no.: 80\n",
      "maximum Y (PCE [%]):  10.33\n"
     ]
    },
    {
     "name": "stderr",
     "output_type": "stream",
     "text": [
      "reconstraining parameters Mat52.lengthscale\n",
      "reconstraining parameters Mat52.variance\n"
     ]
    },
    {
     "name": "stdout",
     "output_type": "stream",
     "text": [
      "total condition no.: 96\n",
      "total device no.: 96\n",
      "maximum Y (PCE [%]):  10.33\n"
     ]
    },
    {
     "name": "stderr",
     "output_type": "stream",
     "text": [
      "reconstraining parameters Mat52.lengthscale\n",
      "reconstraining parameters Mat52.variance\n"
     ]
    },
    {
     "name": "stdout",
     "output_type": "stream",
     "text": [
      "total condition no.: 112\n",
      "total device no.: 112\n",
      "maximum Y (PCE [%]):  10.5\n"
     ]
    },
    {
     "name": "stderr",
     "output_type": "stream",
     "text": [
      "reconstraining parameters Mat52.lengthscale\n",
      "reconstraining parameters Mat52.variance\n"
     ]
    },
    {
     "name": "stdout",
     "output_type": "stream",
     "text": [
      "     MAPbI Conc [M]  CH₂I₂ Conc [μL]  PC voltage [V]  PC length [ms]  \\\n",
      "102         1.44013       205.477968      293.289557       46.956908   \n",
      "\n",
      "     Efficiency [%]  \n",
      "102       10.496235  \n"
     ]
    },
    {
     "name": "stderr",
     "output_type": "stream",
     "text": [
      "reconstraining parameters Mat52.lengthscale\n",
      "reconstraining parameters Mat52.variance\n"
     ]
    },
    {
     "name": "stdout",
     "output_type": "stream",
     "text": [
      "total condition no.: 16\n",
      "total device no.: 16\n",
      "maximum Y (PCE [%]):  10.23\n",
      "total condition no.: 32\n",
      "total device no.: 32\n",
      "maximum Y (PCE [%]):  10.23\n"
     ]
    },
    {
     "name": "stderr",
     "output_type": "stream",
     "text": [
      "reconstraining parameters Mat52.lengthscale\n",
      "reconstraining parameters Mat52.variance\n"
     ]
    },
    {
     "name": "stdout",
     "output_type": "stream",
     "text": [
      "total condition no.: 48\n",
      "total device no.: 48\n",
      "maximum Y (PCE [%]):  10.23\n"
     ]
    },
    {
     "name": "stderr",
     "output_type": "stream",
     "text": [
      "reconstraining parameters Mat52.lengthscale\n",
      "reconstraining parameters Mat52.variance\n"
     ]
    },
    {
     "name": "stdout",
     "output_type": "stream",
     "text": [
      "total condition no.: 64\n",
      "total device no.: 64\n",
      "maximum Y (PCE [%]):  10.23\n"
     ]
    },
    {
     "name": "stderr",
     "output_type": "stream",
     "text": [
      "reconstraining parameters Mat52.lengthscale\n",
      "reconstraining parameters Mat52.variance\n"
     ]
    },
    {
     "name": "stdout",
     "output_type": "stream",
     "text": [
      "total condition no.: 80\n",
      "total device no.: 80\n",
      "maximum Y (PCE [%]):  10.33\n"
     ]
    },
    {
     "name": "stderr",
     "output_type": "stream",
     "text": [
      "reconstraining parameters Mat52.lengthscale\n",
      "reconstraining parameters Mat52.variance\n"
     ]
    },
    {
     "name": "stdout",
     "output_type": "stream",
     "text": [
      "total condition no.: 96\n",
      "total device no.: 96\n",
      "maximum Y (PCE [%]):  10.33\n"
     ]
    },
    {
     "name": "stderr",
     "output_type": "stream",
     "text": [
      "reconstraining parameters Mat52.lengthscale\n",
      "reconstraining parameters Mat52.variance\n"
     ]
    },
    {
     "name": "stdout",
     "output_type": "stream",
     "text": [
      "total condition no.: 112\n",
      "total device no.: 112\n",
      "maximum Y (PCE [%]):  10.33\n"
     ]
    },
    {
     "name": "stderr",
     "output_type": "stream",
     "text": [
      "reconstraining parameters Mat52.lengthscale\n",
      "reconstraining parameters Mat52.variance\n"
     ]
    },
    {
     "name": "stdout",
     "output_type": "stream",
     "text": [
      "    MAPbI Conc [M]  CH₂I₂ Conc [μL]  PC voltage [V]  PC length [ms]  \\\n",
      "78        1.397425        234.94386      333.931941       26.747299   \n",
      "\n",
      "    Efficiency [%]  \n",
      "78       10.329423  \n"
     ]
    },
    {
     "name": "stderr",
     "output_type": "stream",
     "text": [
      "reconstraining parameters Mat52.lengthscale\n",
      "reconstraining parameters Mat52.variance\n"
     ]
    },
    {
     "name": "stdout",
     "output_type": "stream",
     "text": [
      "total condition no.: 16\n",
      "total device no.: 16\n",
      "maximum Y (PCE [%]):  10.27\n",
      "total condition no.: 32\n",
      "total device no.: 32\n",
      "maximum Y (PCE [%]):  10.49\n"
     ]
    },
    {
     "name": "stderr",
     "output_type": "stream",
     "text": [
      "reconstraining parameters Mat52.lengthscale\n",
      "reconstraining parameters Mat52.variance\n"
     ]
    },
    {
     "name": "stdout",
     "output_type": "stream",
     "text": [
      "total condition no.: 48\n",
      "total device no.: 48\n",
      "maximum Y (PCE [%]):  10.84\n"
     ]
    },
    {
     "name": "stderr",
     "output_type": "stream",
     "text": [
      "reconstraining parameters Mat52.lengthscale\n",
      "reconstraining parameters Mat52.variance\n"
     ]
    },
    {
     "name": "stdout",
     "output_type": "stream",
     "text": [
      "total condition no.: 64\n",
      "total device no.: 64\n",
      "maximum Y (PCE [%]):  10.84\n"
     ]
    },
    {
     "name": "stderr",
     "output_type": "stream",
     "text": [
      "reconstraining parameters Mat52.lengthscale\n",
      "reconstraining parameters Mat52.variance\n"
     ]
    },
    {
     "name": "stdout",
     "output_type": "stream",
     "text": [
      "total condition no.: 80\n",
      "total device no.: 80\n",
      "maximum Y (PCE [%]):  10.98\n"
     ]
    },
    {
     "name": "stderr",
     "output_type": "stream",
     "text": [
      "reconstraining parameters Mat52.lengthscale\n",
      "reconstraining parameters Mat52.variance\n"
     ]
    },
    {
     "name": "stdout",
     "output_type": "stream",
     "text": [
      "total condition no.: 96\n",
      "total device no.: 96\n",
      "maximum Y (PCE [%]):  10.98\n"
     ]
    },
    {
     "name": "stderr",
     "output_type": "stream",
     "text": [
      "reconstraining parameters Mat52.lengthscale\n",
      "reconstraining parameters Mat52.variance\n"
     ]
    },
    {
     "name": "stdout",
     "output_type": "stream",
     "text": [
      "total condition no.: 112\n",
      "total device no.: 112\n",
      "maximum Y (PCE [%]):  10.98\n"
     ]
    },
    {
     "name": "stderr",
     "output_type": "stream",
     "text": [
      " /Users/JeremyXu/opt/anaconda3/lib/python3.8/site-packages/emukit/bayesian_optimization/acquisitions/log_acquisition.py:25: RuntimeWarning:invalid value encountered in log\n",
      "reconstraining parameters Mat52.lengthscale\n",
      "reconstraining parameters Mat52.variance\n"
     ]
    },
    {
     "name": "stdout",
     "output_type": "stream",
     "text": [
      "    MAPbI Conc [M]  CH₂I₂ Conc [μL]  PC voltage [V]  PC length [ms]  \\\n",
      "71         1.34967       234.222343      287.296244       24.782173   \n",
      "\n",
      "    Efficiency [%]  \n",
      "71       10.976754  \n"
     ]
    },
    {
     "name": "stderr",
     "output_type": "stream",
     "text": [
      "reconstraining parameters Mat52.lengthscale\n",
      "reconstraining parameters Mat52.variance\n"
     ]
    },
    {
     "name": "stdout",
     "output_type": "stream",
     "text": [
      "total condition no.: 16\n",
      "total device no.: 16\n",
      "maximum Y (PCE [%]):  9.79\n",
      "total condition no.: 32\n",
      "total device no.: 32\n",
      "maximum Y (PCE [%]):  10.85\n"
     ]
    },
    {
     "name": "stderr",
     "output_type": "stream",
     "text": [
      "reconstraining parameters Mat52.lengthscale\n",
      "reconstraining parameters Mat52.variance\n"
     ]
    },
    {
     "name": "stdout",
     "output_type": "stream",
     "text": [
      "total condition no.: 48\n",
      "total device no.: 48\n",
      "maximum Y (PCE [%]):  10.85\n"
     ]
    },
    {
     "name": "stderr",
     "output_type": "stream",
     "text": [
      "reconstraining parameters Mat52.lengthscale\n",
      "reconstraining parameters Mat52.variance\n"
     ]
    },
    {
     "name": "stdout",
     "output_type": "stream",
     "text": [
      "total condition no.: 64\n",
      "total device no.: 64\n",
      "maximum Y (PCE [%]):  10.97\n"
     ]
    },
    {
     "name": "stderr",
     "output_type": "stream",
     "text": [
      "reconstraining parameters Mat52.lengthscale\n",
      "reconstraining parameters Mat52.variance\n"
     ]
    },
    {
     "name": "stdout",
     "output_type": "stream",
     "text": [
      "total condition no.: 80\n",
      "total device no.: 80\n",
      "maximum Y (PCE [%]):  10.97\n"
     ]
    },
    {
     "name": "stderr",
     "output_type": "stream",
     "text": [
      "reconstraining parameters Mat52.lengthscale\n",
      "reconstraining parameters Mat52.variance\n"
     ]
    },
    {
     "name": "stdout",
     "output_type": "stream",
     "text": [
      "total condition no.: 96\n",
      "total device no.: 96\n",
      "maximum Y (PCE [%]):  10.97\n"
     ]
    },
    {
     "name": "stderr",
     "output_type": "stream",
     "text": [
      "reconstraining parameters Mat52.lengthscale\n",
      "reconstraining parameters Mat52.variance\n"
     ]
    },
    {
     "name": "stdout",
     "output_type": "stream",
     "text": [
      "total condition no.: 112\n",
      "total device no.: 112\n",
      "maximum Y (PCE [%]):  10.98\n"
     ]
    },
    {
     "name": "stderr",
     "output_type": "stream",
     "text": [
      "reconstraining parameters Mat52.lengthscale\n",
      "reconstraining parameters Mat52.variance\n"
     ]
    },
    {
     "name": "stdout",
     "output_type": "stream",
     "text": [
      "     MAPbI Conc [M]  CH₂I₂ Conc [μL]  PC voltage [V]  PC length [ms]  \\\n",
      "120        1.448373       245.413988      295.383668       23.405628   \n",
      "\n",
      "     Efficiency [%]  \n",
      "120       11.076475  \n"
     ]
    },
    {
     "name": "stderr",
     "output_type": "stream",
     "text": [
      "reconstraining parameters Mat52.lengthscale\n",
      "reconstraining parameters Mat52.variance\n"
     ]
    },
    {
     "name": "stdout",
     "output_type": "stream",
     "text": [
      "total condition no.: 16\n",
      "total device no.: 16\n",
      "maximum Y (PCE [%]):  10.13\n",
      "total condition no.: 32\n",
      "total device no.: 32\n",
      "maximum Y (PCE [%]):  10.13\n"
     ]
    },
    {
     "name": "stderr",
     "output_type": "stream",
     "text": [
      "reconstraining parameters Mat52.lengthscale\n",
      "reconstraining parameters Mat52.variance\n"
     ]
    },
    {
     "name": "stdout",
     "output_type": "stream",
     "text": [
      "total condition no.: 48\n",
      "total device no.: 48\n",
      "maximum Y (PCE [%]):  10.97\n"
     ]
    },
    {
     "name": "stderr",
     "output_type": "stream",
     "text": [
      "reconstraining parameters Mat52.lengthscale\n",
      "reconstraining parameters Mat52.variance\n"
     ]
    },
    {
     "name": "stdout",
     "output_type": "stream",
     "text": [
      "total condition no.: 64\n",
      "total device no.: 64\n",
      "maximum Y (PCE [%]):  11.0\n"
     ]
    },
    {
     "name": "stderr",
     "output_type": "stream",
     "text": [
      "reconstraining parameters Mat52.lengthscale\n",
      "reconstraining parameters Mat52.variance\n"
     ]
    },
    {
     "name": "stdout",
     "output_type": "stream",
     "text": [
      "total condition no.: 80\n",
      "total device no.: 80\n",
      "maximum Y (PCE [%]):  11.0\n"
     ]
    },
    {
     "name": "stderr",
     "output_type": "stream",
     "text": [
      "reconstraining parameters Mat52.lengthscale\n",
      "reconstraining parameters Mat52.variance\n"
     ]
    },
    {
     "name": "stdout",
     "output_type": "stream",
     "text": [
      "total condition no.: 96\n",
      "total device no.: 96\n",
      "maximum Y (PCE [%]):  11.0\n"
     ]
    },
    {
     "name": "stderr",
     "output_type": "stream",
     "text": [
      "reconstraining parameters Mat52.lengthscale\n",
      "reconstraining parameters Mat52.variance\n"
     ]
    },
    {
     "name": "stdout",
     "output_type": "stream",
     "text": [
      "total condition no.: 112\n",
      "total device no.: 112\n",
      "maximum Y (PCE [%]):  11.0\n"
     ]
    },
    {
     "name": "stderr",
     "output_type": "stream",
     "text": [
      "reconstraining parameters Mat52.lengthscale\n",
      "reconstraining parameters Mat52.variance\n"
     ]
    },
    {
     "name": "stdout",
     "output_type": "stream",
     "text": [
      "    MAPbI Conc [M]  CH₂I₂ Conc [μL]  PC voltage [V]  PC length [ms]  \\\n",
      "62        1.480853       235.213292      313.593939       23.234246   \n",
      "\n",
      "    Efficiency [%]  \n",
      "62       10.995933  \n"
     ]
    },
    {
     "name": "stderr",
     "output_type": "stream",
     "text": [
      "reconstraining parameters Mat52.lengthscale\n",
      "reconstraining parameters Mat52.variance\n"
     ]
    },
    {
     "name": "stdout",
     "output_type": "stream",
     "text": [
      "total condition no.: 16\n",
      "total device no.: 16\n",
      "maximum Y (PCE [%]):  9.81\n",
      "total condition no.: 32\n",
      "total device no.: 32\n",
      "maximum Y (PCE [%]):  9.82\n"
     ]
    },
    {
     "name": "stderr",
     "output_type": "stream",
     "text": [
      "reconstraining parameters Mat52.lengthscale\n",
      "reconstraining parameters Mat52.variance\n"
     ]
    },
    {
     "name": "stdout",
     "output_type": "stream",
     "text": [
      "total condition no.: 48\n",
      "total device no.: 48\n",
      "maximum Y (PCE [%]):  10.72\n"
     ]
    },
    {
     "name": "stderr",
     "output_type": "stream",
     "text": [
      " /Users/JeremyXu/opt/anaconda3/lib/python3.8/site-packages/emukit/bayesian_optimization/acquisitions/log_acquisition.py:25: RuntimeWarning:invalid value encountered in log\n",
      "reconstraining parameters Mat52.lengthscale\n",
      "reconstraining parameters Mat52.variance\n"
     ]
    },
    {
     "name": "stdout",
     "output_type": "stream",
     "text": [
      "total condition no.: 64\n",
      "total device no.: 64\n",
      "maximum Y (PCE [%]):  10.74\n"
     ]
    },
    {
     "name": "stderr",
     "output_type": "stream",
     "text": [
      " /Users/JeremyXu/opt/anaconda3/lib/python3.8/site-packages/emukit/bayesian_optimization/acquisitions/log_acquisition.py:25: RuntimeWarning:invalid value encountered in log\n",
      "reconstraining parameters Mat52.lengthscale\n",
      "reconstraining parameters Mat52.variance\n"
     ]
    },
    {
     "name": "stdout",
     "output_type": "stream",
     "text": [
      "total condition no.: 80\n",
      "total device no.: 80\n",
      "maximum Y (PCE [%]):  10.74\n"
     ]
    },
    {
     "name": "stderr",
     "output_type": "stream",
     "text": [
      "reconstraining parameters Mat52.lengthscale\n",
      "reconstraining parameters Mat52.variance\n"
     ]
    },
    {
     "name": "stdout",
     "output_type": "stream",
     "text": [
      "total condition no.: 96\n",
      "total device no.: 96\n",
      "maximum Y (PCE [%]):  10.79\n"
     ]
    },
    {
     "name": "stderr",
     "output_type": "stream",
     "text": [
      "reconstraining parameters Mat52.lengthscale\n",
      "reconstraining parameters Mat52.variance\n"
     ]
    },
    {
     "name": "stdout",
     "output_type": "stream",
     "text": [
      "total condition no.: 112\n",
      "total device no.: 112\n",
      "maximum Y (PCE [%]):  10.95\n"
     ]
    },
    {
     "name": "stderr",
     "output_type": "stream",
     "text": [
      "reconstraining parameters Mat52.lengthscale\n",
      "reconstraining parameters Mat52.variance\n"
     ]
    },
    {
     "name": "stdout",
     "output_type": "stream",
     "text": [
      "     MAPbI Conc [M]  CH₂I₂ Conc [μL]  PC voltage [V]  PC length [ms]  \\\n",
      "119        1.457374       244.517297       313.56026       21.729287   \n",
      "\n",
      "     Efficiency [%]  \n",
      "119       10.972183  \n"
     ]
    },
    {
     "name": "stderr",
     "output_type": "stream",
     "text": [
      " /Users/JeremyXu/opt/anaconda3/lib/python3.8/site-packages/emukit/bayesian_optimization/acquisitions/log_acquisition.py:25: RuntimeWarning:invalid value encountered in log\n",
      "reconstraining parameters Mat52.lengthscale\n",
      "reconstraining parameters Mat52.variance\n"
     ]
    },
    {
     "name": "stdout",
     "output_type": "stream",
     "text": [
      "total condition no.: 16\n",
      "total device no.: 16\n",
      "maximum Y (PCE [%]):  9.14\n",
      "total condition no.: 32\n",
      "total device no.: 32\n",
      "maximum Y (PCE [%]):  9.94\n"
     ]
    },
    {
     "name": "stderr",
     "output_type": "stream",
     "text": [
      "reconstraining parameters Mat52.lengthscale\n",
      "reconstraining parameters Mat52.variance\n"
     ]
    },
    {
     "name": "stdout",
     "output_type": "stream",
     "text": [
      "total condition no.: 48\n",
      "total device no.: 48\n",
      "maximum Y (PCE [%]):  10.49\n"
     ]
    },
    {
     "name": "stderr",
     "output_type": "stream",
     "text": [
      "reconstraining parameters Mat52.lengthscale\n",
      "reconstraining parameters Mat52.variance\n"
     ]
    },
    {
     "name": "stdout",
     "output_type": "stream",
     "text": [
      "total condition no.: 64\n",
      "total device no.: 64\n",
      "maximum Y (PCE [%]):  10.49\n"
     ]
    },
    {
     "name": "stderr",
     "output_type": "stream",
     "text": [
      "reconstraining parameters Mat52.lengthscale\n",
      "reconstraining parameters Mat52.variance\n"
     ]
    },
    {
     "name": "stdout",
     "output_type": "stream",
     "text": [
      "total condition no.: 80\n",
      "total device no.: 80\n",
      "maximum Y (PCE [%]):  10.52\n"
     ]
    },
    {
     "name": "stderr",
     "output_type": "stream",
     "text": [
      "reconstraining parameters Mat52.lengthscale\n",
      "reconstraining parameters Mat52.variance\n"
     ]
    },
    {
     "name": "stdout",
     "output_type": "stream",
     "text": [
      "total condition no.: 96\n",
      "total device no.: 96\n",
      "maximum Y (PCE [%]):  10.52\n"
     ]
    },
    {
     "name": "stderr",
     "output_type": "stream",
     "text": [
      "reconstraining parameters Mat52.lengthscale\n",
      "reconstraining parameters Mat52.variance\n"
     ]
    },
    {
     "name": "stdout",
     "output_type": "stream",
     "text": [
      "total condition no.: 112\n",
      "total device no.: 112\n",
      "maximum Y (PCE [%]):  10.57\n"
     ]
    },
    {
     "name": "stderr",
     "output_type": "stream",
     "text": [
      "reconstraining parameters Mat52.lengthscale\n",
      "reconstraining parameters Mat52.variance\n"
     ]
    },
    {
     "name": "stdout",
     "output_type": "stream",
     "text": [
      "     MAPbI Conc [M]  CH₂I₂ Conc [μL]  PC voltage [V]  PC length [ms]  \\\n",
      "110         1.44907        188.25471      298.473786       54.059822   \n",
      "\n",
      "     Efficiency [%]  \n",
      "110       10.565835  \n"
     ]
    },
    {
     "name": "stderr",
     "output_type": "stream",
     "text": [
      "reconstraining parameters Mat52.lengthscale\n",
      "reconstraining parameters Mat52.variance\n"
     ]
    },
    {
     "name": "stdout",
     "output_type": "stream",
     "text": [
      "total condition no.: 16\n",
      "total device no.: 16\n",
      "maximum Y (PCE [%]):  8.87\n",
      "total condition no.: 32\n",
      "total device no.: 32\n",
      "maximum Y (PCE [%]):  10.31\n"
     ]
    },
    {
     "name": "stderr",
     "output_type": "stream",
     "text": [
      "reconstraining parameters Mat52.lengthscale\n",
      "reconstraining parameters Mat52.variance\n"
     ]
    },
    {
     "name": "stdout",
     "output_type": "stream",
     "text": [
      "total condition no.: 48\n",
      "total device no.: 48\n",
      "maximum Y (PCE [%]):  11.13\n"
     ]
    },
    {
     "name": "stderr",
     "output_type": "stream",
     "text": [
      " /Users/JeremyXu/opt/anaconda3/lib/python3.8/site-packages/emukit/bayesian_optimization/acquisitions/log_acquisition.py:25: RuntimeWarning:invalid value encountered in log\n",
      "reconstraining parameters Mat52.lengthscale\n",
      "reconstraining parameters Mat52.variance\n"
     ]
    },
    {
     "name": "stdout",
     "output_type": "stream",
     "text": [
      "total condition no.: 64\n",
      "total device no.: 64\n",
      "maximum Y (PCE [%]):  11.13\n"
     ]
    },
    {
     "name": "stderr",
     "output_type": "stream",
     "text": [
      " /Users/JeremyXu/opt/anaconda3/lib/python3.8/site-packages/emukit/bayesian_optimization/acquisitions/log_acquisition.py:25: RuntimeWarning:invalid value encountered in log\n",
      "reconstraining parameters Mat52.lengthscale\n",
      "reconstraining parameters Mat52.variance\n"
     ]
    },
    {
     "name": "stdout",
     "output_type": "stream",
     "text": [
      "total condition no.: 80\n",
      "total device no.: 80\n",
      "maximum Y (PCE [%]):  11.13\n"
     ]
    },
    {
     "name": "stderr",
     "output_type": "stream",
     "text": [
      "reconstraining parameters Mat52.lengthscale\n",
      "reconstraining parameters Mat52.variance\n"
     ]
    },
    {
     "name": "stdout",
     "output_type": "stream",
     "text": [
      "total condition no.: 96\n",
      "total device no.: 96\n",
      "maximum Y (PCE [%]):  11.13\n"
     ]
    },
    {
     "name": "stderr",
     "output_type": "stream",
     "text": [
      "reconstraining parameters Mat52.lengthscale\n",
      "reconstraining parameters Mat52.variance\n"
     ]
    },
    {
     "name": "stdout",
     "output_type": "stream",
     "text": [
      "total condition no.: 112\n",
      "total device no.: 112\n",
      "maximum Y (PCE [%]):  11.13\n"
     ]
    },
    {
     "name": "stderr",
     "output_type": "stream",
     "text": [
      "reconstraining parameters Mat52.lengthscale\n",
      "reconstraining parameters Mat52.variance\n"
     ]
    },
    {
     "name": "stdout",
     "output_type": "stream",
     "text": [
      "    MAPbI Conc [M]  CH₂I₂ Conc [μL]  PC voltage [V]  PC length [ms]  \\\n",
      "34        1.336259         201.3257      297.385671       26.336153   \n",
      "\n",
      "    Efficiency [%]  \n",
      "34       11.125733  \n"
     ]
    },
    {
     "name": "stderr",
     "output_type": "stream",
     "text": [
      "reconstraining parameters Mat52.lengthscale\n",
      "reconstraining parameters Mat52.variance\n"
     ]
    },
    {
     "name": "stdout",
     "output_type": "stream",
     "text": [
      "total condition no.: 16\n",
      "total device no.: 16\n",
      "maximum Y (PCE [%]):  9.62\n",
      "total condition no.: 32\n",
      "total device no.: 32\n",
      "maximum Y (PCE [%]):  11.0\n"
     ]
    },
    {
     "name": "stderr",
     "output_type": "stream",
     "text": [
      "reconstraining parameters Mat52.lengthscale\n",
      "reconstraining parameters Mat52.variance\n"
     ]
    },
    {
     "name": "stdout",
     "output_type": "stream",
     "text": [
      "total condition no.: 48\n",
      "total device no.: 48\n",
      "maximum Y (PCE [%]):  11.0\n"
     ]
    },
    {
     "name": "stderr",
     "output_type": "stream",
     "text": [
      "reconstraining parameters Mat52.lengthscale\n",
      "reconstraining parameters Mat52.variance\n"
     ]
    },
    {
     "name": "stdout",
     "output_type": "stream",
     "text": [
      "total condition no.: 64\n",
      "total device no.: 64\n",
      "maximum Y (PCE [%]):  11.0\n"
     ]
    },
    {
     "name": "stderr",
     "output_type": "stream",
     "text": [
      "reconstraining parameters Mat52.lengthscale\n",
      "reconstraining parameters Mat52.variance\n"
     ]
    },
    {
     "name": "stdout",
     "output_type": "stream",
     "text": [
      "total condition no.: 80\n",
      "total device no.: 80\n",
      "maximum Y (PCE [%]):  11.0\n"
     ]
    },
    {
     "name": "stderr",
     "output_type": "stream",
     "text": [
      "reconstraining parameters Mat52.lengthscale\n",
      "reconstraining parameters Mat52.variance\n"
     ]
    },
    {
     "name": "stdout",
     "output_type": "stream",
     "text": [
      "total condition no.: 96\n",
      "total device no.: 96\n",
      "maximum Y (PCE [%]):  11.0\n"
     ]
    },
    {
     "name": "stderr",
     "output_type": "stream",
     "text": [
      "reconstraining parameters Mat52.lengthscale\n",
      "reconstraining parameters Mat52.variance\n"
     ]
    },
    {
     "name": "stdout",
     "output_type": "stream",
     "text": [
      "total condition no.: 112\n",
      "total device no.: 112\n",
      "maximum Y (PCE [%]):  11.0\n"
     ]
    },
    {
     "name": "stderr",
     "output_type": "stream",
     "text": [
      "reconstraining parameters Mat52.lengthscale\n",
      "reconstraining parameters Mat52.variance\n"
     ]
    },
    {
     "name": "stdout",
     "output_type": "stream",
     "text": [
      "    MAPbI Conc [M]  CH₂I₂ Conc [μL]  PC voltage [V]  PC length [ms]  \\\n",
      "28        1.447709       194.601302      299.594334        25.85481   \n",
      "\n",
      "    Efficiency [%]  \n",
      "28       11.002683  \n"
     ]
    },
    {
     "name": "stderr",
     "output_type": "stream",
     "text": [
      "reconstraining parameters Mat52.lengthscale\n",
      "reconstraining parameters Mat52.variance\n"
     ]
    },
    {
     "name": "stdout",
     "output_type": "stream",
     "text": [
      "total condition no.: 16\n",
      "total device no.: 16\n",
      "maximum Y (PCE [%]):  9.27\n",
      "total condition no.: 32\n",
      "total device no.: 32\n",
      "maximum Y (PCE [%]):  10.33\n"
     ]
    },
    {
     "name": "stderr",
     "output_type": "stream",
     "text": [
      "reconstraining parameters Mat52.lengthscale\n",
      "reconstraining parameters Mat52.variance\n"
     ]
    },
    {
     "name": "stdout",
     "output_type": "stream",
     "text": [
      "total condition no.: 48\n",
      "total device no.: 48\n",
      "maximum Y (PCE [%]):  10.99\n"
     ]
    },
    {
     "name": "stderr",
     "output_type": "stream",
     "text": [
      "reconstraining parameters Mat52.lengthscale\n",
      "reconstraining parameters Mat52.variance\n"
     ]
    },
    {
     "name": "stdout",
     "output_type": "stream",
     "text": [
      "total condition no.: 64\n",
      "total device no.: 64\n",
      "maximum Y (PCE [%]):  10.99\n"
     ]
    },
    {
     "name": "stderr",
     "output_type": "stream",
     "text": [
      "reconstraining parameters Mat52.lengthscale\n",
      "reconstraining parameters Mat52.variance\n"
     ]
    },
    {
     "name": "stdout",
     "output_type": "stream",
     "text": [
      "total condition no.: 80\n",
      "total device no.: 80\n",
      "maximum Y (PCE [%]):  10.99\n"
     ]
    },
    {
     "name": "stderr",
     "output_type": "stream",
     "text": [
      "reconstraining parameters Mat52.lengthscale\n",
      "reconstraining parameters Mat52.variance\n"
     ]
    },
    {
     "name": "stdout",
     "output_type": "stream",
     "text": [
      "total condition no.: 96\n",
      "total device no.: 96\n",
      "maximum Y (PCE [%]):  10.99\n"
     ]
    },
    {
     "name": "stderr",
     "output_type": "stream",
     "text": [
      "reconstraining parameters Mat52.lengthscale\n",
      "reconstraining parameters Mat52.variance\n"
     ]
    },
    {
     "name": "stdout",
     "output_type": "stream",
     "text": [
      "total condition no.: 112\n",
      "total device no.: 112\n",
      "maximum Y (PCE [%]):  10.99\n"
     ]
    },
    {
     "name": "stderr",
     "output_type": "stream",
     "text": [
      "reconstraining parameters Mat52.lengthscale\n",
      "reconstraining parameters Mat52.variance\n"
     ]
    },
    {
     "name": "stdout",
     "output_type": "stream",
     "text": [
      "     MAPbI Conc [M]  CH₂I₂ Conc [μL]  PC voltage [V]  PC length [ms]  \\\n",
      "126        1.459283       197.427911      293.440119       24.117621   \n",
      "\n",
      "     Efficiency [%]  \n",
      "126       11.069383  \n"
     ]
    },
    {
     "name": "stderr",
     "output_type": "stream",
     "text": [
      "reconstraining parameters Mat52.lengthscale\n",
      "reconstraining parameters Mat52.variance\n"
     ]
    },
    {
     "name": "stdout",
     "output_type": "stream",
     "text": [
      "total condition no.: 16\n",
      "total device no.: 16\n",
      "maximum Y (PCE [%]):  9.24\n",
      "total condition no.: 32\n",
      "total device no.: 32\n",
      "maximum Y (PCE [%]):  10.58\n"
     ]
    },
    {
     "name": "stderr",
     "output_type": "stream",
     "text": [
      "reconstraining parameters Mat52.lengthscale\n",
      "reconstraining parameters Mat52.variance\n"
     ]
    },
    {
     "name": "stdout",
     "output_type": "stream",
     "text": [
      "total condition no.: 48\n",
      "total device no.: 48\n",
      "maximum Y (PCE [%]):  10.58\n"
     ]
    },
    {
     "name": "stderr",
     "output_type": "stream",
     "text": [
      "reconstraining parameters Mat52.lengthscale\n",
      "reconstraining parameters Mat52.variance\n"
     ]
    },
    {
     "name": "stdout",
     "output_type": "stream",
     "text": [
      "total condition no.: 64\n",
      "total device no.: 64\n",
      "maximum Y (PCE [%]):  10.88\n"
     ]
    },
    {
     "name": "stderr",
     "output_type": "stream",
     "text": [
      "reconstraining parameters Mat52.lengthscale\n",
      "reconstraining parameters Mat52.variance\n"
     ]
    },
    {
     "name": "stdout",
     "output_type": "stream",
     "text": [
      "total condition no.: 80\n",
      "total device no.: 80\n",
      "maximum Y (PCE [%]):  10.93\n"
     ]
    },
    {
     "name": "stderr",
     "output_type": "stream",
     "text": [
      "reconstraining parameters Mat52.lengthscale\n",
      "reconstraining parameters Mat52.variance\n"
     ]
    },
    {
     "name": "stdout",
     "output_type": "stream",
     "text": [
      "total condition no.: 96\n",
      "total device no.: 96\n",
      "maximum Y (PCE [%]):  11.01\n"
     ]
    },
    {
     "name": "stderr",
     "output_type": "stream",
     "text": [
      "reconstraining parameters Mat52.lengthscale\n",
      "reconstraining parameters Mat52.variance\n"
     ]
    },
    {
     "name": "stdout",
     "output_type": "stream",
     "text": [
      "total condition no.: 112\n",
      "total device no.: 112\n",
      "maximum Y (PCE [%]):  11.12\n"
     ]
    },
    {
     "name": "stderr",
     "output_type": "stream",
     "text": [
      "reconstraining parameters Mat52.lengthscale\n",
      "reconstraining parameters Mat52.variance\n"
     ]
    },
    {
     "name": "stdout",
     "output_type": "stream",
     "text": [
      "     MAPbI Conc [M]  CH₂I₂ Conc [μL]  PC voltage [V]  PC length [ms]  \\\n",
      "109        1.436314       234.671411      293.764953        23.81844   \n",
      "\n",
      "     Efficiency [%]  \n",
      "109         11.1173  \n"
     ]
    },
    {
     "name": "stderr",
     "output_type": "stream",
     "text": [
      "reconstraining parameters Mat52.lengthscale\n",
      "reconstraining parameters Mat52.variance\n"
     ]
    },
    {
     "name": "stdout",
     "output_type": "stream",
     "text": [
      "total condition no.: 16\n",
      "total device no.: 16\n",
      "maximum Y (PCE [%]):  9.34\n",
      "total condition no.: 32\n",
      "total device no.: 32\n",
      "maximum Y (PCE [%]):  10.52\n"
     ]
    },
    {
     "name": "stderr",
     "output_type": "stream",
     "text": [
      " /Users/JeremyXu/opt/anaconda3/lib/python3.8/site-packages/emukit/bayesian_optimization/acquisitions/log_acquisition.py:25: RuntimeWarning:invalid value encountered in log\n",
      "reconstraining parameters Mat52.lengthscale\n",
      "reconstraining parameters Mat52.variance\n"
     ]
    },
    {
     "name": "stdout",
     "output_type": "stream",
     "text": [
      "total condition no.: 48\n",
      "total device no.: 48\n",
      "maximum Y (PCE [%]):  10.52\n"
     ]
    },
    {
     "name": "stderr",
     "output_type": "stream",
     "text": [
      "reconstraining parameters Mat52.lengthscale\n",
      "reconstraining parameters Mat52.variance\n"
     ]
    },
    {
     "name": "stdout",
     "output_type": "stream",
     "text": [
      "total condition no.: 64\n",
      "total device no.: 64\n",
      "maximum Y (PCE [%]):  10.96\n"
     ]
    },
    {
     "name": "stderr",
     "output_type": "stream",
     "text": [
      "reconstraining parameters Mat52.lengthscale\n",
      "reconstraining parameters Mat52.variance\n"
     ]
    },
    {
     "name": "stdout",
     "output_type": "stream",
     "text": [
      "total condition no.: 80\n",
      "total device no.: 80\n",
      "maximum Y (PCE [%]):  11.09\n"
     ]
    },
    {
     "name": "stderr",
     "output_type": "stream",
     "text": [
      "reconstraining parameters Mat52.lengthscale\n",
      "reconstraining parameters Mat52.variance\n"
     ]
    },
    {
     "name": "stdout",
     "output_type": "stream",
     "text": [
      "total condition no.: 96\n",
      "total device no.: 96\n",
      "maximum Y (PCE [%]):  11.09\n"
     ]
    },
    {
     "name": "stderr",
     "output_type": "stream",
     "text": [
      "reconstraining parameters Mat52.lengthscale\n",
      "reconstraining parameters Mat52.variance\n"
     ]
    },
    {
     "name": "stdout",
     "output_type": "stream",
     "text": [
      "total condition no.: 112\n",
      "total device no.: 112\n",
      "maximum Y (PCE [%]):  11.09\n"
     ]
    },
    {
     "name": "stderr",
     "output_type": "stream",
     "text": [
      "reconstraining parameters Mat52.lengthscale\n",
      "reconstraining parameters Mat52.variance\n"
     ]
    },
    {
     "name": "stdout",
     "output_type": "stream",
     "text": [
      "     MAPbI Conc [M]  CH₂I₂ Conc [μL]  PC voltage [V]  PC length [ms]  \\\n",
      "114        1.326732       176.887902      292.156632       24.020057   \n",
      "\n",
      "     Efficiency [%]  \n",
      "114       11.242033  \n"
     ]
    },
    {
     "name": "stderr",
     "output_type": "stream",
     "text": [
      "reconstraining parameters Mat52.lengthscale\n",
      "reconstraining parameters Mat52.variance\n"
     ]
    },
    {
     "name": "stdout",
     "output_type": "stream",
     "text": [
      "total condition no.: 16\n",
      "total device no.: 16\n",
      "maximum Y (PCE [%]):  9.18\n",
      "total condition no.: 32\n",
      "total device no.: 32\n",
      "maximum Y (PCE [%]):  9.81\n"
     ]
    },
    {
     "name": "stderr",
     "output_type": "stream",
     "text": [
      "reconstraining parameters Mat52.lengthscale\n",
      "reconstraining parameters Mat52.variance\n"
     ]
    },
    {
     "name": "stdout",
     "output_type": "stream",
     "text": [
      "total condition no.: 48\n",
      "total device no.: 48\n",
      "maximum Y (PCE [%]):  10.26\n"
     ]
    },
    {
     "name": "stderr",
     "output_type": "stream",
     "text": [
      " /Users/JeremyXu/opt/anaconda3/lib/python3.8/site-packages/emukit/bayesian_optimization/acquisitions/log_acquisition.py:25: RuntimeWarning:invalid value encountered in log\n",
      "reconstraining parameters Mat52.lengthscale\n",
      "reconstraining parameters Mat52.variance\n"
     ]
    },
    {
     "name": "stdout",
     "output_type": "stream",
     "text": [
      "total condition no.: 64\n",
      "total device no.: 64\n",
      "maximum Y (PCE [%]):  10.49\n"
     ]
    },
    {
     "name": "stderr",
     "output_type": "stream",
     "text": [
      "reconstraining parameters Mat52.lengthscale\n",
      "reconstraining parameters Mat52.variance\n"
     ]
    },
    {
     "name": "stdout",
     "output_type": "stream",
     "text": [
      "total condition no.: 80\n",
      "total device no.: 80\n",
      "maximum Y (PCE [%]):  10.69\n"
     ]
    },
    {
     "name": "stderr",
     "output_type": "stream",
     "text": [
      "reconstraining parameters Mat52.lengthscale\n",
      "reconstraining parameters Mat52.variance\n"
     ]
    },
    {
     "name": "stdout",
     "output_type": "stream",
     "text": [
      "total condition no.: 96\n",
      "total device no.: 96\n",
      "maximum Y (PCE [%]):  10.69\n"
     ]
    },
    {
     "name": "stderr",
     "output_type": "stream",
     "text": [
      "reconstraining parameters Mat52.lengthscale\n",
      "reconstraining parameters Mat52.variance\n"
     ]
    },
    {
     "name": "stdout",
     "output_type": "stream",
     "text": [
      "total condition no.: 112\n",
      "total device no.: 112\n",
      "maximum Y (PCE [%]):  10.69\n"
     ]
    },
    {
     "name": "stderr",
     "output_type": "stream",
     "text": [
      "reconstraining parameters Mat52.lengthscale\n",
      "reconstraining parameters Mat52.variance\n"
     ]
    },
    {
     "name": "stdout",
     "output_type": "stream",
     "text": [
      "    MAPbI Conc [M]  CH₂I₂ Conc [μL]  PC voltage [V]  PC length [ms]  \\\n",
      "70        1.479843       176.135296      290.376568       50.907889   \n",
      "\n",
      "    Efficiency [%]  \n",
      "70       10.692468  \n"
     ]
    },
    {
     "name": "stderr",
     "output_type": "stream",
     "text": [
      "reconstraining parameters Mat52.lengthscale\n",
      "reconstraining parameters Mat52.variance\n"
     ]
    },
    {
     "name": "stdout",
     "output_type": "stream",
     "text": [
      "total condition no.: 16\n",
      "total device no.: 16\n",
      "maximum Y (PCE [%]):  9.89\n",
      "total condition no.: 32\n",
      "total device no.: 32\n",
      "maximum Y (PCE [%]):  10.75\n"
     ]
    },
    {
     "name": "stderr",
     "output_type": "stream",
     "text": [
      "reconstraining parameters Mat52.lengthscale\n",
      "reconstraining parameters Mat52.variance\n"
     ]
    },
    {
     "name": "stdout",
     "output_type": "stream",
     "text": [
      "total condition no.: 48\n",
      "total device no.: 48\n",
      "maximum Y (PCE [%]):  10.92\n"
     ]
    },
    {
     "name": "stderr",
     "output_type": "stream",
     "text": [
      "reconstraining parameters Mat52.lengthscale\n",
      "reconstraining parameters Mat52.variance\n"
     ]
    },
    {
     "name": "stdout",
     "output_type": "stream",
     "text": [
      "total condition no.: 64\n",
      "total device no.: 64\n",
      "maximum Y (PCE [%]):  10.92\n"
     ]
    },
    {
     "name": "stderr",
     "output_type": "stream",
     "text": [
      "reconstraining parameters Mat52.lengthscale\n",
      "reconstraining parameters Mat52.variance\n"
     ]
    },
    {
     "name": "stdout",
     "output_type": "stream",
     "text": [
      "total condition no.: 80\n",
      "total device no.: 80\n",
      "maximum Y (PCE [%]):  10.92\n"
     ]
    },
    {
     "name": "stderr",
     "output_type": "stream",
     "text": [
      "reconstraining parameters Mat52.lengthscale\n",
      "reconstraining parameters Mat52.variance\n"
     ]
    },
    {
     "name": "stdout",
     "output_type": "stream",
     "text": [
      "total condition no.: 96\n",
      "total device no.: 96\n",
      "maximum Y (PCE [%]):  10.92\n"
     ]
    },
    {
     "name": "stderr",
     "output_type": "stream",
     "text": [
      "reconstraining parameters Mat52.lengthscale\n",
      "reconstraining parameters Mat52.variance\n"
     ]
    },
    {
     "name": "stdout",
     "output_type": "stream",
     "text": [
      "total condition no.: 112\n",
      "total device no.: 112\n",
      "maximum Y (PCE [%]):  10.92\n"
     ]
    },
    {
     "name": "stderr",
     "output_type": "stream",
     "text": [
      "reconstraining parameters Mat52.lengthscale\n",
      "reconstraining parameters Mat52.variance\n"
     ]
    },
    {
     "name": "stdout",
     "output_type": "stream",
     "text": [
      "    MAPbI Conc [M]  CH₂I₂ Conc [μL]  PC voltage [V]  PC length [ms]  \\\n",
      "47        1.333551       242.255898      303.890897       26.350664   \n",
      "\n",
      "    Efficiency [%]  \n",
      "47       10.922592  \n"
     ]
    },
    {
     "name": "stderr",
     "output_type": "stream",
     "text": [
      "reconstraining parameters Mat52.lengthscale\n",
      "reconstraining parameters Mat52.variance\n"
     ]
    },
    {
     "name": "stdout",
     "output_type": "stream",
     "text": [
      "total condition no.: 16\n",
      "total device no.: 16\n",
      "maximum Y (PCE [%]):  9.67\n",
      "total condition no.: 32\n",
      "total device no.: 32\n",
      "maximum Y (PCE [%]):  10.32\n"
     ]
    },
    {
     "name": "stderr",
     "output_type": "stream",
     "text": [
      "reconstraining parameters Mat52.lengthscale\n",
      "reconstraining parameters Mat52.variance\n"
     ]
    },
    {
     "name": "stdout",
     "output_type": "stream",
     "text": [
      "total condition no.: 48\n",
      "total device no.: 48\n",
      "maximum Y (PCE [%]):  10.32\n"
     ]
    },
    {
     "name": "stderr",
     "output_type": "stream",
     "text": [
      "reconstraining parameters Mat52.lengthscale\n",
      "reconstraining parameters Mat52.variance\n"
     ]
    },
    {
     "name": "stdout",
     "output_type": "stream",
     "text": [
      "total condition no.: 64\n",
      "total device no.: 64\n",
      "maximum Y (PCE [%]):  10.32\n"
     ]
    },
    {
     "name": "stderr",
     "output_type": "stream",
     "text": [
      "reconstraining parameters Mat52.lengthscale\n",
      "reconstraining parameters Mat52.variance\n"
     ]
    },
    {
     "name": "stdout",
     "output_type": "stream",
     "text": [
      "total condition no.: 80\n",
      "total device no.: 80\n",
      "maximum Y (PCE [%]):  10.32\n"
     ]
    },
    {
     "name": "stderr",
     "output_type": "stream",
     "text": [
      "reconstraining parameters Mat52.lengthscale\n",
      "reconstraining parameters Mat52.variance\n"
     ]
    },
    {
     "name": "stdout",
     "output_type": "stream",
     "text": [
      "total condition no.: 96\n",
      "total device no.: 96\n",
      "maximum Y (PCE [%]):  10.32\n"
     ]
    },
    {
     "name": "stderr",
     "output_type": "stream",
     "text": [
      "reconstraining parameters Mat52.lengthscale\n",
      "reconstraining parameters Mat52.variance\n"
     ]
    },
    {
     "name": "stdout",
     "output_type": "stream",
     "text": [
      "total condition no.: 112\n",
      "total device no.: 112\n",
      "maximum Y (PCE [%]):  10.32\n"
     ]
    },
    {
     "name": "stderr",
     "output_type": "stream",
     "text": [
      "reconstraining parameters Mat52.lengthscale\n",
      "reconstraining parameters Mat52.variance\n"
     ]
    },
    {
     "name": "stdout",
     "output_type": "stream",
     "text": [
      "    MAPbI Conc [M]  CH₂I₂ Conc [μL]  PC voltage [V]  PC length [ms]  \\\n",
      "62        1.327376        172.53002      327.842392       23.402744   \n",
      "\n",
      "    Efficiency [%]  \n",
      "62       10.324372  \n"
     ]
    },
    {
     "name": "stderr",
     "output_type": "stream",
     "text": [
      "reconstraining parameters Mat52.lengthscale\n",
      "reconstraining parameters Mat52.variance\n"
     ]
    },
    {
     "name": "stdout",
     "output_type": "stream",
     "text": [
      "total condition no.: 16\n",
      "total device no.: 16\n",
      "maximum Y (PCE [%]):  10.32\n",
      "total condition no.: 32\n",
      "total device no.: 32\n",
      "maximum Y (PCE [%]):  10.33\n"
     ]
    },
    {
     "name": "stderr",
     "output_type": "stream",
     "text": [
      " /Users/JeremyXu/opt/anaconda3/lib/python3.8/site-packages/emukit/bayesian_optimization/acquisitions/log_acquisition.py:25: RuntimeWarning:invalid value encountered in log\n",
      "reconstraining parameters Mat52.lengthscale\n",
      "reconstraining parameters Mat52.variance\n"
     ]
    },
    {
     "name": "stdout",
     "output_type": "stream",
     "text": [
      "total condition no.: 48\n",
      "total device no.: 48\n",
      "maximum Y (PCE [%]):  10.33\n"
     ]
    },
    {
     "name": "stderr",
     "output_type": "stream",
     "text": [
      "reconstraining parameters Mat52.lengthscale\n",
      "reconstraining parameters Mat52.variance\n"
     ]
    },
    {
     "name": "stdout",
     "output_type": "stream",
     "text": [
      "total condition no.: 64\n",
      "total device no.: 64\n",
      "maximum Y (PCE [%]):  10.33\n"
     ]
    },
    {
     "name": "stderr",
     "output_type": "stream",
     "text": [
      "reconstraining parameters Mat52.lengthscale\n",
      "reconstraining parameters Mat52.variance\n"
     ]
    },
    {
     "name": "stdout",
     "output_type": "stream",
     "text": [
      "total condition no.: 80\n",
      "total device no.: 80\n",
      "maximum Y (PCE [%]):  10.71\n"
     ]
    },
    {
     "name": "stderr",
     "output_type": "stream",
     "text": [
      "reconstraining parameters Mat52.lengthscale\n",
      "reconstraining parameters Mat52.variance\n"
     ]
    },
    {
     "name": "stdout",
     "output_type": "stream",
     "text": [
      "total condition no.: 96\n",
      "total device no.: 96\n",
      "maximum Y (PCE [%]):  10.71\n"
     ]
    },
    {
     "name": "stderr",
     "output_type": "stream",
     "text": [
      "reconstraining parameters Mat52.lengthscale\n",
      "reconstraining parameters Mat52.variance\n"
     ]
    },
    {
     "name": "stdout",
     "output_type": "stream",
     "text": [
      "total condition no.: 112\n",
      "total device no.: 112\n",
      "maximum Y (PCE [%]):  10.87\n"
     ]
    },
    {
     "name": "stderr",
     "output_type": "stream",
     "text": [
      "reconstraining parameters Mat52.lengthscale\n",
      "reconstraining parameters Mat52.variance\n"
     ]
    },
    {
     "name": "stdout",
     "output_type": "stream",
     "text": [
      "     MAPbI Conc [M]  CH₂I₂ Conc [μL]  PC voltage [V]  PC length [ms]  \\\n",
      "120        1.285601       195.582849      315.137849       23.234495   \n",
      "\n",
      "     Efficiency [%]  \n",
      "120       10.971833  \n"
     ]
    },
    {
     "name": "stderr",
     "output_type": "stream",
     "text": [
      " /Users/JeremyXu/opt/anaconda3/lib/python3.8/site-packages/emukit/bayesian_optimization/acquisitions/log_acquisition.py:25: RuntimeWarning:invalid value encountered in log\n",
      "reconstraining parameters Mat52.lengthscale\n",
      "reconstraining parameters Mat52.variance\n"
     ]
    },
    {
     "name": "stdout",
     "output_type": "stream",
     "text": [
      "total condition no.: 16\n",
      "total device no.: 16\n",
      "maximum Y (PCE [%]):  9.29\n",
      "total condition no.: 32\n",
      "total device no.: 32\n",
      "maximum Y (PCE [%]):  9.81\n"
     ]
    },
    {
     "name": "stderr",
     "output_type": "stream",
     "text": [
      " /Users/JeremyXu/opt/anaconda3/lib/python3.8/site-packages/emukit/bayesian_optimization/acquisitions/log_acquisition.py:25: RuntimeWarning:invalid value encountered in log\n",
      "reconstraining parameters Mat52.lengthscale\n",
      "reconstraining parameters Mat52.variance\n"
     ]
    },
    {
     "name": "stdout",
     "output_type": "stream",
     "text": [
      "total condition no.: 48\n",
      "total device no.: 48\n",
      "maximum Y (PCE [%]):  10.33\n"
     ]
    },
    {
     "name": "stderr",
     "output_type": "stream",
     "text": [
      " /Users/JeremyXu/opt/anaconda3/lib/python3.8/site-packages/emukit/bayesian_optimization/acquisitions/log_acquisition.py:25: RuntimeWarning:invalid value encountered in log\n",
      "reconstraining parameters Mat52.lengthscale\n",
      "reconstraining parameters Mat52.variance\n"
     ]
    },
    {
     "name": "stdout",
     "output_type": "stream",
     "text": [
      "total condition no.: 64\n",
      "total device no.: 64\n",
      "maximum Y (PCE [%]):  10.33\n"
     ]
    },
    {
     "name": "stderr",
     "output_type": "stream",
     "text": [
      "reconstraining parameters Mat52.lengthscale\n",
      "reconstraining parameters Mat52.variance\n"
     ]
    },
    {
     "name": "stdout",
     "output_type": "stream",
     "text": [
      "total condition no.: 80\n",
      "total device no.: 80\n",
      "maximum Y (PCE [%]):  10.79\n"
     ]
    },
    {
     "name": "stderr",
     "output_type": "stream",
     "text": [
      "reconstraining parameters Mat52.lengthscale\n",
      "reconstraining parameters Mat52.variance\n"
     ]
    },
    {
     "name": "stdout",
     "output_type": "stream",
     "text": [
      "total condition no.: 96\n",
      "total device no.: 96\n",
      "maximum Y (PCE [%]):  10.8\n"
     ]
    },
    {
     "name": "stderr",
     "output_type": "stream",
     "text": [
      "reconstraining parameters Mat52.lengthscale\n",
      "reconstraining parameters Mat52.variance\n"
     ]
    },
    {
     "name": "stdout",
     "output_type": "stream",
     "text": [
      "total condition no.: 112\n",
      "total device no.: 112\n",
      "maximum Y (PCE [%]):  11.05\n"
     ]
    },
    {
     "name": "stderr",
     "output_type": "stream",
     "text": [
      "reconstraining parameters Mat52.lengthscale\n",
      "reconstraining parameters Mat52.variance\n"
     ]
    },
    {
     "name": "stdout",
     "output_type": "stream",
     "text": [
      "     MAPbI Conc [M]  CH₂I₂ Conc [μL]  PC voltage [V]  PC length [ms]  \\\n",
      "113        1.352891       176.292566      295.351867       25.780037   \n",
      "\n",
      "     Efficiency [%]  \n",
      "113       11.194733  \n"
     ]
    },
    {
     "name": "stderr",
     "output_type": "stream",
     "text": [
      "reconstraining parameters Mat52.lengthscale\n",
      "reconstraining parameters Mat52.variance\n"
     ]
    },
    {
     "name": "stdout",
     "output_type": "stream",
     "text": [
      "total condition no.: 16\n",
      "total device no.: 16\n",
      "maximum Y (PCE [%]):  11.0\n",
      "total condition no.: 32\n",
      "total device no.: 32\n",
      "maximum Y (PCE [%]):  11.0\n"
     ]
    },
    {
     "name": "stderr",
     "output_type": "stream",
     "text": [
      "reconstraining parameters Mat52.lengthscale\n",
      "reconstraining parameters Mat52.variance\n"
     ]
    },
    {
     "name": "stdout",
     "output_type": "stream",
     "text": [
      "total condition no.: 48\n",
      "total device no.: 48\n",
      "maximum Y (PCE [%]):  11.0\n"
     ]
    },
    {
     "name": "stderr",
     "output_type": "stream",
     "text": [
      "reconstraining parameters Mat52.lengthscale\n",
      "reconstraining parameters Mat52.variance\n"
     ]
    },
    {
     "name": "stdout",
     "output_type": "stream",
     "text": [
      "total condition no.: 64\n",
      "total device no.: 64\n",
      "maximum Y (PCE [%]):  11.0\n"
     ]
    },
    {
     "name": "stderr",
     "output_type": "stream",
     "text": [
      "reconstraining parameters Mat52.lengthscale\n",
      "reconstraining parameters Mat52.variance\n"
     ]
    },
    {
     "name": "stdout",
     "output_type": "stream",
     "text": [
      "total condition no.: 80\n",
      "total device no.: 80\n",
      "maximum Y (PCE [%]):  11.0\n"
     ]
    },
    {
     "name": "stderr",
     "output_type": "stream",
     "text": [
      " /Users/JeremyXu/opt/anaconda3/lib/python3.8/site-packages/emukit/bayesian_optimization/acquisitions/log_acquisition.py:25: RuntimeWarning:invalid value encountered in log\n",
      "reconstraining parameters Mat52.lengthscale\n",
      "reconstraining parameters Mat52.variance\n"
     ]
    },
    {
     "name": "stdout",
     "output_type": "stream",
     "text": [
      "total condition no.: 96\n",
      "total device no.: 96\n",
      "maximum Y (PCE [%]):  11.0\n"
     ]
    },
    {
     "name": "stderr",
     "output_type": "stream",
     "text": [
      "reconstraining parameters Mat52.lengthscale\n",
      "reconstraining parameters Mat52.variance\n"
     ]
    },
    {
     "name": "stdout",
     "output_type": "stream",
     "text": [
      "total condition no.: 112\n",
      "total device no.: 112\n",
      "maximum Y (PCE [%]):  11.0\n"
     ]
    },
    {
     "name": "stderr",
     "output_type": "stream",
     "text": [
      "reconstraining parameters Mat52.lengthscale\n",
      "reconstraining parameters Mat52.variance\n"
     ]
    },
    {
     "name": "stdout",
     "output_type": "stream",
     "text": [
      "     MAPbI Conc [M]  CH₂I₂ Conc [μL]  PC voltage [V]  PC length [ms]  \\\n",
      "125        1.320996       157.586313      299.183031       21.514255   \n",
      "\n",
      "     Efficiency [%]  \n",
      "125       11.192433  \n"
     ]
    },
    {
     "name": "stderr",
     "output_type": "stream",
     "text": [
      "reconstraining parameters Mat52.lengthscale\n",
      "reconstraining parameters Mat52.variance\n"
     ]
    },
    {
     "name": "stdout",
     "output_type": "stream",
     "text": [
      "total condition no.: 16\n",
      "total device no.: 16\n",
      "maximum Y (PCE [%]):  10.92\n",
      "total condition no.: 32\n",
      "total device no.: 32\n",
      "maximum Y (PCE [%]):  10.92\n"
     ]
    },
    {
     "name": "stderr",
     "output_type": "stream",
     "text": [
      "reconstraining parameters Mat52.lengthscale\n",
      "reconstraining parameters Mat52.variance\n"
     ]
    },
    {
     "name": "stdout",
     "output_type": "stream",
     "text": [
      "total condition no.: 48\n",
      "total device no.: 48\n",
      "maximum Y (PCE [%]):  10.92\n"
     ]
    },
    {
     "name": "stderr",
     "output_type": "stream",
     "text": [
      "reconstraining parameters Mat52.lengthscale\n",
      "reconstraining parameters Mat52.variance\n"
     ]
    },
    {
     "name": "stdout",
     "output_type": "stream",
     "text": [
      "total condition no.: 64\n",
      "total device no.: 64\n",
      "maximum Y (PCE [%]):  10.92\n"
     ]
    },
    {
     "name": "stderr",
     "output_type": "stream",
     "text": [
      "reconstraining parameters Mat52.lengthscale\n",
      "reconstraining parameters Mat52.variance\n"
     ]
    },
    {
     "name": "stdout",
     "output_type": "stream",
     "text": [
      "total condition no.: 80\n",
      "total device no.: 80\n",
      "maximum Y (PCE [%]):  10.96\n"
     ]
    },
    {
     "name": "stderr",
     "output_type": "stream",
     "text": [
      "reconstraining parameters Mat52.lengthscale\n",
      "reconstraining parameters Mat52.variance\n"
     ]
    },
    {
     "name": "stdout",
     "output_type": "stream",
     "text": [
      "total condition no.: 96\n",
      "total device no.: 96\n",
      "maximum Y (PCE [%]):  10.98\n"
     ]
    },
    {
     "name": "stderr",
     "output_type": "stream",
     "text": [
      "reconstraining parameters Mat52.lengthscale\n",
      "reconstraining parameters Mat52.variance\n"
     ]
    },
    {
     "name": "stdout",
     "output_type": "stream",
     "text": [
      "total condition no.: 112\n",
      "total device no.: 112\n",
      "maximum Y (PCE [%]):  10.98\n"
     ]
    },
    {
     "name": "stderr",
     "output_type": "stream",
     "text": [
      "reconstraining parameters Mat52.lengthscale\n",
      "reconstraining parameters Mat52.variance\n"
     ]
    },
    {
     "name": "stdout",
     "output_type": "stream",
     "text": [
      "    MAPbI Conc [M]  CH₂I₂ Conc [μL]  PC voltage [V]  PC length [ms]  \\\n",
      "94        1.402051       231.889022      318.035374       27.002697   \n",
      "\n",
      "    Efficiency [%]  \n",
      "94       10.976667  \n"
     ]
    },
    {
     "name": "stderr",
     "output_type": "stream",
     "text": [
      "reconstraining parameters Mat52.lengthscale\n",
      "reconstraining parameters Mat52.variance\n"
     ]
    },
    {
     "name": "stdout",
     "output_type": "stream",
     "text": [
      "total condition no.: 16\n",
      "total device no.: 16\n",
      "maximum Y (PCE [%]):  10.16\n",
      "total condition no.: 32\n",
      "total device no.: 32\n",
      "maximum Y (PCE [%]):  10.16\n"
     ]
    },
    {
     "name": "stderr",
     "output_type": "stream",
     "text": [
      "reconstraining parameters Mat52.lengthscale\n",
      "reconstraining parameters Mat52.variance\n"
     ]
    },
    {
     "name": "stdout",
     "output_type": "stream",
     "text": [
      "total condition no.: 48\n",
      "total device no.: 48\n",
      "maximum Y (PCE [%]):  10.49\n"
     ]
    },
    {
     "name": "stderr",
     "output_type": "stream",
     "text": [
      "reconstraining parameters Mat52.lengthscale\n",
      "reconstraining parameters Mat52.variance\n"
     ]
    },
    {
     "name": "stdout",
     "output_type": "stream",
     "text": [
      "total condition no.: 64\n",
      "total device no.: 64\n",
      "maximum Y (PCE [%]):  10.49\n"
     ]
    },
    {
     "name": "stderr",
     "output_type": "stream",
     "text": [
      "reconstraining parameters Mat52.lengthscale\n",
      "reconstraining parameters Mat52.variance\n"
     ]
    },
    {
     "name": "stdout",
     "output_type": "stream",
     "text": [
      "total condition no.: 80\n",
      "total device no.: 80\n",
      "maximum Y (PCE [%]):  10.49\n"
     ]
    },
    {
     "name": "stderr",
     "output_type": "stream",
     "text": [
      "reconstraining parameters Mat52.lengthscale\n",
      "reconstraining parameters Mat52.variance\n"
     ]
    },
    {
     "name": "stdout",
     "output_type": "stream",
     "text": [
      "total condition no.: 96\n",
      "total device no.: 96\n",
      "maximum Y (PCE [%]):  10.88\n"
     ]
    },
    {
     "name": "stderr",
     "output_type": "stream",
     "text": [
      "reconstraining parameters Mat52.lengthscale\n",
      "reconstraining parameters Mat52.variance\n"
     ]
    },
    {
     "name": "stdout",
     "output_type": "stream",
     "text": [
      "total condition no.: 112\n",
      "total device no.: 112\n",
      "maximum Y (PCE [%]):  11.05\n"
     ]
    },
    {
     "name": "stderr",
     "output_type": "stream",
     "text": [
      "reconstraining parameters Mat52.lengthscale\n",
      "reconstraining parameters Mat52.variance\n"
     ]
    },
    {
     "name": "stdout",
     "output_type": "stream",
     "text": [
      "     MAPbI Conc [M]  CH₂I₂ Conc [μL]  PC voltage [V]  PC length [ms]  \\\n",
      "107        1.443823       178.354708      300.089015       25.264333   \n",
      "\n",
      "     Efficiency [%]  \n",
      "107         11.0506  \n"
     ]
    },
    {
     "name": "stderr",
     "output_type": "stream",
     "text": [
      "reconstraining parameters Mat52.lengthscale\n",
      "reconstraining parameters Mat52.variance\n"
     ]
    },
    {
     "name": "stdout",
     "output_type": "stream",
     "text": [
      "total condition no.: 16\n",
      "total device no.: 16\n",
      "maximum Y (PCE [%]):  9.2\n",
      "total condition no.: 32\n",
      "total device no.: 32\n",
      "maximum Y (PCE [%]):  9.81\n"
     ]
    },
    {
     "name": "stderr",
     "output_type": "stream",
     "text": [
      "reconstraining parameters Mat52.lengthscale\n",
      "reconstraining parameters Mat52.variance\n"
     ]
    },
    {
     "name": "stdout",
     "output_type": "stream",
     "text": [
      "total condition no.: 48\n",
      "total device no.: 48\n",
      "maximum Y (PCE [%]):  10.21\n"
     ]
    },
    {
     "name": "stderr",
     "output_type": "stream",
     "text": [
      "reconstraining parameters Mat52.lengthscale\n",
      "reconstraining parameters Mat52.variance\n"
     ]
    },
    {
     "name": "stdout",
     "output_type": "stream",
     "text": [
      "total condition no.: 64\n",
      "total device no.: 64\n",
      "maximum Y (PCE [%]):  10.75\n"
     ]
    },
    {
     "name": "stderr",
     "output_type": "stream",
     "text": [
      "reconstraining parameters Mat52.lengthscale\n",
      "reconstraining parameters Mat52.variance\n"
     ]
    },
    {
     "name": "stdout",
     "output_type": "stream",
     "text": [
      "total condition no.: 80\n",
      "total device no.: 80\n",
      "maximum Y (PCE [%]):  10.75\n"
     ]
    },
    {
     "name": "stderr",
     "output_type": "stream",
     "text": [
      "reconstraining parameters Mat52.lengthscale\n",
      "reconstraining parameters Mat52.variance\n"
     ]
    },
    {
     "name": "stdout",
     "output_type": "stream",
     "text": [
      "total condition no.: 96\n",
      "total device no.: 96\n",
      "maximum Y (PCE [%]):  10.97\n"
     ]
    },
    {
     "name": "stderr",
     "output_type": "stream",
     "text": [
      "reconstraining parameters Mat52.lengthscale\n",
      "reconstraining parameters Mat52.variance\n"
     ]
    },
    {
     "name": "stdout",
     "output_type": "stream",
     "text": [
      "total condition no.: 112\n",
      "total device no.: 112\n",
      "maximum Y (PCE [%]):  10.97\n"
     ]
    },
    {
     "name": "stderr",
     "output_type": "stream",
     "text": [
      "reconstraining parameters Mat52.lengthscale\n",
      "reconstraining parameters Mat52.variance\n"
     ]
    },
    {
     "name": "stdout",
     "output_type": "stream",
     "text": [
      "    MAPbI Conc [M]  CH₂I₂ Conc [μL]  PC voltage [V]  PC length [ms]  \\\n",
      "93        1.332022       243.258152      334.104031       23.949548   \n",
      "\n",
      "    Efficiency [%]  \n",
      "93       10.971833  \n"
     ]
    },
    {
     "name": "stderr",
     "output_type": "stream",
     "text": [
      "reconstraining parameters Mat52.lengthscale\n",
      "reconstraining parameters Mat52.variance\n"
     ]
    },
    {
     "name": "stdout",
     "output_type": "stream",
     "text": [
      "total condition no.: 16\n",
      "total device no.: 16\n",
      "maximum Y (PCE [%]):  10.11\n",
      "total condition no.: 32\n",
      "total device no.: 32\n",
      "maximum Y (PCE [%]):  10.92\n"
     ]
    },
    {
     "name": "stderr",
     "output_type": "stream",
     "text": [
      "reconstraining parameters Mat52.lengthscale\n",
      "reconstraining parameters Mat52.variance\n"
     ]
    },
    {
     "name": "stdout",
     "output_type": "stream",
     "text": [
      "total condition no.: 48\n",
      "total device no.: 48\n",
      "maximum Y (PCE [%]):  10.92\n"
     ]
    },
    {
     "name": "stderr",
     "output_type": "stream",
     "text": [
      "reconstraining parameters Mat52.lengthscale\n",
      "reconstraining parameters Mat52.variance\n"
     ]
    },
    {
     "name": "stdout",
     "output_type": "stream",
     "text": [
      "total condition no.: 64\n",
      "total device no.: 64\n",
      "maximum Y (PCE [%]):  10.92\n"
     ]
    },
    {
     "name": "stderr",
     "output_type": "stream",
     "text": [
      "reconstraining parameters Mat52.lengthscale\n",
      "reconstraining parameters Mat52.variance\n"
     ]
    },
    {
     "name": "stdout",
     "output_type": "stream",
     "text": [
      "total condition no.: 80\n",
      "total device no.: 80\n",
      "maximum Y (PCE [%]):  10.92\n"
     ]
    },
    {
     "name": "stderr",
     "output_type": "stream",
     "text": [
      "reconstraining parameters Mat52.lengthscale\n",
      "reconstraining parameters Mat52.variance\n"
     ]
    },
    {
     "name": "stdout",
     "output_type": "stream",
     "text": [
      "total condition no.: 96\n",
      "total device no.: 96\n",
      "maximum Y (PCE [%]):  10.92\n"
     ]
    },
    {
     "name": "stderr",
     "output_type": "stream",
     "text": [
      "reconstraining parameters Mat52.lengthscale\n",
      "reconstraining parameters Mat52.variance\n"
     ]
    },
    {
     "name": "stdout",
     "output_type": "stream",
     "text": [
      "total condition no.: 112\n",
      "total device no.: 112\n",
      "maximum Y (PCE [%]):  10.92\n"
     ]
    },
    {
     "name": "stderr",
     "output_type": "stream",
     "text": [
      "reconstraining parameters Mat52.lengthscale\n",
      "reconstraining parameters Mat52.variance\n"
     ]
    },
    {
     "name": "stdout",
     "output_type": "stream",
     "text": [
      "     MAPbI Conc [M]  CH₂I₂ Conc [μL]  PC voltage [V]  PC length [ms]  \\\n",
      "121        1.349657       166.325361      292.516513         24.1952   \n",
      "\n",
      "     Efficiency [%]  \n",
      "121       11.242033  \n"
     ]
    },
    {
     "name": "stderr",
     "output_type": "stream",
     "text": [
      "reconstraining parameters Mat52.lengthscale\n",
      "reconstraining parameters Mat52.variance\n"
     ]
    },
    {
     "name": "stdout",
     "output_type": "stream",
     "text": [
      "total condition no.: 16\n",
      "total device no.: 16\n",
      "maximum Y (PCE [%]):  9.41\n",
      "total condition no.: 32\n",
      "total device no.: 32\n",
      "maximum Y (PCE [%]):  10.99\n"
     ]
    },
    {
     "name": "stderr",
     "output_type": "stream",
     "text": [
      " /Users/JeremyXu/opt/anaconda3/lib/python3.8/site-packages/emukit/bayesian_optimization/acquisitions/log_acquisition.py:25: RuntimeWarning:invalid value encountered in log\n",
      "reconstraining parameters Mat52.lengthscale\n",
      "reconstraining parameters Mat52.variance\n"
     ]
    },
    {
     "name": "stdout",
     "output_type": "stream",
     "text": [
      "total condition no.: 48\n",
      "total device no.: 48\n",
      "maximum Y (PCE [%]):  10.99\n"
     ]
    },
    {
     "name": "stderr",
     "output_type": "stream",
     "text": [
      "reconstraining parameters Mat52.lengthscale\n",
      "reconstraining parameters Mat52.variance\n"
     ]
    },
    {
     "name": "stdout",
     "output_type": "stream",
     "text": [
      "total condition no.: 64\n",
      "total device no.: 64\n",
      "maximum Y (PCE [%]):  10.99\n"
     ]
    },
    {
     "name": "stderr",
     "output_type": "stream",
     "text": [
      "reconstraining parameters Mat52.lengthscale\n",
      "reconstraining parameters Mat52.variance\n"
     ]
    },
    {
     "name": "stdout",
     "output_type": "stream",
     "text": [
      "total condition no.: 80\n",
      "total device no.: 80\n",
      "maximum Y (PCE [%]):  10.99\n"
     ]
    },
    {
     "name": "stderr",
     "output_type": "stream",
     "text": [
      "reconstraining parameters Mat52.lengthscale\n",
      "reconstraining parameters Mat52.variance\n"
     ]
    },
    {
     "name": "stdout",
     "output_type": "stream",
     "text": [
      "total condition no.: 96\n",
      "total device no.: 96\n",
      "maximum Y (PCE [%]):  10.99\n"
     ]
    },
    {
     "name": "stderr",
     "output_type": "stream",
     "text": [
      "reconstraining parameters Mat52.lengthscale\n",
      "reconstraining parameters Mat52.variance\n"
     ]
    },
    {
     "name": "stdout",
     "output_type": "stream",
     "text": [
      "total condition no.: 112\n",
      "total device no.: 112\n",
      "maximum Y (PCE [%]):  10.99\n"
     ]
    },
    {
     "name": "stderr",
     "output_type": "stream",
     "text": [
      "reconstraining parameters Mat52.lengthscale\n",
      "reconstraining parameters Mat52.variance\n"
     ]
    },
    {
     "name": "stdout",
     "output_type": "stream",
     "text": [
      "     MAPbI Conc [M]  CH₂I₂ Conc [μL]  PC voltage [V]  PC length [ms]  \\\n",
      "125        1.449342        246.01266      302.966055       22.466745   \n",
      "\n",
      "     Efficiency [%]  \n",
      "125       10.997417  \n"
     ]
    },
    {
     "name": "stderr",
     "output_type": "stream",
     "text": [
      "reconstraining parameters Mat52.lengthscale\n",
      "reconstraining parameters Mat52.variance\n"
     ]
    },
    {
     "name": "stdout",
     "output_type": "stream",
     "text": [
      "total condition no.: 16\n",
      "total device no.: 16\n",
      "maximum Y (PCE [%]):  9.8\n",
      "total condition no.: 32\n",
      "total device no.: 32\n",
      "maximum Y (PCE [%]):  10.21\n"
     ]
    },
    {
     "name": "stderr",
     "output_type": "stream",
     "text": [
      "reconstraining parameters Mat52.lengthscale\n",
      "reconstraining parameters Mat52.variance\n"
     ]
    },
    {
     "name": "stdout",
     "output_type": "stream",
     "text": [
      "total condition no.: 48\n",
      "total device no.: 48\n",
      "maximum Y (PCE [%]):  10.54\n"
     ]
    },
    {
     "name": "stderr",
     "output_type": "stream",
     "text": [
      "reconstraining parameters Mat52.lengthscale\n",
      "reconstraining parameters Mat52.variance\n"
     ]
    },
    {
     "name": "stdout",
     "output_type": "stream",
     "text": [
      "total condition no.: 64\n",
      "total device no.: 64\n",
      "maximum Y (PCE [%]):  10.54\n"
     ]
    },
    {
     "name": "stderr",
     "output_type": "stream",
     "text": [
      "reconstraining parameters Mat52.lengthscale\n",
      "reconstraining parameters Mat52.variance\n"
     ]
    },
    {
     "name": "stdout",
     "output_type": "stream",
     "text": [
      "total condition no.: 80\n",
      "total device no.: 80\n",
      "maximum Y (PCE [%]):  11.13\n"
     ]
    },
    {
     "name": "stderr",
     "output_type": "stream",
     "text": [
      " /Users/JeremyXu/opt/anaconda3/lib/python3.8/site-packages/emukit/bayesian_optimization/acquisitions/log_acquisition.py:25: RuntimeWarning:invalid value encountered in log\n",
      "reconstraining parameters Mat52.lengthscale\n",
      "reconstraining parameters Mat52.variance\n"
     ]
    },
    {
     "name": "stdout",
     "output_type": "stream",
     "text": [
      "total condition no.: 96\n",
      "total device no.: 96\n",
      "maximum Y (PCE [%]):  11.13\n"
     ]
    },
    {
     "name": "stderr",
     "output_type": "stream",
     "text": [
      " /Users/JeremyXu/opt/anaconda3/lib/python3.8/site-packages/emukit/bayesian_optimization/acquisitions/log_acquisition.py:25: RuntimeWarning:invalid value encountered in log\n",
      "reconstraining parameters Mat52.lengthscale\n",
      "reconstraining parameters Mat52.variance\n"
     ]
    },
    {
     "name": "stdout",
     "output_type": "stream",
     "text": [
      "total condition no.: 112\n",
      "total device no.: 112\n",
      "maximum Y (PCE [%]):  11.18\n"
     ]
    },
    {
     "name": "stderr",
     "output_type": "stream",
     "text": [
      "reconstraining parameters Mat52.lengthscale\n",
      "reconstraining parameters Mat52.variance\n"
     ]
    },
    {
     "name": "stdout",
     "output_type": "stream",
     "text": [
      "     MAPbI Conc [M]  CH₂I₂ Conc [μL]  PC voltage [V]  PC length [ms]  \\\n",
      "117        1.359135       156.823813      288.392082        23.35728   \n",
      "\n",
      "     Efficiency [%]  \n",
      "117       11.252167  \n"
     ]
    },
    {
     "name": "stderr",
     "output_type": "stream",
     "text": [
      "reconstraining parameters Mat52.lengthscale\n",
      "reconstraining parameters Mat52.variance\n"
     ]
    },
    {
     "name": "stdout",
     "output_type": "stream",
     "text": [
      "total condition no.: 16\n",
      "total device no.: 16\n",
      "maximum Y (PCE [%]):  9.18\n",
      "total condition no.: 32\n",
      "total device no.: 32\n",
      "maximum Y (PCE [%]):  10.52\n"
     ]
    },
    {
     "name": "stderr",
     "output_type": "stream",
     "text": [
      "reconstraining parameters Mat52.lengthscale\n",
      "reconstraining parameters Mat52.variance\n"
     ]
    },
    {
     "name": "stdout",
     "output_type": "stream",
     "text": [
      "total condition no.: 48\n",
      "total device no.: 48\n",
      "maximum Y (PCE [%]):  10.99\n"
     ]
    },
    {
     "name": "stderr",
     "output_type": "stream",
     "text": [
      "reconstraining parameters Mat52.lengthscale\n",
      "reconstraining parameters Mat52.variance\n"
     ]
    },
    {
     "name": "stdout",
     "output_type": "stream",
     "text": [
      "total condition no.: 64\n",
      "total device no.: 64\n",
      "maximum Y (PCE [%]):  11.0\n"
     ]
    },
    {
     "name": "stderr",
     "output_type": "stream",
     "text": [
      " /Users/JeremyXu/opt/anaconda3/lib/python3.8/site-packages/emukit/bayesian_optimization/acquisitions/log_acquisition.py:25: RuntimeWarning:invalid value encountered in log\n",
      "reconstraining parameters Mat52.lengthscale\n",
      "reconstraining parameters Mat52.variance\n"
     ]
    },
    {
     "name": "stdout",
     "output_type": "stream",
     "text": [
      "total condition no.: 80\n",
      "total device no.: 80\n",
      "maximum Y (PCE [%]):  11.0\n"
     ]
    },
    {
     "name": "stderr",
     "output_type": "stream",
     "text": [
      " /Users/JeremyXu/opt/anaconda3/lib/python3.8/site-packages/emukit/bayesian_optimization/acquisitions/log_acquisition.py:25: RuntimeWarning:invalid value encountered in log\n",
      "reconstraining parameters Mat52.lengthscale\n",
      "reconstraining parameters Mat52.variance\n"
     ]
    },
    {
     "name": "stdout",
     "output_type": "stream",
     "text": [
      "total condition no.: 96\n",
      "total device no.: 96\n",
      "maximum Y (PCE [%]):  11.0\n"
     ]
    },
    {
     "name": "stderr",
     "output_type": "stream",
     "text": [
      "reconstraining parameters Mat52.lengthscale\n",
      "reconstraining parameters Mat52.variance\n"
     ]
    },
    {
     "name": "stdout",
     "output_type": "stream",
     "text": [
      "total condition no.: 112\n",
      "total device no.: 112\n",
      "maximum Y (PCE [%]):  11.01\n"
     ]
    },
    {
     "name": "stderr",
     "output_type": "stream",
     "text": [
      "reconstraining parameters Mat52.lengthscale\n",
      "reconstraining parameters Mat52.variance\n"
     ]
    },
    {
     "name": "stdout",
     "output_type": "stream",
     "text": [
      "     MAPbI Conc [M]  CH₂I₂ Conc [μL]  PC voltage [V]  PC length [ms]  \\\n",
      "121        1.412007       238.725692      294.958291       23.197537   \n",
      "\n",
      "     Efficiency [%]  \n",
      "121         11.1173  \n"
     ]
    },
    {
     "name": "stderr",
     "output_type": "stream",
     "text": [
      "reconstraining parameters Mat52.lengthscale\n",
      "reconstraining parameters Mat52.variance\n"
     ]
    },
    {
     "name": "stdout",
     "output_type": "stream",
     "text": [
      "total condition no.: 16\n",
      "total device no.: 16\n",
      "maximum Y (PCE [%]):  10.32\n",
      "total condition no.: 32\n",
      "total device no.: 32\n",
      "maximum Y (PCE [%]):  10.92\n"
     ]
    },
    {
     "name": "stderr",
     "output_type": "stream",
     "text": [
      "reconstraining parameters Mat52.lengthscale\n",
      "reconstraining parameters Mat52.variance\n"
     ]
    },
    {
     "name": "stdout",
     "output_type": "stream",
     "text": [
      "total condition no.: 48\n",
      "total device no.: 48\n",
      "maximum Y (PCE [%]):  11.0\n"
     ]
    },
    {
     "name": "stderr",
     "output_type": "stream",
     "text": [
      "reconstraining parameters Mat52.lengthscale\n",
      "reconstraining parameters Mat52.variance\n"
     ]
    },
    {
     "name": "stdout",
     "output_type": "stream",
     "text": [
      "total condition no.: 64\n",
      "total device no.: 64\n",
      "maximum Y (PCE [%]):  11.0\n"
     ]
    },
    {
     "name": "stderr",
     "output_type": "stream",
     "text": [
      " /Users/JeremyXu/opt/anaconda3/lib/python3.8/site-packages/emukit/bayesian_optimization/acquisitions/log_acquisition.py:25: RuntimeWarning:invalid value encountered in log\n",
      "reconstraining parameters Mat52.lengthscale\n",
      "reconstraining parameters Mat52.variance\n"
     ]
    },
    {
     "name": "stdout",
     "output_type": "stream",
     "text": [
      "total condition no.: 80\n",
      "total device no.: 80\n",
      "maximum Y (PCE [%]):  11.05\n"
     ]
    },
    {
     "name": "stderr",
     "output_type": "stream",
     "text": [
      "reconstraining parameters Mat52.lengthscale\n",
      "reconstraining parameters Mat52.variance\n"
     ]
    },
    {
     "name": "stdout",
     "output_type": "stream",
     "text": [
      "total condition no.: 96\n",
      "total device no.: 96\n",
      "maximum Y (PCE [%]):  11.05\n"
     ]
    },
    {
     "name": "stderr",
     "output_type": "stream",
     "text": [
      "reconstraining parameters Mat52.lengthscale\n",
      "reconstraining parameters Mat52.variance\n"
     ]
    },
    {
     "name": "stdout",
     "output_type": "stream",
     "text": [
      "total condition no.: 112\n",
      "total device no.: 112\n",
      "maximum Y (PCE [%]):  11.05\n"
     ]
    },
    {
     "name": "stderr",
     "output_type": "stream",
     "text": [
      "reconstraining parameters Mat52.lengthscale\n",
      "reconstraining parameters Mat52.variance\n"
     ]
    },
    {
     "name": "stdout",
     "output_type": "stream",
     "text": [
      "    MAPbI Conc [M]  CH₂I₂ Conc [μL]  PC voltage [V]  PC length [ms]  \\\n",
      "78        1.436715         241.3305      297.377678       24.409565   \n",
      "\n",
      "    Efficiency [%]  \n",
      "78         11.0506  \n"
     ]
    },
    {
     "name": "stderr",
     "output_type": "stream",
     "text": [
      "reconstraining parameters Mat52.lengthscale\n",
      "reconstraining parameters Mat52.variance\n"
     ]
    },
    {
     "name": "stdout",
     "output_type": "stream",
     "text": [
      "total condition no.: 16\n",
      "total device no.: 16\n",
      "maximum Y (PCE [%]):  9.46\n",
      "total condition no.: 32\n",
      "total device no.: 32\n",
      "maximum Y (PCE [%]):  10.3\n"
     ]
    },
    {
     "name": "stderr",
     "output_type": "stream",
     "text": [
      "reconstraining parameters Mat52.lengthscale\n",
      "reconstraining parameters Mat52.variance\n"
     ]
    },
    {
     "name": "stdout",
     "output_type": "stream",
     "text": [
      "total condition no.: 48\n",
      "total device no.: 48\n",
      "maximum Y (PCE [%]):  10.49\n"
     ]
    },
    {
     "name": "stderr",
     "output_type": "stream",
     "text": [
      "reconstraining parameters Mat52.lengthscale\n",
      "reconstraining parameters Mat52.variance\n"
     ]
    },
    {
     "name": "stdout",
     "output_type": "stream",
     "text": [
      "total condition no.: 64\n",
      "total device no.: 64\n",
      "maximum Y (PCE [%]):  10.49\n"
     ]
    },
    {
     "name": "stderr",
     "output_type": "stream",
     "text": [
      "reconstraining parameters Mat52.lengthscale\n",
      "reconstraining parameters Mat52.variance\n"
     ]
    },
    {
     "name": "stdout",
     "output_type": "stream",
     "text": [
      "total condition no.: 80\n",
      "total device no.: 80\n",
      "maximum Y (PCE [%]):  11.15\n"
     ]
    },
    {
     "name": "stderr",
     "output_type": "stream",
     "text": [
      "reconstraining parameters Mat52.lengthscale\n",
      "reconstraining parameters Mat52.variance\n"
     ]
    },
    {
     "name": "stdout",
     "output_type": "stream",
     "text": [
      "total condition no.: 96\n",
      "total device no.: 96\n",
      "maximum Y (PCE [%]):  11.25\n"
     ]
    },
    {
     "name": "stderr",
     "output_type": "stream",
     "text": [
      "reconstraining parameters Mat52.lengthscale\n",
      "reconstraining parameters Mat52.variance\n"
     ]
    },
    {
     "name": "stdout",
     "output_type": "stream",
     "text": [
      "total condition no.: 112\n",
      "total device no.: 112\n",
      "maximum Y (PCE [%]):  11.25\n",
      "    MAPbI Conc [M]  CH₂I₂ Conc [μL]  PC voltage [V]  PC length [ms]  \\\n",
      "81        1.326338       187.319186      291.893546       23.693664   \n",
      "\n",
      "    Efficiency [%]  \n",
      "81       11.252167  \n"
     ]
    }
   ],
   "source": [
    "#np.random.seed(10)\n",
    "import emukit\n",
    "import GPy\n",
    "from GPy.models import GPRegression\n",
    "from emukit.model_wrappers import GPyModelWrapper\n",
    "\n",
    "#from sklearn.preprocessing import StandardScaler\n",
    "\n",
    "BO_list_LHS16 = []\n",
    "for n in np.arange(100): # Remember to increase it to 100\n",
    "    design = LatinDesign(parameter_space)\n",
    "    x_LHS = design.get_samples(16) # normalized LHS results\n",
    "    x_init =get_closest_array(x_denormalizer(x_LHS, var_array),var_array) # denormalized LHS results \n",
    "    X = x_normalizer(x_init)# normalized it again\n",
    "    y_hat = rfr_reg_all.predict(np.transpose(regr_pred(regr_list, X))) #use RF Ensemble to predict normalized PCE\n",
    "    y_pred_init = scalerY.inverse_transform(y_hat.reshape(-1,1)) #denormalized to be the predicted PCE\n",
    "    max(y_pred_init)\n",
    "    \n",
    "\n",
    "    Y = y_pred_init\n",
    "    \n",
    "    input_dim = len(X[0])\n",
    "    ker = GPy.kern.Matern52(input_dim = input_dim, ARD = True)\n",
    "    ker.lengthscale.constrain_bounded(1e-1,1)\n",
    "    ker.variance.constrain_bounded(1e-1,1000.0)\n",
    "    model_gpy = GPRegression(X, -Y, ker)#Emukit is a minimization tool; need to make Y negative\n",
    "    model_gpy.Gaussian_noise.variance = 0.5**2\n",
    "    model_gpy.Gaussian_noise.variance.fix()\n",
    "    model_gpy.randomize()\n",
    "    model_gpy.optimize_restarts(num_restarts=20,verbose =False, messages=False)\n",
    "\n",
    "    objective_model = GPyModelWrapper(model_gpy)\n",
    "\n",
    "    from emukit.bayesian_optimization.loops import BayesianOptimizationLoop\n",
    "    from emukit.bayesian_optimization.acquisitions import ExpectedImprovement, NegativeLowerConfidenceBound, ProbabilityOfImprovement\n",
    "\n",
    "    ## Expeceted Improvement (EI)\n",
    "    ## acquisition = ExpectedImprovement(objective_model, jitter=.1)\n",
    "    ## Lower Confidence Bound (LCB)\n",
    "    acquisition = NegativeLowerConfidenceBound(objective_model, beta = 1)\n",
    "    ## Maximum Value Entropy Search (MES)\n",
    "    # acquisition = MaxValueEntropySearch(objective_model, parameter_space, grid_size = 10000*6)\n",
    "\n",
    "    ## fully integreated acquisition\n",
    "    # #acquisition_generator = lambda m: ExpectedImprovement(m, jitter=.1)\n",
    "    # acquisition_generator = lambda m: NegativeLowerConfidenceBound(m, beta = 1)\n",
    "    # acquisition_integrated = IntegratedHyperParameterAcquisition(objective_model, acquisition_generator)\n",
    "    # acquisition = acquisition_integrated\n",
    "\n",
    "    # Make loop and collect points\n",
    "    bayesopt= BayesianOptimizationLoop(model=objective_model, \n",
    "                                     space=parameter_space, \n",
    "                                     acquisition=acquisition,\n",
    "                                     batch_size = 16)#batchsize>16 to account for duplication\n",
    "\n",
    "    X_new = bayesopt.candidate_point_calculator.compute_next_points(bayesopt.loop_state)\n",
    "\n",
    "    f_acq = bayesopt.candidate_point_calculator.acquisition.acquisition.evaluate\n",
    "\n",
    "    print('total condition no.:', len(X))\n",
    "    print('total device no.:', len(bayesopt.loop_state.Y))\n",
    "    print('maximum Y (PCE [%]): ', -np.min(np.transpose(np.round(bayesopt.loop_state.Y, 2))))\n",
    "\n",
    "    X_all =np.append(X,X_new,axis = 0)\n",
    "\n",
    "    y_hat = rfr_reg_all.predict(np.transpose(regr_pred(regr_list, X_all))) #use RF Ensemble to predict normalized PCE\n",
    "    y_pred = scalerY.inverse_transform(y_hat.reshape(-1,1)) #denormalized to be the predicted PCE\n",
    "    \n",
    "    df_Xall = pd.DataFrame(x_denormalizer(X_all), columns = df.columns[0:4])\n",
    "    df_Xall['Efficiency [%]'] = y_pred\n",
    "    \n",
    "    for i in np.arange(6):\n",
    "        X = x_normalizer(df_Xall.iloc[:,:4].values)\n",
    "        Y = np.transpose([df_Xall.iloc[:,-1]])\n",
    "        \n",
    "        input_dim = len(X[0])\n",
    "        ker = GPy.kern.Matern52(input_dim = input_dim, ARD = True)\n",
    "        ker.lengthscale.constrain_bounded(1e-1,1)\n",
    "        ker.variance.constrain_bounded(1e-1,1000.0)\n",
    "        model_gpy = GPRegression(X, -Y, ker)#Emukit is a minimization tool; need to make Y negative\n",
    "        model_gpy.Gaussian_noise.variance = 0.5**2\n",
    "        model_gpy.Gaussian_noise.variance.fix()\n",
    "        model_gpy.randomize()\n",
    "        model_gpy.optimize_restarts(num_restarts=20,verbose =False, messages=False)\n",
    "\n",
    "        objective_model = GPyModelWrapper(model_gpy)\n",
    "        \n",
    "        from emukit.bayesian_optimization.loops import BayesianOptimizationLoop\n",
    "        from emukit.bayesian_optimization.acquisitions import ExpectedImprovement, NegativeLowerConfidenceBound, ProbabilityOfImprovement\n",
    "\n",
    "        ## Expeceted Improvement (EI)\n",
    "        ## acquisition = ExpectedImprovement(objective_model, jitter=.1)\n",
    "        ## Lower Confidence Bound (LCB)\n",
    "        acquisition = NegativeLowerConfidenceBound(objective_model, beta = 1)\n",
    "        ## Maximum Value Entropy Search (MES)\n",
    "        # acquisition = MaxValueEntropySearch(objective_model, parameter_space, grid_size = 10000*6)\n",
    "\n",
    "        ## fully integreated acquisition\n",
    "        # #acquisition_generator = lambda m: ExpectedImprovement(m, jitter=.1)\n",
    "        # acquisition_generator = lambda m: NegativeLowerConfidenceBound(m, beta = 1)\n",
    "        # acquisition_integrated = IntegratedHyperParameterAcquisition(objective_model, acquisition_generator)\n",
    "        # acquisition = acquisition_integrated\n",
    "\n",
    "        # Make loop and collect points\n",
    "        bayesopt= BayesianOptimizationLoop(model=objective_model, \n",
    "                                     space=parameter_space, \n",
    "                                     acquisition=acquisition,\n",
    "                                     batch_size = 16)#batchsize>16 to account for duplication\n",
    "        \n",
    "        print('total condition no.:', len(X))\n",
    "        print('total device no.:', len(bayesopt.loop_state.Y))\n",
    "        print('maximum Y (PCE [%]): ', -np.min(np.transpose(np.round(bayesopt.loop_state.Y, 2))))\n",
    "        \n",
    "        X_new = bayesopt.candidate_point_calculator.compute_next_points(bayesopt.loop_state)\n",
    "\n",
    "        f_acq = bayesopt.candidate_point_calculator.acquisition.acquisition.evaluate\n",
    "        \n",
    "        X_all =np.append(X,X_new,axis = 0)\n",
    "        \n",
    "        y_hat = rfr_reg_all.predict(np.transpose(regr_pred(regr_list, X_all))) #use RF Ensemble to predict normalized PCE\n",
    "        y_pred = scalerY.inverse_transform(y_hat.reshape(-1,1)) #denormalized to be the predicted PCE\n",
    "        \n",
    "        df_Xall = pd.DataFrame(x_denormalizer(X_all), columns = df.columns[0:4])\n",
    "        df_Xall['Efficiency [%]'] = y_pred\n",
    "    \n",
    "    print(df_Xall.iloc[np.argmax( df_Xall['Efficiency [%]'].values):np.argmax( df_Xall['Efficiency [%]'].values)+1])\n",
    "    \n",
    "    BO_list_LHS16.append(df_Xall['Efficiency [%]'].values)"
   ]
  },
  {
   "cell_type": "markdown",
   "id": "6368f794",
   "metadata": {},
   "source": [
    "### Visualization of LHS Virtual Experiment"
   ]
  },
  {
   "cell_type": "code",
   "execution_count": 30,
   "id": "98dae0a3",
   "metadata": {},
   "outputs": [
    {
     "data": {
      "image/png": "[encoded data removed]",
      "text/plain": [
       "<Figure size 504x432 with 1 Axes>"
      ]
     },
     "metadata": {
      "needs_background": "light"
     },
     "output_type": "display_data"
    }
   ],
   "source": [
    "fs = 20\n",
    "fig,axes = plt.subplots(1, 1, figsize=(7, 6), sharex = True)\n",
    "ax = axes\n",
    "i = 0\n",
    "for df_i in BO_list_LHS16:\n",
    "    eff_max_acc = np.maximum.accumulate(df_i)\n",
    "    eff_acc = df_i\n",
    "    i = i +1\n",
    "    ax.plot(range(len(eff_max_acc)),eff_max_acc/y_opt, alpha = 0.3*i/len(BO_list_LHS16)+0.1, c = 'blue')\n",
    "#plt.scatter(range(len(eff_max_acc)),eff_acc)\n",
    "i\n",
    "#axes.text(80, 9, 'One Var at at Time', fontsize=fs*0.9)\n",
    "#axes.text(80, 8, 'total conds = '+str(len(convglen_list)), fontsize=15)\n",
    "axes.tick_params(direction='in', length=5, width=1, labelsize = fs*.9, grid_alpha = 0.5)\n",
    "axes.set_ylim(4/np.max(BO_list_LHS16),12/y_opt) #Normalized the PCE based on the maximum value picked by PSO\n",
    "axes.set_xlim(0,100)\n",
    "\n",
    "axes.grid(True, linestyle='-.')\n",
    "axes.set_ylabel('Device Efficiency', fontsize = fs)\n",
    "axes.set_xlabel('Process Conditoin No.', fontsize = fs)\n",
    "plt.show()"
   ]
  },
  {
   "cell_type": "code",
   "execution_count": 31,
   "id": "a446bbbd",
   "metadata": {},
   "outputs": [
    {
     "data": {
      "image/png": "[encoded data removed]",
      "text/plain": [
       "<Figure size 504x432 with 1 Axes>"
      ]
     },
     "metadata": {
      "needs_background": "light"
     },
     "output_type": "display_data"
    }
   ],
   "source": [
    "fs = 20\n",
    "fig,axes = plt.subplots(1, 1, figsize=(7, 6), sharex = True)\n",
    "ax = axes\n",
    "ax.plot(np.maximum.accumulate(np.percentile(BO_list_LHS16, 99, axis = 0))/y_opt)\n",
    "\n",
    "ax.plot(np.maximum.accumulate(np.median(BO_list_LHS16, axis = 0))/y_opt)\n",
    "\n",
    "ax.plot(np.maximum.accumulate(np.mean(BO_list_LHS16, axis = 0))/y_opt)\n",
    "\n",
    "ax.plot(np.maximum.accumulate(np.percentile(BO_list_LHS16, 1, axis = 0))/y_opt)\n",
    "\n",
    "\n",
    "axes.tick_params(direction='in', length=5, width=1, labelsize = fs*.9, grid_alpha = 0.5)\n",
    "axes.set_ylim(4/np.max(BO_list_LHS16),12/y_opt)\n",
    "axes.set_xlim(0,47)\n",
    "\n",
    "axes.grid(True, linestyle='-.')\n",
    "axes.set_ylabel('Device Efficiency', fontsize = fs)\n",
    "axes.set_xlabel('Process Conditoin No.', fontsize = fs)\n",
    "plt.show()"
   ]
  },
  {
   "cell_type": "code",
   "execution_count": 32,
   "id": "01b50496",
   "metadata": {},
   "outputs": [
    {
     "data": {
      "image/png": "[encoded data removed]",
      "text/plain": [
       "<Figure size 504x432 with 1 Axes>"
      ]
     },
     "metadata": {
      "needs_background": "light"
     },
     "output_type": "display_data"
    }
   ],
   "source": [
    "fs = 20\n",
    "fig,axes = plt.subplots(1, 1, figsize=(7, 6), sharex = True)\n",
    "ax = axes\n",
    "i = 0\n",
    "eff_max_runlist = []\n",
    "for df_i in BO_list_LHS16:\n",
    "    eff_max_acc = np.maximum.accumulate(df_i)\n",
    "    eff_acc = df_i\n",
    "    i = i +1\n",
    "    ax.plot(range(len(eff_max_acc[:100])),eff_max_acc[:100]/y_opt, \n",
    "            alpha = 0.8*i/200+0.4, c = 'pink', linewidth=0.75)\n",
    "    eff_max_runlist.append(eff_max_acc/y_opt)\n",
    "#plt.scatter(range(len(eff_max_acc)),eff_acc)\n",
    "line_95perc = np.percentile(eff_max_runlist, 99, axis = 0)\n",
    "#ax.plot(np.percentile(eff_max_runlist, 95, axis = 0))\n",
    "#ax.plot(np.percentile(eff_max_runlist, 99, axis = 0))\n",
    "#ax.plot(np.mean(eff_max_runlist, axis = 0))\n",
    "#ax.plot(np.percentile(eff_max_runlist, 50, axis = 0))\n",
    "line_median = np.percentile(eff_max_runlist, 50, axis = 0)\n",
    "#ax.plot(np.percentile(eff_max_runlist, 5, axis = 0))\n",
    "line_5perc = np.percentile(eff_max_runlist, 1, axis = 0)\n",
    "\n",
    "#axes.text(80, 9, 'One Var at at Time', fontsize=fs*0.9)\n",
    "#axes.text(80, 8, 'total conds = '+str(len(convglen_list)), fontsize=15)\n",
    "ax.plot(line_95perc,'--',c = 'red',linewidth=1.5)\n",
    "ax.plot(line_median,'-', c = 'red', linewidth=2)\n",
    "ax.plot(line_5perc,'--', c = 'red', linewidth=1.5)\n",
    "\n",
    "axes.tick_params(direction='in', length=5, width=1, labelsize = fs*.9, grid_alpha = 0.5)\n",
    "axes.set_ylim(4/np.max(BO_list_LHS16),12/y_opt)\n",
    "axes.set_xlim(0,100)\n",
    "\n",
    "axes.grid(True, linestyle='-.')\n",
    "axes.set_title('BO', fontsize = fs)\n",
    "axes.set_ylabel('Device Efficiency (a.u.)', fontsize = fs)\n",
    "axes.set_xlabel('Process Condition No.', fontsize = fs)\n",
    "plt.show()"
   ]
  },
  {
   "cell_type": "code",
   "execution_count": 36,
   "id": "13dc31e0",
   "metadata": {},
   "outputs": [
    {
     "name": "stderr",
     "output_type": "stream",
     "text": [
      " <ipython-input-36-adce64afcc76>:2: FutureWarning:As the xlwt package is no longer maintained, the xlwt engine will be removed in a future version of pandas. This is the only engine in pandas that supports writing in the xls format. Install openpyxl and write to an xlsx file instead. You can set the option io.excel.xls.writer to 'xlwt' to silence this warning. While this option is deprecated and will also raise a warning, it can be globally set and the warning suppressed.\n"
     ]
    },
    {
     "data": {
      "text/html": [
       "<div>\n",
       "<style scoped>\n",
       "    .dataframe tbody tr th:only-of-type {\n",
       "        vertical-align: middle;\n",
       "    }\n",
       "\n",
       "    .dataframe tbody tr th {\n",
       "        vertical-align: top;\n",
       "    }\n",
       "\n",
       "    .dataframe thead th {\n",
       "        text-align: right;\n",
       "    }\n",
       "</style>\n",
       "<table border=\"1\" class=\"dataframe\">\n",
       "  <thead>\n",
       "    <tr style=\"text-align: right;\">\n",
       "      <th></th>\n",
       "      <th>0</th>\n",
       "      <th>1</th>\n",
       "      <th>2</th>\n",
       "      <th>3</th>\n",
       "      <th>4</th>\n",
       "      <th>5</th>\n",
       "      <th>6</th>\n",
       "      <th>7</th>\n",
       "      <th>8</th>\n",
       "      <th>9</th>\n",
       "      <th>...</th>\n",
       "      <th>90</th>\n",
       "      <th>91</th>\n",
       "      <th>92</th>\n",
       "      <th>93</th>\n",
       "      <th>94</th>\n",
       "      <th>95</th>\n",
       "      <th>96</th>\n",
       "      <th>97</th>\n",
       "      <th>98</th>\n",
       "      <th>99</th>\n",
       "    </tr>\n",
       "  </thead>\n",
       "  <tbody>\n",
       "    <tr>\n",
       "      <th>0</th>\n",
       "      <td>3.210456</td>\n",
       "      <td>1.548105</td>\n",
       "      <td>3.339761</td>\n",
       "      <td>9.563540</td>\n",
       "      <td>1.017510</td>\n",
       "      <td>9.843168</td>\n",
       "      <td>8.459015</td>\n",
       "      <td>0.693092</td>\n",
       "      <td>8.443250</td>\n",
       "      <td>0.602901</td>\n",
       "      <td>...</td>\n",
       "      <td>0.972627</td>\n",
       "      <td>9.265682</td>\n",
       "      <td>0.996546</td>\n",
       "      <td>8.920719</td>\n",
       "      <td>0.882778</td>\n",
       "      <td>8.756490</td>\n",
       "      <td>0.939460</td>\n",
       "      <td>8.458418</td>\n",
       "      <td>8.460576</td>\n",
       "      <td>9.456368</td>\n",
       "    </tr>\n",
       "    <tr>\n",
       "      <th>1</th>\n",
       "      <td>8.721825</td>\n",
       "      <td>2.858000</td>\n",
       "      <td>0.883312</td>\n",
       "      <td>9.041349</td>\n",
       "      <td>0.500000</td>\n",
       "      <td>2.929010</td>\n",
       "      <td>9.104445</td>\n",
       "      <td>3.448928</td>\n",
       "      <td>3.405207</td>\n",
       "      <td>8.824670</td>\n",
       "      <td>...</td>\n",
       "      <td>0.889770</td>\n",
       "      <td>3.444431</td>\n",
       "      <td>0.500000</td>\n",
       "      <td>7.718377</td>\n",
       "      <td>0.500000</td>\n",
       "      <td>5.611552</td>\n",
       "      <td>9.803279</td>\n",
       "      <td>9.181870</td>\n",
       "      <td>0.500000</td>\n",
       "      <td>8.741457</td>\n",
       "    </tr>\n",
       "    <tr>\n",
       "      <th>2</th>\n",
       "      <td>6.009030</td>\n",
       "      <td>8.109463</td>\n",
       "      <td>8.449375</td>\n",
       "      <td>3.136179</td>\n",
       "      <td>9.464702</td>\n",
       "      <td>3.909224</td>\n",
       "      <td>0.853622</td>\n",
       "      <td>1.766838</td>\n",
       "      <td>3.176125</td>\n",
       "      <td>3.321847</td>\n",
       "      <td>...</td>\n",
       "      <td>0.500000</td>\n",
       "      <td>3.295081</td>\n",
       "      <td>0.500000</td>\n",
       "      <td>9.061918</td>\n",
       "      <td>8.043343</td>\n",
       "      <td>9.409170</td>\n",
       "      <td>4.026911</td>\n",
       "      <td>0.984498</td>\n",
       "      <td>0.692942</td>\n",
       "      <td>3.374170</td>\n",
       "    </tr>\n",
       "    <tr>\n",
       "      <th>3</th>\n",
       "      <td>8.025491</td>\n",
       "      <td>8.461412</td>\n",
       "      <td>3.513195</td>\n",
       "      <td>0.691292</td>\n",
       "      <td>3.339043</td>\n",
       "      <td>0.500000</td>\n",
       "      <td>0.757142</td>\n",
       "      <td>8.452073</td>\n",
       "      <td>0.500000</td>\n",
       "      <td>6.962242</td>\n",
       "      <td>...</td>\n",
       "      <td>9.289841</td>\n",
       "      <td>8.398286</td>\n",
       "      <td>9.341209</td>\n",
       "      <td>0.607764</td>\n",
       "      <td>1.203638</td>\n",
       "      <td>8.240855</td>\n",
       "      <td>8.626891</td>\n",
       "      <td>3.505037</td>\n",
       "      <td>0.500000</td>\n",
       "      <td>0.500000</td>\n",
       "    </tr>\n",
       "    <tr>\n",
       "      <th>4</th>\n",
       "      <td>5.965361</td>\n",
       "      <td>6.291240</td>\n",
       "      <td>4.621115</td>\n",
       "      <td>9.812874</td>\n",
       "      <td>1.464777</td>\n",
       "      <td>0.500000</td>\n",
       "      <td>7.209742</td>\n",
       "      <td>9.818192</td>\n",
       "      <td>3.408861</td>\n",
       "      <td>9.289218</td>\n",
       "      <td>...</td>\n",
       "      <td>0.886689</td>\n",
       "      <td>3.660203</td>\n",
       "      <td>10.158265</td>\n",
       "      <td>6.742144</td>\n",
       "      <td>7.843011</td>\n",
       "      <td>8.444076</td>\n",
       "      <td>1.057998</td>\n",
       "      <td>0.935417</td>\n",
       "      <td>3.285456</td>\n",
       "      <td>2.035237</td>\n",
       "    </tr>\n",
       "    <tr>\n",
       "      <th>...</th>\n",
       "      <td>...</td>\n",
       "      <td>...</td>\n",
       "      <td>...</td>\n",
       "      <td>...</td>\n",
       "      <td>...</td>\n",
       "      <td>...</td>\n",
       "      <td>...</td>\n",
       "      <td>...</td>\n",
       "      <td>...</td>\n",
       "      <td>...</td>\n",
       "      <td>...</td>\n",
       "      <td>...</td>\n",
       "      <td>...</td>\n",
       "      <td>...</td>\n",
       "      <td>...</td>\n",
       "      <td>...</td>\n",
       "      <td>...</td>\n",
       "      <td>...</td>\n",
       "      <td>...</td>\n",
       "      <td>...</td>\n",
       "      <td>...</td>\n",
       "    </tr>\n",
       "    <tr>\n",
       "      <th>123</th>\n",
       "      <td>10.957504</td>\n",
       "      <td>11.076858</td>\n",
       "      <td>10.190434</td>\n",
       "      <td>10.831310</td>\n",
       "      <td>10.831310</td>\n",
       "      <td>10.486025</td>\n",
       "      <td>10.956667</td>\n",
       "      <td>9.845853</td>\n",
       "      <td>10.973670</td>\n",
       "      <td>10.647760</td>\n",
       "      <td>...</td>\n",
       "      <td>10.324372</td>\n",
       "      <td>10.878067</td>\n",
       "      <td>10.483432</td>\n",
       "      <td>10.325867</td>\n",
       "      <td>10.323770</td>\n",
       "      <td>9.363471</td>\n",
       "      <td>10.327041</td>\n",
       "      <td>11.080500</td>\n",
       "      <td>10.995933</td>\n",
       "      <td>10.999333</td>\n",
       "    </tr>\n",
       "    <tr>\n",
       "      <th>124</th>\n",
       "      <td>10.912517</td>\n",
       "      <td>10.983208</td>\n",
       "      <td>10.157389</td>\n",
       "      <td>10.818113</td>\n",
       "      <td>10.842360</td>\n",
       "      <td>10.325050</td>\n",
       "      <td>11.069383</td>\n",
       "      <td>9.801082</td>\n",
       "      <td>10.939492</td>\n",
       "      <td>10.735775</td>\n",
       "      <td>...</td>\n",
       "      <td>10.760377</td>\n",
       "      <td>10.886300</td>\n",
       "      <td>10.940250</td>\n",
       "      <td>10.327850</td>\n",
       "      <td>10.886300</td>\n",
       "      <td>10.970308</td>\n",
       "      <td>10.813260</td>\n",
       "      <td>10.971167</td>\n",
       "      <td>11.050600</td>\n",
       "      <td>11.134933</td>\n",
       "    </tr>\n",
       "    <tr>\n",
       "      <th>125</th>\n",
       "      <td>10.791960</td>\n",
       "      <td>11.034308</td>\n",
       "      <td>10.222511</td>\n",
       "      <td>10.815713</td>\n",
       "      <td>10.818113</td>\n",
       "      <td>10.484682</td>\n",
       "      <td>10.891283</td>\n",
       "      <td>10.972475</td>\n",
       "      <td>10.963667</td>\n",
       "      <td>10.789027</td>\n",
       "      <td>...</td>\n",
       "      <td>11.192433</td>\n",
       "      <td>10.920750</td>\n",
       "      <td>10.483532</td>\n",
       "      <td>10.822682</td>\n",
       "      <td>9.814441</td>\n",
       "      <td>10.997417</td>\n",
       "      <td>10.805227</td>\n",
       "      <td>10.487065</td>\n",
       "      <td>10.973058</td>\n",
       "      <td>11.122858</td>\n",
       "    </tr>\n",
       "    <tr>\n",
       "      <th>126</th>\n",
       "      <td>10.912560</td>\n",
       "      <td>11.002683</td>\n",
       "      <td>10.101551</td>\n",
       "      <td>10.813513</td>\n",
       "      <td>10.813513</td>\n",
       "      <td>10.325250</td>\n",
       "      <td>10.933652</td>\n",
       "      <td>10.971254</td>\n",
       "      <td>10.997879</td>\n",
       "      <td>10.131235</td>\n",
       "      <td>...</td>\n",
       "      <td>10.270945</td>\n",
       "      <td>10.224820</td>\n",
       "      <td>10.005496</td>\n",
       "      <td>10.888087</td>\n",
       "      <td>11.242033</td>\n",
       "      <td>9.817405</td>\n",
       "      <td>10.483897</td>\n",
       "      <td>10.956667</td>\n",
       "      <td>10.794547</td>\n",
       "      <td>11.009200</td>\n",
       "    </tr>\n",
       "    <tr>\n",
       "      <th>127</th>\n",
       "      <td>10.991708</td>\n",
       "      <td>10.993625</td>\n",
       "      <td>10.110986</td>\n",
       "      <td>10.815713</td>\n",
       "      <td>10.855360</td>\n",
       "      <td>10.485628</td>\n",
       "      <td>10.330000</td>\n",
       "      <td>10.972708</td>\n",
       "      <td>10.940802</td>\n",
       "      <td>10.489478</td>\n",
       "      <td>...</td>\n",
       "      <td>9.533732</td>\n",
       "      <td>10.897403</td>\n",
       "      <td>10.487865</td>\n",
       "      <td>10.325767</td>\n",
       "      <td>9.800649</td>\n",
       "      <td>10.868767</td>\n",
       "      <td>10.798127</td>\n",
       "      <td>11.092000</td>\n",
       "      <td>10.995933</td>\n",
       "      <td>11.125733</td>\n",
       "    </tr>\n",
       "  </tbody>\n",
       "</table>\n",
       "<p>128 rows × 100 columns</p>\n",
       "</div>"
      ],
      "text/plain": [
       "            0          1          2          3          4          5   \\\n",
       "0     3.210456   1.548105   3.339761   9.563540   1.017510   9.843168   \n",
       "1     8.721825   2.858000   0.883312   9.041349   0.500000   2.929010   \n",
       "2     6.009030   8.109463   8.449375   3.136179   9.464702   3.909224   \n",
       "3     8.025491   8.461412   3.513195   0.691292   3.339043   0.500000   \n",
       "4     5.965361   6.291240   4.621115   9.812874   1.464777   0.500000   \n",
       "..         ...        ...        ...        ...        ...        ...   \n",
       "123  10.957504  11.076858  10.190434  10.831310  10.831310  10.486025   \n",
       "124  10.912517  10.983208  10.157389  10.818113  10.842360  10.325050   \n",
       "125  10.791960  11.034308  10.222511  10.815713  10.818113  10.484682   \n",
       "126  10.912560  11.002683  10.101551  10.813513  10.813513  10.325250   \n",
       "127  10.991708  10.993625  10.110986  10.815713  10.855360  10.485628   \n",
       "\n",
       "            6          7          8          9   ...         90         91  \\\n",
       "0     8.459015   0.693092   8.443250   0.602901  ...   0.972627   9.265682   \n",
       "1     9.104445   3.448928   3.405207   8.824670  ...   0.889770   3.444431   \n",
       "2     0.853622   1.766838   3.176125   3.321847  ...   0.500000   3.295081   \n",
       "3     0.757142   8.452073   0.500000   6.962242  ...   9.289841   8.398286   \n",
       "4     7.209742   9.818192   3.408861   9.289218  ...   0.886689   3.660203   \n",
       "..         ...        ...        ...        ...  ...        ...        ...   \n",
       "123  10.956667   9.845853  10.973670  10.647760  ...  10.324372  10.878067   \n",
       "124  11.069383   9.801082  10.939492  10.735775  ...  10.760377  10.886300   \n",
       "125  10.891283  10.972475  10.963667  10.789027  ...  11.192433  10.920750   \n",
       "126  10.933652  10.971254  10.997879  10.131235  ...  10.270945  10.224820   \n",
       "127  10.330000  10.972708  10.940802  10.489478  ...   9.533732  10.897403   \n",
       "\n",
       "            92         93         94         95         96         97  \\\n",
       "0     0.996546   8.920719   0.882778   8.756490   0.939460   8.458418   \n",
       "1     0.500000   7.718377   0.500000   5.611552   9.803279   9.181870   \n",
       "2     0.500000   9.061918   8.043343   9.409170   4.026911   0.984498   \n",
       "3     9.341209   0.607764   1.203638   8.240855   8.626891   3.505037   \n",
       "4    10.158265   6.742144   7.843011   8.444076   1.057998   0.935417   \n",
       "..         ...        ...        ...        ...        ...        ...   \n",
       "123  10.483432  10.325867  10.323770   9.363471  10.327041  11.080500   \n",
       "124  10.940250  10.327850  10.886300  10.970308  10.813260  10.971167   \n",
       "125  10.483532  10.822682   9.814441  10.997417  10.805227  10.487065   \n",
       "126  10.005496  10.888087  11.242033   9.817405  10.483897  10.956667   \n",
       "127  10.487865  10.325767   9.800649  10.868767  10.798127  11.092000   \n",
       "\n",
       "            98         99  \n",
       "0     8.460576   9.456368  \n",
       "1     0.500000   8.741457  \n",
       "2     0.692942   3.374170  \n",
       "3     0.500000   0.500000  \n",
       "4     3.285456   2.035237  \n",
       "..         ...        ...  \n",
       "123  10.995933  10.999333  \n",
       "124  11.050600  11.134933  \n",
       "125  10.973058  11.122858  \n",
       "126  10.794547  11.009200  \n",
       "127  10.995933  11.125733  \n",
       "\n",
       "[128 rows x 100 columns]"
      ]
     },
     "execution_count": 36,
     "metadata": {},
     "output_type": "execute_result"
    }
   ],
   "source": [
    "BO_list_df = pd.DataFrame(np.transpose(BO_list_LHS16))\n",
    "BO_list_df.to_excel(\"BO_benckmark_LHS16_20220916.xls\")\n",
    "BO_list_df"
   ]
  },
  {
   "cell_type": "code",
   "execution_count": null,
   "id": "eb5f4564",
   "metadata": {},
   "outputs": [],
   "source": []
  }
 ],
 "metadata": {
  "kernelspec": {
   "display_name": "Python 3",
   "language": "python",
   "name": "python3"
  },
  "language_info": {
   "codemirror_mode": {
    "name": "ipython",
    "version": 3
   },
   "file_extension": ".py",
   "mimetype": "text/x-python",
   "name": "python",
   "nbconvert_exporter": "python",
   "pygments_lexer": "ipython3",
   "version": "3.8.8"
  }
 },
 "nbformat": 4,
 "nbformat_minor": 5
}
